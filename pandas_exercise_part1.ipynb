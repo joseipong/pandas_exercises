{
 "metadata": {
  "name": "",
  "signature": "sha256:cf3fc7bb32d67db3177c1e1686ff5fb8933d01d32b6ab4e19420a439d571c5ad"
 },
 "nbformat": 3,
 "nbformat_minor": 0,
 "worksheets": [
  {
   "cells": [
    {
     "cell_type": "heading",
     "level": 1,
     "metadata": {},
     "source": [
      "pandas Data Structures"
     ]
    },
    {
     "cell_type": "markdown",
     "metadata": {},
     "source": [
      "pandas is the main course really (numpy was the appetizer to prepare you for the main event).  pandas contains high-level data structures and manipulation tools designed to make data analysis fast and easy in Python.  pandas is built on top of NumPy and makes it easy to use in NumPy-centric applications."
     ]
    },
    {
     "cell_type": "markdown",
     "metadata": {},
     "source": [
      "The motivating factors for developing pandas are the following:\n",
      "\n",
      "1.  Data structures with labeled axes supporting automatic or explicit data alignment: to prevent common errors resulting from misaligned data and working with differently-indexed data coming from different sources.\n",
      "\n",
      "2.  Integrated time series functionality.\n",
      "\n",
      "3.  The same data structures handle both time series data and non-time series data.\n",
      "\n",
      "4.  Arithmetic operations and reductions (like summing across an axis) would pass on the metadata (axis labels).\n",
      "\n",
      "5.  Flexible handling of missing data.\n",
      "\n",
      "6.  Merge and other relational operations found in popular database  languages (SQL, for example).\n",
      "\n",
      "The driving force: to be able to do all of the tasks mentioned above in one place that has an integrated set of data structures and tools.  "
     ]
    },
    {
     "cell_type": "markdown",
     "metadata": {},
     "source": [
      "This is the import conventions for pandas.  Make sure to type this before making use of the pandas libaries (or else you won't be able to use its features!)"
     ]
    },
    {
     "cell_type": "code",
     "collapsed": false,
     "input": [
      "from pandas import Series, DataFrame"
     ],
     "language": "python",
     "metadata": {},
     "outputs": [],
     "prompt_number": 1
    },
    {
     "cell_type": "code",
     "collapsed": false,
     "input": [
      "import pandas as pd"
     ],
     "language": "python",
     "metadata": {},
     "outputs": [],
     "prompt_number": 2
    },
    {
     "cell_type": "code",
     "collapsed": false,
     "input": [
      "import numpy as np"
     ],
     "language": "python",
     "metadata": {},
     "outputs": [],
     "prompt_number": 3
    },
    {
     "cell_type": "markdown",
     "metadata": {},
     "source": [
      "pd. refers to pandas.  Series and DataFrame are used so often that it is easier to import them into the local namespace."
     ]
    },
    {
     "cell_type": "markdown",
     "metadata": {},
     "source": [
      "The two workhorse data structures: Series and DataFrame provide a solid, easy-to-use functionality for most applications."
     ]
    },
    {
     "cell_type": "heading",
     "level": 3,
     "metadata": {},
     "source": [
      "Series"
     ]
    },
    {
     "cell_type": "markdown",
     "metadata": {},
     "source": [
      "A series is a one-dimensional array-like object containing an array of data (of any NumPy data type) and an associated array of data labels called its index.  "
     ]
    },
    {
     "cell_type": "code",
     "collapsed": false,
     "input": [
      "obj = Series([4, 7, -5, 3])"
     ],
     "language": "python",
     "metadata": {},
     "outputs": [],
     "prompt_number": 4
    },
    {
     "cell_type": "code",
     "collapsed": false,
     "input": [
      "obj"
     ],
     "language": "python",
     "metadata": {},
     "outputs": [
      {
       "metadata": {},
       "output_type": "pyout",
       "prompt_number": 7,
       "text": [
        "0    4\n",
        "1    7\n",
        "2   -5\n",
        "3    3\n",
        "dtype: int64"
       ]
      }
     ],
     "prompt_number": 7
    },
    {
     "cell_type": "markdown",
     "metadata": {},
     "source": [
      "\\1.  Get the array array representation and index object of the Series (Hint: use its values and index attributes)."
     ]
    },
    {
     "cell_type": "markdown",
     "metadata": {},
     "source": [
      "\\2.  It is possible to create a series with an index identifying each data point.  Create a series obj2 such that the output below is observed."
     ]
    },
    {
     "cell_type": "code",
     "collapsed": false,
     "input": [
      "obj2"
     ],
     "language": "python",
     "metadata": {},
     "outputs": [
      {
       "metadata": {},
       "output_type": "pyout",
       "prompt_number": 6,
       "text": [
        "e     4\n",
        "b     6\n",
        "a     5\n",
        "b   -11\n",
        "dtype: int64"
       ]
      }
     ],
     "prompt_number": 6
    },
    {
     "cell_type": "markdown",
     "metadata": {},
     "source": [
      "Compared with a regular NumPy array, you can use values in the index when selecting single values or a set of values."
     ]
    },
    {
     "cell_type": "markdown",
     "metadata": {},
     "source": [
      "NumPy array operations, such as filtering with a boolean array, scalar multiplication or applying math functions, will preserve the index value link."
     ]
    },
    {
     "cell_type": "code",
     "collapsed": false,
     "input": [
      "obj[obj> 0]"
     ],
     "language": "python",
     "metadata": {},
     "outputs": [
      {
       "metadata": {},
       "output_type": "pyout",
       "prompt_number": 8,
       "text": [
        "0    4\n",
        "1    7\n",
        "3    3\n",
        "dtype: int64"
       ]
      }
     ],
     "prompt_number": 8
    },
    {
     "cell_type": "markdown",
     "metadata": {},
     "source": [
      "Another way to think about a Series is as a fixed-length, ordered dict, as it is a mapping of index values to data values.  It can be substituted into many functions that expect a dict."
     ]
    },
    {
     "cell_type": "markdown",
     "metadata": {},
     "source": [
      "\\3.  You can create a Series from data contained in a Python dict by passing the dictionary to the Series.  Create a series, obj3,  from the Python dictionary below"
     ]
    },
    {
     "cell_type": "code",
     "collapsed": false,
     "input": [
      "cdata = {'Ohio': 3500, 'Texas': 7100, 'Oregon':1600, 'Utah':5000}"
     ],
     "language": "python",
     "metadata": {},
     "outputs": [],
     "prompt_number": 9
    },
    {
     "cell_type": "code",
     "collapsed": false,
     "input": [
      "obj3 = ?"
     ],
     "language": "python",
     "metadata": {},
     "outputs": [],
     "prompt_number": 10
    },
    {
     "cell_type": "code",
     "collapsed": false,
     "input": [
      "obj3"
     ],
     "language": "python",
     "metadata": {},
     "outputs": [
      {
       "metadata": {},
       "output_type": "pyout",
       "prompt_number": 11,
       "text": [
        "Ohio      3500\n",
        "Oregon    1600\n",
        "Texas     7100\n",
        "Utah      5000\n",
        "dtype: int64"
       ]
      }
     ],
     "prompt_number": 11
    },
    {
     "cell_type": "markdown",
     "metadata": {},
     "source": [
      "Now, let's specify our index."
     ]
    },
    {
     "cell_type": "code",
     "collapsed": false,
     "input": [
      "states = ['California', 'Ohio', 'Oregon', 'Texas']"
     ],
     "language": "python",
     "metadata": {},
     "outputs": [],
     "prompt_number": 15
    },
    {
     "cell_type": "markdown",
     "metadata": {},
     "source": [
      "\\4. Create a series, obj 4, making use of the list states as the value of the index argument when passed to Series.  Since California does not have a corresponding value in the original cdata, what is indicated instead?"
     ]
    },
    {
     "cell_type": "code",
     "collapsed": false,
     "input": [
      "obj4 = ?"
     ],
     "language": "python",
     "metadata": {},
     "outputs": [],
     "prompt_number": 13
    },
    {
     "cell_type": "code",
     "collapsed": false,
     "input": [
      "obj4"
     ],
     "language": "python",
     "metadata": {},
     "outputs": [
      {
       "metadata": {},
       "output_type": "pyout",
       "prompt_number": 14,
       "text": [
        "California     NaN\n",
        "Ohio          3500\n",
        "Oregon        1600\n",
        "Texas         7100\n",
        "dtype: float64"
       ]
      }
     ],
     "prompt_number": 14
    },
    {
     "cell_type": "markdown",
     "metadata": {},
     "source": [
      "\\5.  How do you use the isnull and notnull functions in pandas to detect missing data in obj4:"
     ]
    },
    {
     "cell_type": "code",
     "collapsed": false,
     "input": [
      "pd.?"
     ],
     "language": "python",
     "metadata": {},
     "outputs": [
      {
       "metadata": {},
       "output_type": "pyout",
       "prompt_number": 16,
       "text": [
        "California     True\n",
        "Ohio          False\n",
        "Oregon        False\n",
        "Texas         False\n",
        "dtype: bool"
       ]
      }
     ],
     "prompt_number": 16
    },
    {
     "cell_type": "code",
     "collapsed": false,
     "input": [
      "pd.?"
     ],
     "language": "python",
     "metadata": {},
     "outputs": [
      {
       "metadata": {},
       "output_type": "pyout",
       "prompt_number": 17,
       "text": [
        "California    False\n",
        "Ohio           True\n",
        "Oregon         True\n",
        "Texas          True\n",
        "dtype: bool"
       ]
      }
     ],
     "prompt_number": 17
    },
    {
     "cell_type": "markdown",
     "metadata": {},
     "source": [
      "\\6.  A critical Series feature for many applications is that it automatically aligns differently-indexed data in arithmetic operations.  Align obj3 and obj4."
     ]
    },
    {
     "cell_type": "code",
     "collapsed": false,
     "input": [
      "obj3"
     ],
     "language": "python",
     "metadata": {},
     "outputs": [
      {
       "metadata": {},
       "output_type": "pyout",
       "prompt_number": 18,
       "text": [
        "Ohio      3500\n",
        "Oregon    1600\n",
        "Texas     7100\n",
        "Utah      5000\n",
        "dtype: int64"
       ]
      }
     ],
     "prompt_number": 18
    },
    {
     "cell_type": "code",
     "collapsed": false,
     "input": [
      "obj4"
     ],
     "language": "python",
     "metadata": {},
     "outputs": [
      {
       "metadata": {},
       "output_type": "pyout",
       "prompt_number": 19,
       "text": [
        "California     NaN\n",
        "Ohio          3500\n",
        "Oregon        1600\n",
        "Texas         7100\n",
        "dtype: float64"
       ]
      }
     ],
     "prompt_number": 19
    },
    {
     "cell_type": "code",
     "collapsed": false,
     "input": [
      "?"
     ],
     "language": "python",
     "metadata": {},
     "outputs": [
      {
       "metadata": {},
       "output_type": "pyout",
       "prompt_number": 20,
       "text": [
        "California      NaN\n",
        "Ohio           7000\n",
        "Oregon         3200\n",
        "Texas         14200\n",
        "Utah            NaN\n",
        "dtype: float64"
       ]
      }
     ],
     "prompt_number": 20
    },
    {
     "cell_type": "markdown",
     "metadata": {},
     "source": [
      "\\7.  Both the Series object itself and its index have a name attribute, which integrates with other key areas of pandas functionality.  Assign the name 'population' to obj4 and its index name 'state', such that:"
     ]
    },
    {
     "cell_type": "code",
     "collapsed": false,
     "input": [
      "obj4.? = ?"
     ],
     "language": "python",
     "metadata": {},
     "outputs": [],
     "prompt_number": 21
    },
    {
     "cell_type": "code",
     "collapsed": false,
     "input": [
      "obj4.?.? = ?"
     ],
     "language": "python",
     "metadata": {},
     "outputs": [],
     "prompt_number": 22
    },
    {
     "cell_type": "code",
     "collapsed": false,
     "input": [
      "obj4"
     ],
     "language": "python",
     "metadata": {},
     "outputs": [
      {
       "metadata": {},
       "output_type": "pyout",
       "prompt_number": 23,
       "text": [
        "state\n",
        "California     NaN\n",
        "Ohio          3500\n",
        "Oregon        1600\n",
        "Texas         7100\n",
        "Name: population, dtype: float64"
       ]
      }
     ],
     "prompt_number": 23
    },
    {
     "cell_type": "heading",
     "level": 3,
     "metadata": {},
     "source": [
      "DataFrame"
     ]
    },
    {
     "cell_type": "markdown",
     "metadata": {},
     "source": [
      "A DataFrame represents a tabular, spreadsheet-like data structure containing an ordered collection of columns, each of which can be a different value type (numeric, string, boolean, etc.).\n",
      "\n",
      "The DataFrame has both a row and column index (it can be taught of as a dict of Series).  Row-oriented and column-oriented operations in DataFrame are treated roughly symmetrically.  Under the hood, the data is stored as one or more two-dimensional blocks rather than a list, dict, or some other collection of one-dimensional arrays."
     ]
    },
    {
     "cell_type": "markdown",
     "metadata": {},
     "source": [
      "\\8.  The most common way of constructing a DataFrame is to form a dict of equal-length lists or NumPy arrays.  Convert the data below to a pandas' DataFrame and call the pandas object, 'frame'such that:"
     ]
    },
    {
     "cell_type": "code",
     "collapsed": false,
     "input": [
      "data = {'state': ['Ohio', 'Ohio', 'Ohio', 'Nevada', 'Nevada'],\n",
      "        'year': [2000, 2001, 2002, 2001, 2002],\n",
      "        'pop': [1.5, 1.7, 3.6, 2.4, 2.9]}"
     ],
     "language": "python",
     "metadata": {},
     "outputs": [],
     "prompt_number": 24
    },
    {
     "cell_type": "code",
     "collapsed": false,
     "input": [
      "frame = ?"
     ],
     "language": "python",
     "metadata": {},
     "outputs": [],
     "prompt_number": 25
    },
    {
     "cell_type": "code",
     "collapsed": false,
     "input": [
      "frame"
     ],
     "language": "python",
     "metadata": {},
     "outputs": [
      {
       "html": [
        "<div style=\"max-height:1000px;max-width:1500px;overflow:auto;\">\n",
        "<table border=\"1\" class=\"dataframe\">\n",
        "  <thead>\n",
        "    <tr style=\"text-align: right;\">\n",
        "      <th></th>\n",
        "      <th>pop</th>\n",
        "      <th>state</th>\n",
        "      <th>year</th>\n",
        "    </tr>\n",
        "  </thead>\n",
        "  <tbody>\n",
        "    <tr>\n",
        "      <th>0</th>\n",
        "      <td> 1.5</td>\n",
        "      <td>   Ohio</td>\n",
        "      <td> 2000</td>\n",
        "    </tr>\n",
        "    <tr>\n",
        "      <th>1</th>\n",
        "      <td> 1.7</td>\n",
        "      <td>   Ohio</td>\n",
        "      <td> 2001</td>\n",
        "    </tr>\n",
        "    <tr>\n",
        "      <th>2</th>\n",
        "      <td> 3.6</td>\n",
        "      <td>   Ohio</td>\n",
        "      <td> 2002</td>\n",
        "    </tr>\n",
        "    <tr>\n",
        "      <th>3</th>\n",
        "      <td> 2.4</td>\n",
        "      <td> Nevada</td>\n",
        "      <td> 2001</td>\n",
        "    </tr>\n",
        "    <tr>\n",
        "      <th>4</th>\n",
        "      <td> 2.9</td>\n",
        "      <td> Nevada</td>\n",
        "      <td> 2002</td>\n",
        "    </tr>\n",
        "  </tbody>\n",
        "</table>\n",
        "</div>"
       ],
       "metadata": {},
       "output_type": "pyout",
       "prompt_number": 26,
       "text": [
        "   pop   state  year\n",
        "0  1.5    Ohio  2000\n",
        "1  1.7    Ohio  2001\n",
        "2  3.6    Ohio  2002\n",
        "3  2.4  Nevada  2001\n",
        "4  2.9  Nevada  2002"
       ]
      }
     ],
     "prompt_number": 26
    },
    {
     "cell_type": "markdown",
     "metadata": {},
     "source": [
      "\\9.  You can specify a sequence of columns by passing the columns argument to DataFrame when converting.  Try to arrange the sequence of columns to be 'year', 'state', 'pop', such that the table below is observed:"
     ]
    },
    {
     "cell_type": "code",
     "collapsed": false,
     "input": [
      "DataFrame(data, columns=?)"
     ],
     "language": "python",
     "metadata": {},
     "outputs": [
      {
       "html": [
        "<div style=\"max-height:1000px;max-width:1500px;overflow:auto;\">\n",
        "<table border=\"1\" class=\"dataframe\">\n",
        "  <thead>\n",
        "    <tr style=\"text-align: right;\">\n",
        "      <th></th>\n",
        "      <th>year</th>\n",
        "      <th>state</th>\n",
        "      <th>pop</th>\n",
        "    </tr>\n",
        "  </thead>\n",
        "  <tbody>\n",
        "    <tr>\n",
        "      <th>0</th>\n",
        "      <td> 2000</td>\n",
        "      <td>   Ohio</td>\n",
        "      <td> 1.5</td>\n",
        "    </tr>\n",
        "    <tr>\n",
        "      <th>1</th>\n",
        "      <td> 2001</td>\n",
        "      <td>   Ohio</td>\n",
        "      <td> 1.7</td>\n",
        "    </tr>\n",
        "    <tr>\n",
        "      <th>2</th>\n",
        "      <td> 2002</td>\n",
        "      <td>   Ohio</td>\n",
        "      <td> 3.6</td>\n",
        "    </tr>\n",
        "    <tr>\n",
        "      <th>3</th>\n",
        "      <td> 2001</td>\n",
        "      <td> Nevada</td>\n",
        "      <td> 2.4</td>\n",
        "    </tr>\n",
        "    <tr>\n",
        "      <th>4</th>\n",
        "      <td> 2002</td>\n",
        "      <td> Nevada</td>\n",
        "      <td> 2.9</td>\n",
        "    </tr>\n",
        "  </tbody>\n",
        "</table>\n",
        "</div>"
       ],
       "metadata": {},
       "output_type": "pyout",
       "prompt_number": 27,
       "text": [
        "   year   state  pop\n",
        "0  2000    Ohio  1.5\n",
        "1  2001    Ohio  1.7\n",
        "2  2002    Ohio  3.6\n",
        "3  2001  Nevada  2.4\n",
        "4  2002  Nevada  2.9"
       ]
      }
     ],
     "prompt_number": 27
    },
    {
     "cell_type": "markdown",
     "metadata": {},
     "source": [
      "\\10.  Add another column and call it 'debt'.  Since this column is not contained in data, it will appear with NA values in the result.  Using the index argument in DataFrame, name each row: 'one', 'two', ... , 'five'.  Call this particular DataFrame object, frame2, such that when called, the following table is observed:"
     ]
    },
    {
     "cell_type": "code",
     "collapsed": false,
     "input": [
      "frame2 = DataFrame(data, columns=?,\n",
      "                   index=?)"
     ],
     "language": "python",
     "metadata": {},
     "outputs": [],
     "prompt_number": 28
    },
    {
     "cell_type": "code",
     "collapsed": false,
     "input": [
      "frame2"
     ],
     "language": "python",
     "metadata": {},
     "outputs": [
      {
       "html": [
        "<div style=\"max-height:1000px;max-width:1500px;overflow:auto;\">\n",
        "<table border=\"1\" class=\"dataframe\">\n",
        "  <thead>\n",
        "    <tr style=\"text-align: right;\">\n",
        "      <th></th>\n",
        "      <th>year</th>\n",
        "      <th>state</th>\n",
        "      <th>pop</th>\n",
        "      <th>debt</th>\n",
        "    </tr>\n",
        "  </thead>\n",
        "  <tbody>\n",
        "    <tr>\n",
        "      <th>one</th>\n",
        "      <td> 2000</td>\n",
        "      <td>   Ohio</td>\n",
        "      <td> 1.5</td>\n",
        "      <td> NaN</td>\n",
        "    </tr>\n",
        "    <tr>\n",
        "      <th>two</th>\n",
        "      <td> 2001</td>\n",
        "      <td>   Ohio</td>\n",
        "      <td> 1.7</td>\n",
        "      <td> NaN</td>\n",
        "    </tr>\n",
        "    <tr>\n",
        "      <th>three</th>\n",
        "      <td> 2002</td>\n",
        "      <td>   Ohio</td>\n",
        "      <td> 3.6</td>\n",
        "      <td> NaN</td>\n",
        "    </tr>\n",
        "    <tr>\n",
        "      <th>four</th>\n",
        "      <td> 2001</td>\n",
        "      <td> Nevada</td>\n",
        "      <td> 2.4</td>\n",
        "      <td> NaN</td>\n",
        "    </tr>\n",
        "    <tr>\n",
        "      <th>five</th>\n",
        "      <td> 2002</td>\n",
        "      <td> Nevada</td>\n",
        "      <td> 2.9</td>\n",
        "      <td> NaN</td>\n",
        "    </tr>\n",
        "  </tbody>\n",
        "</table>\n",
        "</div>"
       ],
       "metadata": {},
       "output_type": "pyout",
       "prompt_number": 29,
       "text": [
        "       year   state  pop debt\n",
        "one    2000    Ohio  1.5  NaN\n",
        "two    2001    Ohio  1.7  NaN\n",
        "three  2002    Ohio  3.6  NaN\n",
        "four   2001  Nevada  2.4  NaN\n",
        "five   2002  Nevada  2.9  NaN"
       ]
      }
     ],
     "prompt_number": 29
    },
    {
     "cell_type": "code",
     "collapsed": false,
     "input": [
      "frame2.columns"
     ],
     "language": "python",
     "metadata": {},
     "outputs": [
      {
       "metadata": {},
       "output_type": "pyout",
       "prompt_number": 30,
       "text": [
        "Index([u'year', u'state', u'pop', u'debt'], dtype='object')"
       ]
      }
     ],
     "prompt_number": 30
    },
    {
     "cell_type": "markdown",
     "metadata": {},
     "source": [
      "A column in a DataFrame can be retrieved as a Series either by dict-like notation or by attribute:"
     ]
    },
    {
     "cell_type": "code",
     "collapsed": false,
     "input": [
      "frame2['state']"
     ],
     "language": "python",
     "metadata": {},
     "outputs": [
      {
       "metadata": {},
       "output_type": "pyout",
       "prompt_number": 31,
       "text": [
        "one        Ohio\n",
        "two        Ohio\n",
        "three      Ohio\n",
        "four     Nevada\n",
        "five     Nevada\n",
        "Name: state, dtype: object"
       ]
      }
     ],
     "prompt_number": 31
    },
    {
     "cell_type": "code",
     "collapsed": false,
     "input": [
      "frame2.year"
     ],
     "language": "python",
     "metadata": {},
     "outputs": [
      {
       "metadata": {},
       "output_type": "pyout",
       "prompt_number": 32,
       "text": [
        "one      2000\n",
        "two      2001\n",
        "three    2002\n",
        "four     2001\n",
        "five     2002\n",
        "Name: year, dtype: int64"
       ]
      }
     ],
     "prompt_number": 32
    },
    {
     "cell_type": "markdown",
     "metadata": {},
     "source": [
      "Rows can also be retrieved by position or by calling certain methods, such as the ix indexing field."
     ]
    },
    {
     "cell_type": "code",
     "collapsed": false,
     "input": [
      "frame2.ix['three']"
     ],
     "language": "python",
     "metadata": {},
     "outputs": [
      {
       "metadata": {},
       "output_type": "pyout",
       "prompt_number": 33,
       "text": [
        "year     2002\n",
        "state    Ohio\n",
        "pop       3.6\n",
        "debt      NaN\n",
        "Name: three, dtype: object"
       ]
      }
     ],
     "prompt_number": 33
    },
    {
     "cell_type": "markdown",
     "metadata": {},
     "source": [
      "Columns can be modified by assignment.  For example, the empty 'debt' column could be assigned a scalar value or an array of values."
     ]
    },
    {
     "cell_type": "code",
     "collapsed": false,
     "input": [
      "frame2['debt'] = 16.5"
     ],
     "language": "python",
     "metadata": {},
     "outputs": [],
     "prompt_number": 36
    },
    {
     "cell_type": "code",
     "collapsed": false,
     "input": [
      "frame2"
     ],
     "language": "python",
     "metadata": {},
     "outputs": [
      {
       "html": [
        "<div style=\"max-height:1000px;max-width:1500px;overflow:auto;\">\n",
        "<table border=\"1\" class=\"dataframe\">\n",
        "  <thead>\n",
        "    <tr style=\"text-align: right;\">\n",
        "      <th></th>\n",
        "      <th>year</th>\n",
        "      <th>state</th>\n",
        "      <th>pop</th>\n",
        "      <th>debt</th>\n",
        "    </tr>\n",
        "  </thead>\n",
        "  <tbody>\n",
        "    <tr>\n",
        "      <th>one</th>\n",
        "      <td> 2000</td>\n",
        "      <td>   Ohio</td>\n",
        "      <td> 1.5</td>\n",
        "      <td> 16.5</td>\n",
        "    </tr>\n",
        "    <tr>\n",
        "      <th>two</th>\n",
        "      <td> 2001</td>\n",
        "      <td>   Ohio</td>\n",
        "      <td> 1.7</td>\n",
        "      <td> 16.5</td>\n",
        "    </tr>\n",
        "    <tr>\n",
        "      <th>three</th>\n",
        "      <td> 2002</td>\n",
        "      <td>   Ohio</td>\n",
        "      <td> 3.6</td>\n",
        "      <td> 16.5</td>\n",
        "    </tr>\n",
        "    <tr>\n",
        "      <th>four</th>\n",
        "      <td> 2001</td>\n",
        "      <td> Nevada</td>\n",
        "      <td> 2.4</td>\n",
        "      <td> 16.5</td>\n",
        "    </tr>\n",
        "    <tr>\n",
        "      <th>five</th>\n",
        "      <td> 2002</td>\n",
        "      <td> Nevada</td>\n",
        "      <td> 2.9</td>\n",
        "      <td> 16.5</td>\n",
        "    </tr>\n",
        "  </tbody>\n",
        "</table>\n",
        "</div>"
       ],
       "metadata": {},
       "output_type": "pyout",
       "prompt_number": 37,
       "text": [
        "       year   state  pop  debt\n",
        "one    2000    Ohio  1.5  16.5\n",
        "two    2001    Ohio  1.7  16.5\n",
        "three  2002    Ohio  3.6  16.5\n",
        "four   2001  Nevada  2.4  16.5\n",
        "five   2002  Nevada  2.9  16.5"
       ]
      }
     ],
     "prompt_number": 37
    },
    {
     "cell_type": "markdown",
     "metadata": {},
     "source": [
      "\\11.  Reassign the debt column to contain an array of values, such that the table below is observed."
     ]
    },
    {
     "cell_type": "code",
     "collapsed": false,
     "input": [
      "frame2['debt'] = ?"
     ],
     "language": "python",
     "metadata": {},
     "outputs": [],
     "prompt_number": 38
    },
    {
     "cell_type": "code",
     "collapsed": false,
     "input": [
      "frame2"
     ],
     "language": "python",
     "metadata": {},
     "outputs": [
      {
       "html": [
        "<div style=\"max-height:1000px;max-width:1500px;overflow:auto;\">\n",
        "<table border=\"1\" class=\"dataframe\">\n",
        "  <thead>\n",
        "    <tr style=\"text-align: right;\">\n",
        "      <th></th>\n",
        "      <th>year</th>\n",
        "      <th>state</th>\n",
        "      <th>pop</th>\n",
        "      <th>debt</th>\n",
        "    </tr>\n",
        "  </thead>\n",
        "  <tbody>\n",
        "    <tr>\n",
        "      <th>one</th>\n",
        "      <td> 2000</td>\n",
        "      <td>   Ohio</td>\n",
        "      <td> 1.5</td>\n",
        "      <td> 0</td>\n",
        "    </tr>\n",
        "    <tr>\n",
        "      <th>two</th>\n",
        "      <td> 2001</td>\n",
        "      <td>   Ohio</td>\n",
        "      <td> 1.7</td>\n",
        "      <td> 1</td>\n",
        "    </tr>\n",
        "    <tr>\n",
        "      <th>three</th>\n",
        "      <td> 2002</td>\n",
        "      <td>   Ohio</td>\n",
        "      <td> 3.6</td>\n",
        "      <td> 2</td>\n",
        "    </tr>\n",
        "    <tr>\n",
        "      <th>four</th>\n",
        "      <td> 2001</td>\n",
        "      <td> Nevada</td>\n",
        "      <td> 2.4</td>\n",
        "      <td> 3</td>\n",
        "    </tr>\n",
        "    <tr>\n",
        "      <th>five</th>\n",
        "      <td> 2002</td>\n",
        "      <td> Nevada</td>\n",
        "      <td> 2.9</td>\n",
        "      <td> 4</td>\n",
        "    </tr>\n",
        "  </tbody>\n",
        "</table>\n",
        "</div>"
       ],
       "metadata": {},
       "output_type": "pyout",
       "prompt_number": 39,
       "text": [
        "       year   state  pop  debt\n",
        "one    2000    Ohio  1.5     0\n",
        "two    2001    Ohio  1.7     1\n",
        "three  2002    Ohio  3.6     2\n",
        "four   2001  Nevada  2.4     3\n",
        "five   2002  Nevada  2.9     4"
       ]
      }
     ],
     "prompt_number": 39
    },
    {
     "cell_type": "markdown",
     "metadata": {},
     "source": [
      "When assigning lists or arrays to a column, the value's length must match the length of the DataFrame.  If you assign a Series, it will conform exactly to the DataFrame's index, inserting missing values in any holes."
     ]
    },
    {
     "cell_type": "code",
     "collapsed": false,
     "input": [
      "val = Series([-1.3, 1.5, -1.7], index=['two', 'three', 'five'])"
     ],
     "language": "python",
     "metadata": {},
     "outputs": [],
     "prompt_number": 41
    },
    {
     "cell_type": "code",
     "collapsed": false,
     "input": [
      "frame2['debt'] = val"
     ],
     "language": "python",
     "metadata": {},
     "outputs": [],
     "prompt_number": 42
    },
    {
     "cell_type": "code",
     "collapsed": false,
     "input": [
      "frame2"
     ],
     "language": "python",
     "metadata": {},
     "outputs": [
      {
       "html": [
        "<div style=\"max-height:1000px;max-width:1500px;overflow:auto;\">\n",
        "<table border=\"1\" class=\"dataframe\">\n",
        "  <thead>\n",
        "    <tr style=\"text-align: right;\">\n",
        "      <th></th>\n",
        "      <th>year</th>\n",
        "      <th>state</th>\n",
        "      <th>pop</th>\n",
        "      <th>debt</th>\n",
        "    </tr>\n",
        "  </thead>\n",
        "  <tbody>\n",
        "    <tr>\n",
        "      <th>one</th>\n",
        "      <td> 2000</td>\n",
        "      <td>   Ohio</td>\n",
        "      <td> 1.5</td>\n",
        "      <td> NaN</td>\n",
        "    </tr>\n",
        "    <tr>\n",
        "      <th>two</th>\n",
        "      <td> 2001</td>\n",
        "      <td>   Ohio</td>\n",
        "      <td> 1.7</td>\n",
        "      <td>-1.3</td>\n",
        "    </tr>\n",
        "    <tr>\n",
        "      <th>three</th>\n",
        "      <td> 2002</td>\n",
        "      <td>   Ohio</td>\n",
        "      <td> 3.6</td>\n",
        "      <td> 1.5</td>\n",
        "    </tr>\n",
        "    <tr>\n",
        "      <th>four</th>\n",
        "      <td> 2001</td>\n",
        "      <td> Nevada</td>\n",
        "      <td> 2.4</td>\n",
        "      <td> NaN</td>\n",
        "    </tr>\n",
        "    <tr>\n",
        "      <th>five</th>\n",
        "      <td> 2002</td>\n",
        "      <td> Nevada</td>\n",
        "      <td> 2.9</td>\n",
        "      <td>-1.7</td>\n",
        "    </tr>\n",
        "  </tbody>\n",
        "</table>\n",
        "</div>"
       ],
       "metadata": {},
       "output_type": "pyout",
       "prompt_number": 43,
       "text": [
        "       year   state  pop  debt\n",
        "one    2000    Ohio  1.5   NaN\n",
        "two    2001    Ohio  1.7  -1.3\n",
        "three  2002    Ohio  3.6   1.5\n",
        "four   2001  Nevada  2.4   NaN\n",
        "five   2002  Nevada  2.9  -1.7"
       ]
      }
     ],
     "prompt_number": 43
    },
    {
     "cell_type": "markdown",
     "metadata": {},
     "source": [
      "Assigning a column that doesn't exist will create a new column."
     ]
    },
    {
     "cell_type": "code",
     "collapsed": false,
     "input": [
      "frame2['eastern'] = frame2.state == 'Ohio'"
     ],
     "language": "python",
     "metadata": {},
     "outputs": [],
     "prompt_number": 44
    },
    {
     "cell_type": "code",
     "collapsed": false,
     "input": [
      "frame2"
     ],
     "language": "python",
     "metadata": {},
     "outputs": [
      {
       "html": [
        "<div style=\"max-height:1000px;max-width:1500px;overflow:auto;\">\n",
        "<table border=\"1\" class=\"dataframe\">\n",
        "  <thead>\n",
        "    <tr style=\"text-align: right;\">\n",
        "      <th></th>\n",
        "      <th>year</th>\n",
        "      <th>state</th>\n",
        "      <th>pop</th>\n",
        "      <th>debt</th>\n",
        "      <th>eastern</th>\n",
        "    </tr>\n",
        "  </thead>\n",
        "  <tbody>\n",
        "    <tr>\n",
        "      <th>one</th>\n",
        "      <td> 2000</td>\n",
        "      <td>   Ohio</td>\n",
        "      <td> 1.5</td>\n",
        "      <td> NaN</td>\n",
        "      <td>  True</td>\n",
        "    </tr>\n",
        "    <tr>\n",
        "      <th>two</th>\n",
        "      <td> 2001</td>\n",
        "      <td>   Ohio</td>\n",
        "      <td> 1.7</td>\n",
        "      <td>-1.3</td>\n",
        "      <td>  True</td>\n",
        "    </tr>\n",
        "    <tr>\n",
        "      <th>three</th>\n",
        "      <td> 2002</td>\n",
        "      <td>   Ohio</td>\n",
        "      <td> 3.6</td>\n",
        "      <td> 1.5</td>\n",
        "      <td>  True</td>\n",
        "    </tr>\n",
        "    <tr>\n",
        "      <th>four</th>\n",
        "      <td> 2001</td>\n",
        "      <td> Nevada</td>\n",
        "      <td> 2.4</td>\n",
        "      <td> NaN</td>\n",
        "      <td> False</td>\n",
        "    </tr>\n",
        "    <tr>\n",
        "      <th>five</th>\n",
        "      <td> 2002</td>\n",
        "      <td> Nevada</td>\n",
        "      <td> 2.9</td>\n",
        "      <td>-1.7</td>\n",
        "      <td> False</td>\n",
        "    </tr>\n",
        "  </tbody>\n",
        "</table>\n",
        "</div>"
       ],
       "metadata": {},
       "output_type": "pyout",
       "prompt_number": 45,
       "text": [
        "       year   state  pop  debt eastern\n",
        "one    2000    Ohio  1.5   NaN    True\n",
        "two    2001    Ohio  1.7  -1.3    True\n",
        "three  2002    Ohio  3.6   1.5    True\n",
        "four   2001  Nevada  2.4   NaN   False\n",
        "five   2002  Nevada  2.9  -1.7   False"
       ]
      }
     ],
     "prompt_number": 45
    },
    {
     "cell_type": "markdown",
     "metadata": {},
     "source": [
      "The del keyword will delete columns as with a dict."
     ]
    },
    {
     "cell_type": "code",
     "collapsed": false,
     "input": [
      "del frame2['eastern']"
     ],
     "language": "python",
     "metadata": {},
     "outputs": [],
     "prompt_number": 46
    },
    {
     "cell_type": "code",
     "collapsed": false,
     "input": [
      "frame2.columns"
     ],
     "language": "python",
     "metadata": {},
     "outputs": [
      {
       "metadata": {},
       "output_type": "pyout",
       "prompt_number": 47,
       "text": [
        "Index([u'year', u'state', u'pop', u'debt'], dtype='object')"
       ]
      }
     ],
     "prompt_number": 47
    },
    {
     "cell_type": "markdown",
     "metadata": {},
     "source": [
      "Another common form of data is a nested dict of dicts format."
     ]
    },
    {
     "cell_type": "code",
     "collapsed": false,
     "input": [
      "pop = {'Nevada': {2001:2.4, 2002: 2.9},\n",
      "       'Ohio': {2000:1.5, 2001:1.7, 2002:3.6}}"
     ],
     "language": "python",
     "metadata": {},
     "outputs": [],
     "prompt_number": 48
    },
    {
     "cell_type": "markdown",
     "metadata": {},
     "source": [
      "\\12.  Pass pop to a DataFrame and call the new DataFrame object, frame3.  Notice that DataFrame will interpret the outer dict keys as the columns and the inner keys as the row indices."
     ]
    },
    {
     "cell_type": "code",
     "collapsed": false,
     "input": [
      "frame3 = ?"
     ],
     "language": "python",
     "metadata": {},
     "outputs": [],
     "prompt_number": 49
    },
    {
     "cell_type": "code",
     "collapsed": false,
     "input": [
      "frame3"
     ],
     "language": "python",
     "metadata": {},
     "outputs": [
      {
       "html": [
        "<div style=\"max-height:1000px;max-width:1500px;overflow:auto;\">\n",
        "<table border=\"1\" class=\"dataframe\">\n",
        "  <thead>\n",
        "    <tr style=\"text-align: right;\">\n",
        "      <th></th>\n",
        "      <th>Nevada</th>\n",
        "      <th>Ohio</th>\n",
        "    </tr>\n",
        "  </thead>\n",
        "  <tbody>\n",
        "    <tr>\n",
        "      <th>2000</th>\n",
        "      <td> NaN</td>\n",
        "      <td> 1.5</td>\n",
        "    </tr>\n",
        "    <tr>\n",
        "      <th>2001</th>\n",
        "      <td> 2.4</td>\n",
        "      <td> 1.7</td>\n",
        "    </tr>\n",
        "    <tr>\n",
        "      <th>2002</th>\n",
        "      <td> 2.9</td>\n",
        "      <td> 3.6</td>\n",
        "    </tr>\n",
        "  </tbody>\n",
        "</table>\n",
        "</div>"
       ],
       "metadata": {},
       "output_type": "pyout",
       "prompt_number": 51,
       "text": [
        "      Nevada  Ohio\n",
        "2000     NaN   1.5\n",
        "2001     2.4   1.7\n",
        "2002     2.9   3.6"
       ]
      }
     ],
     "prompt_number": 51
    },
    {
     "cell_type": "markdown",
     "metadata": {},
     "source": [
      "\\13.  Transpose the result so that the table below is observed."
     ]
    },
    {
     "cell_type": "code",
     "collapsed": false,
     "input": [
      "frame3.?"
     ],
     "language": "python",
     "metadata": {},
     "outputs": [
      {
       "html": [
        "<div style=\"max-height:1000px;max-width:1500px;overflow:auto;\">\n",
        "<table border=\"1\" class=\"dataframe\">\n",
        "  <thead>\n",
        "    <tr style=\"text-align: right;\">\n",
        "      <th></th>\n",
        "      <th>2000</th>\n",
        "      <th>2001</th>\n",
        "      <th>2002</th>\n",
        "    </tr>\n",
        "  </thead>\n",
        "  <tbody>\n",
        "    <tr>\n",
        "      <th>Nevada</th>\n",
        "      <td> NaN</td>\n",
        "      <td> 2.4</td>\n",
        "      <td> 2.9</td>\n",
        "    </tr>\n",
        "    <tr>\n",
        "      <th>Ohio</th>\n",
        "      <td> 1.5</td>\n",
        "      <td> 1.7</td>\n",
        "      <td> 3.6</td>\n",
        "    </tr>\n",
        "  </tbody>\n",
        "</table>\n",
        "</div>"
       ],
       "metadata": {},
       "output_type": "pyout",
       "prompt_number": 52,
       "text": [
        "        2000  2001  2002\n",
        "Nevada   NaN   2.4   2.9\n",
        "Ohio     1.5   1.7   3.6"
       ]
      }
     ],
     "prompt_number": 52
    },
    {
     "cell_type": "markdown",
     "metadata": {},
     "source": [
      "\\14. Set the DataFrame's name attributes of index and columns to be 'year' and 'state', respectively."
     ]
    },
    {
     "cell_type": "code",
     "collapsed": false,
     "input": [
      "frame3.?.? = ?"
     ],
     "language": "python",
     "metadata": {},
     "outputs": [],
     "prompt_number": 53
    },
    {
     "cell_type": "code",
     "collapsed": false,
     "input": [
      "frame3.?.? = ?"
     ],
     "language": "python",
     "metadata": {},
     "outputs": [],
     "prompt_number": 54
    },
    {
     "cell_type": "code",
     "collapsed": false,
     "input": [
      "frame3"
     ],
     "language": "python",
     "metadata": {},
     "outputs": [
      {
       "html": [
        "<div style=\"max-height:1000px;max-width:1500px;overflow:auto;\">\n",
        "<table border=\"1\" class=\"dataframe\">\n",
        "  <thead>\n",
        "    <tr style=\"text-align: right;\">\n",
        "      <th>state</th>\n",
        "      <th>Nevada</th>\n",
        "      <th>Ohio</th>\n",
        "    </tr>\n",
        "    <tr>\n",
        "      <th>year</th>\n",
        "      <th></th>\n",
        "      <th></th>\n",
        "    </tr>\n",
        "  </thead>\n",
        "  <tbody>\n",
        "    <tr>\n",
        "      <th>2000</th>\n",
        "      <td> NaN</td>\n",
        "      <td> 1.5</td>\n",
        "    </tr>\n",
        "    <tr>\n",
        "      <th>2001</th>\n",
        "      <td> 2.4</td>\n",
        "      <td> 1.7</td>\n",
        "    </tr>\n",
        "    <tr>\n",
        "      <th>2002</th>\n",
        "      <td> 2.9</td>\n",
        "      <td> 3.6</td>\n",
        "    </tr>\n",
        "  </tbody>\n",
        "</table>\n",
        "</div>"
       ],
       "metadata": {},
       "output_type": "pyout",
       "prompt_number": 55,
       "text": [
        "state  Nevada  Ohio\n",
        "year               \n",
        "2000      NaN   1.5\n",
        "2001      2.4   1.7\n",
        "2002      2.9   3.6"
       ]
      }
     ],
     "prompt_number": 55
    },
    {
     "cell_type": "heading",
     "level": 3,
     "metadata": {},
     "source": [
      "Index Objects"
     ]
    },
    {
     "cell_type": "markdown",
     "metadata": {},
     "source": [
      "pandas's Index objects are responsible for holding the axis labels and other metadata (like the axis name or names).  Any array or other sequence of labels used when constructing a Series or DataFrame is internally converted to an Index:"
     ]
    },
    {
     "cell_type": "code",
     "collapsed": false,
     "input": [
      "obj4 = Series(range(3), index=['a', 'b', 'c'])"
     ],
     "language": "python",
     "metadata": {},
     "outputs": [],
     "prompt_number": 56
    },
    {
     "cell_type": "code",
     "collapsed": false,
     "input": [
      "index4 = obj4.index"
     ],
     "language": "python",
     "metadata": {},
     "outputs": [],
     "prompt_number": 57
    },
    {
     "cell_type": "code",
     "collapsed": false,
     "input": [
      "index4"
     ],
     "language": "python",
     "metadata": {},
     "outputs": [
      {
       "metadata": {},
       "output_type": "pyout",
       "prompt_number": 58,
       "text": [
        "Index([u'a', u'b', u'c'], dtype='object')"
       ]
      }
     ],
     "prompt_number": 58
    },
    {
     "cell_type": "code",
     "collapsed": false,
     "input": [
      "index4[1:]"
     ],
     "language": "python",
     "metadata": {},
     "outputs": [
      {
       "metadata": {},
       "output_type": "pyout",
       "prompt_number": 60,
       "text": [
        "Index([u'b', u'c'], dtype='object')"
       ]
      }
     ],
     "prompt_number": 60
    },
    {
     "cell_type": "markdown",
     "metadata": {},
     "source": [
      "Index objects are immutable and thus can't be modified by the user:"
     ]
    },
    {
     "cell_type": "code",
     "collapsed": false,
     "input": [
      "index4[1] = 'd'"
     ],
     "language": "python",
     "metadata": {},
     "outputs": [
      {
       "ename": "TypeError",
       "evalue": "'<class 'pandas.core.index.Index'>' does not support mutable operations.",
       "output_type": "pyerr",
       "traceback": [
        "\u001b[1;31m---------------------------------------------------------------------------\u001b[0m\n\u001b[1;31mTypeError\u001b[0m                                 Traceback (most recent call last)",
        "\u001b[1;32m<ipython-input-61-ddc43758e4ee>\u001b[0m in \u001b[0;36m<module>\u001b[1;34m()\u001b[0m\n\u001b[1;32m----> 1\u001b[1;33m \u001b[0mindex4\u001b[0m\u001b[1;33m[\u001b[0m\u001b[1;36m1\u001b[0m\u001b[1;33m]\u001b[0m \u001b[1;33m=\u001b[0m \u001b[1;34m'd'\u001b[0m\u001b[1;33m\u001b[0m\u001b[0m\n\u001b[0m",
        "\u001b[1;32m/home/frances/anaconda/lib/python2.7/site-packages/pandas/core/base.pyc\u001b[0m in \u001b[0;36m_disabled\u001b[1;34m(self, *args, **kwargs)\u001b[0m\n\u001b[0;32m    180\u001b[0m         \u001b[1;34m\"\"\"This method will not function because object is immutable.\"\"\"\u001b[0m\u001b[1;33m\u001b[0m\u001b[0m\n\u001b[0;32m    181\u001b[0m         raise TypeError(\"'%s' does not support mutable operations.\" %\n\u001b[1;32m--> 182\u001b[1;33m                         self.__class__)\n\u001b[0m\u001b[0;32m    183\u001b[0m \u001b[1;33m\u001b[0m\u001b[0m\n\u001b[0;32m    184\u001b[0m     \u001b[0m__setitem__\u001b[0m \u001b[1;33m=\u001b[0m \u001b[0m__setslice__\u001b[0m \u001b[1;33m=\u001b[0m \u001b[0m__delitem__\u001b[0m \u001b[1;33m=\u001b[0m \u001b[0m__delslice__\u001b[0m \u001b[1;33m=\u001b[0m \u001b[0m_disabled\u001b[0m\u001b[1;33m\u001b[0m\u001b[0m\n",
        "\u001b[1;31mTypeError\u001b[0m: '<class 'pandas.core.index.Index'>' does not support mutable operations."
       ]
      }
     ],
     "prompt_number": 61
    },
    {
     "cell_type": "markdown",
     "metadata": {},
     "source": [
      "Immutability is important so that Index objects can be safely shared among data structures."
     ]
    },
    {
     "cell_type": "code",
     "collapsed": false,
     "input": [
      "index5 = pd.Index(np.arange(3))"
     ],
     "language": "python",
     "metadata": {},
     "outputs": [],
     "prompt_number": 62
    },
    {
     "cell_type": "code",
     "collapsed": false,
     "input": [
      "obj5 = Series([1.5, -2.3, 1.0], index=index5)"
     ],
     "language": "python",
     "metadata": {},
     "outputs": [],
     "prompt_number": 66
    },
    {
     "cell_type": "code",
     "collapsed": false,
     "input": [
      "obj5.index is index5"
     ],
     "language": "python",
     "metadata": {},
     "outputs": [
      {
       "metadata": {},
       "output_type": "pyout",
       "prompt_number": 67,
       "text": [
        "True"
       ]
      }
     ],
     "prompt_number": 67
    },
    {
     "cell_type": "markdown",
     "metadata": {},
     "source": [
      "Each index has a number of methods and properties for set logic and answering other common questions about the data it contains: append, diff, intersection, union, isin, delete, drop, insert, is_monotonic, is_unique, unique."
     ]
    },
    {
     "cell_type": "heading",
     "level": 1,
     "metadata": {},
     "source": [
      "Essential Functionality"
     ]
    },
    {
     "cell_type": "markdown",
     "metadata": {},
     "source": [
      "In this section, we focus on the most important features of pandas by exploring the fundamental mechanics of interacting with the data contained in a series or DataFrame."
     ]
    },
    {
     "cell_type": "heading",
     "level": 3,
     "metadata": {},
     "source": [
      "Reindexing"
     ]
    },
    {
     "cell_type": "markdown",
     "metadata": {},
     "source": [
      "A critical method on pandas object is reindex, which means to create a new object with the data conformed to a new index."
     ]
    },
    {
     "cell_type": "code",
     "collapsed": false,
     "input": [
      "obj = Series([4.5, 5.1, -6.4, 3.6], index=['d', 'b', 'a', 'c'])"
     ],
     "language": "python",
     "metadata": {},
     "outputs": [],
     "prompt_number": 68
    },
    {
     "cell_type": "code",
     "collapsed": false,
     "input": [
      "obj"
     ],
     "language": "python",
     "metadata": {},
     "outputs": [
      {
       "metadata": {},
       "output_type": "pyout",
       "prompt_number": 69,
       "text": [
        "d    4.5\n",
        "b    5.1\n",
        "a   -6.4\n",
        "c    3.6\n",
        "dtype: float64"
       ]
      }
     ],
     "prompt_number": 69
    },
    {
     "cell_type": "markdown",
     "metadata": {},
     "source": [
      "Calling reindex on this Series rearranges the data according to the new index, introducing missing values if any index values were not already present."
     ]
    },
    {
     "cell_type": "code",
     "collapsed": false,
     "input": [
      "obj2 = obj.reindex(['a', 'b', 'c', 'd', 'e'])"
     ],
     "language": "python",
     "metadata": {},
     "outputs": [],
     "prompt_number": 70
    },
    {
     "cell_type": "code",
     "collapsed": false,
     "input": [
      "obj2"
     ],
     "language": "python",
     "metadata": {},
     "outputs": [
      {
       "metadata": {},
       "output_type": "pyout",
       "prompt_number": 71,
       "text": [
        "a   -6.4\n",
        "b    5.1\n",
        "c    3.6\n",
        "d    4.5\n",
        "e    NaN\n",
        "dtype: float64"
       ]
      }
     ],
     "prompt_number": 71
    },
    {
     "cell_type": "markdown",
     "metadata": {},
     "source": [
      "You can specify the value of the missing data to be other than the default NaN."
     ]
    },
    {
     "cell_type": "code",
     "collapsed": false,
     "input": [
      "obj.reindex(['a', 'b', 'c', 'd', 'e'], fill_value=0)"
     ],
     "language": "python",
     "metadata": {},
     "outputs": [
      {
       "metadata": {},
       "output_type": "pyout",
       "prompt_number": 73,
       "text": [
        "a   -6.4\n",
        "b    5.1\n",
        "c    3.6\n",
        "d    4.5\n",
        "e    0.0\n",
        "dtype: float64"
       ]
      }
     ],
     "prompt_number": 73
    },
    {
     "cell_type": "markdown",
     "metadata": {},
     "source": [
      "For ordered data like time series, it is possible to do some interpolation or filling values when reindexing.  The methods available are: ffill or pad, bfill or backfill."
     ]
    },
    {
     "cell_type": "code",
     "collapsed": false,
     "input": [
      "obj3 = Series(['blue', 'purple', 'yellow'], index = [0, 2, 4])"
     ],
     "language": "python",
     "metadata": {},
     "outputs": [],
     "prompt_number": 74
    },
    {
     "cell_type": "code",
     "collapsed": false,
     "input": [
      "obj3.reindex(range(6), method = 'ffill')"
     ],
     "language": "python",
     "metadata": {},
     "outputs": [
      {
       "metadata": {},
       "output_type": "pyout",
       "prompt_number": 75,
       "text": [
        "0      blue\n",
        "1      blue\n",
        "2    purple\n",
        "3    purple\n",
        "4    yellow\n",
        "5    yellow\n",
        "dtype: object"
       ]
      }
     ],
     "prompt_number": 75
    },
    {
     "cell_type": "heading",
     "level": 3,
     "metadata": {},
     "source": [
      "Dropping Entries from An Axis"
     ]
    },
    {
     "cell_type": "markdown",
     "metadata": {},
     "source": [
      "Dropping one or more entries from an axis is easy if you have an index array or list without those entries.  The drop method will return a new object with the indicated value or values deleted from an axis."
     ]
    },
    {
     "cell_type": "code",
     "collapsed": false,
     "input": [
      "obj = Series(np.arange(5.), index=['a', 'b', 'c', 'd', 'e'])"
     ],
     "language": "python",
     "metadata": {},
     "outputs": [],
     "prompt_number": 76
    },
    {
     "cell_type": "markdown",
     "metadata": {},
     "source": [
      "\\15.  Drop the row 'c' using the drop method such that the table below is observed."
     ]
    },
    {
     "cell_type": "code",
     "collapsed": false,
     "input": [
      "new_obj = obj.drop('c')"
     ],
     "language": "python",
     "metadata": {},
     "outputs": [],
     "prompt_number": 77
    },
    {
     "cell_type": "code",
     "collapsed": false,
     "input": [
      "new_obj"
     ],
     "language": "python",
     "metadata": {},
     "outputs": [
      {
       "metadata": {},
       "output_type": "pyout",
       "prompt_number": 78,
       "text": [
        "a    0\n",
        "b    1\n",
        "d    3\n",
        "e    4\n",
        "dtype: float64"
       ]
      }
     ],
     "prompt_number": 78
    },
    {
     "cell_type": "markdown",
     "metadata": {},
     "source": [
      "With DataFrame, index values can be deleted from either axis."
     ]
    },
    {
     "cell_type": "code",
     "collapsed": false,
     "input": [
      "data = DataFrame(np.arange(16).reshape((4, 4)),\n",
      "                 index=['Ohio', 'Colorado', 'Utah', 'New York'],\n",
      "                 columns=['one', 'two', 'three', 'four'])"
     ],
     "language": "python",
     "metadata": {},
     "outputs": [],
     "prompt_number": 79
    },
    {
     "cell_type": "code",
     "collapsed": false,
     "input": [
      "data.drop(['Colorado', 'Ohio'])"
     ],
     "language": "python",
     "metadata": {},
     "outputs": [
      {
       "html": [
        "<div style=\"max-height:1000px;max-width:1500px;overflow:auto;\">\n",
        "<table border=\"1\" class=\"dataframe\">\n",
        "  <thead>\n",
        "    <tr style=\"text-align: right;\">\n",
        "      <th></th>\n",
        "      <th>one</th>\n",
        "      <th>two</th>\n",
        "      <th>three</th>\n",
        "      <th>four</th>\n",
        "    </tr>\n",
        "  </thead>\n",
        "  <tbody>\n",
        "    <tr>\n",
        "      <th>Utah</th>\n",
        "      <td>  8</td>\n",
        "      <td>  9</td>\n",
        "      <td> 10</td>\n",
        "      <td> 11</td>\n",
        "    </tr>\n",
        "    <tr>\n",
        "      <th>New York</th>\n",
        "      <td> 12</td>\n",
        "      <td> 13</td>\n",
        "      <td> 14</td>\n",
        "      <td> 15</td>\n",
        "    </tr>\n",
        "  </tbody>\n",
        "</table>\n",
        "</div>"
       ],
       "metadata": {},
       "output_type": "pyout",
       "prompt_number": 80,
       "text": [
        "          one  two  three  four\n",
        "Utah        8    9     10    11\n",
        "New York   12   13     14    15"
       ]
      }
     ],
     "prompt_number": 80
    },
    {
     "cell_type": "markdown",
     "metadata": {},
     "source": [
      "\\16.  Drop columns 'two' and 'four'.  (Hint: you need to specify the axis in the argument, such that the following table is observed below."
     ]
    },
    {
     "cell_type": "code",
     "collapsed": false,
     "input": [
      "data.drop(?, ?)"
     ],
     "language": "python",
     "metadata": {},
     "outputs": [
      {
       "html": [
        "<div style=\"max-height:1000px;max-width:1500px;overflow:auto;\">\n",
        "<table border=\"1\" class=\"dataframe\">\n",
        "  <thead>\n",
        "    <tr style=\"text-align: right;\">\n",
        "      <th></th>\n",
        "      <th>one</th>\n",
        "      <th>three</th>\n",
        "    </tr>\n",
        "  </thead>\n",
        "  <tbody>\n",
        "    <tr>\n",
        "      <th>Ohio</th>\n",
        "      <td>  0</td>\n",
        "      <td>  2</td>\n",
        "    </tr>\n",
        "    <tr>\n",
        "      <th>Colorado</th>\n",
        "      <td>  4</td>\n",
        "      <td>  6</td>\n",
        "    </tr>\n",
        "    <tr>\n",
        "      <th>Utah</th>\n",
        "      <td>  8</td>\n",
        "      <td> 10</td>\n",
        "    </tr>\n",
        "    <tr>\n",
        "      <th>New York</th>\n",
        "      <td> 12</td>\n",
        "      <td> 14</td>\n",
        "    </tr>\n",
        "  </tbody>\n",
        "</table>\n",
        "</div>"
       ],
       "metadata": {},
       "output_type": "pyout",
       "prompt_number": 81,
       "text": [
        "          one  three\n",
        "Ohio        0      2\n",
        "Colorado    4      6\n",
        "Utah        8     10\n",
        "New York   12     14"
       ]
      }
     ],
     "prompt_number": 81
    },
    {
     "cell_type": "heading",
     "level": 3,
     "metadata": {},
     "source": [
      "Indexing, Selection, Filtering"
     ]
    },
    {
     "cell_type": "code",
     "collapsed": false,
     "input": [
      "obj = Series(np.arange(4.), index=['a', 'b', 'c', 'd'])"
     ],
     "language": "python",
     "metadata": {},
     "outputs": [],
     "prompt_number": 82
    },
    {
     "cell_type": "code",
     "collapsed": false,
     "input": [
      "obj['b']"
     ],
     "language": "python",
     "metadata": {},
     "outputs": [
      {
       "metadata": {},
       "output_type": "pyout",
       "prompt_number": 83,
       "text": [
        "1.0"
       ]
      }
     ],
     "prompt_number": 83
    },
    {
     "cell_type": "code",
     "collapsed": false,
     "input": [
      "obj[1]"
     ],
     "language": "python",
     "metadata": {},
     "outputs": [
      {
       "metadata": {},
       "output_type": "pyout",
       "prompt_number": 84,
       "text": [
        "1.0"
       ]
      }
     ],
     "prompt_number": 84
    },
    {
     "cell_type": "code",
     "collapsed": false,
     "input": [
      "obj[2:4]"
     ],
     "language": "python",
     "metadata": {},
     "outputs": [
      {
       "metadata": {},
       "output_type": "pyout",
       "prompt_number": 87,
       "text": [
        "c    2\n",
        "d    3\n",
        "dtype: float64"
       ]
      }
     ],
     "prompt_number": 87
    },
    {
     "cell_type": "markdown",
     "metadata": {},
     "source": [
      "Slicing with labels behaves differently than normal Python slicing in that the endpoint is inclusive:"
     ]
    },
    {
     "cell_type": "code",
     "collapsed": false,
     "input": [
      "obj['b':'c'] = 5"
     ],
     "language": "python",
     "metadata": {},
     "outputs": [],
     "prompt_number": 88
    },
    {
     "cell_type": "code",
     "collapsed": false,
     "input": [
      "obj"
     ],
     "language": "python",
     "metadata": {},
     "outputs": [
      {
       "metadata": {},
       "output_type": "pyout",
       "prompt_number": 89,
       "text": [
        "a    0\n",
        "b    5\n",
        "c    5\n",
        "d    3\n",
        "dtype: float64"
       ]
      }
     ],
     "prompt_number": 89
    },
    {
     "cell_type": "markdown",
     "metadata": {},
     "source": [
      "Indexing into a DataFrame is for retrieving one or more columns either with a single value or sequence."
     ]
    },
    {
     "cell_type": "code",
     "collapsed": false,
     "input": [
      "data = DataFrame(np.arange(16).reshape((4,4)),\n",
      "                 index=['Ohio', 'Colorado', 'Utah', 'New York'],\n",
      "                 columns=['one', 'two', 'three', 'four'])"
     ],
     "language": "python",
     "metadata": {},
     "outputs": [],
     "prompt_number": 90
    },
    {
     "cell_type": "code",
     "collapsed": false,
     "input": [
      "data"
     ],
     "language": "python",
     "metadata": {},
     "outputs": [
      {
       "html": [
        "<div style=\"max-height:1000px;max-width:1500px;overflow:auto;\">\n",
        "<table border=\"1\" class=\"dataframe\">\n",
        "  <thead>\n",
        "    <tr style=\"text-align: right;\">\n",
        "      <th></th>\n",
        "      <th>one</th>\n",
        "      <th>two</th>\n",
        "      <th>three</th>\n",
        "      <th>four</th>\n",
        "    </tr>\n",
        "  </thead>\n",
        "  <tbody>\n",
        "    <tr>\n",
        "      <th>Ohio</th>\n",
        "      <td>  0</td>\n",
        "      <td>  1</td>\n",
        "      <td>  2</td>\n",
        "      <td>  3</td>\n",
        "    </tr>\n",
        "    <tr>\n",
        "      <th>Colorado</th>\n",
        "      <td>  4</td>\n",
        "      <td>  5</td>\n",
        "      <td>  6</td>\n",
        "      <td>  7</td>\n",
        "    </tr>\n",
        "    <tr>\n",
        "      <th>Utah</th>\n",
        "      <td>  8</td>\n",
        "      <td>  9</td>\n",
        "      <td> 10</td>\n",
        "      <td> 11</td>\n",
        "    </tr>\n",
        "    <tr>\n",
        "      <th>New York</th>\n",
        "      <td> 12</td>\n",
        "      <td> 13</td>\n",
        "      <td> 14</td>\n",
        "      <td> 15</td>\n",
        "    </tr>\n",
        "  </tbody>\n",
        "</table>\n",
        "</div>"
       ],
       "metadata": {},
       "output_type": "pyout",
       "prompt_number": 91,
       "text": [
        "          one  two  three  four\n",
        "Ohio        0    1      2     3\n",
        "Colorado    4    5      6     7\n",
        "Utah        8    9     10    11\n",
        "New York   12   13     14    15"
       ]
      }
     ],
     "prompt_number": 91
    },
    {
     "cell_type": "markdown",
     "metadata": {},
     "source": [
      "\\17.  Retriev only columns 'three' and 'one' in that order, such that the table below is observed."
     ]
    },
    {
     "cell_type": "code",
     "collapsed": false,
     "input": [
      "data[?]"
     ],
     "language": "python",
     "metadata": {},
     "outputs": [
      {
       "html": [
        "<div style=\"max-height:1000px;max-width:1500px;overflow:auto;\">\n",
        "<table border=\"1\" class=\"dataframe\">\n",
        "  <thead>\n",
        "    <tr style=\"text-align: right;\">\n",
        "      <th></th>\n",
        "      <th>three</th>\n",
        "      <th>one</th>\n",
        "    </tr>\n",
        "  </thead>\n",
        "  <tbody>\n",
        "    <tr>\n",
        "      <th>Ohio</th>\n",
        "      <td>  2</td>\n",
        "      <td>  0</td>\n",
        "    </tr>\n",
        "    <tr>\n",
        "      <th>Colorado</th>\n",
        "      <td>  6</td>\n",
        "      <td>  4</td>\n",
        "    </tr>\n",
        "    <tr>\n",
        "      <th>Utah</th>\n",
        "      <td> 10</td>\n",
        "      <td>  8</td>\n",
        "    </tr>\n",
        "    <tr>\n",
        "      <th>New York</th>\n",
        "      <td> 14</td>\n",
        "      <td> 12</td>\n",
        "    </tr>\n",
        "  </tbody>\n",
        "</table>\n",
        "</div>"
       ],
       "metadata": {},
       "output_type": "pyout",
       "prompt_number": 92,
       "text": [
        "          three  one\n",
        "Ohio          2    0\n",
        "Colorado      6    4\n",
        "Utah         10    8\n",
        "New York     14   12"
       ]
      }
     ],
     "prompt_number": 92
    },
    {
     "cell_type": "markdown",
     "metadata": {},
     "source": [
      "\\18.  Retrieve only the first two rows of the data above (data containing Ohio, Colorado only)such that the table below is observed."
     ]
    },
    {
     "cell_type": "code",
     "collapsed": false,
     "input": [
      "data[?]"
     ],
     "language": "python",
     "metadata": {},
     "outputs": [
      {
       "html": [
        "<div style=\"max-height:1000px;max-width:1500px;overflow:auto;\">\n",
        "<table border=\"1\" class=\"dataframe\">\n",
        "  <thead>\n",
        "    <tr style=\"text-align: right;\">\n",
        "      <th></th>\n",
        "      <th>one</th>\n",
        "      <th>two</th>\n",
        "      <th>three</th>\n",
        "      <th>four</th>\n",
        "    </tr>\n",
        "  </thead>\n",
        "  <tbody>\n",
        "    <tr>\n",
        "      <th>Ohio</th>\n",
        "      <td> 0</td>\n",
        "      <td> 1</td>\n",
        "      <td> 2</td>\n",
        "      <td> 3</td>\n",
        "    </tr>\n",
        "    <tr>\n",
        "      <th>Colorado</th>\n",
        "      <td> 4</td>\n",
        "      <td> 5</td>\n",
        "      <td> 6</td>\n",
        "      <td> 7</td>\n",
        "    </tr>\n",
        "  </tbody>\n",
        "</table>\n",
        "</div>"
       ],
       "metadata": {},
       "output_type": "pyout",
       "prompt_number": 93,
       "text": [
        "          one  two  three  four\n",
        "Ohio        0    1      2     3\n",
        "Colorado    4    5      6     7"
       ]
      }
     ],
     "prompt_number": 93
    },
    {
     "cell_type": "markdown",
     "metadata": {},
     "source": [
      "Another useful case is an indexing with a boolean DataFrame, such as one produced by a scalar comparison."
     ]
    },
    {
     "cell_type": "code",
     "collapsed": false,
     "input": [
      "data < 5"
     ],
     "language": "python",
     "metadata": {},
     "outputs": [
      {
       "html": [
        "<div style=\"max-height:1000px;max-width:1500px;overflow:auto;\">\n",
        "<table border=\"1\" class=\"dataframe\">\n",
        "  <thead>\n",
        "    <tr style=\"text-align: right;\">\n",
        "      <th></th>\n",
        "      <th>one</th>\n",
        "      <th>two</th>\n",
        "      <th>three</th>\n",
        "      <th>four</th>\n",
        "    </tr>\n",
        "  </thead>\n",
        "  <tbody>\n",
        "    <tr>\n",
        "      <th>Ohio</th>\n",
        "      <td>  True</td>\n",
        "      <td>  True</td>\n",
        "      <td>  True</td>\n",
        "      <td>  True</td>\n",
        "    </tr>\n",
        "    <tr>\n",
        "      <th>Colorado</th>\n",
        "      <td>  True</td>\n",
        "      <td> False</td>\n",
        "      <td> False</td>\n",
        "      <td> False</td>\n",
        "    </tr>\n",
        "    <tr>\n",
        "      <th>Utah</th>\n",
        "      <td> False</td>\n",
        "      <td> False</td>\n",
        "      <td> False</td>\n",
        "      <td> False</td>\n",
        "    </tr>\n",
        "    <tr>\n",
        "      <th>New York</th>\n",
        "      <td> False</td>\n",
        "      <td> False</td>\n",
        "      <td> False</td>\n",
        "      <td> False</td>\n",
        "    </tr>\n",
        "  </tbody>\n",
        "</table>\n",
        "</div>"
       ],
       "metadata": {},
       "output_type": "pyout",
       "prompt_number": 94,
       "text": [
        "            one    two  three   four\n",
        "Ohio       True   True   True   True\n",
        "Colorado   True  False  False  False\n",
        "Utah      False  False  False  False\n",
        "New York  False  False  False  False"
       ]
      }
     ],
     "prompt_number": 94
    },
    {
     "cell_type": "markdown",
     "metadata": {},
     "source": [
      "\\19.  Manipulate the data table such that values less than 5 are set to 0.  The table below should be observed."
     ]
    },
    {
     "cell_type": "code",
     "collapsed": false,
     "input": [
      "data[?] = ?"
     ],
     "language": "python",
     "metadata": {},
     "outputs": [],
     "prompt_number": 95
    },
    {
     "cell_type": "code",
     "collapsed": false,
     "input": [
      "data"
     ],
     "language": "python",
     "metadata": {},
     "outputs": [
      {
       "html": [
        "<div style=\"max-height:1000px;max-width:1500px;overflow:auto;\">\n",
        "<table border=\"1\" class=\"dataframe\">\n",
        "  <thead>\n",
        "    <tr style=\"text-align: right;\">\n",
        "      <th></th>\n",
        "      <th>one</th>\n",
        "      <th>two</th>\n",
        "      <th>three</th>\n",
        "      <th>four</th>\n",
        "    </tr>\n",
        "  </thead>\n",
        "  <tbody>\n",
        "    <tr>\n",
        "      <th>Ohio</th>\n",
        "      <td>  0</td>\n",
        "      <td>  0</td>\n",
        "      <td>  0</td>\n",
        "      <td>  0</td>\n",
        "    </tr>\n",
        "    <tr>\n",
        "      <th>Colorado</th>\n",
        "      <td>  0</td>\n",
        "      <td>  5</td>\n",
        "      <td>  6</td>\n",
        "      <td>  7</td>\n",
        "    </tr>\n",
        "    <tr>\n",
        "      <th>Utah</th>\n",
        "      <td>  8</td>\n",
        "      <td>  9</td>\n",
        "      <td> 10</td>\n",
        "      <td> 11</td>\n",
        "    </tr>\n",
        "    <tr>\n",
        "      <th>New York</th>\n",
        "      <td> 12</td>\n",
        "      <td> 13</td>\n",
        "      <td> 14</td>\n",
        "      <td> 15</td>\n",
        "    </tr>\n",
        "  </tbody>\n",
        "</table>\n",
        "</div>"
       ],
       "metadata": {},
       "output_type": "pyout",
       "prompt_number": 96,
       "text": [
        "          one  two  three  four\n",
        "Ohio        0    0      0     0\n",
        "Colorado    0    5      6     7\n",
        "Utah        8    9     10    11\n",
        "New York   12   13     14    15"
       ]
      }
     ],
     "prompt_number": 96
    },
    {
     "cell_type": "markdown",
     "metadata": {},
     "source": [
      "For DataFrame label-indexing on the rows, we encountered the special indexing field ix earlier.  It enables you to select a subset of the rows and columns from a DataFrame with NumPy like notation plus axis labels.  Study the examples below to be able to answer the questions in this section."
     ]
    },
    {
     "cell_type": "code",
     "collapsed": false,
     "input": [
      "data.ix['Colorado', ['two', 'three']]"
     ],
     "language": "python",
     "metadata": {},
     "outputs": [
      {
       "metadata": {},
       "output_type": "pyout",
       "prompt_number": 97,
       "text": [
        "two      5\n",
        "three    6\n",
        "Name: Colorado, dtype: int64"
       ]
      }
     ],
     "prompt_number": 97
    },
    {
     "cell_type": "code",
     "collapsed": false,
     "input": [
      "data.ix[['Colorado', 'Utah'], [3, 0, 1]]"
     ],
     "language": "python",
     "metadata": {},
     "outputs": [
      {
       "html": [
        "<div style=\"max-height:1000px;max-width:1500px;overflow:auto;\">\n",
        "<table border=\"1\" class=\"dataframe\">\n",
        "  <thead>\n",
        "    <tr style=\"text-align: right;\">\n",
        "      <th></th>\n",
        "      <th>four</th>\n",
        "      <th>one</th>\n",
        "      <th>two</th>\n",
        "    </tr>\n",
        "  </thead>\n",
        "  <tbody>\n",
        "    <tr>\n",
        "      <th>Colorado</th>\n",
        "      <td>  7</td>\n",
        "      <td> 0</td>\n",
        "      <td> 5</td>\n",
        "    </tr>\n",
        "    <tr>\n",
        "      <th>Utah</th>\n",
        "      <td> 11</td>\n",
        "      <td> 8</td>\n",
        "      <td> 9</td>\n",
        "    </tr>\n",
        "  </tbody>\n",
        "</table>\n",
        "</div>"
       ],
       "metadata": {},
       "output_type": "pyout",
       "prompt_number": 98,
       "text": [
        "          four  one  two\n",
        "Colorado     7    0    5\n",
        "Utah        11    8    9"
       ]
      }
     ],
     "prompt_number": 98
    },
    {
     "cell_type": "code",
     "collapsed": false,
     "input": [
      "data.ix[2]"
     ],
     "language": "python",
     "metadata": {},
     "outputs": [
      {
       "metadata": {},
       "output_type": "pyout",
       "prompt_number": 99,
       "text": [
        "one       8\n",
        "two       9\n",
        "three    10\n",
        "four     11\n",
        "Name: Utah, dtype: int64"
       ]
      }
     ],
     "prompt_number": 99
    },
    {
     "cell_type": "markdown",
     "metadata": {},
     "source": [
      "\\20.  Show the data table containing only column 'two of rows from Ohio to Utah only, such that the table below is observed."
     ]
    },
    {
     "cell_type": "code",
     "collapsed": false,
     "input": [
      "data.ix[?]"
     ],
     "language": "python",
     "metadata": {},
     "outputs": [
      {
       "metadata": {},
       "output_type": "pyout",
       "prompt_number": 100,
       "text": [
        "Ohio        0\n",
        "Colorado    5\n",
        "Utah        9\n",
        "Name: two, dtype: int64"
       ]
      }
     ],
     "prompt_number": 100
    },
    {
     "cell_type": "markdown",
     "metadata": {},
     "source": [
      "There are many ways to select and rearrange the data contained in a pandas object.  There are also numerous indexing options with DataFrame."
     ]
    },
    {
     "cell_type": "heading",
     "level": 3,
     "metadata": {},
     "source": [
      "Arithmetic and Data Alignment"
     ]
    },
    {
     "cell_type": "markdown",
     "metadata": {},
     "source": [
      "One of the most important pandas features is the behavior of arithmetic between objects with different indexes.  When adding together objects, if any index pairs are not the same, the respective index in the result will be the union of the index pairs."
     ]
    },
    {
     "cell_type": "code",
     "collapsed": false,
     "input": [
      "s1 = Series([7.1, -2.5, 3.4, 1.5], index=['a', 'c', 'd', 'e'])"
     ],
     "language": "python",
     "metadata": {},
     "outputs": [],
     "prompt_number": 101
    },
    {
     "cell_type": "code",
     "collapsed": false,
     "input": [
      "s2 = Series([-2.1, 3.5, -1.5, 4, 3.4], index=['a', 'c', 'e', 'f', 'g'])"
     ],
     "language": "python",
     "metadata": {},
     "outputs": [],
     "prompt_number": 102
    },
    {
     "cell_type": "code",
     "collapsed": false,
     "input": [
      "s1"
     ],
     "language": "python",
     "metadata": {},
     "outputs": [
      {
       "metadata": {},
       "output_type": "pyout",
       "prompt_number": 103,
       "text": [
        "a    7.1\n",
        "c   -2.5\n",
        "d    3.4\n",
        "e    1.5\n",
        "dtype: float64"
       ]
      }
     ],
     "prompt_number": 103
    },
    {
     "cell_type": "code",
     "collapsed": false,
     "input": [
      "s2"
     ],
     "language": "python",
     "metadata": {},
     "outputs": [
      {
       "metadata": {},
       "output_type": "pyout",
       "prompt_number": 104,
       "text": [
        "a   -2.1\n",
        "c    3.5\n",
        "e   -1.5\n",
        "f    4.0\n",
        "g    3.4\n",
        "dtype: float64"
       ]
      }
     ],
     "prompt_number": 104
    },
    {
     "cell_type": "markdown",
     "metadata": {},
     "source": [
      "when you add the two together, notice that the internal data alignment introduces NA values in the indices that don't overlap.  Missing values propagate in arithmetic computations."
     ]
    },
    {
     "cell_type": "code",
     "collapsed": false,
     "input": [
      "s1 + s2"
     ],
     "language": "python",
     "metadata": {},
     "outputs": [
      {
       "metadata": {},
       "output_type": "pyout",
       "prompt_number": 105,
       "text": [
        "a     5\n",
        "c     1\n",
        "d   NaN\n",
        "e     0\n",
        "f   NaN\n",
        "g   NaN\n",
        "dtype: float64"
       ]
      }
     ],
     "prompt_number": 105
    },
    {
     "cell_type": "markdown",
     "metadata": {},
     "source": [
      "In the case of DataFrame, alignment is performed on both the rows and the columns."
     ]
    },
    {
     "cell_type": "code",
     "collapsed": false,
     "input": [
      "df1 = DataFrame(np.arange(9.).reshape((3,3)), columns=list('bcd'),\n",
      "                index=['Ohio', 'Texas', 'Colorado']) "
     ],
     "language": "python",
     "metadata": {},
     "outputs": [],
     "prompt_number": 107
    },
    {
     "cell_type": "code",
     "collapsed": false,
     "input": [
      "df2 = DataFrame(np.arange(12.).reshape((4,3)), columns=list('bde'),\n",
      "                index=['Utah', 'Ohio', 'Texas', 'Oregon'])"
     ],
     "language": "python",
     "metadata": {},
     "outputs": [],
     "prompt_number": 108
    },
    {
     "cell_type": "code",
     "collapsed": false,
     "input": [
      "df1"
     ],
     "language": "python",
     "metadata": {},
     "outputs": [
      {
       "html": [
        "<div style=\"max-height:1000px;max-width:1500px;overflow:auto;\">\n",
        "<table border=\"1\" class=\"dataframe\">\n",
        "  <thead>\n",
        "    <tr style=\"text-align: right;\">\n",
        "      <th></th>\n",
        "      <th>b</th>\n",
        "      <th>c</th>\n",
        "      <th>d</th>\n",
        "    </tr>\n",
        "  </thead>\n",
        "  <tbody>\n",
        "    <tr>\n",
        "      <th>Ohio</th>\n",
        "      <td> 0</td>\n",
        "      <td> 1</td>\n",
        "      <td> 2</td>\n",
        "    </tr>\n",
        "    <tr>\n",
        "      <th>Texas</th>\n",
        "      <td> 3</td>\n",
        "      <td> 4</td>\n",
        "      <td> 5</td>\n",
        "    </tr>\n",
        "    <tr>\n",
        "      <th>Colorado</th>\n",
        "      <td> 6</td>\n",
        "      <td> 7</td>\n",
        "      <td> 8</td>\n",
        "    </tr>\n",
        "  </tbody>\n",
        "</table>\n",
        "</div>"
       ],
       "metadata": {},
       "output_type": "pyout",
       "prompt_number": 109,
       "text": [
        "          b  c  d\n",
        "Ohio      0  1  2\n",
        "Texas     3  4  5\n",
        "Colorado  6  7  8"
       ]
      }
     ],
     "prompt_number": 109
    },
    {
     "cell_type": "code",
     "collapsed": false,
     "input": [
      "df2"
     ],
     "language": "python",
     "metadata": {},
     "outputs": [
      {
       "html": [
        "<div style=\"max-height:1000px;max-width:1500px;overflow:auto;\">\n",
        "<table border=\"1\" class=\"dataframe\">\n",
        "  <thead>\n",
        "    <tr style=\"text-align: right;\">\n",
        "      <th></th>\n",
        "      <th>b</th>\n",
        "      <th>d</th>\n",
        "      <th>e</th>\n",
        "    </tr>\n",
        "  </thead>\n",
        "  <tbody>\n",
        "    <tr>\n",
        "      <th>Utah</th>\n",
        "      <td> 0</td>\n",
        "      <td>  1</td>\n",
        "      <td>  2</td>\n",
        "    </tr>\n",
        "    <tr>\n",
        "      <th>Ohio</th>\n",
        "      <td> 3</td>\n",
        "      <td>  4</td>\n",
        "      <td>  5</td>\n",
        "    </tr>\n",
        "    <tr>\n",
        "      <th>Texas</th>\n",
        "      <td> 6</td>\n",
        "      <td>  7</td>\n",
        "      <td>  8</td>\n",
        "    </tr>\n",
        "    <tr>\n",
        "      <th>Oregon</th>\n",
        "      <td> 9</td>\n",
        "      <td> 10</td>\n",
        "      <td> 11</td>\n",
        "    </tr>\n",
        "  </tbody>\n",
        "</table>\n",
        "</div>"
       ],
       "metadata": {},
       "output_type": "pyout",
       "prompt_number": 110,
       "text": [
        "        b   d   e\n",
        "Utah    0   1   2\n",
        "Ohio    3   4   5\n",
        "Texas   6   7   8\n",
        "Oregon  9  10  11"
       ]
      }
     ],
     "prompt_number": 110
    },
    {
     "cell_type": "markdown",
     "metadata": {},
     "source": [
      "Adding these together returns a DataFrame whose index and columns are the unions of the ones in each DataFrame."
     ]
    },
    {
     "cell_type": "code",
     "collapsed": false,
     "input": [
      "df1 + df2"
     ],
     "language": "python",
     "metadata": {},
     "outputs": [
      {
       "html": [
        "<div style=\"max-height:1000px;max-width:1500px;overflow:auto;\">\n",
        "<table border=\"1\" class=\"dataframe\">\n",
        "  <thead>\n",
        "    <tr style=\"text-align: right;\">\n",
        "      <th></th>\n",
        "      <th>b</th>\n",
        "      <th>c</th>\n",
        "      <th>d</th>\n",
        "      <th>e</th>\n",
        "    </tr>\n",
        "  </thead>\n",
        "  <tbody>\n",
        "    <tr>\n",
        "      <th>Colorado</th>\n",
        "      <td>NaN</td>\n",
        "      <td>NaN</td>\n",
        "      <td>NaN</td>\n",
        "      <td>NaN</td>\n",
        "    </tr>\n",
        "    <tr>\n",
        "      <th>Ohio</th>\n",
        "      <td>  3</td>\n",
        "      <td>NaN</td>\n",
        "      <td>  6</td>\n",
        "      <td>NaN</td>\n",
        "    </tr>\n",
        "    <tr>\n",
        "      <th>Oregon</th>\n",
        "      <td>NaN</td>\n",
        "      <td>NaN</td>\n",
        "      <td>NaN</td>\n",
        "      <td>NaN</td>\n",
        "    </tr>\n",
        "    <tr>\n",
        "      <th>Texas</th>\n",
        "      <td>  9</td>\n",
        "      <td>NaN</td>\n",
        "      <td> 12</td>\n",
        "      <td>NaN</td>\n",
        "    </tr>\n",
        "    <tr>\n",
        "      <th>Utah</th>\n",
        "      <td>NaN</td>\n",
        "      <td>NaN</td>\n",
        "      <td>NaN</td>\n",
        "      <td>NaN</td>\n",
        "    </tr>\n",
        "  </tbody>\n",
        "</table>\n",
        "</div>"
       ],
       "metadata": {},
       "output_type": "pyout",
       "prompt_number": 111,
       "text": [
        "           b   c   d   e\n",
        "Colorado NaN NaN NaN NaN\n",
        "Ohio       3 NaN   6 NaN\n",
        "Oregon   NaN NaN NaN NaN\n",
        "Texas      9 NaN  12 NaN\n",
        "Utah     NaN NaN NaN NaN"
       ]
      }
     ],
     "prompt_number": 111
    },
    {
     "cell_type": "heading",
     "level": 4,
     "metadata": {},
     "source": [
      "Arithmetic methods with fill values"
     ]
    },
    {
     "cell_type": "markdown",
     "metadata": {},
     "source": [
      "In arithmetic operations between differently-indexed objects, you might want to fill with a different value other than NaN when an axis label is found in one object but not the other.  By defualt, adding differently-indexed objects results in NA values in the locations that don't overlap."
     ]
    },
    {
     "cell_type": "code",
     "collapsed": false,
     "input": [
      "df1 = DataFrame(np.arange(12.).reshape((3, 4)), columns=list('abcd'))"
     ],
     "language": "python",
     "metadata": {},
     "outputs": [],
     "prompt_number": 112
    },
    {
     "cell_type": "code",
     "collapsed": false,
     "input": [
      "df2 = DataFrame(np.arange(20.).reshape((4, 5)), columns=list('abcde'))"
     ],
     "language": "python",
     "metadata": {},
     "outputs": [],
     "prompt_number": 113
    },
    {
     "cell_type": "code",
     "collapsed": false,
     "input": [
      "df1"
     ],
     "language": "python",
     "metadata": {},
     "outputs": [
      {
       "html": [
        "<div style=\"max-height:1000px;max-width:1500px;overflow:auto;\">\n",
        "<table border=\"1\" class=\"dataframe\">\n",
        "  <thead>\n",
        "    <tr style=\"text-align: right;\">\n",
        "      <th></th>\n",
        "      <th>a</th>\n",
        "      <th>b</th>\n",
        "      <th>c</th>\n",
        "      <th>d</th>\n",
        "    </tr>\n",
        "  </thead>\n",
        "  <tbody>\n",
        "    <tr>\n",
        "      <th>0</th>\n",
        "      <td> 0</td>\n",
        "      <td> 1</td>\n",
        "      <td>  2</td>\n",
        "      <td>  3</td>\n",
        "    </tr>\n",
        "    <tr>\n",
        "      <th>1</th>\n",
        "      <td> 4</td>\n",
        "      <td> 5</td>\n",
        "      <td>  6</td>\n",
        "      <td>  7</td>\n",
        "    </tr>\n",
        "    <tr>\n",
        "      <th>2</th>\n",
        "      <td> 8</td>\n",
        "      <td> 9</td>\n",
        "      <td> 10</td>\n",
        "      <td> 11</td>\n",
        "    </tr>\n",
        "  </tbody>\n",
        "</table>\n",
        "</div>"
       ],
       "metadata": {},
       "output_type": "pyout",
       "prompt_number": 114,
       "text": [
        "   a  b   c   d\n",
        "0  0  1   2   3\n",
        "1  4  5   6   7\n",
        "2  8  9  10  11"
       ]
      }
     ],
     "prompt_number": 114
    },
    {
     "cell_type": "code",
     "collapsed": false,
     "input": [
      "df2"
     ],
     "language": "python",
     "metadata": {},
     "outputs": [
      {
       "html": [
        "<div style=\"max-height:1000px;max-width:1500px;overflow:auto;\">\n",
        "<table border=\"1\" class=\"dataframe\">\n",
        "  <thead>\n",
        "    <tr style=\"text-align: right;\">\n",
        "      <th></th>\n",
        "      <th>a</th>\n",
        "      <th>b</th>\n",
        "      <th>c</th>\n",
        "      <th>d</th>\n",
        "      <th>e</th>\n",
        "    </tr>\n",
        "  </thead>\n",
        "  <tbody>\n",
        "    <tr>\n",
        "      <th>0</th>\n",
        "      <td>  0</td>\n",
        "      <td>  1</td>\n",
        "      <td>  2</td>\n",
        "      <td>  3</td>\n",
        "      <td>  4</td>\n",
        "    </tr>\n",
        "    <tr>\n",
        "      <th>1</th>\n",
        "      <td>  5</td>\n",
        "      <td>  6</td>\n",
        "      <td>  7</td>\n",
        "      <td>  8</td>\n",
        "      <td>  9</td>\n",
        "    </tr>\n",
        "    <tr>\n",
        "      <th>2</th>\n",
        "      <td> 10</td>\n",
        "      <td> 11</td>\n",
        "      <td> 12</td>\n",
        "      <td> 13</td>\n",
        "      <td> 14</td>\n",
        "    </tr>\n",
        "    <tr>\n",
        "      <th>3</th>\n",
        "      <td> 15</td>\n",
        "      <td> 16</td>\n",
        "      <td> 17</td>\n",
        "      <td> 18</td>\n",
        "      <td> 19</td>\n",
        "    </tr>\n",
        "  </tbody>\n",
        "</table>\n",
        "</div>"
       ],
       "metadata": {},
       "output_type": "pyout",
       "prompt_number": 115,
       "text": [
        "    a   b   c   d   e\n",
        "0   0   1   2   3   4\n",
        "1   5   6   7   8   9\n",
        "2  10  11  12  13  14\n",
        "3  15  16  17  18  19"
       ]
      }
     ],
     "prompt_number": 115
    },
    {
     "cell_type": "code",
     "collapsed": false,
     "input": [
      "df1 + df2"
     ],
     "language": "python",
     "metadata": {},
     "outputs": [
      {
       "html": [
        "<div style=\"max-height:1000px;max-width:1500px;overflow:auto;\">\n",
        "<table border=\"1\" class=\"dataframe\">\n",
        "  <thead>\n",
        "    <tr style=\"text-align: right;\">\n",
        "      <th></th>\n",
        "      <th>a</th>\n",
        "      <th>b</th>\n",
        "      <th>c</th>\n",
        "      <th>d</th>\n",
        "      <th>e</th>\n",
        "    </tr>\n",
        "  </thead>\n",
        "  <tbody>\n",
        "    <tr>\n",
        "      <th>0</th>\n",
        "      <td>  0</td>\n",
        "      <td>  2</td>\n",
        "      <td>  4</td>\n",
        "      <td>  6</td>\n",
        "      <td>NaN</td>\n",
        "    </tr>\n",
        "    <tr>\n",
        "      <th>1</th>\n",
        "      <td>  9</td>\n",
        "      <td> 11</td>\n",
        "      <td> 13</td>\n",
        "      <td> 15</td>\n",
        "      <td>NaN</td>\n",
        "    </tr>\n",
        "    <tr>\n",
        "      <th>2</th>\n",
        "      <td> 18</td>\n",
        "      <td> 20</td>\n",
        "      <td> 22</td>\n",
        "      <td> 24</td>\n",
        "      <td>NaN</td>\n",
        "    </tr>\n",
        "    <tr>\n",
        "      <th>3</th>\n",
        "      <td>NaN</td>\n",
        "      <td>NaN</td>\n",
        "      <td>NaN</td>\n",
        "      <td>NaN</td>\n",
        "      <td>NaN</td>\n",
        "    </tr>\n",
        "  </tbody>\n",
        "</table>\n",
        "</div>"
       ],
       "metadata": {},
       "output_type": "pyout",
       "prompt_number": 116,
       "text": [
        "    a   b   c   d   e\n",
        "0   0   2   4   6 NaN\n",
        "1   9  11  13  15 NaN\n",
        "2  18  20  22  24 NaN\n",
        "3 NaN NaN NaN NaN NaN"
       ]
      }
     ],
     "prompt_number": 116
    },
    {
     "cell_type": "markdown",
     "metadata": {},
     "source": [
      "\\21.  Using the add method on df1, pass df2 and an argument to fill_value, such that the table below is observed."
     ]
    },
    {
     "cell_type": "code",
     "collapsed": false,
     "input": [
      "df1.?(?, ?)"
     ],
     "language": "python",
     "metadata": {},
     "outputs": [
      {
       "html": [
        "<div style=\"max-height:1000px;max-width:1500px;overflow:auto;\">\n",
        "<table border=\"1\" class=\"dataframe\">\n",
        "  <thead>\n",
        "    <tr style=\"text-align: right;\">\n",
        "      <th></th>\n",
        "      <th>a</th>\n",
        "      <th>b</th>\n",
        "      <th>c</th>\n",
        "      <th>d</th>\n",
        "      <th>e</th>\n",
        "    </tr>\n",
        "  </thead>\n",
        "  <tbody>\n",
        "    <tr>\n",
        "      <th>0</th>\n",
        "      <td>  0</td>\n",
        "      <td>  2</td>\n",
        "      <td>  4</td>\n",
        "      <td>  6</td>\n",
        "      <td>  4</td>\n",
        "    </tr>\n",
        "    <tr>\n",
        "      <th>1</th>\n",
        "      <td>  9</td>\n",
        "      <td> 11</td>\n",
        "      <td> 13</td>\n",
        "      <td> 15</td>\n",
        "      <td>  9</td>\n",
        "    </tr>\n",
        "    <tr>\n",
        "      <th>2</th>\n",
        "      <td> 18</td>\n",
        "      <td> 20</td>\n",
        "      <td> 22</td>\n",
        "      <td> 24</td>\n",
        "      <td> 14</td>\n",
        "    </tr>\n",
        "    <tr>\n",
        "      <th>3</th>\n",
        "      <td> 15</td>\n",
        "      <td> 16</td>\n",
        "      <td> 17</td>\n",
        "      <td> 18</td>\n",
        "      <td> 19</td>\n",
        "    </tr>\n",
        "  </tbody>\n",
        "</table>\n",
        "</div>"
       ],
       "metadata": {},
       "output_type": "pyout",
       "prompt_number": 117,
       "text": [
        "    a   b   c   d   e\n",
        "0   0   2   4   6   4\n",
        "1   9  11  13  15   9\n",
        "2  18  20  22  24  14\n",
        "3  15  16  17  18  19"
       ]
      }
     ],
     "prompt_number": 117
    },
    {
     "cell_type": "markdown",
     "metadata": {},
     "source": [
      "\\22.  Reindex the DataFrame object df1 using the column values of df2 and setting the fill_value to be equal to 0, such that the table below is observed."
     ]
    },
    {
     "cell_type": "code",
     "collapsed": false,
     "input": [
      "df1.?(?, ?)"
     ],
     "language": "python",
     "metadata": {},
     "outputs": [
      {
       "html": [
        "<div style=\"max-height:1000px;max-width:1500px;overflow:auto;\">\n",
        "<table border=\"1\" class=\"dataframe\">\n",
        "  <thead>\n",
        "    <tr style=\"text-align: right;\">\n",
        "      <th></th>\n",
        "      <th>a</th>\n",
        "      <th>b</th>\n",
        "      <th>c</th>\n",
        "      <th>d</th>\n",
        "      <th>e</th>\n",
        "    </tr>\n",
        "  </thead>\n",
        "  <tbody>\n",
        "    <tr>\n",
        "      <th>0</th>\n",
        "      <td> 0</td>\n",
        "      <td> 1</td>\n",
        "      <td>  2</td>\n",
        "      <td>  3</td>\n",
        "      <td> 0</td>\n",
        "    </tr>\n",
        "    <tr>\n",
        "      <th>1</th>\n",
        "      <td> 4</td>\n",
        "      <td> 5</td>\n",
        "      <td>  6</td>\n",
        "      <td>  7</td>\n",
        "      <td> 0</td>\n",
        "    </tr>\n",
        "    <tr>\n",
        "      <th>2</th>\n",
        "      <td> 8</td>\n",
        "      <td> 9</td>\n",
        "      <td> 10</td>\n",
        "      <td> 11</td>\n",
        "      <td> 0</td>\n",
        "    </tr>\n",
        "  </tbody>\n",
        "</table>\n",
        "</div>"
       ],
       "metadata": {},
       "output_type": "pyout",
       "prompt_number": 118,
       "text": [
        "   a  b   c   d  e\n",
        "0  0  1   2   3  0\n",
        "1  4  5   6   7  0\n",
        "2  8  9  10  11  0"
       ]
      }
     ],
     "prompt_number": 118
    },
    {
     "cell_type": "markdown",
     "metadata": {},
     "source": [
      "Here are the flexible arithmetic methods: add(+), sub(-), div(/), mul(*)"
     ]
    },
    {
     "cell_type": "heading",
     "level": 4,
     "metadata": {},
     "source": [
      "Operations between DataFrame and Series"
     ]
    },
    {
     "cell_type": "markdown",
     "metadata": {},
     "source": [
      "As with NumPy arrays, arithmetic between DataFrame and Series is well-defined.  Note: An understanding of broadcasting is important to understand this section.  Study this on your own.  Let's have some few examples."
     ]
    },
    {
     "cell_type": "code",
     "collapsed": false,
     "input": [
      "arr = np.arange(12.).reshape((3,4))"
     ],
     "language": "python",
     "metadata": {},
     "outputs": [],
     "prompt_number": 119
    },
    {
     "cell_type": "code",
     "collapsed": false,
     "input": [
      "arr"
     ],
     "language": "python",
     "metadata": {},
     "outputs": [
      {
       "metadata": {},
       "output_type": "pyout",
       "prompt_number": 120,
       "text": [
        "array([[  0.,   1.,   2.,   3.],\n",
        "       [  4.,   5.,   6.,   7.],\n",
        "       [  8.,   9.,  10.,  11.]])"
       ]
      }
     ],
     "prompt_number": 120
    },
    {
     "cell_type": "code",
     "collapsed": false,
     "input": [
      "arr[0]"
     ],
     "language": "python",
     "metadata": {},
     "outputs": [
      {
       "metadata": {},
       "output_type": "pyout",
       "prompt_number": 121,
       "text": [
        "array([ 0.,  1.,  2.,  3.])"
       ]
      }
     ],
     "prompt_number": 121
    },
    {
     "cell_type": "code",
     "collapsed": false,
     "input": [
      "arr - arr[0]  # A simple example of broadcasting"
     ],
     "language": "python",
     "metadata": {},
     "outputs": [
      {
       "metadata": {},
       "output_type": "pyout",
       "prompt_number": 122,
       "text": [
        "array([[ 0.,  0.,  0.,  0.],\n",
        "       [ 4.,  4.,  4.,  4.],\n",
        "       [ 8.,  8.,  8.,  8.]])"
       ]
      }
     ],
     "prompt_number": 122
    },
    {
     "cell_type": "code",
     "collapsed": false,
     "input": [
      "frame = DataFrame(np.arange(12.).reshape((4,3)), columns=list('bde'),\n",
      "                  index=['Utah', 'Ohio', 'Texas', 'Oregon'])"
     ],
     "language": "python",
     "metadata": {},
     "outputs": [],
     "prompt_number": 123
    },
    {
     "cell_type": "code",
     "collapsed": false,
     "input": [
      "series = frame.ix[0]"
     ],
     "language": "python",
     "metadata": {},
     "outputs": [],
     "prompt_number": 124
    },
    {
     "cell_type": "code",
     "collapsed": false,
     "input": [
      "frame"
     ],
     "language": "python",
     "metadata": {},
     "outputs": [
      {
       "html": [
        "<div style=\"max-height:1000px;max-width:1500px;overflow:auto;\">\n",
        "<table border=\"1\" class=\"dataframe\">\n",
        "  <thead>\n",
        "    <tr style=\"text-align: right;\">\n",
        "      <th></th>\n",
        "      <th>b</th>\n",
        "      <th>d</th>\n",
        "      <th>e</th>\n",
        "    </tr>\n",
        "  </thead>\n",
        "  <tbody>\n",
        "    <tr>\n",
        "      <th>Utah</th>\n",
        "      <td> 0</td>\n",
        "      <td>  1</td>\n",
        "      <td>  2</td>\n",
        "    </tr>\n",
        "    <tr>\n",
        "      <th>Ohio</th>\n",
        "      <td> 3</td>\n",
        "      <td>  4</td>\n",
        "      <td>  5</td>\n",
        "    </tr>\n",
        "    <tr>\n",
        "      <th>Texas</th>\n",
        "      <td> 6</td>\n",
        "      <td>  7</td>\n",
        "      <td>  8</td>\n",
        "    </tr>\n",
        "    <tr>\n",
        "      <th>Oregon</th>\n",
        "      <td> 9</td>\n",
        "      <td> 10</td>\n",
        "      <td> 11</td>\n",
        "    </tr>\n",
        "  </tbody>\n",
        "</table>\n",
        "</div>"
       ],
       "metadata": {},
       "output_type": "pyout",
       "prompt_number": 125,
       "text": [
        "        b   d   e\n",
        "Utah    0   1   2\n",
        "Ohio    3   4   5\n",
        "Texas   6   7   8\n",
        "Oregon  9  10  11"
       ]
      }
     ],
     "prompt_number": 125
    },
    {
     "cell_type": "code",
     "collapsed": false,
     "input": [
      "series"
     ],
     "language": "python",
     "metadata": {},
     "outputs": [
      {
       "metadata": {},
       "output_type": "pyout",
       "prompt_number": 126,
       "text": [
        "b    0\n",
        "d    1\n",
        "e    2\n",
        "Name: Utah, dtype: float64"
       ]
      }
     ],
     "prompt_number": 126
    },
    {
     "cell_type": "code",
     "collapsed": false,
     "input": [
      "frame - series"
     ],
     "language": "python",
     "metadata": {},
     "outputs": [
      {
       "html": [
        "<div style=\"max-height:1000px;max-width:1500px;overflow:auto;\">\n",
        "<table border=\"1\" class=\"dataframe\">\n",
        "  <thead>\n",
        "    <tr style=\"text-align: right;\">\n",
        "      <th></th>\n",
        "      <th>b</th>\n",
        "      <th>d</th>\n",
        "      <th>e</th>\n",
        "    </tr>\n",
        "  </thead>\n",
        "  <tbody>\n",
        "    <tr>\n",
        "      <th>Utah</th>\n",
        "      <td> 0</td>\n",
        "      <td> 0</td>\n",
        "      <td> 0</td>\n",
        "    </tr>\n",
        "    <tr>\n",
        "      <th>Ohio</th>\n",
        "      <td> 3</td>\n",
        "      <td> 3</td>\n",
        "      <td> 3</td>\n",
        "    </tr>\n",
        "    <tr>\n",
        "      <th>Texas</th>\n",
        "      <td> 6</td>\n",
        "      <td> 6</td>\n",
        "      <td> 6</td>\n",
        "    </tr>\n",
        "    <tr>\n",
        "      <th>Oregon</th>\n",
        "      <td> 9</td>\n",
        "      <td> 9</td>\n",
        "      <td> 9</td>\n",
        "    </tr>\n",
        "  </tbody>\n",
        "</table>\n",
        "</div>"
       ],
       "metadata": {},
       "output_type": "pyout",
       "prompt_number": 128,
       "text": [
        "        b  d  e\n",
        "Utah    0  0  0\n",
        "Ohio    3  3  3\n",
        "Texas   6  6  6\n",
        "Oregon  9  9  9"
       ]
      }
     ],
     "prompt_number": 128
    },
    {
     "cell_type": "markdown",
     "metadata": {},
     "source": [
      "You can broadcast over the columns, matching on the rows by using one of the arithmetic methods."
     ]
    },
    {
     "cell_type": "code",
     "collapsed": false,
     "input": [
      "series3 = frame['d']"
     ],
     "language": "python",
     "metadata": {},
     "outputs": [],
     "prompt_number": 129
    },
    {
     "cell_type": "code",
     "collapsed": false,
     "input": [
      "frame"
     ],
     "language": "python",
     "metadata": {},
     "outputs": [
      {
       "html": [
        "<div style=\"max-height:1000px;max-width:1500px;overflow:auto;\">\n",
        "<table border=\"1\" class=\"dataframe\">\n",
        "  <thead>\n",
        "    <tr style=\"text-align: right;\">\n",
        "      <th></th>\n",
        "      <th>b</th>\n",
        "      <th>d</th>\n",
        "      <th>e</th>\n",
        "    </tr>\n",
        "  </thead>\n",
        "  <tbody>\n",
        "    <tr>\n",
        "      <th>Utah</th>\n",
        "      <td> 0</td>\n",
        "      <td>  1</td>\n",
        "      <td>  2</td>\n",
        "    </tr>\n",
        "    <tr>\n",
        "      <th>Ohio</th>\n",
        "      <td> 3</td>\n",
        "      <td>  4</td>\n",
        "      <td>  5</td>\n",
        "    </tr>\n",
        "    <tr>\n",
        "      <th>Texas</th>\n",
        "      <td> 6</td>\n",
        "      <td>  7</td>\n",
        "      <td>  8</td>\n",
        "    </tr>\n",
        "    <tr>\n",
        "      <th>Oregon</th>\n",
        "      <td> 9</td>\n",
        "      <td> 10</td>\n",
        "      <td> 11</td>\n",
        "    </tr>\n",
        "  </tbody>\n",
        "</table>\n",
        "</div>"
       ],
       "metadata": {},
       "output_type": "pyout",
       "prompt_number": 130,
       "text": [
        "        b   d   e\n",
        "Utah    0   1   2\n",
        "Ohio    3   4   5\n",
        "Texas   6   7   8\n",
        "Oregon  9  10  11"
       ]
      }
     ],
     "prompt_number": 130
    },
    {
     "cell_type": "code",
     "collapsed": false,
     "input": [
      "series3"
     ],
     "language": "python",
     "metadata": {},
     "outputs": [
      {
       "metadata": {},
       "output_type": "pyout",
       "prompt_number": 131,
       "text": [
        "Utah       1\n",
        "Ohio       4\n",
        "Texas      7\n",
        "Oregon    10\n",
        "Name: d, dtype: float64"
       ]
      }
     ],
     "prompt_number": 131
    },
    {
     "cell_type": "markdown",
     "metadata": {},
     "source": [
      "\\23.  Subtract series3 from frame by matching on the Dataframe's row index and broadcast arrow, such that the table below is observed. (Hint: you need to specify an axis value of either 0 or 1.)"
     ]
    },
    {
     "cell_type": "code",
     "collapsed": false,
     "input": [
      "frame.?(?, ?)"
     ],
     "language": "python",
     "metadata": {},
     "outputs": [
      {
       "html": [
        "<div style=\"max-height:1000px;max-width:1500px;overflow:auto;\">\n",
        "<table border=\"1\" class=\"dataframe\">\n",
        "  <thead>\n",
        "    <tr style=\"text-align: right;\">\n",
        "      <th></th>\n",
        "      <th>b</th>\n",
        "      <th>d</th>\n",
        "      <th>e</th>\n",
        "    </tr>\n",
        "  </thead>\n",
        "  <tbody>\n",
        "    <tr>\n",
        "      <th>Utah</th>\n",
        "      <td>-1</td>\n",
        "      <td> 0</td>\n",
        "      <td> 1</td>\n",
        "    </tr>\n",
        "    <tr>\n",
        "      <th>Ohio</th>\n",
        "      <td>-1</td>\n",
        "      <td> 0</td>\n",
        "      <td> 1</td>\n",
        "    </tr>\n",
        "    <tr>\n",
        "      <th>Texas</th>\n",
        "      <td>-1</td>\n",
        "      <td> 0</td>\n",
        "      <td> 1</td>\n",
        "    </tr>\n",
        "    <tr>\n",
        "      <th>Oregon</th>\n",
        "      <td>-1</td>\n",
        "      <td> 0</td>\n",
        "      <td> 1</td>\n",
        "    </tr>\n",
        "  </tbody>\n",
        "</table>\n",
        "</div>"
       ],
       "metadata": {},
       "output_type": "pyout",
       "prompt_number": 132,
       "text": [
        "        b  d  e\n",
        "Utah   -1  0  1\n",
        "Ohio   -1  0  1\n",
        "Texas  -1  0  1\n",
        "Oregon -1  0  1"
       ]
      }
     ],
     "prompt_number": 132
    },
    {
     "cell_type": "heading",
     "level": 3,
     "metadata": {},
     "source": [
      "Function Application and Mapping"
     ]
    },
    {
     "cell_type": "markdown",
     "metadata": {},
     "source": [
      "NumPy ufuncs (element-wise array methods) work fine with pandas objects."
     ]
    },
    {
     "cell_type": "code",
     "collapsed": false,
     "input": [
      "frame = DataFrame(np.random.randn(4, 3), columns=list('bde'),\n",
      "                  index=['Utah', 'Ohio', 'Texas', 'Oregon'])"
     ],
     "language": "python",
     "metadata": {},
     "outputs": [],
     "prompt_number": 133
    },
    {
     "cell_type": "code",
     "collapsed": false,
     "input": [
      "frame"
     ],
     "language": "python",
     "metadata": {},
     "outputs": [
      {
       "html": [
        "<div style=\"max-height:1000px;max-width:1500px;overflow:auto;\">\n",
        "<table border=\"1\" class=\"dataframe\">\n",
        "  <thead>\n",
        "    <tr style=\"text-align: right;\">\n",
        "      <th></th>\n",
        "      <th>b</th>\n",
        "      <th>d</th>\n",
        "      <th>e</th>\n",
        "    </tr>\n",
        "  </thead>\n",
        "  <tbody>\n",
        "    <tr>\n",
        "      <th>Utah</th>\n",
        "      <td> 0.952417</td>\n",
        "      <td>-0.429798</td>\n",
        "      <td>-0.010857</td>\n",
        "    </tr>\n",
        "    <tr>\n",
        "      <th>Ohio</th>\n",
        "      <td> 1.528277</td>\n",
        "      <td> 0.223014</td>\n",
        "      <td>-0.229500</td>\n",
        "    </tr>\n",
        "    <tr>\n",
        "      <th>Texas</th>\n",
        "      <td>-0.006468</td>\n",
        "      <td>-0.625860</td>\n",
        "      <td> 0.366149</td>\n",
        "    </tr>\n",
        "    <tr>\n",
        "      <th>Oregon</th>\n",
        "      <td> 1.003346</td>\n",
        "      <td> 0.410555</td>\n",
        "      <td> 0.641320</td>\n",
        "    </tr>\n",
        "  </tbody>\n",
        "</table>\n",
        "</div>"
       ],
       "metadata": {},
       "output_type": "pyout",
       "prompt_number": 134,
       "text": [
        "               b         d         e\n",
        "Utah    0.952417 -0.429798 -0.010857\n",
        "Ohio    1.528277  0.223014 -0.229500\n",
        "Texas  -0.006468 -0.625860  0.366149\n",
        "Oregon  1.003346  0.410555  0.641320"
       ]
      }
     ],
     "prompt_number": 134
    },
    {
     "cell_type": "code",
     "collapsed": false,
     "input": [
      "np.abs(frame)"
     ],
     "language": "python",
     "metadata": {},
     "outputs": [
      {
       "html": [
        "<div style=\"max-height:1000px;max-width:1500px;overflow:auto;\">\n",
        "<table border=\"1\" class=\"dataframe\">\n",
        "  <thead>\n",
        "    <tr style=\"text-align: right;\">\n",
        "      <th></th>\n",
        "      <th>b</th>\n",
        "      <th>d</th>\n",
        "      <th>e</th>\n",
        "    </tr>\n",
        "  </thead>\n",
        "  <tbody>\n",
        "    <tr>\n",
        "      <th>Utah</th>\n",
        "      <td> 0.952417</td>\n",
        "      <td> 0.429798</td>\n",
        "      <td> 0.010857</td>\n",
        "    </tr>\n",
        "    <tr>\n",
        "      <th>Ohio</th>\n",
        "      <td> 1.528277</td>\n",
        "      <td> 0.223014</td>\n",
        "      <td> 0.229500</td>\n",
        "    </tr>\n",
        "    <tr>\n",
        "      <th>Texas</th>\n",
        "      <td> 0.006468</td>\n",
        "      <td> 0.625860</td>\n",
        "      <td> 0.366149</td>\n",
        "    </tr>\n",
        "    <tr>\n",
        "      <th>Oregon</th>\n",
        "      <td> 1.003346</td>\n",
        "      <td> 0.410555</td>\n",
        "      <td> 0.641320</td>\n",
        "    </tr>\n",
        "  </tbody>\n",
        "</table>\n",
        "</div>"
       ],
       "metadata": {},
       "output_type": "pyout",
       "prompt_number": 135,
       "text": [
        "               b         d         e\n",
        "Utah    0.952417  0.429798  0.010857\n",
        "Ohio    1.528277  0.223014  0.229500\n",
        "Texas   0.006468  0.625860  0.366149\n",
        "Oregon  1.003346  0.410555  0.641320"
       ]
      }
     ],
     "prompt_number": 135
    },
    {
     "cell_type": "markdown",
     "metadata": {},
     "source": [
      "Another frequent operation is applying a function on 1D arrays to each column or row.  We are going to use DataFrame's apply method to do this."
     ]
    },
    {
     "cell_type": "code",
     "collapsed": false,
     "input": [
      "f = lambda x: x.max() - x.min()"
     ],
     "language": "python",
     "metadata": {},
     "outputs": [],
     "prompt_number": 136
    },
    {
     "cell_type": "code",
     "collapsed": false,
     "input": [
      "frame.apply(f)"
     ],
     "language": "python",
     "metadata": {},
     "outputs": [
      {
       "metadata": {},
       "output_type": "pyout",
       "prompt_number": 137,
       "text": [
        "b    1.534745\n",
        "d    1.036415\n",
        "e    0.870820\n",
        "dtype: float64"
       ]
      }
     ],
     "prompt_number": 137
    },
    {
     "cell_type": "markdown",
     "metadata": {},
     "source": [
      "\\24.  Apply the same f function (using the apply method) across the column by specifying the axis value (either 0 or 1, default is 0), such that the table below is observed."
     ]
    },
    {
     "cell_type": "code",
     "collapsed": false,
     "input": [
      "frame.apply(f, ?)"
     ],
     "language": "python",
     "metadata": {},
     "outputs": [
      {
       "metadata": {},
       "output_type": "pyout",
       "prompt_number": 138,
       "text": [
        "Utah      1.382215\n",
        "Ohio      1.757777\n",
        "Texas     0.992009\n",
        "Oregon    0.592791\n",
        "dtype: float64"
       ]
      }
     ],
     "prompt_number": 138
    },
    {
     "cell_type": "markdown",
     "metadata": {},
     "source": [
      "The function passed to apply need not return a scalar value, it can also return a Series with multiple values."
     ]
    },
    {
     "cell_type": "markdown",
     "metadata": {},
     "source": [
      " \\25.  Write a function passed to pply that returns the min and max values across the rows, and indexed it according (use index argument and set to 'min' and 'max').  The following table should be observed."
     ]
    },
    {
     "cell_type": "code",
     "collapsed": false,
     "input": [
      "def f(x):\n",
      "    return Series(?)"
     ],
     "language": "python",
     "metadata": {},
     "outputs": [],
     "prompt_number": 139
    },
    {
     "cell_type": "code",
     "collapsed": false,
     "input": [
      "frame.apply(f)"
     ],
     "language": "python",
     "metadata": {},
     "outputs": [
      {
       "html": [
        "<div style=\"max-height:1000px;max-width:1500px;overflow:auto;\">\n",
        "<table border=\"1\" class=\"dataframe\">\n",
        "  <thead>\n",
        "    <tr style=\"text-align: right;\">\n",
        "      <th></th>\n",
        "      <th>b</th>\n",
        "      <th>d</th>\n",
        "      <th>e</th>\n",
        "    </tr>\n",
        "  </thead>\n",
        "  <tbody>\n",
        "    <tr>\n",
        "      <th>min</th>\n",
        "      <td>-0.006468</td>\n",
        "      <td>-0.625860</td>\n",
        "      <td>-0.22950</td>\n",
        "    </tr>\n",
        "    <tr>\n",
        "      <th>max</th>\n",
        "      <td> 1.528277</td>\n",
        "      <td> 0.410555</td>\n",
        "      <td> 0.64132</td>\n",
        "    </tr>\n",
        "  </tbody>\n",
        "</table>\n",
        "</div>"
       ],
       "metadata": {},
       "output_type": "pyout",
       "prompt_number": 140,
       "text": [
        "            b         d        e\n",
        "min -0.006468 -0.625860 -0.22950\n",
        "max  1.528277  0.410555  0.64132"
       ]
      }
     ],
     "prompt_number": 140
    },
    {
     "cell_type": "markdown",
     "metadata": {},
     "source": [
      "Element-wise Python functions can also be used.  You can use applymap if you want to compute a formatted string from each floating point value in frame."
     ]
    },
    {
     "cell_type": "code",
     "collapsed": false,
     "input": [
      "format = lambda x: '%.2f' % x"
     ],
     "language": "python",
     "metadata": {},
     "outputs": [],
     "prompt_number": 141
    },
    {
     "cell_type": "code",
     "collapsed": false,
     "input": [
      "frame.applymap(format)"
     ],
     "language": "python",
     "metadata": {},
     "outputs": [
      {
       "html": [
        "<div style=\"max-height:1000px;max-width:1500px;overflow:auto;\">\n",
        "<table border=\"1\" class=\"dataframe\">\n",
        "  <thead>\n",
        "    <tr style=\"text-align: right;\">\n",
        "      <th></th>\n",
        "      <th>b</th>\n",
        "      <th>d</th>\n",
        "      <th>e</th>\n",
        "    </tr>\n",
        "  </thead>\n",
        "  <tbody>\n",
        "    <tr>\n",
        "      <th>Utah</th>\n",
        "      <td>  0.95</td>\n",
        "      <td> -0.43</td>\n",
        "      <td> -0.01</td>\n",
        "    </tr>\n",
        "    <tr>\n",
        "      <th>Ohio</th>\n",
        "      <td>  1.53</td>\n",
        "      <td>  0.22</td>\n",
        "      <td> -0.23</td>\n",
        "    </tr>\n",
        "    <tr>\n",
        "      <th>Texas</th>\n",
        "      <td> -0.01</td>\n",
        "      <td> -0.63</td>\n",
        "      <td>  0.37</td>\n",
        "    </tr>\n",
        "    <tr>\n",
        "      <th>Oregon</th>\n",
        "      <td>  1.00</td>\n",
        "      <td>  0.41</td>\n",
        "      <td>  0.64</td>\n",
        "    </tr>\n",
        "  </tbody>\n",
        "</table>\n",
        "</div>"
       ],
       "metadata": {},
       "output_type": "pyout",
       "prompt_number": 142,
       "text": [
        "            b      d      e\n",
        "Utah     0.95  -0.43  -0.01\n",
        "Ohio     1.53   0.22  -0.23\n",
        "Texas   -0.01  -0.63   0.37\n",
        "Oregon   1.00   0.41   0.64"
       ]
      }
     ],
     "prompt_number": 142
    },
    {
     "cell_type": "heading",
     "level": 3,
     "metadata": {},
     "source": [
      "Sorting and Ranking"
     ]
    },
    {
     "cell_type": "heading",
     "level": 4,
     "metadata": {},
     "source": [
      "Sorting"
     ]
    },
    {
     "cell_type": "markdown",
     "metadata": {},
     "source": [
      "Sorting a data set by some criterion is another important built-in operation.  To sort lexicographically by row or column index, use the sort_index method, which returns a new, sorted object."
     ]
    },
    {
     "cell_type": "code",
     "collapsed": false,
     "input": [
      "obj = Series(range(4), index=['d', 'a', 'b', 'c'])"
     ],
     "language": "python",
     "metadata": {},
     "outputs": [],
     "prompt_number": 143
    },
    {
     "cell_type": "code",
     "collapsed": false,
     "input": [
      "obj.sort_index()"
     ],
     "language": "python",
     "metadata": {},
     "outputs": [
      {
       "metadata": {},
       "output_type": "pyout",
       "prompt_number": 144,
       "text": [
        "a    1\n",
        "b    2\n",
        "c    3\n",
        "d    0\n",
        "dtype: int64"
       ]
      }
     ],
     "prompt_number": 144
    },
    {
     "cell_type": "markdown",
     "metadata": {},
     "source": [
      "With a DataFrame, you can sort by index on either axis."
     ]
    },
    {
     "cell_type": "code",
     "collapsed": false,
     "input": [
      "frame = DataFrame(np.arange(8).reshape((2,4)), index=['three', 'one'],\n",
      "                  columns=['d', 'a', 'b', 'c'])"
     ],
     "language": "python",
     "metadata": {},
     "outputs": [],
     "prompt_number": 146
    },
    {
     "cell_type": "code",
     "collapsed": false,
     "input": [
      "frame"
     ],
     "language": "python",
     "metadata": {},
     "outputs": [
      {
       "html": [
        "<div style=\"max-height:1000px;max-width:1500px;overflow:auto;\">\n",
        "<table border=\"1\" class=\"dataframe\">\n",
        "  <thead>\n",
        "    <tr style=\"text-align: right;\">\n",
        "      <th></th>\n",
        "      <th>d</th>\n",
        "      <th>a</th>\n",
        "      <th>b</th>\n",
        "      <th>c</th>\n",
        "    </tr>\n",
        "  </thead>\n",
        "  <tbody>\n",
        "    <tr>\n",
        "      <th>three</th>\n",
        "      <td> 0</td>\n",
        "      <td> 1</td>\n",
        "      <td> 2</td>\n",
        "      <td> 3</td>\n",
        "    </tr>\n",
        "    <tr>\n",
        "      <th>one</th>\n",
        "      <td> 4</td>\n",
        "      <td> 5</td>\n",
        "      <td> 6</td>\n",
        "      <td> 7</td>\n",
        "    </tr>\n",
        "  </tbody>\n",
        "</table>\n",
        "</div>"
       ],
       "metadata": {},
       "output_type": "pyout",
       "prompt_number": 147,
       "text": [
        "       d  a  b  c\n",
        "three  0  1  2  3\n",
        "one    4  5  6  7"
       ]
      }
     ],
     "prompt_number": 147
    },
    {
     "cell_type": "code",
     "collapsed": false,
     "input": [
      "frame.sort_index()"
     ],
     "language": "python",
     "metadata": {},
     "outputs": [
      {
       "html": [
        "<div style=\"max-height:1000px;max-width:1500px;overflow:auto;\">\n",
        "<table border=\"1\" class=\"dataframe\">\n",
        "  <thead>\n",
        "    <tr style=\"text-align: right;\">\n",
        "      <th></th>\n",
        "      <th>d</th>\n",
        "      <th>a</th>\n",
        "      <th>b</th>\n",
        "      <th>c</th>\n",
        "    </tr>\n",
        "  </thead>\n",
        "  <tbody>\n",
        "    <tr>\n",
        "      <th>one</th>\n",
        "      <td> 4</td>\n",
        "      <td> 5</td>\n",
        "      <td> 6</td>\n",
        "      <td> 7</td>\n",
        "    </tr>\n",
        "    <tr>\n",
        "      <th>three</th>\n",
        "      <td> 0</td>\n",
        "      <td> 1</td>\n",
        "      <td> 2</td>\n",
        "      <td> 3</td>\n",
        "    </tr>\n",
        "  </tbody>\n",
        "</table>\n",
        "</div>"
       ],
       "metadata": {},
       "output_type": "pyout",
       "prompt_number": 148,
       "text": [
        "       d  a  b  c\n",
        "one    4  5  6  7\n",
        "three  0  1  2  3"
       ]
      }
     ],
     "prompt_number": 148
    },
    {
     "cell_type": "markdown",
     "metadata": {},
     "source": [
      "\\26.  Sort according to column (specify axis value of sort_index method), such that the table below is observed."
     ]
    },
    {
     "cell_type": "code",
     "collapsed": false,
     "input": [
      "frame.sort_index(?)"
     ],
     "language": "python",
     "metadata": {},
     "outputs": [
      {
       "html": [
        "<div style=\"max-height:1000px;max-width:1500px;overflow:auto;\">\n",
        "<table border=\"1\" class=\"dataframe\">\n",
        "  <thead>\n",
        "    <tr style=\"text-align: right;\">\n",
        "      <th></th>\n",
        "      <th>a</th>\n",
        "      <th>b</th>\n",
        "      <th>c</th>\n",
        "      <th>d</th>\n",
        "    </tr>\n",
        "  </thead>\n",
        "  <tbody>\n",
        "    <tr>\n",
        "      <th>three</th>\n",
        "      <td> 1</td>\n",
        "      <td> 2</td>\n",
        "      <td> 3</td>\n",
        "      <td> 0</td>\n",
        "    </tr>\n",
        "    <tr>\n",
        "      <th>one</th>\n",
        "      <td> 5</td>\n",
        "      <td> 6</td>\n",
        "      <td> 7</td>\n",
        "      <td> 4</td>\n",
        "    </tr>\n",
        "  </tbody>\n",
        "</table>\n",
        "</div>"
       ],
       "metadata": {},
       "output_type": "pyout",
       "prompt_number": 149,
       "text": [
        "       a  b  c  d\n",
        "three  1  2  3  0\n",
        "one    5  6  7  4"
       ]
      }
     ],
     "prompt_number": 149
    },
    {
     "cell_type": "markdown",
     "metadata": {},
     "source": [
      "\\27. The data is sorted in ascending order by default, but it can be sorted in descending order by setting ascending to False.  Modify your answer to question number 26 by arranging the columns in descending order.  The table below should be observed."
     ]
    },
    {
     "cell_type": "code",
     "collapsed": false,
     "input": [
      "frame.sort_index(?, ?)"
     ],
     "language": "python",
     "metadata": {},
     "outputs": [
      {
       "html": [
        "<div style=\"max-height:1000px;max-width:1500px;overflow:auto;\">\n",
        "<table border=\"1\" class=\"dataframe\">\n",
        "  <thead>\n",
        "    <tr style=\"text-align: right;\">\n",
        "      <th></th>\n",
        "      <th>d</th>\n",
        "      <th>c</th>\n",
        "      <th>b</th>\n",
        "      <th>a</th>\n",
        "    </tr>\n",
        "  </thead>\n",
        "  <tbody>\n",
        "    <tr>\n",
        "      <th>three</th>\n",
        "      <td> 0</td>\n",
        "      <td> 3</td>\n",
        "      <td> 2</td>\n",
        "      <td> 1</td>\n",
        "    </tr>\n",
        "    <tr>\n",
        "      <th>one</th>\n",
        "      <td> 4</td>\n",
        "      <td> 7</td>\n",
        "      <td> 6</td>\n",
        "      <td> 5</td>\n",
        "    </tr>\n",
        "  </tbody>\n",
        "</table>\n",
        "</div>"
       ],
       "metadata": {},
       "output_type": "pyout",
       "prompt_number": 151,
       "text": [
        "       d  c  b  a\n",
        "three  0  3  2  1\n",
        "one    4  7  6  5"
       ]
      }
     ],
     "prompt_number": 151
    },
    {
     "cell_type": "markdown",
     "metadata": {},
     "source": [
      "By default, a series is sorted by index.  To sort a series by its values, use its order method."
     ]
    },
    {
     "cell_type": "code",
     "collapsed": false,
     "input": [
      "obj = Series([4, 8, -3, 3])"
     ],
     "language": "python",
     "metadata": {},
     "outputs": [],
     "prompt_number": 152
    },
    {
     "cell_type": "code",
     "collapsed": false,
     "input": [
      "obj.order()"
     ],
     "language": "python",
     "metadata": {},
     "outputs": [
      {
       "metadata": {},
       "output_type": "pyout",
       "prompt_number": 153,
       "text": [
        "2   -3\n",
        "3    3\n",
        "0    4\n",
        "1    8\n",
        "dtype: int64"
       ]
      }
     ],
     "prompt_number": 153
    },
    {
     "cell_type": "markdown",
     "metadata": {},
     "source": [
      "Figure out on your own:  On DataFrame, you may want to sort by the values in one or more columns.  To do so, pass one or more column names to the by option."
     ]
    },
    {
     "cell_type": "heading",
     "level": 4,
     "metadata": {},
     "source": [
      "Ranking"
     ]
    },
    {
     "cell_type": "markdown",
     "metadata": {},
     "source": [
      "Ranking is closely related to sorting, assigning ranks from one through the number of valid data points in an array.  It is similar to the indirect sort indices produced by numpy.argsort, except that ties are broken according to a rule.  \n",
      "\n",
      "The rank methods for Series and DataFrame are the place to look; by default rank breaks ties by assigning each group the mean rank."
     ]
    },
    {
     "cell_type": "code",
     "collapsed": false,
     "input": [
      "obj = Series([7, -4, 7, 4, 2, 0, 4])"
     ],
     "language": "python",
     "metadata": {},
     "outputs": [],
     "prompt_number": 154
    },
    {
     "cell_type": "code",
     "collapsed": false,
     "input": [
      "obj.rank()"
     ],
     "language": "python",
     "metadata": {},
     "outputs": [
      {
       "metadata": {},
       "output_type": "pyout",
       "prompt_number": 155,
       "text": [
        "0    6.5\n",
        "1    1.0\n",
        "2    6.5\n",
        "3    4.5\n",
        "4    3.0\n",
        "5    2.0\n",
        "6    4.5\n",
        "dtype: float64"
       ]
      }
     ],
     "prompt_number": 155
    },
    {
     "cell_type": "markdown",
     "metadata": {},
     "source": [
      "Here are some available tie-breaking methods with rank: average, min, max, first."
     ]
    },
    {
     "cell_type": "code",
     "collapsed": false,
     "input": [
      "obj.rank(method='first')"
     ],
     "language": "python",
     "metadata": {},
     "outputs": [
      {
       "metadata": {},
       "output_type": "pyout",
       "prompt_number": 156,
       "text": [
        "0    6\n",
        "1    1\n",
        "2    7\n",
        "3    4\n",
        "4    3\n",
        "5    2\n",
        "6    5\n",
        "dtype: float64"
       ]
      }
     ],
     "prompt_number": 156
    },
    {
     "cell_type": "code",
     "collapsed": false,
     "input": [
      "obj.rank(method='min')"
     ],
     "language": "python",
     "metadata": {},
     "outputs": [
      {
       "metadata": {},
       "output_type": "pyout",
       "prompt_number": 157,
       "text": [
        "0    6\n",
        "1    1\n",
        "2    6\n",
        "3    4\n",
        "4    3\n",
        "5    2\n",
        "6    4\n",
        "dtype: float64"
       ]
      }
     ],
     "prompt_number": 157
    },
    {
     "cell_type": "markdown",
     "metadata": {},
     "source": [
      "\\28. Rank obj in descending order, setting method to be 'max'.  The following table should be observed."
     ]
    },
    {
     "cell_type": "code",
     "collapsed": false,
     "input": [
      "obj.rank(?, ?)"
     ],
     "language": "python",
     "metadata": {},
     "outputs": [
      {
       "metadata": {},
       "output_type": "pyout",
       "prompt_number": 159,
       "text": [
        "0    2\n",
        "1    7\n",
        "2    2\n",
        "3    4\n",
        "4    5\n",
        "5    6\n",
        "6    4\n",
        "dtype: float64"
       ]
      }
     ],
     "prompt_number": 159
    },
    {
     "cell_type": "markdown",
     "metadata": {},
     "source": [
      "DataFrame can compute ranks over the rows or the columns."
     ]
    },
    {
     "cell_type": "code",
     "collapsed": false,
     "input": [
      "frame = DataFrame({'b':[4.5, 7, -3, 2],\n",
      "                   'a': [0, 1, 0, 1],\n",
      "                   'c': [-2, 5, 8, -2.5]})"
     ],
     "language": "python",
     "metadata": {},
     "outputs": [],
     "prompt_number": 160
    },
    {
     "cell_type": "code",
     "collapsed": false,
     "input": [
      "frame"
     ],
     "language": "python",
     "metadata": {},
     "outputs": [
      {
       "html": [
        "<div style=\"max-height:1000px;max-width:1500px;overflow:auto;\">\n",
        "<table border=\"1\" class=\"dataframe\">\n",
        "  <thead>\n",
        "    <tr style=\"text-align: right;\">\n",
        "      <th></th>\n",
        "      <th>a</th>\n",
        "      <th>b</th>\n",
        "      <th>c</th>\n",
        "    </tr>\n",
        "  </thead>\n",
        "  <tbody>\n",
        "    <tr>\n",
        "      <th>0</th>\n",
        "      <td> 0</td>\n",
        "      <td> 4.5</td>\n",
        "      <td>-2.0</td>\n",
        "    </tr>\n",
        "    <tr>\n",
        "      <th>1</th>\n",
        "      <td> 1</td>\n",
        "      <td> 7.0</td>\n",
        "      <td> 5.0</td>\n",
        "    </tr>\n",
        "    <tr>\n",
        "      <th>2</th>\n",
        "      <td> 0</td>\n",
        "      <td>-3.0</td>\n",
        "      <td> 8.0</td>\n",
        "    </tr>\n",
        "    <tr>\n",
        "      <th>3</th>\n",
        "      <td> 1</td>\n",
        "      <td> 2.0</td>\n",
        "      <td>-2.5</td>\n",
        "    </tr>\n",
        "  </tbody>\n",
        "</table>\n",
        "</div>"
       ],
       "metadata": {},
       "output_type": "pyout",
       "prompt_number": 161,
       "text": [
        "   a    b    c\n",
        "0  0  4.5 -2.0\n",
        "1  1  7.0  5.0\n",
        "2  0 -3.0  8.0\n",
        "3  1  2.0 -2.5"
       ]
      }
     ],
     "prompt_number": 161
    },
    {
     "cell_type": "markdown",
     "metadata": {},
     "source": [
      "\\29. Compute the ranks over the columns (Hint: set axis value to either o or 1), such that the table below is observed."
     ]
    },
    {
     "cell_type": "code",
     "collapsed": false,
     "input": [
      "frame.rank(?)"
     ],
     "language": "python",
     "metadata": {},
     "outputs": [
      {
       "html": [
        "<div style=\"max-height:1000px;max-width:1500px;overflow:auto;\">\n",
        "<table border=\"1\" class=\"dataframe\">\n",
        "  <thead>\n",
        "    <tr style=\"text-align: right;\">\n",
        "      <th></th>\n",
        "      <th>a</th>\n",
        "      <th>b</th>\n",
        "      <th>c</th>\n",
        "    </tr>\n",
        "  </thead>\n",
        "  <tbody>\n",
        "    <tr>\n",
        "      <th>0</th>\n",
        "      <td> 2</td>\n",
        "      <td> 3</td>\n",
        "      <td> 1</td>\n",
        "    </tr>\n",
        "    <tr>\n",
        "      <th>1</th>\n",
        "      <td> 1</td>\n",
        "      <td> 3</td>\n",
        "      <td> 2</td>\n",
        "    </tr>\n",
        "    <tr>\n",
        "      <th>2</th>\n",
        "      <td> 2</td>\n",
        "      <td> 1</td>\n",
        "      <td> 3</td>\n",
        "    </tr>\n",
        "    <tr>\n",
        "      <th>3</th>\n",
        "      <td> 2</td>\n",
        "      <td> 3</td>\n",
        "      <td> 1</td>\n",
        "    </tr>\n",
        "  </tbody>\n",
        "</table>\n",
        "</div>"
       ],
       "metadata": {},
       "output_type": "pyout",
       "prompt_number": 162,
       "text": [
        "   a  b  c\n",
        "0  2  3  1\n",
        "1  1  3  2\n",
        "2  2  1  3\n",
        "3  2  3  1"
       ]
      }
     ],
     "prompt_number": 162
    },
    {
     "cell_type": "heading",
     "level": 3,
     "metadata": {},
     "source": [
      "Axis Indexes with Duplicate Values"
     ]
    },
    {
     "cell_type": "markdown",
     "metadata": {},
     "source": [
      "Up until now, all of the examples given have had unique axis labels (index values).  While many pandas functions (like reindex) require that the labels be unique, it's not mandatory. "
     ]
    },
    {
     "cell_type": "code",
     "collapsed": false,
     "input": [
      "obj = Series(range(5), index =['a', 'a', 'b', 'b', 'c'])"
     ],
     "language": "python",
     "metadata": {},
     "outputs": [],
     "prompt_number": 163
    },
    {
     "cell_type": "code",
     "collapsed": false,
     "input": [
      "obj"
     ],
     "language": "python",
     "metadata": {},
     "outputs": [
      {
       "metadata": {},
       "output_type": "pyout",
       "prompt_number": 164,
       "text": [
        "a    0\n",
        "a    1\n",
        "b    2\n",
        "b    3\n",
        "c    4\n",
        "dtype: int64"
       ]
      }
     ],
     "prompt_number": 164
    },
    {
     "cell_type": "markdown",
     "metadata": {},
     "source": [
      "The index's is_unique property can tell you whether its values are unique or not."
     ]
    },
    {
     "cell_type": "code",
     "collapsed": false,
     "input": [
      "obj.index.is_unique"
     ],
     "language": "python",
     "metadata": {},
     "outputs": [
      {
       "metadata": {},
       "output_type": "pyout",
       "prompt_number": 165,
       "text": [
        "False"
       ]
      }
     ],
     "prompt_number": 165
    },
    {
     "cell_type": "markdown",
     "metadata": {},
     "source": [
      "Data selection is one of the main things that behaves differently with duplicates.  Indexing a value with multiple entries returns a Series while single entries return a scalar value."
     ]
    },
    {
     "cell_type": "code",
     "collapsed": false,
     "input": [
      "obj['a']"
     ],
     "language": "python",
     "metadata": {},
     "outputs": [
      {
       "metadata": {},
       "output_type": "pyout",
       "prompt_number": 166,
       "text": [
        "a    0\n",
        "a    1\n",
        "dtype: int64"
       ]
      }
     ],
     "prompt_number": 166
    },
    {
     "cell_type": "code",
     "collapsed": false,
     "input": [
      "obj['c']"
     ],
     "language": "python",
     "metadata": {},
     "outputs": [
      {
       "metadata": {},
       "output_type": "pyout",
       "prompt_number": 167,
       "text": [
        "4"
       ]
      }
     ],
     "prompt_number": 167
    },
    {
     "cell_type": "code",
     "collapsed": false,
     "input": [
      "df = DataFrame(np.random.randn(4, 3), index=['a', 'a', 'b', 'b'])"
     ],
     "language": "python",
     "metadata": {},
     "outputs": [],
     "prompt_number": 168
    },
    {
     "cell_type": "code",
     "collapsed": false,
     "input": [
      "df"
     ],
     "language": "python",
     "metadata": {},
     "outputs": [
      {
       "html": [
        "<div style=\"max-height:1000px;max-width:1500px;overflow:auto;\">\n",
        "<table border=\"1\" class=\"dataframe\">\n",
        "  <thead>\n",
        "    <tr style=\"text-align: right;\">\n",
        "      <th></th>\n",
        "      <th>0</th>\n",
        "      <th>1</th>\n",
        "      <th>2</th>\n",
        "    </tr>\n",
        "  </thead>\n",
        "  <tbody>\n",
        "    <tr>\n",
        "      <th>a</th>\n",
        "      <td> 2.296937</td>\n",
        "      <td> 0.172768</td>\n",
        "      <td> 0.103897</td>\n",
        "    </tr>\n",
        "    <tr>\n",
        "      <th>a</th>\n",
        "      <td> 0.393875</td>\n",
        "      <td>-0.754518</td>\n",
        "      <td> 0.573323</td>\n",
        "    </tr>\n",
        "    <tr>\n",
        "      <th>b</th>\n",
        "      <td> 1.618523</td>\n",
        "      <td>-1.097422</td>\n",
        "      <td>-0.199444</td>\n",
        "    </tr>\n",
        "    <tr>\n",
        "      <th>b</th>\n",
        "      <td> 0.527712</td>\n",
        "      <td> 1.134672</td>\n",
        "      <td> 0.980426</td>\n",
        "    </tr>\n",
        "  </tbody>\n",
        "</table>\n",
        "</div>"
       ],
       "metadata": {},
       "output_type": "pyout",
       "prompt_number": 169,
       "text": [
        "          0         1         2\n",
        "a  2.296937  0.172768  0.103897\n",
        "a  0.393875 -0.754518  0.573323\n",
        "b  1.618523 -1.097422 -0.199444\n",
        "b  0.527712  1.134672  0.980426"
       ]
      }
     ],
     "prompt_number": 169
    },
    {
     "cell_type": "code",
     "collapsed": false,
     "input": [
      "df.ix['b']"
     ],
     "language": "python",
     "metadata": {},
     "outputs": [
      {
       "html": [
        "<div style=\"max-height:1000px;max-width:1500px;overflow:auto;\">\n",
        "<table border=\"1\" class=\"dataframe\">\n",
        "  <thead>\n",
        "    <tr style=\"text-align: right;\">\n",
        "      <th></th>\n",
        "      <th>0</th>\n",
        "      <th>1</th>\n",
        "      <th>2</th>\n",
        "    </tr>\n",
        "  </thead>\n",
        "  <tbody>\n",
        "    <tr>\n",
        "      <th>b</th>\n",
        "      <td> 1.618523</td>\n",
        "      <td>-1.097422</td>\n",
        "      <td>-0.199444</td>\n",
        "    </tr>\n",
        "    <tr>\n",
        "      <th>b</th>\n",
        "      <td> 0.527712</td>\n",
        "      <td> 1.134672</td>\n",
        "      <td> 0.980426</td>\n",
        "    </tr>\n",
        "  </tbody>\n",
        "</table>\n",
        "</div>"
       ],
       "metadata": {},
       "output_type": "pyout",
       "prompt_number": 170,
       "text": [
        "          0         1         2\n",
        "b  1.618523 -1.097422 -0.199444\n",
        "b  0.527712  1.134672  0.980426"
       ]
      }
     ],
     "prompt_number": 170
    },
    {
     "cell_type": "heading",
     "level": 1,
     "metadata": {},
     "source": [
      "Summarizing and Computing Descriptive Statistics"
     ]
    },
    {
     "cell_type": "markdown",
     "metadata": {},
     "source": [
      "pandas objects are equipped with a set of common mathematical and statistical methods.  Most of these fall into the category of reductions or summary statistics, methods that extract a single value (like the sum or mean) from a Sesries or a Series of values from the rows or columns of a DataFrame.  In contrast to NumPy array, pandas objects are built from the ground up to exclude missing data."
     ]
    },
    {
     "cell_type": "code",
     "collapsed": false,
     "input": [
      "df = DataFrame([[1.5, np.nan], [7.1, -4.6], [np.nan, np.nan], [0.75, -1.3]], index=['a', 'b', 'c', 'd'], columns=['one', 'two'])"
     ],
     "language": "python",
     "metadata": {},
     "outputs": [],
     "prompt_number": 171
    },
    {
     "cell_type": "code",
     "collapsed": false,
     "input": [
      "df"
     ],
     "language": "python",
     "metadata": {},
     "outputs": [
      {
       "html": [
        "<div style=\"max-height:1000px;max-width:1500px;overflow:auto;\">\n",
        "<table border=\"1\" class=\"dataframe\">\n",
        "  <thead>\n",
        "    <tr style=\"text-align: right;\">\n",
        "      <th></th>\n",
        "      <th>one</th>\n",
        "      <th>two</th>\n",
        "    </tr>\n",
        "  </thead>\n",
        "  <tbody>\n",
        "    <tr>\n",
        "      <th>a</th>\n",
        "      <td> 1.50</td>\n",
        "      <td> NaN</td>\n",
        "    </tr>\n",
        "    <tr>\n",
        "      <th>b</th>\n",
        "      <td> 7.10</td>\n",
        "      <td>-4.6</td>\n",
        "    </tr>\n",
        "    <tr>\n",
        "      <th>c</th>\n",
        "      <td>  NaN</td>\n",
        "      <td> NaN</td>\n",
        "    </tr>\n",
        "    <tr>\n",
        "      <th>d</th>\n",
        "      <td> 0.75</td>\n",
        "      <td>-1.3</td>\n",
        "    </tr>\n",
        "  </tbody>\n",
        "</table>\n",
        "</div>"
       ],
       "metadata": {},
       "output_type": "pyout",
       "prompt_number": 172,
       "text": [
        "    one  two\n",
        "a  1.50  NaN\n",
        "b  7.10 -4.6\n",
        "c   NaN  NaN\n",
        "d  0.75 -1.3"
       ]
      }
     ],
     "prompt_number": 172
    },
    {
     "cell_type": "markdown",
     "metadata": {},
     "source": [
      "Calling DataFrame's sum method returns a Series containing column sums:"
     ]
    },
    {
     "cell_type": "code",
     "collapsed": false,
     "input": [
      "df.sum()"
     ],
     "language": "python",
     "metadata": {},
     "outputs": [
      {
       "metadata": {},
       "output_type": "pyout",
       "prompt_number": 173,
       "text": [
        "one    9.35\n",
        "two   -5.90\n",
        "dtype: float64"
       ]
      }
     ],
     "prompt_number": 173
    },
    {
     "cell_type": "markdown",
     "metadata": {},
     "source": [
      "\\30.  Sum over the rows instead, such that the table below is observed."
     ]
    },
    {
     "cell_type": "code",
     "collapsed": false,
     "input": [
      "df.sum(?)"
     ],
     "language": "python",
     "metadata": {},
     "outputs": [
      {
       "metadata": {},
       "output_type": "pyout",
       "prompt_number": 174,
       "text": [
        "a    1.50\n",
        "b    2.50\n",
        "c     NaN\n",
        "d   -0.55\n",
        "dtype: float64"
       ]
      }
     ],
     "prompt_number": 174
    },
    {
     "cell_type": "markdown",
     "metadata": {},
     "source": [
      "NA values are excluded unless the entire slice (row or column) is NA>  This can be disabled using the skipna option."
     ]
    },
    {
     "cell_type": "code",
     "collapsed": false,
     "input": [
      "df.mean(axis=1, skipna=False)"
     ],
     "language": "python",
     "metadata": {},
     "outputs": [
      {
       "metadata": {},
       "output_type": "pyout",
       "prompt_number": 175,
       "text": [
        "a      NaN\n",
        "b    1.250\n",
        "c      NaN\n",
        "d   -0.275\n",
        "dtype: float64"
       ]
      }
     ],
     "prompt_number": 175
    },
    {
     "cell_type": "markdown",
     "metadata": {},
     "source": [
      "\\31. Which methods should you use that returns the index value where the minimum or maximum values are attained?  Illustrate."
     ]
    },
    {
     "cell_type": "markdown",
     "metadata": {},
     "source": [
      "Other methods are accumulations."
     ]
    },
    {
     "cell_type": "code",
     "collapsed": false,
     "input": [
      "df.cumsum()"
     ],
     "language": "python",
     "metadata": {},
     "outputs": [
      {
       "html": [
        "<div style=\"max-height:1000px;max-width:1500px;overflow:auto;\">\n",
        "<table border=\"1\" class=\"dataframe\">\n",
        "  <thead>\n",
        "    <tr style=\"text-align: right;\">\n",
        "      <th></th>\n",
        "      <th>one</th>\n",
        "      <th>two</th>\n",
        "    </tr>\n",
        "  </thead>\n",
        "  <tbody>\n",
        "    <tr>\n",
        "      <th>a</th>\n",
        "      <td> 1.50</td>\n",
        "      <td> NaN</td>\n",
        "    </tr>\n",
        "    <tr>\n",
        "      <th>b</th>\n",
        "      <td> 8.60</td>\n",
        "      <td>-4.6</td>\n",
        "    </tr>\n",
        "    <tr>\n",
        "      <th>c</th>\n",
        "      <td>  NaN</td>\n",
        "      <td> NaN</td>\n",
        "    </tr>\n",
        "    <tr>\n",
        "      <th>d</th>\n",
        "      <td> 9.35</td>\n",
        "      <td>-5.9</td>\n",
        "    </tr>\n",
        "  </tbody>\n",
        "</table>\n",
        "</div>"
       ],
       "metadata": {},
       "output_type": "pyout",
       "prompt_number": 176,
       "text": [
        "    one  two\n",
        "a  1.50  NaN\n",
        "b  8.60 -4.6\n",
        "c   NaN  NaN\n",
        "d  9.35 -5.9"
       ]
      }
     ],
     "prompt_number": 176
    },
    {
     "cell_type": "markdown",
     "metadata": {},
     "source": [
      "Another type of method is neither a reduction nor an accumulation. describe produces multiple summary statistics in one shot."
     ]
    },
    {
     "cell_type": "code",
     "collapsed": false,
     "input": [
      "df.describe()"
     ],
     "language": "python",
     "metadata": {},
     "outputs": [
      {
       "html": [
        "<div style=\"max-height:1000px;max-width:1500px;overflow:auto;\">\n",
        "<table border=\"1\" class=\"dataframe\">\n",
        "  <thead>\n",
        "    <tr style=\"text-align: right;\">\n",
        "      <th></th>\n",
        "      <th>one</th>\n",
        "      <th>two</th>\n",
        "    </tr>\n",
        "  </thead>\n",
        "  <tbody>\n",
        "    <tr>\n",
        "      <th>count</th>\n",
        "      <td> 3.000000</td>\n",
        "      <td> 2.000000</td>\n",
        "    </tr>\n",
        "    <tr>\n",
        "      <th>mean</th>\n",
        "      <td> 3.116667</td>\n",
        "      <td>-2.950000</td>\n",
        "    </tr>\n",
        "    <tr>\n",
        "      <th>std</th>\n",
        "      <td> 3.469990</td>\n",
        "      <td> 2.333452</td>\n",
        "    </tr>\n",
        "    <tr>\n",
        "      <th>min</th>\n",
        "      <td> 0.750000</td>\n",
        "      <td>-4.600000</td>\n",
        "    </tr>\n",
        "    <tr>\n",
        "      <th>25%</th>\n",
        "      <td> 1.125000</td>\n",
        "      <td>-3.775000</td>\n",
        "    </tr>\n",
        "    <tr>\n",
        "      <th>50%</th>\n",
        "      <td> 1.500000</td>\n",
        "      <td>-2.950000</td>\n",
        "    </tr>\n",
        "    <tr>\n",
        "      <th>75%</th>\n",
        "      <td> 4.300000</td>\n",
        "      <td>-2.125000</td>\n",
        "    </tr>\n",
        "    <tr>\n",
        "      <th>max</th>\n",
        "      <td> 7.100000</td>\n",
        "      <td>-1.300000</td>\n",
        "    </tr>\n",
        "  </tbody>\n",
        "</table>\n",
        "</div>"
       ],
       "metadata": {},
       "output_type": "pyout",
       "prompt_number": 177,
       "text": [
        "            one       two\n",
        "count  3.000000  2.000000\n",
        "mean   3.116667 -2.950000\n",
        "std    3.469990  2.333452\n",
        "min    0.750000 -4.600000\n",
        "25%    1.125000 -3.775000\n",
        "50%    1.500000 -2.950000\n",
        "75%    4.300000 -2.125000\n",
        "max    7.100000 -1.300000"
       ]
      }
     ],
     "prompt_number": 177
    },
    {
     "cell_type": "markdown",
     "metadata": {},
     "source": [
      "On non-numeric data, describe produces alternate summary statistics."
     ]
    },
    {
     "cell_type": "code",
     "collapsed": false,
     "input": [
      "obj = Series(['a', 'a', 'b', 'c'] * 4)"
     ],
     "language": "python",
     "metadata": {},
     "outputs": [],
     "prompt_number": 178
    },
    {
     "cell_type": "code",
     "collapsed": false,
     "input": [
      "obj.describe()"
     ],
     "language": "python",
     "metadata": {},
     "outputs": [
      {
       "metadata": {},
       "output_type": "pyout",
       "prompt_number": 179,
       "text": [
        "count     16\n",
        "unique     3\n",
        "top        a\n",
        "freq       8\n",
        "dtype: object"
       ]
      }
     ],
     "prompt_number": 179
    },
    {
     "cell_type": "heading",
     "level": 3,
     "metadata": {},
     "source": [
      "Correlation and Covariance"
     ]
    },
    {
     "cell_type": "markdown",
     "metadata": {},
     "source": [
      "Some summary statistics, like correlation and covariance, are computed from pairs of arguments."
     ]
    },
    {
     "cell_type": "heading",
     "level": 4,
     "metadata": {},
     "source": [
      "Statistical functions"
     ]
    },
    {
     "cell_type": "heading",
     "level": 5,
     "metadata": {},
     "source": [
      "Percent Change"
     ]
    },
    {
     "cell_type": "markdown",
     "metadata": {},
     "source": [
      "Series, DataFrame, and Panel have a method pct_change to compute the percent change over a given number of periods (use fill_method to fill NA/null values before computing the percent change)."
     ]
    },
    {
     "cell_type": "code",
     "collapsed": false,
     "input": [
      "ser = Series(np.random.randn(8))"
     ],
     "language": "python",
     "metadata": {},
     "outputs": [],
     "prompt_number": 184
    },
    {
     "cell_type": "code",
     "collapsed": false,
     "input": [
      "ser.pct_change()"
     ],
     "language": "python",
     "metadata": {},
     "outputs": [
      {
       "metadata": {},
       "output_type": "pyout",
       "prompt_number": 185,
       "text": [
        "0         NaN\n",
        "1   -2.344769\n",
        "2   -1.190702\n",
        "3    9.147864\n",
        "4   -0.892947\n",
        "5    1.703985\n",
        "6    0.375516\n",
        "7   -3.951618\n",
        "dtype: float64"
       ]
      }
     ],
     "prompt_number": 185
    },
    {
     "cell_type": "code",
     "collapsed": false,
     "input": [
      "df = DataFrame(np.random.randn(10, 4))"
     ],
     "language": "python",
     "metadata": {},
     "outputs": [],
     "prompt_number": 187
    },
    {
     "cell_type": "code",
     "collapsed": false,
     "input": [
      "df.pct_change()"
     ],
     "language": "python",
     "metadata": {},
     "outputs": [
      {
       "html": [
        "<div style=\"max-height:1000px;max-width:1500px;overflow:auto;\">\n",
        "<table border=\"1\" class=\"dataframe\">\n",
        "  <thead>\n",
        "    <tr style=\"text-align: right;\">\n",
        "      <th></th>\n",
        "      <th>0</th>\n",
        "      <th>1</th>\n",
        "      <th>2</th>\n",
        "      <th>3</th>\n",
        "    </tr>\n",
        "  </thead>\n",
        "  <tbody>\n",
        "    <tr>\n",
        "      <th>0</th>\n",
        "      <td>      NaN</td>\n",
        "      <td>      NaN</td>\n",
        "      <td>       NaN</td>\n",
        "      <td>       NaN</td>\n",
        "    </tr>\n",
        "    <tr>\n",
        "      <th>1</th>\n",
        "      <td>-1.740781</td>\n",
        "      <td>-6.523803</td>\n",
        "      <td> -1.960669</td>\n",
        "      <td> -1.757379</td>\n",
        "    </tr>\n",
        "    <tr>\n",
        "      <th>2</th>\n",
        "      <td>-0.381657</td>\n",
        "      <td>-1.681644</td>\n",
        "      <td> -3.348804</td>\n",
        "      <td> -0.812234</td>\n",
        "    </tr>\n",
        "    <tr>\n",
        "      <th>3</th>\n",
        "      <td> 2.543902</td>\n",
        "      <td>-0.962871</td>\n",
        "      <td> -1.526343</td>\n",
        "      <td> -5.396940</td>\n",
        "    </tr>\n",
        "    <tr>\n",
        "      <th>4</th>\n",
        "      <td> 0.043764</td>\n",
        "      <td>-8.862213</td>\n",
        "      <td> -2.622971</td>\n",
        "      <td> -0.257154</td>\n",
        "    </tr>\n",
        "    <tr>\n",
        "      <th>5</th>\n",
        "      <td>-0.672277</td>\n",
        "      <td> 2.272834</td>\n",
        "      <td>  0.818669</td>\n",
        "      <td> -1.044255</td>\n",
        "    </tr>\n",
        "    <tr>\n",
        "      <th>6</th>\n",
        "      <td>-0.521231</td>\n",
        "      <td>-0.713147</td>\n",
        "      <td> -0.549008</td>\n",
        "      <td>-17.771088</td>\n",
        "    </tr>\n",
        "    <tr>\n",
        "      <th>7</th>\n",
        "      <td> 0.789403</td>\n",
        "      <td>-5.420552</td>\n",
        "      <td> -1.022373</td>\n",
        "      <td>  3.169143</td>\n",
        "    </tr>\n",
        "    <tr>\n",
        "      <th>8</th>\n",
        "      <td>-2.587547</td>\n",
        "      <td>-1.709884</td>\n",
        "      <td>-21.943449</td>\n",
        "      <td> -0.939138</td>\n",
        "    </tr>\n",
        "    <tr>\n",
        "      <th>9</th>\n",
        "      <td>-0.250807</td>\n",
        "      <td>-1.519585</td>\n",
        "      <td>  2.405798</td>\n",
        "      <td>  1.121596</td>\n",
        "    </tr>\n",
        "  </tbody>\n",
        "</table>\n",
        "</div>"
       ],
       "metadata": {},
       "output_type": "pyout",
       "prompt_number": 188,
       "text": [
        "          0         1          2          3\n",
        "0       NaN       NaN        NaN        NaN\n",
        "1 -1.740781 -6.523803  -1.960669  -1.757379\n",
        "2 -0.381657 -1.681644  -3.348804  -0.812234\n",
        "3  2.543902 -0.962871  -1.526343  -5.396940\n",
        "4  0.043764 -8.862213  -2.622971  -0.257154\n",
        "5 -0.672277  2.272834   0.818669  -1.044255\n",
        "6 -0.521231 -0.713147  -0.549008 -17.771088\n",
        "7  0.789403 -5.420552  -1.022373   3.169143\n",
        "8 -2.587547 -1.709884 -21.943449  -0.939138\n",
        "9 -0.250807 -1.519585   2.405798   1.121596"
       ]
      }
     ],
     "prompt_number": 188
    },
    {
     "cell_type": "code",
     "collapsed": false,
     "input": [
      "df.pct_change(periods = 3)"
     ],
     "language": "python",
     "metadata": {},
     "outputs": [
      {
       "html": [
        "<div style=\"max-height:1000px;max-width:1500px;overflow:auto;\">\n",
        "<table border=\"1\" class=\"dataframe\">\n",
        "  <thead>\n",
        "    <tr style=\"text-align: right;\">\n",
        "      <th></th>\n",
        "      <th>0</th>\n",
        "      <th>1</th>\n",
        "      <th>2</th>\n",
        "      <th>3</th>\n",
        "    </tr>\n",
        "  </thead>\n",
        "  <tbody>\n",
        "    <tr>\n",
        "      <th>0</th>\n",
        "      <td>      NaN</td>\n",
        "      <td>      NaN</td>\n",
        "      <td>      NaN</td>\n",
        "      <td>      NaN</td>\n",
        "    </tr>\n",
        "    <tr>\n",
        "      <th>1</th>\n",
        "      <td>      NaN</td>\n",
        "      <td>      NaN</td>\n",
        "      <td>      NaN</td>\n",
        "      <td>      NaN</td>\n",
        "    </tr>\n",
        "    <tr>\n",
        "      <th>2</th>\n",
        "      <td>      NaN</td>\n",
        "      <td>      NaN</td>\n",
        "      <td>      NaN</td>\n",
        "      <td>      NaN</td>\n",
        "    </tr>\n",
        "    <tr>\n",
        "      <th>3</th>\n",
        "      <td>-2.623306</td>\n",
        "      <td>-0.860198</td>\n",
        "      <td>-2.187654</td>\n",
        "      <td>-0.374710</td>\n",
        "    </tr>\n",
        "    <tr>\n",
        "      <th>4</th>\n",
        "      <td> 1.287247</td>\n",
        "      <td>-0.801015</td>\n",
        "      <td>-3.006441</td>\n",
        "      <td>-1.613292</td>\n",
        "    </tr>\n",
        "    <tr>\n",
        "      <th>5</th>\n",
        "      <td> 0.212247</td>\n",
        "      <td>-1.955401</td>\n",
        "      <td> 0.553579</td>\n",
        "      <td>-0.855453</td>\n",
        "    </tr>\n",
        "    <tr>\n",
        "      <th>6</th>\n",
        "      <td>-0.836230</td>\n",
        "      <td>-8.381214</td>\n",
        "      <td>-2.331170</td>\n",
        "      <td>-0.448659</td>\n",
        "    </tr>\n",
        "    <tr>\n",
        "      <th>7</th>\n",
        "      <td>-0.719236</td>\n",
        "      <td>-5.150109</td>\n",
        "      <td>-1.018350</td>\n",
        "      <td> 2.094341</td>\n",
        "    </tr>\n",
        "    <tr>\n",
        "      <th>8</th>\n",
        "      <td>-2.360069</td>\n",
        "      <td>-0.099833</td>\n",
        "      <td>-0.788684</td>\n",
        "      <td>-5.255553</td>\n",
        "    </tr>\n",
        "    <tr>\n",
        "      <th>9</th>\n",
        "      <td>-3.128278</td>\n",
        "      <td>-2.630500</td>\n",
        "      <td> 0.595816</td>\n",
        "      <td>-0.461659</td>\n",
        "    </tr>\n",
        "  </tbody>\n",
        "</table>\n",
        "</div>"
       ],
       "metadata": {},
       "output_type": "pyout",
       "prompt_number": 189,
       "text": [
        "          0         1         2         3\n",
        "0       NaN       NaN       NaN       NaN\n",
        "1       NaN       NaN       NaN       NaN\n",
        "2       NaN       NaN       NaN       NaN\n",
        "3 -2.623306 -0.860198 -2.187654 -0.374710\n",
        "4  1.287247 -0.801015 -3.006441 -1.613292\n",
        "5  0.212247 -1.955401  0.553579 -0.855453\n",
        "6 -0.836230 -8.381214 -2.331170 -0.448659\n",
        "7 -0.719236 -5.150109 -1.018350  2.094341\n",
        "8 -2.360069 -0.099833 -0.788684 -5.255553\n",
        "9 -3.128278 -2.630500  0.595816 -0.461659"
       ]
      }
     ],
     "prompt_number": 189
    },
    {
     "cell_type": "heading",
     "level": 5,
     "metadata": {},
     "source": [
      "Covariance"
     ]
    },
    {
     "cell_type": "markdown",
     "metadata": {},
     "source": [
      "The Series object has a method cov to compute covariance between series (excluding NA/Null values)."
     ]
    },
    {
     "cell_type": "code",
     "collapsed": false,
     "input": [
      "s1 = Series(np.random.randn(1000))"
     ],
     "language": "python",
     "metadata": {},
     "outputs": [],
     "prompt_number": 191
    },
    {
     "cell_type": "code",
     "collapsed": false,
     "input": [
      "s2 = Series(np.random.randn(1000))"
     ],
     "language": "python",
     "metadata": {},
     "outputs": [],
     "prompt_number": 192
    },
    {
     "cell_type": "markdown",
     "metadata": {},
     "source": [
      "\\32.  Calculate for the covariance between s1 and s2.  Illustrate."
     ]
    },
    {
     "cell_type": "markdown",
     "metadata": {},
     "source": [
      "Analogously, DataFrame has a method cov to compute pairwise covariances among the series in the DataFrame, excluding NA/Null values."
     ]
    },
    {
     "cell_type": "code",
     "collapsed": false,
     "input": [
      "frame = DataFrame(np.random.randn(1000, 5), columns=['a', 'b', 'c', 'd', 'e'])"
     ],
     "language": "python",
     "metadata": {},
     "outputs": [],
     "prompt_number": 193
    },
    {
     "cell_type": "code",
     "collapsed": false,
     "input": [
      "frame.cov()"
     ],
     "language": "python",
     "metadata": {},
     "outputs": [
      {
       "html": [
        "<div style=\"max-height:1000px;max-width:1500px;overflow:auto;\">\n",
        "<table border=\"1\" class=\"dataframe\">\n",
        "  <thead>\n",
        "    <tr style=\"text-align: right;\">\n",
        "      <th></th>\n",
        "      <th>a</th>\n",
        "      <th>b</th>\n",
        "      <th>c</th>\n",
        "      <th>d</th>\n",
        "      <th>e</th>\n",
        "    </tr>\n",
        "  </thead>\n",
        "  <tbody>\n",
        "    <tr>\n",
        "      <th>a</th>\n",
        "      <td> 1.048385</td>\n",
        "      <td> 0.017219</td>\n",
        "      <td>-0.024722</td>\n",
        "      <td>-0.023956</td>\n",
        "      <td>-0.024468</td>\n",
        "    </tr>\n",
        "    <tr>\n",
        "      <th>b</th>\n",
        "      <td> 0.017219</td>\n",
        "      <td> 0.963972</td>\n",
        "      <td>-0.025182</td>\n",
        "      <td> 0.040065</td>\n",
        "      <td>-0.005782</td>\n",
        "    </tr>\n",
        "    <tr>\n",
        "      <th>c</th>\n",
        "      <td>-0.024722</td>\n",
        "      <td>-0.025182</td>\n",
        "      <td> 0.926212</td>\n",
        "      <td>-0.003737</td>\n",
        "      <td> 0.004259</td>\n",
        "    </tr>\n",
        "    <tr>\n",
        "      <th>d</th>\n",
        "      <td>-0.023956</td>\n",
        "      <td> 0.040065</td>\n",
        "      <td>-0.003737</td>\n",
        "      <td> 1.007978</td>\n",
        "      <td>-0.023542</td>\n",
        "    </tr>\n",
        "    <tr>\n",
        "      <th>e</th>\n",
        "      <td>-0.024468</td>\n",
        "      <td>-0.005782</td>\n",
        "      <td> 0.004259</td>\n",
        "      <td>-0.023542</td>\n",
        "      <td> 1.004537</td>\n",
        "    </tr>\n",
        "  </tbody>\n",
        "</table>\n",
        "</div>"
       ],
       "metadata": {},
       "output_type": "pyout",
       "prompt_number": 194,
       "text": [
        "          a         b         c         d         e\n",
        "a  1.048385  0.017219 -0.024722 -0.023956 -0.024468\n",
        "b  0.017219  0.963972 -0.025182  0.040065 -0.005782\n",
        "c -0.024722 -0.025182  0.926212 -0.003737  0.004259\n",
        "d -0.023956  0.040065 -0.003737  1.007978 -0.023542\n",
        "e -0.024468 -0.005782  0.004259 -0.023542  1.004537"
       ]
      }
     ],
     "prompt_number": 194
    },
    {
     "cell_type": "heading",
     "level": 5,
     "metadata": {},
     "source": [
      "Correlation"
     ]
    },
    {
     "cell_type": "markdown",
     "metadata": {},
     "source": [
      "Several methods for computing correlations are provided: pearson (default), kendall, spearman.  All of these are currently computed using a pairwise complete observations."
     ]
    },
    {
     "cell_type": "code",
     "collapsed": false,
     "input": [
      "frame = DataFrame(np.random.randn(1000, 5), columns=['a', 'b', 'c', 'd', 'e'])"
     ],
     "language": "python",
     "metadata": {},
     "outputs": [],
     "prompt_number": 4
    },
    {
     "cell_type": "code",
     "collapsed": false,
     "input": [
      "frame"
     ],
     "language": "python",
     "metadata": {},
     "outputs": [
      {
       "html": [
        "<div style=\"max-height:1000px;max-width:1500px;overflow:auto;\">\n",
        "<table border=\"1\" class=\"dataframe\">\n",
        "  <thead>\n",
        "    <tr style=\"text-align: right;\">\n",
        "      <th></th>\n",
        "      <th>a</th>\n",
        "      <th>b</th>\n",
        "      <th>c</th>\n",
        "      <th>d</th>\n",
        "      <th>e</th>\n",
        "    </tr>\n",
        "  </thead>\n",
        "  <tbody>\n",
        "    <tr>\n",
        "      <th>0  </th>\n",
        "      <td> 0.338269</td>\n",
        "      <td> 0.205577</td>\n",
        "      <td> 0.746378</td>\n",
        "      <td> 0.855761</td>\n",
        "      <td> 0.105755</td>\n",
        "    </tr>\n",
        "    <tr>\n",
        "      <th>1  </th>\n",
        "      <td> 1.585032</td>\n",
        "      <td>-1.972208</td>\n",
        "      <td>-0.401956</td>\n",
        "      <td> 1.226947</td>\n",
        "      <td>-1.122349</td>\n",
        "    </tr>\n",
        "    <tr>\n",
        "      <th>2  </th>\n",
        "      <td>-0.209816</td>\n",
        "      <td> 0.759897</td>\n",
        "      <td> 2.015287</td>\n",
        "      <td> 0.912700</td>\n",
        "      <td> 0.256359</td>\n",
        "    </tr>\n",
        "    <tr>\n",
        "      <th>3  </th>\n",
        "      <td>-0.828727</td>\n",
        "      <td>-1.245691</td>\n",
        "      <td> 1.631650</td>\n",
        "      <td>-0.311642</td>\n",
        "      <td> 0.482037</td>\n",
        "    </tr>\n",
        "    <tr>\n",
        "      <th>4  </th>\n",
        "      <td> 0.648937</td>\n",
        "      <td>-0.941216</td>\n",
        "      <td>-1.645198</td>\n",
        "      <td> 1.988040</td>\n",
        "      <td>-0.019647</td>\n",
        "    </tr>\n",
        "    <tr>\n",
        "      <th>5  </th>\n",
        "      <td>-0.224686</td>\n",
        "      <td> 0.310833</td>\n",
        "      <td> 0.913742</td>\n",
        "      <td> 1.054935</td>\n",
        "      <td>-1.759193</td>\n",
        "    </tr>\n",
        "    <tr>\n",
        "      <th>6  </th>\n",
        "      <td>-0.167572</td>\n",
        "      <td> 0.824785</td>\n",
        "      <td>-0.301444</td>\n",
        "      <td>-0.159719</td>\n",
        "      <td> 0.588937</td>\n",
        "    </tr>\n",
        "    <tr>\n",
        "      <th>7  </th>\n",
        "      <td> 0.904554</td>\n",
        "      <td> 1.787728</td>\n",
        "      <td>-0.844329</td>\n",
        "      <td> 0.976445</td>\n",
        "      <td>-0.580273</td>\n",
        "    </tr>\n",
        "    <tr>\n",
        "      <th>8  </th>\n",
        "      <td> 0.986105</td>\n",
        "      <td>-1.202178</td>\n",
        "      <td> 0.742816</td>\n",
        "      <td> 0.538518</td>\n",
        "      <td>-0.440251</td>\n",
        "    </tr>\n",
        "    <tr>\n",
        "      <th>9  </th>\n",
        "      <td>-0.609828</td>\n",
        "      <td> 1.814225</td>\n",
        "      <td> 0.893387</td>\n",
        "      <td>-0.140568</td>\n",
        "      <td>-0.599307</td>\n",
        "    </tr>\n",
        "    <tr>\n",
        "      <th>10 </th>\n",
        "      <td> 0.799902</td>\n",
        "      <td>-0.917605</td>\n",
        "      <td> 1.045013</td>\n",
        "      <td>-0.104435</td>\n",
        "      <td> 1.589313</td>\n",
        "    </tr>\n",
        "    <tr>\n",
        "      <th>11 </th>\n",
        "      <td>-0.609638</td>\n",
        "      <td>-0.281603</td>\n",
        "      <td> 0.127359</td>\n",
        "      <td>-1.137716</td>\n",
        "      <td>-1.267699</td>\n",
        "    </tr>\n",
        "    <tr>\n",
        "      <th>12 </th>\n",
        "      <td>-0.050813</td>\n",
        "      <td>-2.317246</td>\n",
        "      <td>-1.078214</td>\n",
        "      <td>-0.452090</td>\n",
        "      <td> 0.516292</td>\n",
        "    </tr>\n",
        "    <tr>\n",
        "      <th>13 </th>\n",
        "      <td>-0.136383</td>\n",
        "      <td>-0.348932</td>\n",
        "      <td> 0.042715</td>\n",
        "      <td>-0.843619</td>\n",
        "      <td>-0.102501</td>\n",
        "    </tr>\n",
        "    <tr>\n",
        "      <th>14 </th>\n",
        "      <td> 0.848179</td>\n",
        "      <td>-0.123561</td>\n",
        "      <td> 0.210377</td>\n",
        "      <td>-0.942993</td>\n",
        "      <td> 1.215427</td>\n",
        "    </tr>\n",
        "    <tr>\n",
        "      <th>15 </th>\n",
        "      <td>-0.304328</td>\n",
        "      <td>-0.529285</td>\n",
        "      <td> 0.998604</td>\n",
        "      <td>-2.866210</td>\n",
        "      <td>-1.500303</td>\n",
        "    </tr>\n",
        "    <tr>\n",
        "      <th>16 </th>\n",
        "      <td> 0.445580</td>\n",
        "      <td>-1.363322</td>\n",
        "      <td> 0.361468</td>\n",
        "      <td> 0.482876</td>\n",
        "      <td> 0.017608</td>\n",
        "    </tr>\n",
        "    <tr>\n",
        "      <th>17 </th>\n",
        "      <td>-0.468421</td>\n",
        "      <td> 1.438356</td>\n",
        "      <td>-0.300261</td>\n",
        "      <td> 0.374536</td>\n",
        "      <td> 0.529377</td>\n",
        "    </tr>\n",
        "    <tr>\n",
        "      <th>18 </th>\n",
        "      <td>-0.505131</td>\n",
        "      <td> 0.422985</td>\n",
        "      <td> 1.642221</td>\n",
        "      <td> 0.510475</td>\n",
        "      <td>-0.987011</td>\n",
        "    </tr>\n",
        "    <tr>\n",
        "      <th>19 </th>\n",
        "      <td>-1.021568</td>\n",
        "      <td> 0.269152</td>\n",
        "      <td>-0.676727</td>\n",
        "      <td> 0.330305</td>\n",
        "      <td> 0.965258</td>\n",
        "    </tr>\n",
        "    <tr>\n",
        "      <th>20 </th>\n",
        "      <td>-0.502669</td>\n",
        "      <td> 0.280295</td>\n",
        "      <td> 0.916171</td>\n",
        "      <td>-0.997833</td>\n",
        "      <td>-1.654900</td>\n",
        "    </tr>\n",
        "    <tr>\n",
        "      <th>21 </th>\n",
        "      <td>-0.813718</td>\n",
        "      <td>-1.490199</td>\n",
        "      <td> 1.235650</td>\n",
        "      <td>-0.081855</td>\n",
        "      <td> 1.451054</td>\n",
        "    </tr>\n",
        "    <tr>\n",
        "      <th>22 </th>\n",
        "      <td>-1.488310</td>\n",
        "      <td> 0.115229</td>\n",
        "      <td>-1.446622</td>\n",
        "      <td> 0.609790</td>\n",
        "      <td>-0.047193</td>\n",
        "    </tr>\n",
        "    <tr>\n",
        "      <th>23 </th>\n",
        "      <td> 0.651651</td>\n",
        "      <td> 0.857838</td>\n",
        "      <td>-0.343437</td>\n",
        "      <td> 2.676996</td>\n",
        "      <td> 0.722540</td>\n",
        "    </tr>\n",
        "    <tr>\n",
        "      <th>24 </th>\n",
        "      <td>-1.208719</td>\n",
        "      <td> 1.862293</td>\n",
        "      <td> 0.561124</td>\n",
        "      <td> 0.446990</td>\n",
        "      <td>-1.370112</td>\n",
        "    </tr>\n",
        "    <tr>\n",
        "      <th>25 </th>\n",
        "      <td> 1.028671</td>\n",
        "      <td> 1.346002</td>\n",
        "      <td> 0.320813</td>\n",
        "      <td>-0.669308</td>\n",
        "      <td> 0.046649</td>\n",
        "    </tr>\n",
        "    <tr>\n",
        "      <th>26 </th>\n",
        "      <td> 1.287862</td>\n",
        "      <td> 0.277740</td>\n",
        "      <td> 0.199028</td>\n",
        "      <td> 0.687541</td>\n",
        "      <td>-0.255595</td>\n",
        "    </tr>\n",
        "    <tr>\n",
        "      <th>27 </th>\n",
        "      <td> 0.779563</td>\n",
        "      <td> 0.204455</td>\n",
        "      <td> 2.193545</td>\n",
        "      <td>-0.802937</td>\n",
        "      <td>-0.237627</td>\n",
        "    </tr>\n",
        "    <tr>\n",
        "      <th>28 </th>\n",
        "      <td> 1.064522</td>\n",
        "      <td> 1.324644</td>\n",
        "      <td>-0.147232</td>\n",
        "      <td> 0.520725</td>\n",
        "      <td> 1.588823</td>\n",
        "    </tr>\n",
        "    <tr>\n",
        "      <th>29 </th>\n",
        "      <td> 2.504670</td>\n",
        "      <td> 3.267243</td>\n",
        "      <td> 0.319640</td>\n",
        "      <td> 1.757003</td>\n",
        "      <td>-1.311677</td>\n",
        "    </tr>\n",
        "    <tr>\n",
        "      <th>...</th>\n",
        "      <td>...</td>\n",
        "      <td>...</td>\n",
        "      <td>...</td>\n",
        "      <td>...</td>\n",
        "      <td>...</td>\n",
        "    </tr>\n",
        "    <tr>\n",
        "      <th>970</th>\n",
        "      <td> 0.190525</td>\n",
        "      <td>-1.131105</td>\n",
        "      <td>-0.542122</td>\n",
        "      <td>-1.247479</td>\n",
        "      <td>-1.685046</td>\n",
        "    </tr>\n",
        "    <tr>\n",
        "      <th>971</th>\n",
        "      <td>-2.516458</td>\n",
        "      <td>-1.263349</td>\n",
        "      <td> 0.440683</td>\n",
        "      <td>-0.827226</td>\n",
        "      <td> 0.613982</td>\n",
        "    </tr>\n",
        "    <tr>\n",
        "      <th>972</th>\n",
        "      <td> 0.595777</td>\n",
        "      <td> 1.835323</td>\n",
        "      <td> 0.896009</td>\n",
        "      <td>-1.285468</td>\n",
        "      <td>-0.773374</td>\n",
        "    </tr>\n",
        "    <tr>\n",
        "      <th>973</th>\n",
        "      <td>-2.405858</td>\n",
        "      <td>-0.884444</td>\n",
        "      <td>-1.172223</td>\n",
        "      <td>-2.041803</td>\n",
        "      <td> 0.852674</td>\n",
        "    </tr>\n",
        "    <tr>\n",
        "      <th>974</th>\n",
        "      <td> 0.986075</td>\n",
        "      <td>-0.758508</td>\n",
        "      <td> 2.497801</td>\n",
        "      <td>-0.473257</td>\n",
        "      <td>-1.114761</td>\n",
        "    </tr>\n",
        "    <tr>\n",
        "      <th>975</th>\n",
        "      <td> 1.575324</td>\n",
        "      <td>-0.350948</td>\n",
        "      <td>-1.352014</td>\n",
        "      <td>-0.500768</td>\n",
        "      <td> 0.049387</td>\n",
        "    </tr>\n",
        "    <tr>\n",
        "      <th>976</th>\n",
        "      <td>-0.959318</td>\n",
        "      <td> 1.327021</td>\n",
        "      <td>-0.448410</td>\n",
        "      <td> 0.088387</td>\n",
        "      <td> 0.537526</td>\n",
        "    </tr>\n",
        "    <tr>\n",
        "      <th>977</th>\n",
        "      <td>-0.773107</td>\n",
        "      <td>-0.840292</td>\n",
        "      <td> 0.423129</td>\n",
        "      <td> 0.835536</td>\n",
        "      <td>-0.471417</td>\n",
        "    </tr>\n",
        "    <tr>\n",
        "      <th>978</th>\n",
        "      <td>-0.955748</td>\n",
        "      <td>-1.234349</td>\n",
        "      <td> 0.710211</td>\n",
        "      <td> 0.505352</td>\n",
        "      <td>-0.709522</td>\n",
        "    </tr>\n",
        "    <tr>\n",
        "      <th>979</th>\n",
        "      <td>-0.744242</td>\n",
        "      <td> 2.648548</td>\n",
        "      <td> 0.379627</td>\n",
        "      <td>-0.077055</td>\n",
        "      <td>-1.102059</td>\n",
        "    </tr>\n",
        "    <tr>\n",
        "      <th>980</th>\n",
        "      <td> 1.079055</td>\n",
        "      <td>-0.168154</td>\n",
        "      <td> 0.037492</td>\n",
        "      <td> 0.086564</td>\n",
        "      <td> 1.841633</td>\n",
        "    </tr>\n",
        "    <tr>\n",
        "      <th>981</th>\n",
        "      <td> 2.604396</td>\n",
        "      <td>-0.092853</td>\n",
        "      <td> 0.843248</td>\n",
        "      <td>-0.074550</td>\n",
        "      <td>-0.417417</td>\n",
        "    </tr>\n",
        "    <tr>\n",
        "      <th>982</th>\n",
        "      <td>-0.371982</td>\n",
        "      <td>-0.668266</td>\n",
        "      <td>-0.605440</td>\n",
        "      <td> 0.622313</td>\n",
        "      <td> 2.269397</td>\n",
        "    </tr>\n",
        "    <tr>\n",
        "      <th>983</th>\n",
        "      <td>-0.290609</td>\n",
        "      <td>-1.206731</td>\n",
        "      <td> 0.362898</td>\n",
        "      <td>-0.266315</td>\n",
        "      <td>-1.319320</td>\n",
        "    </tr>\n",
        "    <tr>\n",
        "      <th>984</th>\n",
        "      <td>-0.462086</td>\n",
        "      <td> 0.199785</td>\n",
        "      <td> 0.118919</td>\n",
        "      <td>-1.527756</td>\n",
        "      <td>-0.957336</td>\n",
        "    </tr>\n",
        "    <tr>\n",
        "      <th>985</th>\n",
        "      <td>-0.607265</td>\n",
        "      <td> 1.684932</td>\n",
        "      <td> 0.315574</td>\n",
        "      <td>-0.824779</td>\n",
        "      <td> 1.573055</td>\n",
        "    </tr>\n",
        "    <tr>\n",
        "      <th>986</th>\n",
        "      <td> 0.488212</td>\n",
        "      <td>-0.310716</td>\n",
        "      <td> 0.186142</td>\n",
        "      <td> 2.063402</td>\n",
        "      <td>-0.986637</td>\n",
        "    </tr>\n",
        "    <tr>\n",
        "      <th>987</th>\n",
        "      <td>-0.194916</td>\n",
        "      <td>-0.527183</td>\n",
        "      <td>-0.357868</td>\n",
        "      <td>-0.997394</td>\n",
        "      <td>-0.132555</td>\n",
        "    </tr>\n",
        "    <tr>\n",
        "      <th>988</th>\n",
        "      <td> 0.435412</td>\n",
        "      <td>-0.103079</td>\n",
        "      <td>-0.712392</td>\n",
        "      <td> 1.277429</td>\n",
        "      <td> 0.978409</td>\n",
        "    </tr>\n",
        "    <tr>\n",
        "      <th>989</th>\n",
        "      <td>-0.285672</td>\n",
        "      <td> 2.299649</td>\n",
        "      <td>-0.170667</td>\n",
        "      <td>-1.332143</td>\n",
        "      <td> 0.514917</td>\n",
        "    </tr>\n",
        "    <tr>\n",
        "      <th>990</th>\n",
        "      <td>-0.870321</td>\n",
        "      <td> 0.808187</td>\n",
        "      <td>-1.610660</td>\n",
        "      <td> 0.458461</td>\n",
        "      <td>-0.675599</td>\n",
        "    </tr>\n",
        "    <tr>\n",
        "      <th>991</th>\n",
        "      <td>-0.132548</td>\n",
        "      <td> 1.053487</td>\n",
        "      <td> 0.155379</td>\n",
        "      <td>-1.856603</td>\n",
        "      <td>-0.130056</td>\n",
        "    </tr>\n",
        "    <tr>\n",
        "      <th>992</th>\n",
        "      <td> 0.852341</td>\n",
        "      <td>-0.042399</td>\n",
        "      <td> 0.512718</td>\n",
        "      <td> 1.476280</td>\n",
        "      <td>-0.089882</td>\n",
        "    </tr>\n",
        "    <tr>\n",
        "      <th>993</th>\n",
        "      <td>-0.637110</td>\n",
        "      <td>-2.100919</td>\n",
        "      <td> 0.252210</td>\n",
        "      <td>-0.102195</td>\n",
        "      <td>-0.115091</td>\n",
        "    </tr>\n",
        "    <tr>\n",
        "      <th>994</th>\n",
        "      <td> 0.315889</td>\n",
        "      <td> 0.617672</td>\n",
        "      <td> 0.046723</td>\n",
        "      <td>-0.006362</td>\n",
        "      <td> 0.769405</td>\n",
        "    </tr>\n",
        "    <tr>\n",
        "      <th>995</th>\n",
        "      <td> 1.406468</td>\n",
        "      <td>-1.872490</td>\n",
        "      <td>-0.796511</td>\n",
        "      <td>-0.064249</td>\n",
        "      <td> 0.588222</td>\n",
        "    </tr>\n",
        "    <tr>\n",
        "      <th>996</th>\n",
        "      <td> 0.546468</td>\n",
        "      <td> 1.419085</td>\n",
        "      <td>-0.075532</td>\n",
        "      <td> 1.582512</td>\n",
        "      <td>-0.034131</td>\n",
        "    </tr>\n",
        "    <tr>\n",
        "      <th>997</th>\n",
        "      <td>-1.459589</td>\n",
        "      <td>-1.494835</td>\n",
        "      <td>-0.053099</td>\n",
        "      <td>-0.698816</td>\n",
        "      <td>-0.159606</td>\n",
        "    </tr>\n",
        "    <tr>\n",
        "      <th>998</th>\n",
        "      <td>-0.044889</td>\n",
        "      <td> 1.571804</td>\n",
        "      <td> 1.616840</td>\n",
        "      <td> 0.614439</td>\n",
        "      <td> 1.972680</td>\n",
        "    </tr>\n",
        "    <tr>\n",
        "      <th>999</th>\n",
        "      <td>-0.142476</td>\n",
        "      <td> 1.583062</td>\n",
        "      <td>-2.154616</td>\n",
        "      <td> 0.803714</td>\n",
        "      <td>-0.050975</td>\n",
        "    </tr>\n",
        "  </tbody>\n",
        "</table>\n",
        "<p>1000 rows \u00d7 5 columns</p>\n",
        "</div>"
       ],
       "metadata": {},
       "output_type": "pyout",
       "prompt_number": 5,
       "text": [
        "            a         b         c         d         e\n",
        "0    0.338269  0.205577  0.746378  0.855761  0.105755\n",
        "1    1.585032 -1.972208 -0.401956  1.226947 -1.122349\n",
        "2   -0.209816  0.759897  2.015287  0.912700  0.256359\n",
        "3   -0.828727 -1.245691  1.631650 -0.311642  0.482037\n",
        "4    0.648937 -0.941216 -1.645198  1.988040 -0.019647\n",
        "5   -0.224686  0.310833  0.913742  1.054935 -1.759193\n",
        "6   -0.167572  0.824785 -0.301444 -0.159719  0.588937\n",
        "7    0.904554  1.787728 -0.844329  0.976445 -0.580273\n",
        "8    0.986105 -1.202178  0.742816  0.538518 -0.440251\n",
        "9   -0.609828  1.814225  0.893387 -0.140568 -0.599307\n",
        "10   0.799902 -0.917605  1.045013 -0.104435  1.589313\n",
        "11  -0.609638 -0.281603  0.127359 -1.137716 -1.267699\n",
        "12  -0.050813 -2.317246 -1.078214 -0.452090  0.516292\n",
        "13  -0.136383 -0.348932  0.042715 -0.843619 -0.102501\n",
        "14   0.848179 -0.123561  0.210377 -0.942993  1.215427\n",
        "15  -0.304328 -0.529285  0.998604 -2.866210 -1.500303\n",
        "16   0.445580 -1.363322  0.361468  0.482876  0.017608\n",
        "17  -0.468421  1.438356 -0.300261  0.374536  0.529377\n",
        "18  -0.505131  0.422985  1.642221  0.510475 -0.987011\n",
        "19  -1.021568  0.269152 -0.676727  0.330305  0.965258\n",
        "20  -0.502669  0.280295  0.916171 -0.997833 -1.654900\n",
        "21  -0.813718 -1.490199  1.235650 -0.081855  1.451054\n",
        "22  -1.488310  0.115229 -1.446622  0.609790 -0.047193\n",
        "23   0.651651  0.857838 -0.343437  2.676996  0.722540\n",
        "24  -1.208719  1.862293  0.561124  0.446990 -1.370112\n",
        "25   1.028671  1.346002  0.320813 -0.669308  0.046649\n",
        "26   1.287862  0.277740  0.199028  0.687541 -0.255595\n",
        "27   0.779563  0.204455  2.193545 -0.802937 -0.237627\n",
        "28   1.064522  1.324644 -0.147232  0.520725  1.588823\n",
        "29   2.504670  3.267243  0.319640  1.757003 -1.311677\n",
        "..        ...       ...       ...       ...       ...\n",
        "970  0.190525 -1.131105 -0.542122 -1.247479 -1.685046\n",
        "971 -2.516458 -1.263349  0.440683 -0.827226  0.613982\n",
        "972  0.595777  1.835323  0.896009 -1.285468 -0.773374\n",
        "973 -2.405858 -0.884444 -1.172223 -2.041803  0.852674\n",
        "974  0.986075 -0.758508  2.497801 -0.473257 -1.114761\n",
        "975  1.575324 -0.350948 -1.352014 -0.500768  0.049387\n",
        "976 -0.959318  1.327021 -0.448410  0.088387  0.537526\n",
        "977 -0.773107 -0.840292  0.423129  0.835536 -0.471417\n",
        "978 -0.955748 -1.234349  0.710211  0.505352 -0.709522\n",
        "979 -0.744242  2.648548  0.379627 -0.077055 -1.102059\n",
        "980  1.079055 -0.168154  0.037492  0.086564  1.841633\n",
        "981  2.604396 -0.092853  0.843248 -0.074550 -0.417417\n",
        "982 -0.371982 -0.668266 -0.605440  0.622313  2.269397\n",
        "983 -0.290609 -1.206731  0.362898 -0.266315 -1.319320\n",
        "984 -0.462086  0.199785  0.118919 -1.527756 -0.957336\n",
        "985 -0.607265  1.684932  0.315574 -0.824779  1.573055\n",
        "986  0.488212 -0.310716  0.186142  2.063402 -0.986637\n",
        "987 -0.194916 -0.527183 -0.357868 -0.997394 -0.132555\n",
        "988  0.435412 -0.103079 -0.712392  1.277429  0.978409\n",
        "989 -0.285672  2.299649 -0.170667 -1.332143  0.514917\n",
        "990 -0.870321  0.808187 -1.610660  0.458461 -0.675599\n",
        "991 -0.132548  1.053487  0.155379 -1.856603 -0.130056\n",
        "992  0.852341 -0.042399  0.512718  1.476280 -0.089882\n",
        "993 -0.637110 -2.100919  0.252210 -0.102195 -0.115091\n",
        "994  0.315889  0.617672  0.046723 -0.006362  0.769405\n",
        "995  1.406468 -1.872490 -0.796511 -0.064249  0.588222\n",
        "996  0.546468  1.419085 -0.075532  1.582512 -0.034131\n",
        "997 -1.459589 -1.494835 -0.053099 -0.698816 -0.159606\n",
        "998 -0.044889  1.571804  1.616840  0.614439  1.972680\n",
        "999 -0.142476  1.583062 -2.154616  0.803714 -0.050975\n",
        "\n",
        "[1000 rows x 5 columns]"
       ]
      }
     ],
     "prompt_number": 5
    },
    {
     "cell_type": "code",
     "collapsed": false,
     "input": [
      "frame.ix[::2] = np.nan"
     ],
     "language": "python",
     "metadata": {},
     "outputs": [],
     "prompt_number": 6
    },
    {
     "cell_type": "code",
     "collapsed": false,
     "input": [
      "frame"
     ],
     "language": "python",
     "metadata": {},
     "outputs": [
      {
       "html": [
        "<div style=\"max-height:1000px;max-width:1500px;overflow:auto;\">\n",
        "<table border=\"1\" class=\"dataframe\">\n",
        "  <thead>\n",
        "    <tr style=\"text-align: right;\">\n",
        "      <th></th>\n",
        "      <th>a</th>\n",
        "      <th>b</th>\n",
        "      <th>c</th>\n",
        "      <th>d</th>\n",
        "      <th>e</th>\n",
        "    </tr>\n",
        "  </thead>\n",
        "  <tbody>\n",
        "    <tr>\n",
        "      <th>0  </th>\n",
        "      <td>      NaN</td>\n",
        "      <td>      NaN</td>\n",
        "      <td>      NaN</td>\n",
        "      <td>      NaN</td>\n",
        "      <td>      NaN</td>\n",
        "    </tr>\n",
        "    <tr>\n",
        "      <th>1  </th>\n",
        "      <td> 1.585032</td>\n",
        "      <td>-1.972208</td>\n",
        "      <td>-0.401956</td>\n",
        "      <td> 1.226947</td>\n",
        "      <td>-1.122349</td>\n",
        "    </tr>\n",
        "    <tr>\n",
        "      <th>2  </th>\n",
        "      <td>      NaN</td>\n",
        "      <td>      NaN</td>\n",
        "      <td>      NaN</td>\n",
        "      <td>      NaN</td>\n",
        "      <td>      NaN</td>\n",
        "    </tr>\n",
        "    <tr>\n",
        "      <th>3  </th>\n",
        "      <td>-0.828727</td>\n",
        "      <td>-1.245691</td>\n",
        "      <td> 1.631650</td>\n",
        "      <td>-0.311642</td>\n",
        "      <td> 0.482037</td>\n",
        "    </tr>\n",
        "    <tr>\n",
        "      <th>4  </th>\n",
        "      <td>      NaN</td>\n",
        "      <td>      NaN</td>\n",
        "      <td>      NaN</td>\n",
        "      <td>      NaN</td>\n",
        "      <td>      NaN</td>\n",
        "    </tr>\n",
        "    <tr>\n",
        "      <th>5  </th>\n",
        "      <td>-0.224686</td>\n",
        "      <td> 0.310833</td>\n",
        "      <td> 0.913742</td>\n",
        "      <td> 1.054935</td>\n",
        "      <td>-1.759193</td>\n",
        "    </tr>\n",
        "    <tr>\n",
        "      <th>6  </th>\n",
        "      <td>      NaN</td>\n",
        "      <td>      NaN</td>\n",
        "      <td>      NaN</td>\n",
        "      <td>      NaN</td>\n",
        "      <td>      NaN</td>\n",
        "    </tr>\n",
        "    <tr>\n",
        "      <th>7  </th>\n",
        "      <td> 0.904554</td>\n",
        "      <td> 1.787728</td>\n",
        "      <td>-0.844329</td>\n",
        "      <td> 0.976445</td>\n",
        "      <td>-0.580273</td>\n",
        "    </tr>\n",
        "    <tr>\n",
        "      <th>8  </th>\n",
        "      <td>      NaN</td>\n",
        "      <td>      NaN</td>\n",
        "      <td>      NaN</td>\n",
        "      <td>      NaN</td>\n",
        "      <td>      NaN</td>\n",
        "    </tr>\n",
        "    <tr>\n",
        "      <th>9  </th>\n",
        "      <td>-0.609828</td>\n",
        "      <td> 1.814225</td>\n",
        "      <td> 0.893387</td>\n",
        "      <td>-0.140568</td>\n",
        "      <td>-0.599307</td>\n",
        "    </tr>\n",
        "    <tr>\n",
        "      <th>10 </th>\n",
        "      <td>      NaN</td>\n",
        "      <td>      NaN</td>\n",
        "      <td>      NaN</td>\n",
        "      <td>      NaN</td>\n",
        "      <td>      NaN</td>\n",
        "    </tr>\n",
        "    <tr>\n",
        "      <th>11 </th>\n",
        "      <td>-0.609638</td>\n",
        "      <td>-0.281603</td>\n",
        "      <td> 0.127359</td>\n",
        "      <td>-1.137716</td>\n",
        "      <td>-1.267699</td>\n",
        "    </tr>\n",
        "    <tr>\n",
        "      <th>12 </th>\n",
        "      <td>      NaN</td>\n",
        "      <td>      NaN</td>\n",
        "      <td>      NaN</td>\n",
        "      <td>      NaN</td>\n",
        "      <td>      NaN</td>\n",
        "    </tr>\n",
        "    <tr>\n",
        "      <th>13 </th>\n",
        "      <td>-0.136383</td>\n",
        "      <td>-0.348932</td>\n",
        "      <td> 0.042715</td>\n",
        "      <td>-0.843619</td>\n",
        "      <td>-0.102501</td>\n",
        "    </tr>\n",
        "    <tr>\n",
        "      <th>14 </th>\n",
        "      <td>      NaN</td>\n",
        "      <td>      NaN</td>\n",
        "      <td>      NaN</td>\n",
        "      <td>      NaN</td>\n",
        "      <td>      NaN</td>\n",
        "    </tr>\n",
        "    <tr>\n",
        "      <th>15 </th>\n",
        "      <td>-0.304328</td>\n",
        "      <td>-0.529285</td>\n",
        "      <td> 0.998604</td>\n",
        "      <td>-2.866210</td>\n",
        "      <td>-1.500303</td>\n",
        "    </tr>\n",
        "    <tr>\n",
        "      <th>16 </th>\n",
        "      <td>      NaN</td>\n",
        "      <td>      NaN</td>\n",
        "      <td>      NaN</td>\n",
        "      <td>      NaN</td>\n",
        "      <td>      NaN</td>\n",
        "    </tr>\n",
        "    <tr>\n",
        "      <th>17 </th>\n",
        "      <td>-0.468421</td>\n",
        "      <td> 1.438356</td>\n",
        "      <td>-0.300261</td>\n",
        "      <td> 0.374536</td>\n",
        "      <td> 0.529377</td>\n",
        "    </tr>\n",
        "    <tr>\n",
        "      <th>18 </th>\n",
        "      <td>      NaN</td>\n",
        "      <td>      NaN</td>\n",
        "      <td>      NaN</td>\n",
        "      <td>      NaN</td>\n",
        "      <td>      NaN</td>\n",
        "    </tr>\n",
        "    <tr>\n",
        "      <th>19 </th>\n",
        "      <td>-1.021568</td>\n",
        "      <td> 0.269152</td>\n",
        "      <td>-0.676727</td>\n",
        "      <td> 0.330305</td>\n",
        "      <td> 0.965258</td>\n",
        "    </tr>\n",
        "    <tr>\n",
        "      <th>20 </th>\n",
        "      <td>      NaN</td>\n",
        "      <td>      NaN</td>\n",
        "      <td>      NaN</td>\n",
        "      <td>      NaN</td>\n",
        "      <td>      NaN</td>\n",
        "    </tr>\n",
        "    <tr>\n",
        "      <th>21 </th>\n",
        "      <td>-0.813718</td>\n",
        "      <td>-1.490199</td>\n",
        "      <td> 1.235650</td>\n",
        "      <td>-0.081855</td>\n",
        "      <td> 1.451054</td>\n",
        "    </tr>\n",
        "    <tr>\n",
        "      <th>22 </th>\n",
        "      <td>      NaN</td>\n",
        "      <td>      NaN</td>\n",
        "      <td>      NaN</td>\n",
        "      <td>      NaN</td>\n",
        "      <td>      NaN</td>\n",
        "    </tr>\n",
        "    <tr>\n",
        "      <th>23 </th>\n",
        "      <td> 0.651651</td>\n",
        "      <td> 0.857838</td>\n",
        "      <td>-0.343437</td>\n",
        "      <td> 2.676996</td>\n",
        "      <td> 0.722540</td>\n",
        "    </tr>\n",
        "    <tr>\n",
        "      <th>24 </th>\n",
        "      <td>      NaN</td>\n",
        "      <td>      NaN</td>\n",
        "      <td>      NaN</td>\n",
        "      <td>      NaN</td>\n",
        "      <td>      NaN</td>\n",
        "    </tr>\n",
        "    <tr>\n",
        "      <th>25 </th>\n",
        "      <td> 1.028671</td>\n",
        "      <td> 1.346002</td>\n",
        "      <td> 0.320813</td>\n",
        "      <td>-0.669308</td>\n",
        "      <td> 0.046649</td>\n",
        "    </tr>\n",
        "    <tr>\n",
        "      <th>26 </th>\n",
        "      <td>      NaN</td>\n",
        "      <td>      NaN</td>\n",
        "      <td>      NaN</td>\n",
        "      <td>      NaN</td>\n",
        "      <td>      NaN</td>\n",
        "    </tr>\n",
        "    <tr>\n",
        "      <th>27 </th>\n",
        "      <td> 0.779563</td>\n",
        "      <td> 0.204455</td>\n",
        "      <td> 2.193545</td>\n",
        "      <td>-0.802937</td>\n",
        "      <td>-0.237627</td>\n",
        "    </tr>\n",
        "    <tr>\n",
        "      <th>28 </th>\n",
        "      <td>      NaN</td>\n",
        "      <td>      NaN</td>\n",
        "      <td>      NaN</td>\n",
        "      <td>      NaN</td>\n",
        "      <td>      NaN</td>\n",
        "    </tr>\n",
        "    <tr>\n",
        "      <th>29 </th>\n",
        "      <td> 2.504670</td>\n",
        "      <td> 3.267243</td>\n",
        "      <td> 0.319640</td>\n",
        "      <td> 1.757003</td>\n",
        "      <td>-1.311677</td>\n",
        "    </tr>\n",
        "    <tr>\n",
        "      <th>...</th>\n",
        "      <td>...</td>\n",
        "      <td>...</td>\n",
        "      <td>...</td>\n",
        "      <td>...</td>\n",
        "      <td>...</td>\n",
        "    </tr>\n",
        "    <tr>\n",
        "      <th>970</th>\n",
        "      <td>      NaN</td>\n",
        "      <td>      NaN</td>\n",
        "      <td>      NaN</td>\n",
        "      <td>      NaN</td>\n",
        "      <td>      NaN</td>\n",
        "    </tr>\n",
        "    <tr>\n",
        "      <th>971</th>\n",
        "      <td>-2.516458</td>\n",
        "      <td>-1.263349</td>\n",
        "      <td> 0.440683</td>\n",
        "      <td>-0.827226</td>\n",
        "      <td> 0.613982</td>\n",
        "    </tr>\n",
        "    <tr>\n",
        "      <th>972</th>\n",
        "      <td>      NaN</td>\n",
        "      <td>      NaN</td>\n",
        "      <td>      NaN</td>\n",
        "      <td>      NaN</td>\n",
        "      <td>      NaN</td>\n",
        "    </tr>\n",
        "    <tr>\n",
        "      <th>973</th>\n",
        "      <td>-2.405858</td>\n",
        "      <td>-0.884444</td>\n",
        "      <td>-1.172223</td>\n",
        "      <td>-2.041803</td>\n",
        "      <td> 0.852674</td>\n",
        "    </tr>\n",
        "    <tr>\n",
        "      <th>974</th>\n",
        "      <td>      NaN</td>\n",
        "      <td>      NaN</td>\n",
        "      <td>      NaN</td>\n",
        "      <td>      NaN</td>\n",
        "      <td>      NaN</td>\n",
        "    </tr>\n",
        "    <tr>\n",
        "      <th>975</th>\n",
        "      <td> 1.575324</td>\n",
        "      <td>-0.350948</td>\n",
        "      <td>-1.352014</td>\n",
        "      <td>-0.500768</td>\n",
        "      <td> 0.049387</td>\n",
        "    </tr>\n",
        "    <tr>\n",
        "      <th>976</th>\n",
        "      <td>      NaN</td>\n",
        "      <td>      NaN</td>\n",
        "      <td>      NaN</td>\n",
        "      <td>      NaN</td>\n",
        "      <td>      NaN</td>\n",
        "    </tr>\n",
        "    <tr>\n",
        "      <th>977</th>\n",
        "      <td>-0.773107</td>\n",
        "      <td>-0.840292</td>\n",
        "      <td> 0.423129</td>\n",
        "      <td> 0.835536</td>\n",
        "      <td>-0.471417</td>\n",
        "    </tr>\n",
        "    <tr>\n",
        "      <th>978</th>\n",
        "      <td>      NaN</td>\n",
        "      <td>      NaN</td>\n",
        "      <td>      NaN</td>\n",
        "      <td>      NaN</td>\n",
        "      <td>      NaN</td>\n",
        "    </tr>\n",
        "    <tr>\n",
        "      <th>979</th>\n",
        "      <td>-0.744242</td>\n",
        "      <td> 2.648548</td>\n",
        "      <td> 0.379627</td>\n",
        "      <td>-0.077055</td>\n",
        "      <td>-1.102059</td>\n",
        "    </tr>\n",
        "    <tr>\n",
        "      <th>980</th>\n",
        "      <td>      NaN</td>\n",
        "      <td>      NaN</td>\n",
        "      <td>      NaN</td>\n",
        "      <td>      NaN</td>\n",
        "      <td>      NaN</td>\n",
        "    </tr>\n",
        "    <tr>\n",
        "      <th>981</th>\n",
        "      <td> 2.604396</td>\n",
        "      <td>-0.092853</td>\n",
        "      <td> 0.843248</td>\n",
        "      <td>-0.074550</td>\n",
        "      <td>-0.417417</td>\n",
        "    </tr>\n",
        "    <tr>\n",
        "      <th>982</th>\n",
        "      <td>      NaN</td>\n",
        "      <td>      NaN</td>\n",
        "      <td>      NaN</td>\n",
        "      <td>      NaN</td>\n",
        "      <td>      NaN</td>\n",
        "    </tr>\n",
        "    <tr>\n",
        "      <th>983</th>\n",
        "      <td>-0.290609</td>\n",
        "      <td>-1.206731</td>\n",
        "      <td> 0.362898</td>\n",
        "      <td>-0.266315</td>\n",
        "      <td>-1.319320</td>\n",
        "    </tr>\n",
        "    <tr>\n",
        "      <th>984</th>\n",
        "      <td>      NaN</td>\n",
        "      <td>      NaN</td>\n",
        "      <td>      NaN</td>\n",
        "      <td>      NaN</td>\n",
        "      <td>      NaN</td>\n",
        "    </tr>\n",
        "    <tr>\n",
        "      <th>985</th>\n",
        "      <td>-0.607265</td>\n",
        "      <td> 1.684932</td>\n",
        "      <td> 0.315574</td>\n",
        "      <td>-0.824779</td>\n",
        "      <td> 1.573055</td>\n",
        "    </tr>\n",
        "    <tr>\n",
        "      <th>986</th>\n",
        "      <td>      NaN</td>\n",
        "      <td>      NaN</td>\n",
        "      <td>      NaN</td>\n",
        "      <td>      NaN</td>\n",
        "      <td>      NaN</td>\n",
        "    </tr>\n",
        "    <tr>\n",
        "      <th>987</th>\n",
        "      <td>-0.194916</td>\n",
        "      <td>-0.527183</td>\n",
        "      <td>-0.357868</td>\n",
        "      <td>-0.997394</td>\n",
        "      <td>-0.132555</td>\n",
        "    </tr>\n",
        "    <tr>\n",
        "      <th>988</th>\n",
        "      <td>      NaN</td>\n",
        "      <td>      NaN</td>\n",
        "      <td>      NaN</td>\n",
        "      <td>      NaN</td>\n",
        "      <td>      NaN</td>\n",
        "    </tr>\n",
        "    <tr>\n",
        "      <th>989</th>\n",
        "      <td>-0.285672</td>\n",
        "      <td> 2.299649</td>\n",
        "      <td>-0.170667</td>\n",
        "      <td>-1.332143</td>\n",
        "      <td> 0.514917</td>\n",
        "    </tr>\n",
        "    <tr>\n",
        "      <th>990</th>\n",
        "      <td>      NaN</td>\n",
        "      <td>      NaN</td>\n",
        "      <td>      NaN</td>\n",
        "      <td>      NaN</td>\n",
        "      <td>      NaN</td>\n",
        "    </tr>\n",
        "    <tr>\n",
        "      <th>991</th>\n",
        "      <td>-0.132548</td>\n",
        "      <td> 1.053487</td>\n",
        "      <td> 0.155379</td>\n",
        "      <td>-1.856603</td>\n",
        "      <td>-0.130056</td>\n",
        "    </tr>\n",
        "    <tr>\n",
        "      <th>992</th>\n",
        "      <td>      NaN</td>\n",
        "      <td>      NaN</td>\n",
        "      <td>      NaN</td>\n",
        "      <td>      NaN</td>\n",
        "      <td>      NaN</td>\n",
        "    </tr>\n",
        "    <tr>\n",
        "      <th>993</th>\n",
        "      <td>-0.637110</td>\n",
        "      <td>-2.100919</td>\n",
        "      <td> 0.252210</td>\n",
        "      <td>-0.102195</td>\n",
        "      <td>-0.115091</td>\n",
        "    </tr>\n",
        "    <tr>\n",
        "      <th>994</th>\n",
        "      <td>      NaN</td>\n",
        "      <td>      NaN</td>\n",
        "      <td>      NaN</td>\n",
        "      <td>      NaN</td>\n",
        "      <td>      NaN</td>\n",
        "    </tr>\n",
        "    <tr>\n",
        "      <th>995</th>\n",
        "      <td> 1.406468</td>\n",
        "      <td>-1.872490</td>\n",
        "      <td>-0.796511</td>\n",
        "      <td>-0.064249</td>\n",
        "      <td> 0.588222</td>\n",
        "    </tr>\n",
        "    <tr>\n",
        "      <th>996</th>\n",
        "      <td>      NaN</td>\n",
        "      <td>      NaN</td>\n",
        "      <td>      NaN</td>\n",
        "      <td>      NaN</td>\n",
        "      <td>      NaN</td>\n",
        "    </tr>\n",
        "    <tr>\n",
        "      <th>997</th>\n",
        "      <td>-1.459589</td>\n",
        "      <td>-1.494835</td>\n",
        "      <td>-0.053099</td>\n",
        "      <td>-0.698816</td>\n",
        "      <td>-0.159606</td>\n",
        "    </tr>\n",
        "    <tr>\n",
        "      <th>998</th>\n",
        "      <td>      NaN</td>\n",
        "      <td>      NaN</td>\n",
        "      <td>      NaN</td>\n",
        "      <td>      NaN</td>\n",
        "      <td>      NaN</td>\n",
        "    </tr>\n",
        "    <tr>\n",
        "      <th>999</th>\n",
        "      <td>-0.142476</td>\n",
        "      <td> 1.583062</td>\n",
        "      <td>-2.154616</td>\n",
        "      <td> 0.803714</td>\n",
        "      <td>-0.050975</td>\n",
        "    </tr>\n",
        "  </tbody>\n",
        "</table>\n",
        "<p>1000 rows \u00d7 5 columns</p>\n",
        "</div>"
       ],
       "metadata": {},
       "output_type": "pyout",
       "prompt_number": 7,
       "text": [
        "            a         b         c         d         e\n",
        "0         NaN       NaN       NaN       NaN       NaN\n",
        "1    1.585032 -1.972208 -0.401956  1.226947 -1.122349\n",
        "2         NaN       NaN       NaN       NaN       NaN\n",
        "3   -0.828727 -1.245691  1.631650 -0.311642  0.482037\n",
        "4         NaN       NaN       NaN       NaN       NaN\n",
        "5   -0.224686  0.310833  0.913742  1.054935 -1.759193\n",
        "6         NaN       NaN       NaN       NaN       NaN\n",
        "7    0.904554  1.787728 -0.844329  0.976445 -0.580273\n",
        "8         NaN       NaN       NaN       NaN       NaN\n",
        "9   -0.609828  1.814225  0.893387 -0.140568 -0.599307\n",
        "10        NaN       NaN       NaN       NaN       NaN\n",
        "11  -0.609638 -0.281603  0.127359 -1.137716 -1.267699\n",
        "12        NaN       NaN       NaN       NaN       NaN\n",
        "13  -0.136383 -0.348932  0.042715 -0.843619 -0.102501\n",
        "14        NaN       NaN       NaN       NaN       NaN\n",
        "15  -0.304328 -0.529285  0.998604 -2.866210 -1.500303\n",
        "16        NaN       NaN       NaN       NaN       NaN\n",
        "17  -0.468421  1.438356 -0.300261  0.374536  0.529377\n",
        "18        NaN       NaN       NaN       NaN       NaN\n",
        "19  -1.021568  0.269152 -0.676727  0.330305  0.965258\n",
        "20        NaN       NaN       NaN       NaN       NaN\n",
        "21  -0.813718 -1.490199  1.235650 -0.081855  1.451054\n",
        "22        NaN       NaN       NaN       NaN       NaN\n",
        "23   0.651651  0.857838 -0.343437  2.676996  0.722540\n",
        "24        NaN       NaN       NaN       NaN       NaN\n",
        "25   1.028671  1.346002  0.320813 -0.669308  0.046649\n",
        "26        NaN       NaN       NaN       NaN       NaN\n",
        "27   0.779563  0.204455  2.193545 -0.802937 -0.237627\n",
        "28        NaN       NaN       NaN       NaN       NaN\n",
        "29   2.504670  3.267243  0.319640  1.757003 -1.311677\n",
        "..        ...       ...       ...       ...       ...\n",
        "970       NaN       NaN       NaN       NaN       NaN\n",
        "971 -2.516458 -1.263349  0.440683 -0.827226  0.613982\n",
        "972       NaN       NaN       NaN       NaN       NaN\n",
        "973 -2.405858 -0.884444 -1.172223 -2.041803  0.852674\n",
        "974       NaN       NaN       NaN       NaN       NaN\n",
        "975  1.575324 -0.350948 -1.352014 -0.500768  0.049387\n",
        "976       NaN       NaN       NaN       NaN       NaN\n",
        "977 -0.773107 -0.840292  0.423129  0.835536 -0.471417\n",
        "978       NaN       NaN       NaN       NaN       NaN\n",
        "979 -0.744242  2.648548  0.379627 -0.077055 -1.102059\n",
        "980       NaN       NaN       NaN       NaN       NaN\n",
        "981  2.604396 -0.092853  0.843248 -0.074550 -0.417417\n",
        "982       NaN       NaN       NaN       NaN       NaN\n",
        "983 -0.290609 -1.206731  0.362898 -0.266315 -1.319320\n",
        "984       NaN       NaN       NaN       NaN       NaN\n",
        "985 -0.607265  1.684932  0.315574 -0.824779  1.573055\n",
        "986       NaN       NaN       NaN       NaN       NaN\n",
        "987 -0.194916 -0.527183 -0.357868 -0.997394 -0.132555\n",
        "988       NaN       NaN       NaN       NaN       NaN\n",
        "989 -0.285672  2.299649 -0.170667 -1.332143  0.514917\n",
        "990       NaN       NaN       NaN       NaN       NaN\n",
        "991 -0.132548  1.053487  0.155379 -1.856603 -0.130056\n",
        "992       NaN       NaN       NaN       NaN       NaN\n",
        "993 -0.637110 -2.100919  0.252210 -0.102195 -0.115091\n",
        "994       NaN       NaN       NaN       NaN       NaN\n",
        "995  1.406468 -1.872490 -0.796511 -0.064249  0.588222\n",
        "996       NaN       NaN       NaN       NaN       NaN\n",
        "997 -1.459589 -1.494835 -0.053099 -0.698816 -0.159606\n",
        "998       NaN       NaN       NaN       NaN       NaN\n",
        "999 -0.142476  1.583062 -2.154616  0.803714 -0.050975\n",
        "\n",
        "[1000 rows x 5 columns]"
       ]
      }
     ],
     "prompt_number": 7
    },
    {
     "cell_type": "code",
     "collapsed": false,
     "input": [
      "# Series with Series\n",
      "frame['a'].corr(frame['b'])"
     ],
     "language": "python",
     "metadata": {},
     "outputs": [
      {
       "metadata": {},
       "output_type": "pyout",
       "prompt_number": 8,
       "text": [
        "0.074630602079107239"
       ]
      }
     ],
     "prompt_number": 8
    },
    {
     "cell_type": "code",
     "collapsed": false,
     "input": [
      "# Specifying method\n",
      "frame['a'].corr(frame['b'], method='spearman')"
     ],
     "language": "python",
     "metadata": {},
     "outputs": [
      {
       "metadata": {},
       "output_type": "pyout",
       "prompt_number": 9,
       "text": [
        "0.078762459049836198"
       ]
      }
     ],
     "prompt_number": 9
    },
    {
     "cell_type": "markdown",
     "metadata": {},
     "source": [
      "\\33.  Calculate for the pairwise correlation of DataFrame columns, such that the table below is observed. (As you should have observed by now, non-numeric columns will be automatically excluded from the correlation calculation."
     ]
    },
    {
     "cell_type": "code",
     "collapsed": false,
     "input": [
      "frame.?"
     ],
     "language": "python",
     "metadata": {},
     "outputs": [
      {
       "html": [
        "<div style=\"max-height:1000px;max-width:1500px;overflow:auto;\">\n",
        "<table border=\"1\" class=\"dataframe\">\n",
        "  <thead>\n",
        "    <tr style=\"text-align: right;\">\n",
        "      <th></th>\n",
        "      <th>a</th>\n",
        "      <th>b</th>\n",
        "      <th>c</th>\n",
        "      <th>d</th>\n",
        "      <th>e</th>\n",
        "    </tr>\n",
        "  </thead>\n",
        "  <tbody>\n",
        "    <tr>\n",
        "      <th>a</th>\n",
        "      <td> 1.000000</td>\n",
        "      <td> 0.074631</td>\n",
        "      <td> 0.059037</td>\n",
        "      <td> 0.061843</td>\n",
        "      <td>-0.027832</td>\n",
        "    </tr>\n",
        "    <tr>\n",
        "      <th>b</th>\n",
        "      <td> 0.074631</td>\n",
        "      <td> 1.000000</td>\n",
        "      <td>-0.051280</td>\n",
        "      <td> 0.074509</td>\n",
        "      <td> 0.095700</td>\n",
        "    </tr>\n",
        "    <tr>\n",
        "      <th>c</th>\n",
        "      <td> 0.059037</td>\n",
        "      <td>-0.051280</td>\n",
        "      <td> 1.000000</td>\n",
        "      <td>-0.027934</td>\n",
        "      <td>-0.084665</td>\n",
        "    </tr>\n",
        "    <tr>\n",
        "      <th>d</th>\n",
        "      <td> 0.061843</td>\n",
        "      <td> 0.074509</td>\n",
        "      <td>-0.027934</td>\n",
        "      <td> 1.000000</td>\n",
        "      <td>-0.055195</td>\n",
        "    </tr>\n",
        "    <tr>\n",
        "      <th>e</th>\n",
        "      <td>-0.027832</td>\n",
        "      <td> 0.095700</td>\n",
        "      <td>-0.084665</td>\n",
        "      <td>-0.055195</td>\n",
        "      <td> 1.000000</td>\n",
        "    </tr>\n",
        "  </tbody>\n",
        "</table>\n",
        "</div>"
       ],
       "metadata": {},
       "output_type": "pyout",
       "prompt_number": 10,
       "text": [
        "          a         b         c         d         e\n",
        "a  1.000000  0.074631  0.059037  0.061843 -0.027832\n",
        "b  0.074631  1.000000 -0.051280  0.074509  0.095700\n",
        "c  0.059037 -0.051280  1.000000 -0.027934 -0.084665\n",
        "d  0.061843  0.074509 -0.027934  1.000000 -0.055195\n",
        "e -0.027832  0.095700 -0.084665 -0.055195  1.000000"
       ]
      }
     ],
     "prompt_number": 10
    },
    {
     "cell_type": "markdown",
     "metadata": {},
     "source": [
      "A related method corrwith is implemented on DataFrame to compute the correlation between like-labeled Series contained in different DataFrame objects."
     ]
    },
    {
     "cell_type": "code",
     "collapsed": false,
     "input": [
      "index = ['a', 'b', 'c', 'd', 'e']"
     ],
     "language": "python",
     "metadata": {},
     "outputs": [],
     "prompt_number": 11
    },
    {
     "cell_type": "code",
     "collapsed": false,
     "input": [
      "columns = ['one', 'two', 'three', 'four']"
     ],
     "language": "python",
     "metadata": {},
     "outputs": [],
     "prompt_number": 12
    },
    {
     "cell_type": "code",
     "collapsed": false,
     "input": [
      "df1 = DataFrame(np.random.randn(5, 4), index=index, columns=columns)"
     ],
     "language": "python",
     "metadata": {},
     "outputs": [],
     "prompt_number": 15
    },
    {
     "cell_type": "code",
     "collapsed": false,
     "input": [
      "df2 = DataFrame(np.random.randn(4,4), index=index[:4], columns=columns)"
     ],
     "language": "python",
     "metadata": {},
     "outputs": [],
     "prompt_number": 16
    },
    {
     "cell_type": "code",
     "collapsed": false,
     "input": [
      "df1"
     ],
     "language": "python",
     "metadata": {},
     "outputs": [
      {
       "html": [
        "<div style=\"max-height:1000px;max-width:1500px;overflow:auto;\">\n",
        "<table border=\"1\" class=\"dataframe\">\n",
        "  <thead>\n",
        "    <tr style=\"text-align: right;\">\n",
        "      <th></th>\n",
        "      <th>one</th>\n",
        "      <th>two</th>\n",
        "      <th>three</th>\n",
        "      <th>four</th>\n",
        "    </tr>\n",
        "  </thead>\n",
        "  <tbody>\n",
        "    <tr>\n",
        "      <th>a</th>\n",
        "      <td> 1.417906</td>\n",
        "      <td> 1.466588</td>\n",
        "      <td> 0.535779</td>\n",
        "      <td>-0.183538</td>\n",
        "    </tr>\n",
        "    <tr>\n",
        "      <th>b</th>\n",
        "      <td> 0.169502</td>\n",
        "      <td> 0.025779</td>\n",
        "      <td>-1.317424</td>\n",
        "      <td>-1.486191</td>\n",
        "    </tr>\n",
        "    <tr>\n",
        "      <th>c</th>\n",
        "      <td> 0.347001</td>\n",
        "      <td>-0.171914</td>\n",
        "      <td>-1.376685</td>\n",
        "      <td>-0.802226</td>\n",
        "    </tr>\n",
        "    <tr>\n",
        "      <th>d</th>\n",
        "      <td>-1.548849</td>\n",
        "      <td>-0.118968</td>\n",
        "      <td> 0.191929</td>\n",
        "      <td> 1.766759</td>\n",
        "    </tr>\n",
        "    <tr>\n",
        "      <th>e</th>\n",
        "      <td>-1.159956</td>\n",
        "      <td>-0.917478</td>\n",
        "      <td> 1.585597</td>\n",
        "      <td>-0.217266</td>\n",
        "    </tr>\n",
        "  </tbody>\n",
        "</table>\n",
        "</div>"
       ],
       "metadata": {},
       "output_type": "pyout",
       "prompt_number": 17,
       "text": [
        "        one       two     three      four\n",
        "a  1.417906  1.466588  0.535779 -0.183538\n",
        "b  0.169502  0.025779 -1.317424 -1.486191\n",
        "c  0.347001 -0.171914 -1.376685 -0.802226\n",
        "d -1.548849 -0.118968  0.191929  1.766759\n",
        "e -1.159956 -0.917478  1.585597 -0.217266"
       ]
      }
     ],
     "prompt_number": 17
    },
    {
     "cell_type": "code",
     "collapsed": false,
     "input": [
      "df2"
     ],
     "language": "python",
     "metadata": {},
     "outputs": [
      {
       "html": [
        "<div style=\"max-height:1000px;max-width:1500px;overflow:auto;\">\n",
        "<table border=\"1\" class=\"dataframe\">\n",
        "  <thead>\n",
        "    <tr style=\"text-align: right;\">\n",
        "      <th></th>\n",
        "      <th>one</th>\n",
        "      <th>two</th>\n",
        "      <th>three</th>\n",
        "      <th>four</th>\n",
        "    </tr>\n",
        "  </thead>\n",
        "  <tbody>\n",
        "    <tr>\n",
        "      <th>a</th>\n",
        "      <td> 0.667511</td>\n",
        "      <td>-1.047291</td>\n",
        "      <td>-1.989008</td>\n",
        "      <td> 0.028414</td>\n",
        "    </tr>\n",
        "    <tr>\n",
        "      <th>b</th>\n",
        "      <td>-0.399743</td>\n",
        "      <td>-0.779850</td>\n",
        "      <td> 2.215622</td>\n",
        "      <td> 0.032965</td>\n",
        "    </tr>\n",
        "    <tr>\n",
        "      <th>c</th>\n",
        "      <td>-0.291547</td>\n",
        "      <td> 1.139762</td>\n",
        "      <td> 1.477021</td>\n",
        "      <td> 1.672956</td>\n",
        "    </tr>\n",
        "    <tr>\n",
        "      <th>d</th>\n",
        "      <td>-1.742902</td>\n",
        "      <td>-1.262583</td>\n",
        "      <td> 0.557595</td>\n",
        "      <td> 0.002442</td>\n",
        "    </tr>\n",
        "  </tbody>\n",
        "</table>\n",
        "</div>"
       ],
       "metadata": {},
       "output_type": "pyout",
       "prompt_number": 18,
       "text": [
        "        one       two     three      four\n",
        "a  0.667511 -1.047291 -1.989008  0.028414\n",
        "b -0.399743 -0.779850  2.215622  0.032965\n",
        "c -0.291547  1.139762  1.477021  1.672956\n",
        "d -1.742902 -1.262583  0.557595  0.002442"
       ]
      }
     ],
     "prompt_number": 18
    },
    {
     "cell_type": "code",
     "collapsed": false,
     "input": [
      "df1.corrwith(df2)"
     ],
     "language": "python",
     "metadata": {},
     "outputs": [
      {
       "metadata": {},
       "output_type": "pyout",
       "prompt_number": 19,
       "text": [
        "one      0.999061\n",
        "two     -0.392807\n",
        "three   -0.874518\n",
        "four    -0.312915\n",
        "dtype: float64"
       ]
      }
     ],
     "prompt_number": 19
    },
    {
     "cell_type": "code",
     "collapsed": false,
     "input": [
      "df2.corrwith(df1, axis=1)"
     ],
     "language": "python",
     "metadata": {},
     "outputs": [
      {
       "metadata": {},
       "output_type": "pyout",
       "prompt_number": 20,
       "text": [
        "a    0.084156\n",
        "b   -0.673739\n",
        "c   -0.835873\n",
        "d    0.717552\n",
        "e         NaN\n",
        "dtype: float64"
       ]
      }
     ],
     "prompt_number": 20
    },
    {
     "cell_type": "heading",
     "level": 3,
     "metadata": {},
     "source": [
      "Unique Values, Value Counts, Membership"
     ]
    },
    {
     "cell_type": "markdown",
     "metadata": {},
     "source": [
      "Another class of related methods extracts information about the values contained in a one-dimensional Series. "
     ]
    },
    {
     "cell_type": "markdown",
     "metadata": {},
     "source": [
      "The function unique gives an array of the unique value in a Series."
     ]
    },
    {
     "cell_type": "code",
     "collapsed": false,
     "input": [
      "obj = Series(['c', 'a', 'd', 'a', 'a', 'b', 'b', 'c'])"
     ],
     "language": "python",
     "metadata": {},
     "outputs": [],
     "prompt_number": 21
    },
    {
     "cell_type": "code",
     "collapsed": false,
     "input": [
      "uniques = obj.unique()"
     ],
     "language": "python",
     "metadata": {},
     "outputs": [],
     "prompt_number": 27
    },
    {
     "cell_type": "code",
     "collapsed": false,
     "input": [
      "uniques"
     ],
     "language": "python",
     "metadata": {},
     "outputs": [
      {
       "metadata": {},
       "output_type": "pyout",
       "prompt_number": 28,
       "text": [
        "array(['c', 'a', 'd', 'b'], dtype=object)"
       ]
      }
     ],
     "prompt_number": 28
    },
    {
     "cell_type": "markdown",
     "metadata": {},
     "source": [
      "To sort the objects:"
     ]
    },
    {
     "cell_type": "code",
     "collapsed": false,
     "input": [
      "uniques.sort()"
     ],
     "language": "python",
     "metadata": {},
     "outputs": [],
     "prompt_number": 29
    },
    {
     "cell_type": "code",
     "collapsed": false,
     "input": [
      "uniques"
     ],
     "language": "python",
     "metadata": {},
     "outputs": [
      {
       "metadata": {},
       "output_type": "pyout",
       "prompt_number": 30,
       "text": [
        "array(['a', 'b', 'c', 'd'], dtype=object)"
       ]
      }
     ],
     "prompt_number": 30
    },
    {
     "cell_type": "markdown",
     "metadata": {},
     "source": [
      "To compute value frequencies of a Series, use the function value_counts.  Notice that the Series is sorted by value in descending order as a convenience."
     ]
    },
    {
     "cell_type": "code",
     "collapsed": true,
     "input": [
      "obj.value_counts()"
     ],
     "language": "python",
     "metadata": {},
     "outputs": [
      {
       "metadata": {},
       "output_type": "pyout",
       "prompt_number": 31,
       "text": [
        "a    3\n",
        "b    2\n",
        "c    2\n",
        "d    1\n",
        "dtype: int64"
       ]
      }
     ],
     "prompt_number": 31
    },
    {
     "cell_type": "markdown",
     "metadata": {},
     "source": [
      "value_counts is also available as a top-levelpandas method that can be used with any array or sequence.  "
     ]
    },
    {
     "cell_type": "markdown",
     "metadata": {},
     "source": [
      "\\34.  Apply the pandas method to determine the frequency of the elements of the series obj, such that the table below is observed."
     ]
    },
    {
     "cell_type": "code",
     "collapsed": false,
     "input": [
      "pd.?(?)"
     ],
     "language": "python",
     "metadata": {},
     "outputs": [
      {
       "metadata": {},
       "output_type": "pyout",
       "prompt_number": 32,
       "text": [
        "a    3\n",
        "c    2\n",
        "b    2\n",
        "d    1\n",
        "dtype: int64"
       ]
      }
     ],
     "prompt_number": 32
    },
    {
     "cell_type": "markdown",
     "metadata": {},
     "source": [
      "\\35.  The function isin is responsible for vectorized set membership and can be very useful in filtering a data set down to a subset of values in a Series or column in a DataFrame.  Apply the isin function to create a subset of values containing only the elements b and c.  Notice that the isin function is a boolean function and needs to be passed to the Series object to display the table containing the desired subset of values.  The table below should be observed."
     ]
    },
    {
     "cell_type": "code",
     "collapsed": false,
     "input": [
      "? = obj.isin(?) # YOu can assign to a variable"
     ],
     "language": "python",
     "metadata": {},
     "outputs": [],
     "prompt_number": 33
    },
    {
     "cell_type": "code",
     "collapsed": false,
     "input": [
      "obj[?]"
     ],
     "language": "python",
     "metadata": {},
     "outputs": [
      {
       "metadata": {},
       "output_type": "pyout",
       "prompt_number": 34,
       "text": [
        "0    c\n",
        "5    b\n",
        "6    b\n",
        "7    c\n",
        "dtype: object"
       ]
      }
     ],
     "prompt_number": 34
    },
    {
     "cell_type": "markdown",
     "metadata": {},
     "source": [
      "\\36.  Compute a histogram on multiple related columns in the data DataFrame. (Hint: pass pandas.value_counts to the DataFrame's apply function) (Additional hint: use the fillna function so as not to see the NaN values in the table."
     ]
    },
    {
     "cell_type": "code",
     "collapsed": false,
     "input": [
      "data = DataFrame({'Qu1': [1, 3, 4, 3, 5],\n",
      "                  'Qu2': [2, 3, 1, 2, 3],\n",
      "                  'Qu3': [1, 5, 2, 4, 4]})"
     ],
     "language": "python",
     "metadata": {},
     "outputs": [],
     "prompt_number": 35
    },
    {
     "cell_type": "code",
     "collapsed": false,
     "input": [
      "data"
     ],
     "language": "python",
     "metadata": {},
     "outputs": [
      {
       "html": [
        "<div style=\"max-height:1000px;max-width:1500px;overflow:auto;\">\n",
        "<table border=\"1\" class=\"dataframe\">\n",
        "  <thead>\n",
        "    <tr style=\"text-align: right;\">\n",
        "      <th></th>\n",
        "      <th>Qu1</th>\n",
        "      <th>Qu2</th>\n",
        "      <th>Qu3</th>\n",
        "    </tr>\n",
        "  </thead>\n",
        "  <tbody>\n",
        "    <tr>\n",
        "      <th>0</th>\n",
        "      <td> 1</td>\n",
        "      <td> 2</td>\n",
        "      <td> 1</td>\n",
        "    </tr>\n",
        "    <tr>\n",
        "      <th>1</th>\n",
        "      <td> 3</td>\n",
        "      <td> 3</td>\n",
        "      <td> 5</td>\n",
        "    </tr>\n",
        "    <tr>\n",
        "      <th>2</th>\n",
        "      <td> 4</td>\n",
        "      <td> 1</td>\n",
        "      <td> 2</td>\n",
        "    </tr>\n",
        "    <tr>\n",
        "      <th>3</th>\n",
        "      <td> 3</td>\n",
        "      <td> 2</td>\n",
        "      <td> 4</td>\n",
        "    </tr>\n",
        "    <tr>\n",
        "      <th>4</th>\n",
        "      <td> 5</td>\n",
        "      <td> 3</td>\n",
        "      <td> 4</td>\n",
        "    </tr>\n",
        "  </tbody>\n",
        "</table>\n",
        "</div>"
       ],
       "metadata": {},
       "output_type": "pyout",
       "prompt_number": 36,
       "text": [
        "   Qu1  Qu2  Qu3\n",
        "0    1    2    1\n",
        "1    3    3    5\n",
        "2    4    1    2\n",
        "3    3    2    4\n",
        "4    5    3    4"
       ]
      }
     ],
     "prompt_number": 36
    },
    {
     "cell_type": "code",
     "collapsed": false,
     "input": [
      "The table below should be observed."
     ],
     "language": "python",
     "metadata": {},
     "outputs": [
      {
       "html": [
        "<div style=\"max-height:1000px;max-width:1500px;overflow:auto;\">\n",
        "<table border=\"1\" class=\"dataframe\">\n",
        "  <thead>\n",
        "    <tr style=\"text-align: right;\">\n",
        "      <th></th>\n",
        "      <th>Qu1</th>\n",
        "      <th>Qu2</th>\n",
        "      <th>Qu3</th>\n",
        "    </tr>\n",
        "  </thead>\n",
        "  <tbody>\n",
        "    <tr>\n",
        "      <th>1</th>\n",
        "      <td> 1</td>\n",
        "      <td> 1</td>\n",
        "      <td> 1</td>\n",
        "    </tr>\n",
        "    <tr>\n",
        "      <th>2</th>\n",
        "      <td> 0</td>\n",
        "      <td> 2</td>\n",
        "      <td> 1</td>\n",
        "    </tr>\n",
        "    <tr>\n",
        "      <th>3</th>\n",
        "      <td> 2</td>\n",
        "      <td> 2</td>\n",
        "      <td> 0</td>\n",
        "    </tr>\n",
        "    <tr>\n",
        "      <th>4</th>\n",
        "      <td> 1</td>\n",
        "      <td> 0</td>\n",
        "      <td> 2</td>\n",
        "    </tr>\n",
        "    <tr>\n",
        "      <th>5</th>\n",
        "      <td> 1</td>\n",
        "      <td> 0</td>\n",
        "      <td> 1</td>\n",
        "    </tr>\n",
        "  </tbody>\n",
        "</table>\n",
        "</div>"
       ],
       "metadata": {},
       "output_type": "pyout",
       "prompt_number": 40,
       "text": [
        "   Qu1  Qu2  Qu3\n",
        "1    1    1    1\n",
        "2    0    2    1\n",
        "3    2    2    0\n",
        "4    1    0    2\n",
        "5    1    0    1"
       ]
      }
     ],
     "prompt_number": 40
    },
    {
     "cell_type": "heading",
     "level": 1,
     "metadata": {},
     "source": [
      "Handling Missing Data"
     ]
    },
    {
     "cell_type": "markdown",
     "metadata": {},
     "source": [
      "Missing data is common in most data analysis applications.  One of the goals in designing pandas was to make working with missing data as painless as possible.  All of the descriptive statistics seen on pandas objects thus far exclude missing data.\n",
      "\n",
      "pandas uses the floating point value NaN (Not a Number) to represent missing data in both floating as well as in non-floating arrays."
     ]
    },
    {
     "cell_type": "code",
     "collapsed": false,
     "input": [
      "string_data = Series(['aarvark', 'artichoke', np.nan, 'avocado'])"
     ],
     "language": "python",
     "metadata": {},
     "outputs": [],
     "prompt_number": 41
    },
    {
     "cell_type": "code",
     "collapsed": false,
     "input": [
      "string_data"
     ],
     "language": "python",
     "metadata": {},
     "outputs": [
      {
       "metadata": {},
       "output_type": "pyout",
       "prompt_number": 42,
       "text": [
        "0      aarvark\n",
        "1    artichoke\n",
        "2          NaN\n",
        "3      avocado\n",
        "dtype: object"
       ]
      }
     ],
     "prompt_number": 42
    },
    {
     "cell_type": "code",
     "collapsed": false,
     "input": [
      "string_data.isnull()"
     ],
     "language": "python",
     "metadata": {},
     "outputs": [
      {
       "metadata": {},
       "output_type": "pyout",
       "prompt_number": 43,
       "text": [
        "0    False\n",
        "1    False\n",
        "2     True\n",
        "3    False\n",
        "dtype: bool"
       ]
      }
     ],
     "prompt_number": 43
    },
    {
     "cell_type": "code",
     "collapsed": false,
     "input": [
      "string_data.notnull()"
     ],
     "language": "python",
     "metadata": {},
     "outputs": [
      {
       "metadata": {},
       "output_type": "pyout",
       "prompt_number": 44,
       "text": [
        "0     True\n",
        "1     True\n",
        "2    False\n",
        "3     True\n",
        "dtype: bool"
       ]
      }
     ],
     "prompt_number": 44
    },
    {
     "cell_type": "markdown",
     "metadata": {},
     "source": [
      "The NA handling methods at our disposal are: dropna, fillna, isnull, notnull"
     ]
    },
    {
     "cell_type": "heading",
     "level": 3,
     "metadata": {},
     "source": [
      "Filtering out Missing Data"
     ]
    },
    {
     "cell_type": "markdown",
     "metadata": {},
     "source": [
      "There are a number of options for filtering out missing data.  The dropna function can be very useful.  On a Series, it returns the Series with only the non-null data and index values."
     ]
    },
    {
     "cell_type": "code",
     "collapsed": false,
     "input": [
      "from numpy import nan as NA"
     ],
     "language": "python",
     "metadata": {},
     "outputs": [],
     "prompt_number": 45
    },
    {
     "cell_type": "code",
     "collapsed": false,
     "input": [
      "data = Series([1, NA, 3.4, NA, 7])"
     ],
     "language": "python",
     "metadata": {},
     "outputs": [],
     "prompt_number": 46
    },
    {
     "cell_type": "code",
     "collapsed": false,
     "input": [
      "data.dropna()"
     ],
     "language": "python",
     "metadata": {},
     "outputs": [
      {
       "metadata": {},
       "output_type": "pyout",
       "prompt_number": 47,
       "text": [
        "0    1.0\n",
        "2    3.4\n",
        "4    7.0\n",
        "dtype: float64"
       ]
      }
     ],
     "prompt_number": 47
    },
    {
     "cell_type": "markdown",
     "metadata": {},
     "source": [
      "An alternative is to do this by boolean indexing."
     ]
    },
    {
     "cell_type": "code",
     "collapsed": false,
     "input": [
      "data[data.notnull()]"
     ],
     "language": "python",
     "metadata": {},
     "outputs": [
      {
       "metadata": {},
       "output_type": "pyout",
       "prompt_number": 48,
       "text": [
        "0    1.0\n",
        "2    3.4\n",
        "4    7.0\n",
        "dtype: float64"
       ]
      }
     ],
     "prompt_number": 48
    },
    {
     "cell_type": "markdown",
     "metadata": {},
     "source": [
      "With DataFrame objects, these are a bit more complex.   You may want to drop rows or columns which are all NA (specify how='all') or just those containing any NAs (default setting).  dropna by default drops any row containing a missing value."
     ]
    },
    {
     "cell_type": "code",
     "collapsed": false,
     "input": [
      "data = DataFrame([[1., 7.5, 3.], [1., NA, NA], [NA, NA, NA], [NA, 6.4, 3.]])"
     ],
     "language": "python",
     "metadata": {},
     "outputs": [],
     "prompt_number": 49
    },
    {
     "cell_type": "code",
     "collapsed": false,
     "input": [
      "data"
     ],
     "language": "python",
     "metadata": {},
     "outputs": [
      {
       "html": [
        "<div style=\"max-height:1000px;max-width:1500px;overflow:auto;\">\n",
        "<table border=\"1\" class=\"dataframe\">\n",
        "  <thead>\n",
        "    <tr style=\"text-align: right;\">\n",
        "      <th></th>\n",
        "      <th>0</th>\n",
        "      <th>1</th>\n",
        "      <th>2</th>\n",
        "    </tr>\n",
        "  </thead>\n",
        "  <tbody>\n",
        "    <tr>\n",
        "      <th>0</th>\n",
        "      <td>  1</td>\n",
        "      <td> 7.5</td>\n",
        "      <td>  3</td>\n",
        "    </tr>\n",
        "    <tr>\n",
        "      <th>1</th>\n",
        "      <td>  1</td>\n",
        "      <td> NaN</td>\n",
        "      <td>NaN</td>\n",
        "    </tr>\n",
        "    <tr>\n",
        "      <th>2</th>\n",
        "      <td>NaN</td>\n",
        "      <td> NaN</td>\n",
        "      <td>NaN</td>\n",
        "    </tr>\n",
        "    <tr>\n",
        "      <th>3</th>\n",
        "      <td>NaN</td>\n",
        "      <td> 6.4</td>\n",
        "      <td>  3</td>\n",
        "    </tr>\n",
        "  </tbody>\n",
        "</table>\n",
        "</div>"
       ],
       "metadata": {},
       "output_type": "pyout",
       "prompt_number": 50,
       "text": [
        "    0    1   2\n",
        "0   1  7.5   3\n",
        "1   1  NaN NaN\n",
        "2 NaN  NaN NaN\n",
        "3 NaN  6.4   3"
       ]
      }
     ],
     "prompt_number": 50
    },
    {
     "cell_type": "code",
     "collapsed": false,
     "input": [
      "cleaned = data.dropna()"
     ],
     "language": "python",
     "metadata": {},
     "outputs": [],
     "prompt_number": 51
    },
    {
     "cell_type": "code",
     "collapsed": false,
     "input": [
      "cleaned"
     ],
     "language": "python",
     "metadata": {},
     "outputs": [
      {
       "html": [
        "<div style=\"max-height:1000px;max-width:1500px;overflow:auto;\">\n",
        "<table border=\"1\" class=\"dataframe\">\n",
        "  <thead>\n",
        "    <tr style=\"text-align: right;\">\n",
        "      <th></th>\n",
        "      <th>0</th>\n",
        "      <th>1</th>\n",
        "      <th>2</th>\n",
        "    </tr>\n",
        "  </thead>\n",
        "  <tbody>\n",
        "    <tr>\n",
        "      <th>0</th>\n",
        "      <td> 1</td>\n",
        "      <td> 7.5</td>\n",
        "      <td> 3</td>\n",
        "    </tr>\n",
        "  </tbody>\n",
        "</table>\n",
        "</div>"
       ],
       "metadata": {},
       "output_type": "pyout",
       "prompt_number": 52,
       "text": [
        "   0    1  2\n",
        "0  1  7.5  3"
       ]
      }
     ],
     "prompt_number": 52
    },
    {
     "cell_type": "code",
     "collapsed": false,
     "input": [
      "data.dropna(how='all')"
     ],
     "language": "python",
     "metadata": {},
     "outputs": [
      {
       "html": [
        "<div style=\"max-height:1000px;max-width:1500px;overflow:auto;\">\n",
        "<table border=\"1\" class=\"dataframe\">\n",
        "  <thead>\n",
        "    <tr style=\"text-align: right;\">\n",
        "      <th></th>\n",
        "      <th>0</th>\n",
        "      <th>1</th>\n",
        "      <th>2</th>\n",
        "    </tr>\n",
        "  </thead>\n",
        "  <tbody>\n",
        "    <tr>\n",
        "      <th>0</th>\n",
        "      <td>  1</td>\n",
        "      <td> 7.5</td>\n",
        "      <td>  3</td>\n",
        "    </tr>\n",
        "    <tr>\n",
        "      <th>1</th>\n",
        "      <td>  1</td>\n",
        "      <td> NaN</td>\n",
        "      <td>NaN</td>\n",
        "    </tr>\n",
        "    <tr>\n",
        "      <th>3</th>\n",
        "      <td>NaN</td>\n",
        "      <td> 6.4</td>\n",
        "      <td>  3</td>\n",
        "    </tr>\n",
        "  </tbody>\n",
        "</table>\n",
        "</div>"
       ],
       "metadata": {},
       "output_type": "pyout",
       "prompt_number": 53,
       "text": [
        "    0    1   2\n",
        "0   1  7.5   3\n",
        "1   1  NaN NaN\n",
        "3 NaN  6.4   3"
       ]
      }
     ],
     "prompt_number": 53
    },
    {
     "cell_type": "markdown",
     "metadata": {},
     "source": [
      "To drop columns in the say way, just pass the argument axis=1:"
     ]
    },
    {
     "cell_type": "code",
     "collapsed": false,
     "input": [
      "data[4] = NA"
     ],
     "language": "python",
     "metadata": {},
     "outputs": [],
     "prompt_number": 54
    },
    {
     "cell_type": "code",
     "collapsed": false,
     "input": [
      "data"
     ],
     "language": "python",
     "metadata": {},
     "outputs": [
      {
       "html": [
        "<div style=\"max-height:1000px;max-width:1500px;overflow:auto;\">\n",
        "<table border=\"1\" class=\"dataframe\">\n",
        "  <thead>\n",
        "    <tr style=\"text-align: right;\">\n",
        "      <th></th>\n",
        "      <th>0</th>\n",
        "      <th>1</th>\n",
        "      <th>2</th>\n",
        "      <th>4</th>\n",
        "    </tr>\n",
        "  </thead>\n",
        "  <tbody>\n",
        "    <tr>\n",
        "      <th>0</th>\n",
        "      <td>  1</td>\n",
        "      <td> 7.5</td>\n",
        "      <td>  3</td>\n",
        "      <td>NaN</td>\n",
        "    </tr>\n",
        "    <tr>\n",
        "      <th>1</th>\n",
        "      <td>  1</td>\n",
        "      <td> NaN</td>\n",
        "      <td>NaN</td>\n",
        "      <td>NaN</td>\n",
        "    </tr>\n",
        "    <tr>\n",
        "      <th>2</th>\n",
        "      <td>NaN</td>\n",
        "      <td> NaN</td>\n",
        "      <td>NaN</td>\n",
        "      <td>NaN</td>\n",
        "    </tr>\n",
        "    <tr>\n",
        "      <th>3</th>\n",
        "      <td>NaN</td>\n",
        "      <td> 6.4</td>\n",
        "      <td>  3</td>\n",
        "      <td>NaN</td>\n",
        "    </tr>\n",
        "  </tbody>\n",
        "</table>\n",
        "</div>"
       ],
       "metadata": {},
       "output_type": "pyout",
       "prompt_number": 55,
       "text": [
        "    0    1   2   4\n",
        "0   1  7.5   3 NaN\n",
        "1   1  NaN NaN NaN\n",
        "2 NaN  NaN NaN NaN\n",
        "3 NaN  6.4   3 NaN"
       ]
      }
     ],
     "prompt_number": 55
    },
    {
     "cell_type": "code",
     "collapsed": false,
     "input": [
      "data.dropna(axis=1, how='all')"
     ],
     "language": "python",
     "metadata": {},
     "outputs": [
      {
       "html": [
        "<div style=\"max-height:1000px;max-width:1500px;overflow:auto;\">\n",
        "<table border=\"1\" class=\"dataframe\">\n",
        "  <thead>\n",
        "    <tr style=\"text-align: right;\">\n",
        "      <th></th>\n",
        "      <th>0</th>\n",
        "      <th>1</th>\n",
        "      <th>2</th>\n",
        "    </tr>\n",
        "  </thead>\n",
        "  <tbody>\n",
        "    <tr>\n",
        "      <th>0</th>\n",
        "      <td>  1</td>\n",
        "      <td> 7.5</td>\n",
        "      <td>  3</td>\n",
        "    </tr>\n",
        "    <tr>\n",
        "      <th>1</th>\n",
        "      <td>  1</td>\n",
        "      <td> NaN</td>\n",
        "      <td>NaN</td>\n",
        "    </tr>\n",
        "    <tr>\n",
        "      <th>2</th>\n",
        "      <td>NaN</td>\n",
        "      <td> NaN</td>\n",
        "      <td>NaN</td>\n",
        "    </tr>\n",
        "    <tr>\n",
        "      <th>3</th>\n",
        "      <td>NaN</td>\n",
        "      <td> 6.4</td>\n",
        "      <td>  3</td>\n",
        "    </tr>\n",
        "  </tbody>\n",
        "</table>\n",
        "</div>"
       ],
       "metadata": {},
       "output_type": "pyout",
       "prompt_number": 56,
       "text": [
        "    0    1   2\n",
        "0   1  7.5   3\n",
        "1   1  NaN NaN\n",
        "2 NaN  NaN NaN\n",
        "3 NaN  6.4   3"
       ]
      }
     ],
     "prompt_number": 56
    },
    {
     "cell_type": "markdown",
     "metadata": {},
     "source": [
      "\\37.  Keep only those rows containing at least 2 number of observations (not NaN), such that the table below is observed.  (Hint: pass the thresh argument with a specified value.)"
     ]
    },
    {
     "cell_type": "code",
     "collapsed": false,
     "input": [
      "data.?"
     ],
     "language": "python",
     "metadata": {},
     "outputs": [
      {
       "html": [
        "<div style=\"max-height:1000px;max-width:1500px;overflow:auto;\">\n",
        "<table border=\"1\" class=\"dataframe\">\n",
        "  <thead>\n",
        "    <tr style=\"text-align: right;\">\n",
        "      <th></th>\n",
        "      <th>0</th>\n",
        "      <th>1</th>\n",
        "      <th>2</th>\n",
        "      <th>4</th>\n",
        "    </tr>\n",
        "  </thead>\n",
        "  <tbody>\n",
        "    <tr>\n",
        "      <th>0</th>\n",
        "      <td>  1</td>\n",
        "      <td> 7.5</td>\n",
        "      <td> 3</td>\n",
        "      <td>NaN</td>\n",
        "    </tr>\n",
        "    <tr>\n",
        "      <th>3</th>\n",
        "      <td>NaN</td>\n",
        "      <td> 6.4</td>\n",
        "      <td> 3</td>\n",
        "      <td>NaN</td>\n",
        "    </tr>\n",
        "  </tbody>\n",
        "</table>\n",
        "</div>"
       ],
       "metadata": {},
       "output_type": "pyout",
       "prompt_number": 60,
       "text": [
        "    0    1  2   4\n",
        "0   1  7.5  3 NaN\n",
        "3 NaN  6.4  3 NaN"
       ]
      }
     ],
     "prompt_number": 60
    },
    {
     "cell_type": "heading",
     "level": 3,
     "metadata": {},
     "source": [
      "Filling in Missing Data"
     ]
    },
    {
     "cell_type": "markdown",
     "metadata": {},
     "source": [
      "Rather than filtering out missing data (and potentially discarding other data along with it), you may want to fill in the 'holes' in any number of ways.  For most purposes, the fillna method is the workhorse function to use.  Calling fillna with a constant replaces missing values with that value."
     ]
    },
    {
     "cell_type": "code",
     "collapsed": false,
     "input": [
      "df = DataFrame(np.random.randn(7, 3))"
     ],
     "language": "python",
     "metadata": {},
     "outputs": [],
     "prompt_number": 63
    },
    {
     "cell_type": "code",
     "collapsed": false,
     "input": [
      "df"
     ],
     "language": "python",
     "metadata": {},
     "outputs": [
      {
       "html": [
        "<div style=\"max-height:1000px;max-width:1500px;overflow:auto;\">\n",
        "<table border=\"1\" class=\"dataframe\">\n",
        "  <thead>\n",
        "    <tr style=\"text-align: right;\">\n",
        "      <th></th>\n",
        "      <th>0</th>\n",
        "      <th>1</th>\n",
        "      <th>2</th>\n",
        "    </tr>\n",
        "  </thead>\n",
        "  <tbody>\n",
        "    <tr>\n",
        "      <th>0</th>\n",
        "      <td>-0.911834</td>\n",
        "      <td> 0.400205</td>\n",
        "      <td> 1.761730</td>\n",
        "    </tr>\n",
        "    <tr>\n",
        "      <th>1</th>\n",
        "      <td> 0.416116</td>\n",
        "      <td> 1.098634</td>\n",
        "      <td> 1.536754</td>\n",
        "    </tr>\n",
        "    <tr>\n",
        "      <th>2</th>\n",
        "      <td> 0.381380</td>\n",
        "      <td> 0.400159</td>\n",
        "      <td>-1.888047</td>\n",
        "    </tr>\n",
        "    <tr>\n",
        "      <th>3</th>\n",
        "      <td> 0.881183</td>\n",
        "      <td>-0.721294</td>\n",
        "      <td>-0.228180</td>\n",
        "    </tr>\n",
        "    <tr>\n",
        "      <th>4</th>\n",
        "      <td> 2.161778</td>\n",
        "      <td>-0.902302</td>\n",
        "      <td>-0.901338</td>\n",
        "    </tr>\n",
        "    <tr>\n",
        "      <th>5</th>\n",
        "      <td> 0.788163</td>\n",
        "      <td> 1.831499</td>\n",
        "      <td> 0.878763</td>\n",
        "    </tr>\n",
        "    <tr>\n",
        "      <th>6</th>\n",
        "      <td> 1.040386</td>\n",
        "      <td>-1.223215</td>\n",
        "      <td>-0.175766</td>\n",
        "    </tr>\n",
        "  </tbody>\n",
        "</table>\n",
        "</div>"
       ],
       "metadata": {},
       "output_type": "pyout",
       "prompt_number": 64,
       "text": [
        "          0         1         2\n",
        "0 -0.911834  0.400205  1.761730\n",
        "1  0.416116  1.098634  1.536754\n",
        "2  0.381380  0.400159 -1.888047\n",
        "3  0.881183 -0.721294 -0.228180\n",
        "4  2.161778 -0.902302 -0.901338\n",
        "5  0.788163  1.831499  0.878763\n",
        "6  1.040386 -1.223215 -0.175766"
       ]
      }
     ],
     "prompt_number": 64
    },
    {
     "cell_type": "code",
     "collapsed": false,
     "input": [
      "df.ix[:4, 1] = NA"
     ],
     "language": "python",
     "metadata": {},
     "outputs": [],
     "prompt_number": 66
    },
    {
     "cell_type": "code",
     "collapsed": false,
     "input": [
      "df"
     ],
     "language": "python",
     "metadata": {},
     "outputs": [
      {
       "html": [
        "<div style=\"max-height:1000px;max-width:1500px;overflow:auto;\">\n",
        "<table border=\"1\" class=\"dataframe\">\n",
        "  <thead>\n",
        "    <tr style=\"text-align: right;\">\n",
        "      <th></th>\n",
        "      <th>0</th>\n",
        "      <th>1</th>\n",
        "      <th>2</th>\n",
        "    </tr>\n",
        "  </thead>\n",
        "  <tbody>\n",
        "    <tr>\n",
        "      <th>0</th>\n",
        "      <td>-0.911834</td>\n",
        "      <td>      NaN</td>\n",
        "      <td> 1.761730</td>\n",
        "    </tr>\n",
        "    <tr>\n",
        "      <th>1</th>\n",
        "      <td> 0.416116</td>\n",
        "      <td>      NaN</td>\n",
        "      <td> 1.536754</td>\n",
        "    </tr>\n",
        "    <tr>\n",
        "      <th>2</th>\n",
        "      <td> 0.381380</td>\n",
        "      <td>      NaN</td>\n",
        "      <td>-1.888047</td>\n",
        "    </tr>\n",
        "    <tr>\n",
        "      <th>3</th>\n",
        "      <td> 0.881183</td>\n",
        "      <td>      NaN</td>\n",
        "      <td>-0.228180</td>\n",
        "    </tr>\n",
        "    <tr>\n",
        "      <th>4</th>\n",
        "      <td> 2.161778</td>\n",
        "      <td>      NaN</td>\n",
        "      <td>-0.901338</td>\n",
        "    </tr>\n",
        "    <tr>\n",
        "      <th>5</th>\n",
        "      <td> 0.788163</td>\n",
        "      <td> 1.831499</td>\n",
        "      <td> 0.878763</td>\n",
        "    </tr>\n",
        "    <tr>\n",
        "      <th>6</th>\n",
        "      <td> 1.040386</td>\n",
        "      <td>-1.223215</td>\n",
        "      <td>-0.175766</td>\n",
        "    </tr>\n",
        "  </tbody>\n",
        "</table>\n",
        "</div>"
       ],
       "metadata": {},
       "output_type": "pyout",
       "prompt_number": 67,
       "text": [
        "          0         1         2\n",
        "0 -0.911834       NaN  1.761730\n",
        "1  0.416116       NaN  1.536754\n",
        "2  0.381380       NaN -1.888047\n",
        "3  0.881183       NaN -0.228180\n",
        "4  2.161778       NaN -0.901338\n",
        "5  0.788163  1.831499  0.878763\n",
        "6  1.040386 -1.223215 -0.175766"
       ]
      }
     ],
     "prompt_number": 67
    },
    {
     "cell_type": "code",
     "collapsed": false,
     "input": [
      "df.ix[:2, 2] = NA"
     ],
     "language": "python",
     "metadata": {},
     "outputs": [],
     "prompt_number": 68
    },
    {
     "cell_type": "code",
     "collapsed": false,
     "input": [
      "df"
     ],
     "language": "python",
     "metadata": {},
     "outputs": [
      {
       "html": [
        "<div style=\"max-height:1000px;max-width:1500px;overflow:auto;\">\n",
        "<table border=\"1\" class=\"dataframe\">\n",
        "  <thead>\n",
        "    <tr style=\"text-align: right;\">\n",
        "      <th></th>\n",
        "      <th>0</th>\n",
        "      <th>1</th>\n",
        "      <th>2</th>\n",
        "    </tr>\n",
        "  </thead>\n",
        "  <tbody>\n",
        "    <tr>\n",
        "      <th>0</th>\n",
        "      <td>-0.911834</td>\n",
        "      <td>      NaN</td>\n",
        "      <td>      NaN</td>\n",
        "    </tr>\n",
        "    <tr>\n",
        "      <th>1</th>\n",
        "      <td> 0.416116</td>\n",
        "      <td>      NaN</td>\n",
        "      <td>      NaN</td>\n",
        "    </tr>\n",
        "    <tr>\n",
        "      <th>2</th>\n",
        "      <td> 0.381380</td>\n",
        "      <td>      NaN</td>\n",
        "      <td>      NaN</td>\n",
        "    </tr>\n",
        "    <tr>\n",
        "      <th>3</th>\n",
        "      <td> 0.881183</td>\n",
        "      <td>      NaN</td>\n",
        "      <td>-0.228180</td>\n",
        "    </tr>\n",
        "    <tr>\n",
        "      <th>4</th>\n",
        "      <td> 2.161778</td>\n",
        "      <td>      NaN</td>\n",
        "      <td>-0.901338</td>\n",
        "    </tr>\n",
        "    <tr>\n",
        "      <th>5</th>\n",
        "      <td> 0.788163</td>\n",
        "      <td> 1.831499</td>\n",
        "      <td> 0.878763</td>\n",
        "    </tr>\n",
        "    <tr>\n",
        "      <th>6</th>\n",
        "      <td> 1.040386</td>\n",
        "      <td>-1.223215</td>\n",
        "      <td>-0.175766</td>\n",
        "    </tr>\n",
        "  </tbody>\n",
        "</table>\n",
        "</div>"
       ],
       "metadata": {},
       "output_type": "pyout",
       "prompt_number": 69,
       "text": [
        "          0         1         2\n",
        "0 -0.911834       NaN       NaN\n",
        "1  0.416116       NaN       NaN\n",
        "2  0.381380       NaN       NaN\n",
        "3  0.881183       NaN -0.228180\n",
        "4  2.161778       NaN -0.901338\n",
        "5  0.788163  1.831499  0.878763\n",
        "6  1.040386 -1.223215 -0.175766"
       ]
      }
     ],
     "prompt_number": 69
    },
    {
     "cell_type": "code",
     "collapsed": false,
     "input": [
      "df.fillna(0)"
     ],
     "language": "python",
     "metadata": {},
     "outputs": [
      {
       "html": [
        "<div style=\"max-height:1000px;max-width:1500px;overflow:auto;\">\n",
        "<table border=\"1\" class=\"dataframe\">\n",
        "  <thead>\n",
        "    <tr style=\"text-align: right;\">\n",
        "      <th></th>\n",
        "      <th>0</th>\n",
        "      <th>1</th>\n",
        "      <th>2</th>\n",
        "    </tr>\n",
        "  </thead>\n",
        "  <tbody>\n",
        "    <tr>\n",
        "      <th>0</th>\n",
        "      <td>-0.911834</td>\n",
        "      <td> 0.000000</td>\n",
        "      <td> 0.000000</td>\n",
        "    </tr>\n",
        "    <tr>\n",
        "      <th>1</th>\n",
        "      <td> 0.416116</td>\n",
        "      <td> 0.000000</td>\n",
        "      <td> 0.000000</td>\n",
        "    </tr>\n",
        "    <tr>\n",
        "      <th>2</th>\n",
        "      <td> 0.381380</td>\n",
        "      <td> 0.000000</td>\n",
        "      <td> 0.000000</td>\n",
        "    </tr>\n",
        "    <tr>\n",
        "      <th>3</th>\n",
        "      <td> 0.881183</td>\n",
        "      <td> 0.000000</td>\n",
        "      <td>-0.228180</td>\n",
        "    </tr>\n",
        "    <tr>\n",
        "      <th>4</th>\n",
        "      <td> 2.161778</td>\n",
        "      <td> 0.000000</td>\n",
        "      <td>-0.901338</td>\n",
        "    </tr>\n",
        "    <tr>\n",
        "      <th>5</th>\n",
        "      <td> 0.788163</td>\n",
        "      <td> 1.831499</td>\n",
        "      <td> 0.878763</td>\n",
        "    </tr>\n",
        "    <tr>\n",
        "      <th>6</th>\n",
        "      <td> 1.040386</td>\n",
        "      <td>-1.223215</td>\n",
        "      <td>-0.175766</td>\n",
        "    </tr>\n",
        "  </tbody>\n",
        "</table>\n",
        "</div>"
       ],
       "metadata": {},
       "output_type": "pyout",
       "prompt_number": 70,
       "text": [
        "          0         1         2\n",
        "0 -0.911834  0.000000  0.000000\n",
        "1  0.416116  0.000000  0.000000\n",
        "2  0.381380  0.000000  0.000000\n",
        "3  0.881183  0.000000 -0.228180\n",
        "4  2.161778  0.000000 -0.901338\n",
        "5  0.788163  1.831499  0.878763\n",
        "6  1.040386 -1.223215 -0.175766"
       ]
      }
     ],
     "prompt_number": 70
    },
    {
     "cell_type": "markdown",
     "metadata": {},
     "source": [
      "Calling fillna with a dict you can use a different fill value for each column:"
     ]
    },
    {
     "cell_type": "code",
     "collapsed": false,
     "input": [
      "df.fillna({1: 0.5, 3: -1})"
     ],
     "language": "python",
     "metadata": {},
     "outputs": [
      {
       "html": [
        "<div style=\"max-height:1000px;max-width:1500px;overflow:auto;\">\n",
        "<table border=\"1\" class=\"dataframe\">\n",
        "  <thead>\n",
        "    <tr style=\"text-align: right;\">\n",
        "      <th></th>\n",
        "      <th>0</th>\n",
        "      <th>1</th>\n",
        "      <th>2</th>\n",
        "    </tr>\n",
        "  </thead>\n",
        "  <tbody>\n",
        "    <tr>\n",
        "      <th>0</th>\n",
        "      <td>-0.911834</td>\n",
        "      <td> 0.500000</td>\n",
        "      <td>      NaN</td>\n",
        "    </tr>\n",
        "    <tr>\n",
        "      <th>1</th>\n",
        "      <td> 0.416116</td>\n",
        "      <td> 0.500000</td>\n",
        "      <td>      NaN</td>\n",
        "    </tr>\n",
        "    <tr>\n",
        "      <th>2</th>\n",
        "      <td> 0.381380</td>\n",
        "      <td> 0.500000</td>\n",
        "      <td>      NaN</td>\n",
        "    </tr>\n",
        "    <tr>\n",
        "      <th>3</th>\n",
        "      <td> 0.881183</td>\n",
        "      <td> 0.500000</td>\n",
        "      <td>-0.228180</td>\n",
        "    </tr>\n",
        "    <tr>\n",
        "      <th>4</th>\n",
        "      <td> 2.161778</td>\n",
        "      <td> 0.500000</td>\n",
        "      <td>-0.901338</td>\n",
        "    </tr>\n",
        "    <tr>\n",
        "      <th>5</th>\n",
        "      <td> 0.788163</td>\n",
        "      <td> 1.831499</td>\n",
        "      <td> 0.878763</td>\n",
        "    </tr>\n",
        "    <tr>\n",
        "      <th>6</th>\n",
        "      <td> 1.040386</td>\n",
        "      <td>-1.223215</td>\n",
        "      <td>-0.175766</td>\n",
        "    </tr>\n",
        "  </tbody>\n",
        "</table>\n",
        "</div>"
       ],
       "metadata": {},
       "output_type": "pyout",
       "prompt_number": 71,
       "text": [
        "          0         1         2\n",
        "0 -0.911834  0.500000       NaN\n",
        "1  0.416116  0.500000       NaN\n",
        "2  0.381380  0.500000       NaN\n",
        "3  0.881183  0.500000 -0.228180\n",
        "4  2.161778  0.500000 -0.901338\n",
        "5  0.788163  1.831499  0.878763\n",
        "6  1.040386 -1.223215 -0.175766"
       ]
      }
     ],
     "prompt_number": 71
    },
    {
     "cell_type": "markdown",
     "metadata": {},
     "source": [
      "fillna returns a new object, but you can modify the existing object in place (inplace=True)."
     ]
    },
    {
     "cell_type": "code",
     "collapsed": false,
     "input": [
      "# always returns a reference to the filled object\n",
      "_ = df.fillna(0, inplace=True)"
     ],
     "language": "python",
     "metadata": {},
     "outputs": [],
     "prompt_number": 72
    },
    {
     "cell_type": "code",
     "collapsed": false,
     "input": [
      "df"
     ],
     "language": "python",
     "metadata": {},
     "outputs": [
      {
       "html": [
        "<div style=\"max-height:1000px;max-width:1500px;overflow:auto;\">\n",
        "<table border=\"1\" class=\"dataframe\">\n",
        "  <thead>\n",
        "    <tr style=\"text-align: right;\">\n",
        "      <th></th>\n",
        "      <th>0</th>\n",
        "      <th>1</th>\n",
        "      <th>2</th>\n",
        "    </tr>\n",
        "  </thead>\n",
        "  <tbody>\n",
        "    <tr>\n",
        "      <th>0</th>\n",
        "      <td>-0.911834</td>\n",
        "      <td> 0.000000</td>\n",
        "      <td> 0.000000</td>\n",
        "    </tr>\n",
        "    <tr>\n",
        "      <th>1</th>\n",
        "      <td> 0.416116</td>\n",
        "      <td> 0.000000</td>\n",
        "      <td> 0.000000</td>\n",
        "    </tr>\n",
        "    <tr>\n",
        "      <th>2</th>\n",
        "      <td> 0.381380</td>\n",
        "      <td> 0.000000</td>\n",
        "      <td> 0.000000</td>\n",
        "    </tr>\n",
        "    <tr>\n",
        "      <th>3</th>\n",
        "      <td> 0.881183</td>\n",
        "      <td> 0.000000</td>\n",
        "      <td>-0.228180</td>\n",
        "    </tr>\n",
        "    <tr>\n",
        "      <th>4</th>\n",
        "      <td> 2.161778</td>\n",
        "      <td> 0.000000</td>\n",
        "      <td>-0.901338</td>\n",
        "    </tr>\n",
        "    <tr>\n",
        "      <th>5</th>\n",
        "      <td> 0.788163</td>\n",
        "      <td> 1.831499</td>\n",
        "      <td> 0.878763</td>\n",
        "    </tr>\n",
        "    <tr>\n",
        "      <th>6</th>\n",
        "      <td> 1.040386</td>\n",
        "      <td>-1.223215</td>\n",
        "      <td>-0.175766</td>\n",
        "    </tr>\n",
        "  </tbody>\n",
        "</table>\n",
        "</div>"
       ],
       "metadata": {},
       "output_type": "pyout",
       "prompt_number": 73,
       "text": [
        "          0         1         2\n",
        "0 -0.911834  0.000000  0.000000\n",
        "1  0.416116  0.000000  0.000000\n",
        "2  0.381380  0.000000  0.000000\n",
        "3  0.881183  0.000000 -0.228180\n",
        "4  2.161778  0.000000 -0.901338\n",
        "5  0.788163  1.831499  0.878763\n",
        "6  1.040386 -1.223215 -0.175766"
       ]
      }
     ],
     "prompt_number": 73
    },
    {
     "cell_type": "markdown",
     "metadata": {},
     "source": [
      "The same interpolation methods available for reindexing can be used with fillna:"
     ]
    },
    {
     "cell_type": "code",
     "collapsed": false,
     "input": [
      "df = DataFrame(np.random.randn(6,3))"
     ],
     "language": "python",
     "metadata": {},
     "outputs": [],
     "prompt_number": 74
    },
    {
     "cell_type": "code",
     "collapsed": false,
     "input": [
      "df.ix[2:, 1] = NA; df.ix[4:, 2] = NA"
     ],
     "language": "python",
     "metadata": {},
     "outputs": [],
     "prompt_number": 75
    },
    {
     "cell_type": "code",
     "collapsed": false,
     "input": [
      "df"
     ],
     "language": "python",
     "metadata": {},
     "outputs": [
      {
       "html": [
        "<div style=\"max-height:1000px;max-width:1500px;overflow:auto;\">\n",
        "<table border=\"1\" class=\"dataframe\">\n",
        "  <thead>\n",
        "    <tr style=\"text-align: right;\">\n",
        "      <th></th>\n",
        "      <th>0</th>\n",
        "      <th>1</th>\n",
        "      <th>2</th>\n",
        "    </tr>\n",
        "  </thead>\n",
        "  <tbody>\n",
        "    <tr>\n",
        "      <th>0</th>\n",
        "      <td>-0.172275</td>\n",
        "      <td>-0.855968</td>\n",
        "      <td>-0.851904</td>\n",
        "    </tr>\n",
        "    <tr>\n",
        "      <th>1</th>\n",
        "      <td> 1.172185</td>\n",
        "      <td>-0.788222</td>\n",
        "      <td>-0.846403</td>\n",
        "    </tr>\n",
        "    <tr>\n",
        "      <th>2</th>\n",
        "      <td> 0.094255</td>\n",
        "      <td>      NaN</td>\n",
        "      <td> 1.012456</td>\n",
        "    </tr>\n",
        "    <tr>\n",
        "      <th>3</th>\n",
        "      <td> 0.302298</td>\n",
        "      <td>      NaN</td>\n",
        "      <td> 0.170670</td>\n",
        "    </tr>\n",
        "    <tr>\n",
        "      <th>4</th>\n",
        "      <td> 0.622526</td>\n",
        "      <td>      NaN</td>\n",
        "      <td>      NaN</td>\n",
        "    </tr>\n",
        "    <tr>\n",
        "      <th>5</th>\n",
        "      <td>-0.358261</td>\n",
        "      <td>      NaN</td>\n",
        "      <td>      NaN</td>\n",
        "    </tr>\n",
        "  </tbody>\n",
        "</table>\n",
        "</div>"
       ],
       "metadata": {},
       "output_type": "pyout",
       "prompt_number": 76,
       "text": [
        "          0         1         2\n",
        "0 -0.172275 -0.855968 -0.851904\n",
        "1  1.172185 -0.788222 -0.846403\n",
        "2  0.094255       NaN  1.012456\n",
        "3  0.302298       NaN  0.170670\n",
        "4  0.622526       NaN       NaN\n",
        "5 -0.358261       NaN       NaN"
       ]
      }
     ],
     "prompt_number": 76
    },
    {
     "cell_type": "code",
     "collapsed": false,
     "input": [
      "df.fillna(method='ffill')"
     ],
     "language": "python",
     "metadata": {},
     "outputs": [
      {
       "html": [
        "<div style=\"max-height:1000px;max-width:1500px;overflow:auto;\">\n",
        "<table border=\"1\" class=\"dataframe\">\n",
        "  <thead>\n",
        "    <tr style=\"text-align: right;\">\n",
        "      <th></th>\n",
        "      <th>0</th>\n",
        "      <th>1</th>\n",
        "      <th>2</th>\n",
        "    </tr>\n",
        "  </thead>\n",
        "  <tbody>\n",
        "    <tr>\n",
        "      <th>0</th>\n",
        "      <td>-0.172275</td>\n",
        "      <td>-0.855968</td>\n",
        "      <td>-0.851904</td>\n",
        "    </tr>\n",
        "    <tr>\n",
        "      <th>1</th>\n",
        "      <td> 1.172185</td>\n",
        "      <td>-0.788222</td>\n",
        "      <td>-0.846403</td>\n",
        "    </tr>\n",
        "    <tr>\n",
        "      <th>2</th>\n",
        "      <td> 0.094255</td>\n",
        "      <td>-0.788222</td>\n",
        "      <td> 1.012456</td>\n",
        "    </tr>\n",
        "    <tr>\n",
        "      <th>3</th>\n",
        "      <td> 0.302298</td>\n",
        "      <td>-0.788222</td>\n",
        "      <td> 0.170670</td>\n",
        "    </tr>\n",
        "    <tr>\n",
        "      <th>4</th>\n",
        "      <td> 0.622526</td>\n",
        "      <td>-0.788222</td>\n",
        "      <td> 0.170670</td>\n",
        "    </tr>\n",
        "    <tr>\n",
        "      <th>5</th>\n",
        "      <td>-0.358261</td>\n",
        "      <td>-0.788222</td>\n",
        "      <td> 0.170670</td>\n",
        "    </tr>\n",
        "  </tbody>\n",
        "</table>\n",
        "</div>"
       ],
       "metadata": {},
       "output_type": "pyout",
       "prompt_number": 77,
       "text": [
        "          0         1         2\n",
        "0 -0.172275 -0.855968 -0.851904\n",
        "1  1.172185 -0.788222 -0.846403\n",
        "2  0.094255 -0.788222  1.012456\n",
        "3  0.302298 -0.788222  0.170670\n",
        "4  0.622526 -0.788222  0.170670\n",
        "5 -0.358261 -0.788222  0.170670"
       ]
      }
     ],
     "prompt_number": 77
    },
    {
     "cell_type": "code",
     "collapsed": false,
     "input": [
      "df.fillna(method='ffill', limit=2) # Figure out for yourself what limit does"
     ],
     "language": "python",
     "metadata": {},
     "outputs": [
      {
       "html": [
        "<div style=\"max-height:1000px;max-width:1500px;overflow:auto;\">\n",
        "<table border=\"1\" class=\"dataframe\">\n",
        "  <thead>\n",
        "    <tr style=\"text-align: right;\">\n",
        "      <th></th>\n",
        "      <th>0</th>\n",
        "      <th>1</th>\n",
        "      <th>2</th>\n",
        "    </tr>\n",
        "  </thead>\n",
        "  <tbody>\n",
        "    <tr>\n",
        "      <th>0</th>\n",
        "      <td>-0.172275</td>\n",
        "      <td>-0.855968</td>\n",
        "      <td>-0.851904</td>\n",
        "    </tr>\n",
        "    <tr>\n",
        "      <th>1</th>\n",
        "      <td> 1.172185</td>\n",
        "      <td>-0.788222</td>\n",
        "      <td>-0.846403</td>\n",
        "    </tr>\n",
        "    <tr>\n",
        "      <th>2</th>\n",
        "      <td> 0.094255</td>\n",
        "      <td>-0.788222</td>\n",
        "      <td> 1.012456</td>\n",
        "    </tr>\n",
        "    <tr>\n",
        "      <th>3</th>\n",
        "      <td> 0.302298</td>\n",
        "      <td>-0.788222</td>\n",
        "      <td> 0.170670</td>\n",
        "    </tr>\n",
        "    <tr>\n",
        "      <th>4</th>\n",
        "      <td> 0.622526</td>\n",
        "      <td>      NaN</td>\n",
        "      <td> 0.170670</td>\n",
        "    </tr>\n",
        "    <tr>\n",
        "      <th>5</th>\n",
        "      <td>-0.358261</td>\n",
        "      <td>      NaN</td>\n",
        "      <td> 0.170670</td>\n",
        "    </tr>\n",
        "  </tbody>\n",
        "</table>\n",
        "</div>"
       ],
       "metadata": {},
       "output_type": "pyout",
       "prompt_number": 78,
       "text": [
        "          0         1         2\n",
        "0 -0.172275 -0.855968 -0.851904\n",
        "1  1.172185 -0.788222 -0.846403\n",
        "2  0.094255 -0.788222  1.012456\n",
        "3  0.302298 -0.788222  0.170670\n",
        "4  0.622526       NaN  0.170670\n",
        "5 -0.358261       NaN  0.170670"
       ]
      }
     ],
     "prompt_number": 78
    },
    {
     "cell_type": "markdown",
     "metadata": {},
     "source": [
      "With fillna, you can pass the mean or median value of a Series."
     ]
    },
    {
     "cell_type": "code",
     "collapsed": false,
     "input": [
      "data = Series([1., NA, 3.5, NA, 7])"
     ],
     "language": "python",
     "metadata": {},
     "outputs": [],
     "prompt_number": 79
    },
    {
     "cell_type": "code",
     "collapsed": false,
     "input": [
      "data.fillna(data.mean())"
     ],
     "language": "python",
     "metadata": {},
     "outputs": [
      {
       "metadata": {},
       "output_type": "pyout",
       "prompt_number": 80,
       "text": [
        "0    1.000000\n",
        "1    3.833333\n",
        "2    3.500000\n",
        "3    3.833333\n",
        "4    7.000000\n",
        "dtype: float64"
       ]
      }
     ],
     "prompt_number": 80
    },
    {
     "cell_type": "markdown",
     "metadata": {},
     "source": [
      "Some of the fillna function arguments we have used in the examples above: value, method (by defaul ffill), axis (by default axis=0), inplace, limit"
     ]
    },
    {
     "cell_type": "heading",
     "level": 1,
     "metadata": {},
     "source": [
      "Hierarchical Indexing"
     ]
    },
    {
     "cell_type": "markdown",
     "metadata": {},
     "source": [
      "Hierarchical indexing is an important feature of pandas because it enables you to have multiple (two or more) index levels on an axis.  It provides a way for you to work with higher dimensional data in a lower dimensional form.  The simplest example is to create a Series with a list of lists or arrays as the index."
     ]
    },
    {
     "cell_type": "code",
     "collapsed": false,
     "input": [
      "data = Series(np.random.randn(10),\n",
      "              index=[['a', 'a', 'a', 'b', 'b', 'b', 'c', 'c', 'd', 'd'],\n",
      "                     [1, 2, 3, 1, 2, 3, 1, 2, 2, 3]])"
     ],
     "language": "python",
     "metadata": {},
     "outputs": [],
     "prompt_number": 81
    },
    {
     "cell_type": "code",
     "collapsed": false,
     "input": [
      "data"
     ],
     "language": "python",
     "metadata": {},
     "outputs": [
      {
       "metadata": {},
       "output_type": "pyout",
       "prompt_number": 82,
       "text": [
        "a  1    0.424454\n",
        "   2    0.255042\n",
        "   3    0.033661\n",
        "b  1    1.244525\n",
        "   2   -1.410383\n",
        "   3   -0.845257\n",
        "c  1   -0.531016\n",
        "   2    1.564004\n",
        "d  2   -0.019651\n",
        "   3    0.583467\n",
        "dtype: float64"
       ]
      }
     ],
     "prompt_number": 82
    },
    {
     "cell_type": "markdown",
     "metadata": {},
     "source": [
      "What you see above is a prettified view of a Series with a MultiIndex as its index.  The 'gaps' in the index display mean 'use the label directly above'."
     ]
    },
    {
     "cell_type": "code",
     "collapsed": false,
     "input": [
      "data.index"
     ],
     "language": "python",
     "metadata": {},
     "outputs": [
      {
       "metadata": {},
       "output_type": "pyout",
       "prompt_number": 83,
       "text": [
        "MultiIndex(levels=[[u'a', u'b', u'c', u'd'], [1, 2, 3]],\n",
        "           labels=[[0, 0, 0, 1, 1, 1, 2, 2, 3, 3], [0, 1, 2, 0, 1, 2, 0, 1, 1, 2]])"
       ]
      }
     ],
     "prompt_number": 83
    },
    {
     "cell_type": "markdown",
     "metadata": {},
     "source": [
      "With a hierarchically-indexed object, partial indexing is possible to allow you to concisely select subsets of the data."
     ]
    },
    {
     "cell_type": "code",
     "collapsed": false,
     "input": [
      "data['b']"
     ],
     "language": "python",
     "metadata": {},
     "outputs": [
      {
       "metadata": {},
       "output_type": "pyout",
       "prompt_number": 84,
       "text": [
        "1    1.244525\n",
        "2   -1.410383\n",
        "3   -0.845257\n",
        "dtype: float64"
       ]
      }
     ],
     "prompt_number": 84
    },
    {
     "cell_type": "code",
     "collapsed": false,
     "input": [
      "data['b':'c']"
     ],
     "language": "python",
     "metadata": {},
     "outputs": [
      {
       "metadata": {},
       "output_type": "pyout",
       "prompt_number": 85,
       "text": [
        "b  1    1.244525\n",
        "   2   -1.410383\n",
        "   3   -0.845257\n",
        "c  1   -0.531016\n",
        "   2    1.564004\n",
        "dtype: float64"
       ]
      }
     ],
     "prompt_number": 85
    },
    {
     "cell_type": "code",
     "collapsed": false,
     "input": [
      "data.ix[['b', 'd']]"
     ],
     "language": "python",
     "metadata": {},
     "outputs": [
      {
       "metadata": {},
       "output_type": "pyout",
       "prompt_number": 86,
       "text": [
        "b  1    1.244525\n",
        "   2   -1.410383\n",
        "   3   -0.845257\n",
        "d  2   -0.019651\n",
        "   3    0.583467\n",
        "dtype: float64"
       ]
      }
     ],
     "prompt_number": 86
    },
    {
     "cell_type": "markdown",
     "metadata": {},
     "source": [
      "\\37.  Selection is even possible in some cases from an 'inner' level.  Choose all the '2' values from the data table above, such that the table below is observed."
     ]
    },
    {
     "cell_type": "code",
     "collapsed": false,
     "input": [
      "data[?]"
     ],
     "language": "python",
     "metadata": {},
     "outputs": [
      {
       "metadata": {},
       "output_type": "pyout",
       "prompt_number": 87,
       "text": [
        "a    0.255042\n",
        "b   -1.410383\n",
        "c    1.564004\n",
        "d   -0.019651\n",
        "dtype: float64"
       ]
      }
     ],
     "prompt_number": 87
    },
    {
     "cell_type": "markdown",
     "metadata": {},
     "source": [
      "Hierarchical indexing plays a critical role in reshaping data and group-based operations like forming a pivot table. \n",
      "\n",
      "\\38.  Rearrange the data into a DataFrame using the unstack method such that the DataFrame table below is observed."
     ]
    },
    {
     "cell_type": "code",
     "collapsed": false,
     "input": [
      "data.?"
     ],
     "language": "python",
     "metadata": {},
     "outputs": [
      {
       "html": [
        "<div style=\"max-height:1000px;max-width:1500px;overflow:auto;\">\n",
        "<table border=\"1\" class=\"dataframe\">\n",
        "  <thead>\n",
        "    <tr style=\"text-align: right;\">\n",
        "      <th></th>\n",
        "      <th>1</th>\n",
        "      <th>2</th>\n",
        "      <th>3</th>\n",
        "    </tr>\n",
        "  </thead>\n",
        "  <tbody>\n",
        "    <tr>\n",
        "      <th>a</th>\n",
        "      <td> 0.424454</td>\n",
        "      <td> 0.255042</td>\n",
        "      <td> 0.033661</td>\n",
        "    </tr>\n",
        "    <tr>\n",
        "      <th>b</th>\n",
        "      <td> 1.244525</td>\n",
        "      <td>-1.410383</td>\n",
        "      <td>-0.845257</td>\n",
        "    </tr>\n",
        "    <tr>\n",
        "      <th>c</th>\n",
        "      <td>-0.531016</td>\n",
        "      <td> 1.564004</td>\n",
        "      <td>      NaN</td>\n",
        "    </tr>\n",
        "    <tr>\n",
        "      <th>d</th>\n",
        "      <td>      NaN</td>\n",
        "      <td>-0.019651</td>\n",
        "      <td> 0.583467</td>\n",
        "    </tr>\n",
        "  </tbody>\n",
        "</table>\n",
        "</div>"
       ],
       "metadata": {},
       "output_type": "pyout",
       "prompt_number": 88,
       "text": [
        "          1         2         3\n",
        "a  0.424454  0.255042  0.033661\n",
        "b  1.244525 -1.410383 -0.845257\n",
        "c -0.531016  1.564004       NaN\n",
        "d       NaN -0.019651  0.583467"
       ]
      }
     ],
     "prompt_number": 88
    },
    {
     "cell_type": "markdown",
     "metadata": {},
     "source": [
      "\\39.  Revert it to its previous form by using the inverse operation, such that the original table belosw is observed once again."
     ]
    },
    {
     "cell_type": "code",
     "collapsed": false,
     "input": [
      "data.?.?"
     ],
     "language": "python",
     "metadata": {},
     "outputs": [
      {
       "metadata": {},
       "output_type": "pyout",
       "prompt_number": 89,
       "text": [
        "a  1    0.424454\n",
        "   2    0.255042\n",
        "   3    0.033661\n",
        "b  1    1.244525\n",
        "   2   -1.410383\n",
        "   3   -0.845257\n",
        "c  1   -0.531016\n",
        "   2    1.564004\n",
        "d  2   -0.019651\n",
        "   3    0.583467\n",
        "dtype: float64"
       ]
      }
     ],
     "prompt_number": 89
    },
    {
     "cell_type": "markdown",
     "metadata": {},
     "source": [
      "With a DataFrame, either axis can have a hierarchical index."
     ]
    },
    {
     "cell_type": "code",
     "collapsed": false,
     "input": [
      "frame = DataFrame(np.arange(12).reshape((4, 3)),\n",
      "                  index=[['a', 'a', 'b', 'b'], [1, 2, 1, 2]],\n",
      "                  columns=[['Ohio', 'Ohio', 'Colorado'],\n",
      "                            ['Green', 'Red', 'Green']])"
     ],
     "language": "python",
     "metadata": {},
     "outputs": [],
     "prompt_number": 91
    },
    {
     "cell_type": "code",
     "collapsed": false,
     "input": [
      "frame"
     ],
     "language": "python",
     "metadata": {},
     "outputs": [
      {
       "html": [
        "<div style=\"max-height:1000px;max-width:1500px;overflow:auto;\">\n",
        "<table border=\"1\" class=\"dataframe\">\n",
        "  <thead>\n",
        "    <tr>\n",
        "      <th></th>\n",
        "      <th></th>\n",
        "      <th colspan=\"2\" halign=\"left\">Ohio</th>\n",
        "      <th>Colorado</th>\n",
        "    </tr>\n",
        "    <tr>\n",
        "      <th></th>\n",
        "      <th></th>\n",
        "      <th>Green</th>\n",
        "      <th>Red</th>\n",
        "      <th>Green</th>\n",
        "    </tr>\n",
        "  </thead>\n",
        "  <tbody>\n",
        "    <tr>\n",
        "      <th rowspan=\"2\" valign=\"top\">a</th>\n",
        "      <th>1</th>\n",
        "      <td> 0</td>\n",
        "      <td>  1</td>\n",
        "      <td>  2</td>\n",
        "    </tr>\n",
        "    <tr>\n",
        "      <th>2</th>\n",
        "      <td> 3</td>\n",
        "      <td>  4</td>\n",
        "      <td>  5</td>\n",
        "    </tr>\n",
        "    <tr>\n",
        "      <th rowspan=\"2\" valign=\"top\">b</th>\n",
        "      <th>1</th>\n",
        "      <td> 6</td>\n",
        "      <td>  7</td>\n",
        "      <td>  8</td>\n",
        "    </tr>\n",
        "    <tr>\n",
        "      <th>2</th>\n",
        "      <td> 9</td>\n",
        "      <td> 10</td>\n",
        "      <td> 11</td>\n",
        "    </tr>\n",
        "  </tbody>\n",
        "</table>\n",
        "</div>"
       ],
       "metadata": {},
       "output_type": "pyout",
       "prompt_number": 92,
       "text": [
        "      Ohio       Colorado\n",
        "     Green  Red     Green\n",
        "a 1      0    1         2\n",
        "  2      3    4         5\n",
        "b 1      6    7         8\n",
        "  2      9   10        11"
       ]
      }
     ],
     "prompt_number": 92
    },
    {
     "cell_type": "markdown",
     "metadata": {},
     "source": [
      "The hierarchical levels can have names (don't confuse the index names with the index labels)."
     ]
    },
    {
     "cell_type": "code",
     "collapsed": false,
     "input": [
      "frame.index.names = ['key1', 'key2']"
     ],
     "language": "python",
     "metadata": {},
     "outputs": [],
     "prompt_number": 93
    },
    {
     "cell_type": "code",
     "collapsed": false,
     "input": [
      "frame.columns.names = ['state', 'color']"
     ],
     "language": "python",
     "metadata": {},
     "outputs": [],
     "prompt_number": 95
    },
    {
     "cell_type": "code",
     "collapsed": false,
     "input": [
      "frame"
     ],
     "language": "python",
     "metadata": {},
     "outputs": [
      {
       "html": [
        "<div style=\"max-height:1000px;max-width:1500px;overflow:auto;\">\n",
        "<table border=\"1\" class=\"dataframe\">\n",
        "  <thead>\n",
        "    <tr>\n",
        "      <th></th>\n",
        "      <th>state</th>\n",
        "      <th colspan=\"2\" halign=\"left\">Ohio</th>\n",
        "      <th>Colorado</th>\n",
        "    </tr>\n",
        "    <tr>\n",
        "      <th></th>\n",
        "      <th>color</th>\n",
        "      <th>Green</th>\n",
        "      <th>Red</th>\n",
        "      <th>Green</th>\n",
        "    </tr>\n",
        "    <tr>\n",
        "      <th>key1</th>\n",
        "      <th>key2</th>\n",
        "      <th></th>\n",
        "      <th></th>\n",
        "      <th></th>\n",
        "    </tr>\n",
        "  </thead>\n",
        "  <tbody>\n",
        "    <tr>\n",
        "      <th rowspan=\"2\" valign=\"top\">a</th>\n",
        "      <th>1</th>\n",
        "      <td> 0</td>\n",
        "      <td>  1</td>\n",
        "      <td>  2</td>\n",
        "    </tr>\n",
        "    <tr>\n",
        "      <th>2</th>\n",
        "      <td> 3</td>\n",
        "      <td>  4</td>\n",
        "      <td>  5</td>\n",
        "    </tr>\n",
        "    <tr>\n",
        "      <th rowspan=\"2\" valign=\"top\">b</th>\n",
        "      <th>1</th>\n",
        "      <td> 6</td>\n",
        "      <td>  7</td>\n",
        "      <td>  8</td>\n",
        "    </tr>\n",
        "    <tr>\n",
        "      <th>2</th>\n",
        "      <td> 9</td>\n",
        "      <td> 10</td>\n",
        "      <td> 11</td>\n",
        "    </tr>\n",
        "  </tbody>\n",
        "</table>\n",
        "</div>"
       ],
       "metadata": {},
       "output_type": "pyout",
       "prompt_number": 96,
       "text": [
        "state       Ohio       Colorado\n",
        "color      Green  Red     Green\n",
        "key1 key2                      \n",
        "a    1         0    1         2\n",
        "     2         3    4         5\n",
        "b    1         6    7         8\n",
        "     2         9   10        11"
       ]
      }
     ],
     "prompt_number": 96
    },
    {
     "cell_type": "markdown",
     "metadata": {},
     "source": [
      "With partial column indexing, you can similarly select groups of columns."
     ]
    },
    {
     "cell_type": "code",
     "collapsed": false,
     "input": [
      "frame['Ohio']"
     ],
     "language": "python",
     "metadata": {},
     "outputs": [
      {
       "html": [
        "<div style=\"max-height:1000px;max-width:1500px;overflow:auto;\">\n",
        "<table border=\"1\" class=\"dataframe\">\n",
        "  <thead>\n",
        "    <tr style=\"text-align: right;\">\n",
        "      <th></th>\n",
        "      <th>color</th>\n",
        "      <th>Green</th>\n",
        "      <th>Red</th>\n",
        "    </tr>\n",
        "    <tr>\n",
        "      <th>key1</th>\n",
        "      <th>key2</th>\n",
        "      <th></th>\n",
        "      <th></th>\n",
        "    </tr>\n",
        "  </thead>\n",
        "  <tbody>\n",
        "    <tr>\n",
        "      <th rowspan=\"2\" valign=\"top\">a</th>\n",
        "      <th>1</th>\n",
        "      <td> 0</td>\n",
        "      <td>  1</td>\n",
        "    </tr>\n",
        "    <tr>\n",
        "      <th>2</th>\n",
        "      <td> 3</td>\n",
        "      <td>  4</td>\n",
        "    </tr>\n",
        "    <tr>\n",
        "      <th rowspan=\"2\" valign=\"top\">b</th>\n",
        "      <th>1</th>\n",
        "      <td> 6</td>\n",
        "      <td>  7</td>\n",
        "    </tr>\n",
        "    <tr>\n",
        "      <th>2</th>\n",
        "      <td> 9</td>\n",
        "      <td> 10</td>\n",
        "    </tr>\n",
        "  </tbody>\n",
        "</table>\n",
        "</div>"
       ],
       "metadata": {},
       "output_type": "pyout",
       "prompt_number": 97,
       "text": [
        "color      Green  Red\n",
        "key1 key2            \n",
        "a    1         0    1\n",
        "     2         3    4\n",
        "b    1         6    7\n",
        "     2         9   10"
       ]
      }
     ],
     "prompt_number": 97
    },
    {
     "cell_type": "markdown",
     "metadata": {},
     "source": [
      "A multiIndex can be created by itself and then reused.  Another way to create the column and index names above is to use this: MultiIndex.from_arrays(...).  Try to figure it out yourself."
     ]
    },
    {
     "cell_type": "heading",
     "level": 3,
     "metadata": {},
     "source": [
      "Reordering and Sorting Levels"
     ]
    },
    {
     "cell_type": "markdown",
     "metadata": {},
     "source": [
      "You may need to rearrange the order of the levels of an axis or sort the data by the values in one specific level.  The swaplevel takes two level numbers or names and returns a new object with the levels interchanged (but the data is not altered)."
     ]
    },
    {
     "cell_type": "code",
     "collapsed": false,
     "input": [
      "frame"
     ],
     "language": "python",
     "metadata": {},
     "outputs": [
      {
       "html": [
        "<div style=\"max-height:1000px;max-width:1500px;overflow:auto;\">\n",
        "<table border=\"1\" class=\"dataframe\">\n",
        "  <thead>\n",
        "    <tr>\n",
        "      <th></th>\n",
        "      <th>state</th>\n",
        "      <th colspan=\"2\" halign=\"left\">Ohio</th>\n",
        "      <th>Colorado</th>\n",
        "    </tr>\n",
        "    <tr>\n",
        "      <th></th>\n",
        "      <th>color</th>\n",
        "      <th>Green</th>\n",
        "      <th>Red</th>\n",
        "      <th>Green</th>\n",
        "    </tr>\n",
        "    <tr>\n",
        "      <th>key1</th>\n",
        "      <th>key2</th>\n",
        "      <th></th>\n",
        "      <th></th>\n",
        "      <th></th>\n",
        "    </tr>\n",
        "  </thead>\n",
        "  <tbody>\n",
        "    <tr>\n",
        "      <th rowspan=\"2\" valign=\"top\">a</th>\n",
        "      <th>1</th>\n",
        "      <td> 0</td>\n",
        "      <td>  1</td>\n",
        "      <td>  2</td>\n",
        "    </tr>\n",
        "    <tr>\n",
        "      <th>2</th>\n",
        "      <td> 3</td>\n",
        "      <td>  4</td>\n",
        "      <td>  5</td>\n",
        "    </tr>\n",
        "    <tr>\n",
        "      <th rowspan=\"2\" valign=\"top\">b</th>\n",
        "      <th>1</th>\n",
        "      <td> 6</td>\n",
        "      <td>  7</td>\n",
        "      <td>  8</td>\n",
        "    </tr>\n",
        "    <tr>\n",
        "      <th>2</th>\n",
        "      <td> 9</td>\n",
        "      <td> 10</td>\n",
        "      <td> 11</td>\n",
        "    </tr>\n",
        "  </tbody>\n",
        "</table>\n",
        "</div>"
       ],
       "metadata": {},
       "output_type": "pyout",
       "prompt_number": 99,
       "text": [
        "state       Ohio       Colorado\n",
        "color      Green  Red     Green\n",
        "key1 key2                      \n",
        "a    1         0    1         2\n",
        "     2         3    4         5\n",
        "b    1         6    7         8\n",
        "     2         9   10        11"
       ]
      }
     ],
     "prompt_number": 99
    },
    {
     "cell_type": "code",
     "collapsed": false,
     "input": [
      "frame.swaplevel('key1', 'key2')"
     ],
     "language": "python",
     "metadata": {},
     "outputs": [
      {
       "html": [
        "<div style=\"max-height:1000px;max-width:1500px;overflow:auto;\">\n",
        "<table border=\"1\" class=\"dataframe\">\n",
        "  <thead>\n",
        "    <tr>\n",
        "      <th></th>\n",
        "      <th>state</th>\n",
        "      <th colspan=\"2\" halign=\"left\">Ohio</th>\n",
        "      <th>Colorado</th>\n",
        "    </tr>\n",
        "    <tr>\n",
        "      <th></th>\n",
        "      <th>color</th>\n",
        "      <th>Green</th>\n",
        "      <th>Red</th>\n",
        "      <th>Green</th>\n",
        "    </tr>\n",
        "    <tr>\n",
        "      <th>key2</th>\n",
        "      <th>key1</th>\n",
        "      <th></th>\n",
        "      <th></th>\n",
        "      <th></th>\n",
        "    </tr>\n",
        "  </thead>\n",
        "  <tbody>\n",
        "    <tr>\n",
        "      <th>1</th>\n",
        "      <th>a</th>\n",
        "      <td> 0</td>\n",
        "      <td>  1</td>\n",
        "      <td>  2</td>\n",
        "    </tr>\n",
        "    <tr>\n",
        "      <th>2</th>\n",
        "      <th>a</th>\n",
        "      <td> 3</td>\n",
        "      <td>  4</td>\n",
        "      <td>  5</td>\n",
        "    </tr>\n",
        "    <tr>\n",
        "      <th>1</th>\n",
        "      <th>b</th>\n",
        "      <td> 6</td>\n",
        "      <td>  7</td>\n",
        "      <td>  8</td>\n",
        "    </tr>\n",
        "    <tr>\n",
        "      <th>2</th>\n",
        "      <th>b</th>\n",
        "      <td> 9</td>\n",
        "      <td> 10</td>\n",
        "      <td> 11</td>\n",
        "    </tr>\n",
        "  </tbody>\n",
        "</table>\n",
        "</div>"
       ],
       "metadata": {},
       "output_type": "pyout",
       "prompt_number": 98,
       "text": [
        "state       Ohio       Colorado\n",
        "color      Green  Red     Green\n",
        "key2 key1                      \n",
        "1    a         0    1         2\n",
        "2    a         3    4         5\n",
        "1    b         6    7         8\n",
        "2    b         9   10        11"
       ]
      }
     ],
     "prompt_number": 98
    },
    {
     "cell_type": "markdown",
     "metadata": {},
     "source": [
      "sortlevel, on the other hand, sorts the data (stably) using only the values in a single level.  "
     ]
    },
    {
     "cell_type": "code",
     "collapsed": false,
     "input": [
      "frame"
     ],
     "language": "python",
     "metadata": {},
     "outputs": [
      {
       "html": [
        "<div style=\"max-height:1000px;max-width:1500px;overflow:auto;\">\n",
        "<table border=\"1\" class=\"dataframe\">\n",
        "  <thead>\n",
        "    <tr>\n",
        "      <th></th>\n",
        "      <th>state</th>\n",
        "      <th colspan=\"2\" halign=\"left\">Ohio</th>\n",
        "      <th>Colorado</th>\n",
        "    </tr>\n",
        "    <tr>\n",
        "      <th></th>\n",
        "      <th>color</th>\n",
        "      <th>Green</th>\n",
        "      <th>Red</th>\n",
        "      <th>Green</th>\n",
        "    </tr>\n",
        "    <tr>\n",
        "      <th>key1</th>\n",
        "      <th>key2</th>\n",
        "      <th></th>\n",
        "      <th></th>\n",
        "      <th></th>\n",
        "    </tr>\n",
        "  </thead>\n",
        "  <tbody>\n",
        "    <tr>\n",
        "      <th rowspan=\"2\" valign=\"top\">a</th>\n",
        "      <th>1</th>\n",
        "      <td> 0</td>\n",
        "      <td>  1</td>\n",
        "      <td>  2</td>\n",
        "    </tr>\n",
        "    <tr>\n",
        "      <th>2</th>\n",
        "      <td> 3</td>\n",
        "      <td>  4</td>\n",
        "      <td>  5</td>\n",
        "    </tr>\n",
        "    <tr>\n",
        "      <th rowspan=\"2\" valign=\"top\">b</th>\n",
        "      <th>1</th>\n",
        "      <td> 6</td>\n",
        "      <td>  7</td>\n",
        "      <td>  8</td>\n",
        "    </tr>\n",
        "    <tr>\n",
        "      <th>2</th>\n",
        "      <td> 9</td>\n",
        "      <td> 10</td>\n",
        "      <td> 11</td>\n",
        "    </tr>\n",
        "  </tbody>\n",
        "</table>\n",
        "</div>"
       ],
       "metadata": {},
       "output_type": "pyout",
       "prompt_number": 100,
       "text": [
        "state       Ohio       Colorado\n",
        "color      Green  Red     Green\n",
        "key1 key2                      \n",
        "a    1         0    1         2\n",
        "     2         3    4         5\n",
        "b    1         6    7         8\n",
        "     2         9   10        11"
       ]
      }
     ],
     "prompt_number": 100
    },
    {
     "cell_type": "code",
     "collapsed": false,
     "input": [
      "frame.sortlevel(1)"
     ],
     "language": "python",
     "metadata": {},
     "outputs": [
      {
       "html": [
        "<div style=\"max-height:1000px;max-width:1500px;overflow:auto;\">\n",
        "<table border=\"1\" class=\"dataframe\">\n",
        "  <thead>\n",
        "    <tr>\n",
        "      <th></th>\n",
        "      <th>state</th>\n",
        "      <th colspan=\"2\" halign=\"left\">Ohio</th>\n",
        "      <th>Colorado</th>\n",
        "    </tr>\n",
        "    <tr>\n",
        "      <th></th>\n",
        "      <th>color</th>\n",
        "      <th>Green</th>\n",
        "      <th>Red</th>\n",
        "      <th>Green</th>\n",
        "    </tr>\n",
        "    <tr>\n",
        "      <th>key1</th>\n",
        "      <th>key2</th>\n",
        "      <th></th>\n",
        "      <th></th>\n",
        "      <th></th>\n",
        "    </tr>\n",
        "  </thead>\n",
        "  <tbody>\n",
        "    <tr>\n",
        "      <th>a</th>\n",
        "      <th>1</th>\n",
        "      <td> 0</td>\n",
        "      <td>  1</td>\n",
        "      <td>  2</td>\n",
        "    </tr>\n",
        "    <tr>\n",
        "      <th>b</th>\n",
        "      <th>1</th>\n",
        "      <td> 6</td>\n",
        "      <td>  7</td>\n",
        "      <td>  8</td>\n",
        "    </tr>\n",
        "    <tr>\n",
        "      <th>a</th>\n",
        "      <th>2</th>\n",
        "      <td> 3</td>\n",
        "      <td>  4</td>\n",
        "      <td>  5</td>\n",
        "    </tr>\n",
        "    <tr>\n",
        "      <th>b</th>\n",
        "      <th>2</th>\n",
        "      <td> 9</td>\n",
        "      <td> 10</td>\n",
        "      <td> 11</td>\n",
        "    </tr>\n",
        "  </tbody>\n",
        "</table>\n",
        "</div>"
       ],
       "metadata": {},
       "output_type": "pyout",
       "prompt_number": 101,
       "text": [
        "state       Ohio       Colorado\n",
        "color      Green  Red     Green\n",
        "key1 key2                      \n",
        "a    1         0    1         2\n",
        "b    1         6    7         8\n",
        "a    2         3    4         5\n",
        "b    2         9   10        11"
       ]
      }
     ],
     "prompt_number": 101
    },
    {
     "cell_type": "markdown",
     "metadata": {},
     "source": [
      "When swapping levels, it's not uncommon to also use sortlevel so that the result is lexicographically sorted."
     ]
    },
    {
     "cell_type": "code",
     "collapsed": false,
     "input": [
      "frame"
     ],
     "language": "python",
     "metadata": {},
     "outputs": [
      {
       "html": [
        "<div style=\"max-height:1000px;max-width:1500px;overflow:auto;\">\n",
        "<table border=\"1\" class=\"dataframe\">\n",
        "  <thead>\n",
        "    <tr>\n",
        "      <th></th>\n",
        "      <th>state</th>\n",
        "      <th colspan=\"2\" halign=\"left\">Ohio</th>\n",
        "      <th>Colorado</th>\n",
        "    </tr>\n",
        "    <tr>\n",
        "      <th></th>\n",
        "      <th>color</th>\n",
        "      <th>Green</th>\n",
        "      <th>Red</th>\n",
        "      <th>Green</th>\n",
        "    </tr>\n",
        "    <tr>\n",
        "      <th>key1</th>\n",
        "      <th>key2</th>\n",
        "      <th></th>\n",
        "      <th></th>\n",
        "      <th></th>\n",
        "    </tr>\n",
        "  </thead>\n",
        "  <tbody>\n",
        "    <tr>\n",
        "      <th rowspan=\"2\" valign=\"top\">a</th>\n",
        "      <th>1</th>\n",
        "      <td> 0</td>\n",
        "      <td>  1</td>\n",
        "      <td>  2</td>\n",
        "    </tr>\n",
        "    <tr>\n",
        "      <th>2</th>\n",
        "      <td> 3</td>\n",
        "      <td>  4</td>\n",
        "      <td>  5</td>\n",
        "    </tr>\n",
        "    <tr>\n",
        "      <th rowspan=\"2\" valign=\"top\">b</th>\n",
        "      <th>1</th>\n",
        "      <td> 6</td>\n",
        "      <td>  7</td>\n",
        "      <td>  8</td>\n",
        "    </tr>\n",
        "    <tr>\n",
        "      <th>2</th>\n",
        "      <td> 9</td>\n",
        "      <td> 10</td>\n",
        "      <td> 11</td>\n",
        "    </tr>\n",
        "  </tbody>\n",
        "</table>\n",
        "</div>"
       ],
       "metadata": {},
       "output_type": "pyout",
       "prompt_number": 102,
       "text": [
        "state       Ohio       Colorado\n",
        "color      Green  Red     Green\n",
        "key1 key2                      \n",
        "a    1         0    1         2\n",
        "     2         3    4         5\n",
        "b    1         6    7         8\n",
        "     2         9   10        11"
       ]
      }
     ],
     "prompt_number": 102
    },
    {
     "cell_type": "code",
     "collapsed": false,
     "input": [
      "frame.swaplevel(0,1)"
     ],
     "language": "python",
     "metadata": {},
     "outputs": [
      {
       "html": [
        "<div style=\"max-height:1000px;max-width:1500px;overflow:auto;\">\n",
        "<table border=\"1\" class=\"dataframe\">\n",
        "  <thead>\n",
        "    <tr>\n",
        "      <th></th>\n",
        "      <th>state</th>\n",
        "      <th colspan=\"2\" halign=\"left\">Ohio</th>\n",
        "      <th>Colorado</th>\n",
        "    </tr>\n",
        "    <tr>\n",
        "      <th></th>\n",
        "      <th>color</th>\n",
        "      <th>Green</th>\n",
        "      <th>Red</th>\n",
        "      <th>Green</th>\n",
        "    </tr>\n",
        "    <tr>\n",
        "      <th>key2</th>\n",
        "      <th>key1</th>\n",
        "      <th></th>\n",
        "      <th></th>\n",
        "      <th></th>\n",
        "    </tr>\n",
        "  </thead>\n",
        "  <tbody>\n",
        "    <tr>\n",
        "      <th>1</th>\n",
        "      <th>a</th>\n",
        "      <td> 0</td>\n",
        "      <td>  1</td>\n",
        "      <td>  2</td>\n",
        "    </tr>\n",
        "    <tr>\n",
        "      <th>2</th>\n",
        "      <th>a</th>\n",
        "      <td> 3</td>\n",
        "      <td>  4</td>\n",
        "      <td>  5</td>\n",
        "    </tr>\n",
        "    <tr>\n",
        "      <th>1</th>\n",
        "      <th>b</th>\n",
        "      <td> 6</td>\n",
        "      <td>  7</td>\n",
        "      <td>  8</td>\n",
        "    </tr>\n",
        "    <tr>\n",
        "      <th>2</th>\n",
        "      <th>b</th>\n",
        "      <td> 9</td>\n",
        "      <td> 10</td>\n",
        "      <td> 11</td>\n",
        "    </tr>\n",
        "  </tbody>\n",
        "</table>\n",
        "</div>"
       ],
       "metadata": {},
       "output_type": "pyout",
       "prompt_number": 103,
       "text": [
        "state       Ohio       Colorado\n",
        "color      Green  Red     Green\n",
        "key2 key1                      \n",
        "1    a         0    1         2\n",
        "2    a         3    4         5\n",
        "1    b         6    7         8\n",
        "2    b         9   10        11"
       ]
      }
     ],
     "prompt_number": 103
    },
    {
     "cell_type": "code",
     "collapsed": false,
     "input": [
      "frame.swaplevel(0,1).sortlevel(0)"
     ],
     "language": "python",
     "metadata": {},
     "outputs": [
      {
       "html": [
        "<div style=\"max-height:1000px;max-width:1500px;overflow:auto;\">\n",
        "<table border=\"1\" class=\"dataframe\">\n",
        "  <thead>\n",
        "    <tr>\n",
        "      <th></th>\n",
        "      <th>state</th>\n",
        "      <th colspan=\"2\" halign=\"left\">Ohio</th>\n",
        "      <th>Colorado</th>\n",
        "    </tr>\n",
        "    <tr>\n",
        "      <th></th>\n",
        "      <th>color</th>\n",
        "      <th>Green</th>\n",
        "      <th>Red</th>\n",
        "      <th>Green</th>\n",
        "    </tr>\n",
        "    <tr>\n",
        "      <th>key2</th>\n",
        "      <th>key1</th>\n",
        "      <th></th>\n",
        "      <th></th>\n",
        "      <th></th>\n",
        "    </tr>\n",
        "  </thead>\n",
        "  <tbody>\n",
        "    <tr>\n",
        "      <th rowspan=\"2\" valign=\"top\">1</th>\n",
        "      <th>a</th>\n",
        "      <td> 0</td>\n",
        "      <td>  1</td>\n",
        "      <td>  2</td>\n",
        "    </tr>\n",
        "    <tr>\n",
        "      <th>b</th>\n",
        "      <td> 6</td>\n",
        "      <td>  7</td>\n",
        "      <td>  8</td>\n",
        "    </tr>\n",
        "    <tr>\n",
        "      <th rowspan=\"2\" valign=\"top\">2</th>\n",
        "      <th>a</th>\n",
        "      <td> 3</td>\n",
        "      <td>  4</td>\n",
        "      <td>  5</td>\n",
        "    </tr>\n",
        "    <tr>\n",
        "      <th>b</th>\n",
        "      <td> 9</td>\n",
        "      <td> 10</td>\n",
        "      <td> 11</td>\n",
        "    </tr>\n",
        "  </tbody>\n",
        "</table>\n",
        "</div>"
       ],
       "metadata": {},
       "output_type": "pyout",
       "prompt_number": 104,
       "text": [
        "state       Ohio       Colorado\n",
        "color      Green  Red     Green\n",
        "key2 key1                      \n",
        "1    a         0    1         2\n",
        "     b         6    7         8\n",
        "2    a         3    4         5\n",
        "     b         9   10        11"
       ]
      }
     ],
     "prompt_number": 104
    },
    {
     "cell_type": "markdown",
     "metadata": {},
     "source": [
      "Data selection performance is much better on hierarchically indexed objects if the index is lexicographically sorted started with the outer most level (the result of calling sortlevel(0) or sort_index()."
     ]
    },
    {
     "cell_type": "heading",
     "level": 3,
     "metadata": {},
     "source": [
      "Summary Statistics by Level"
     ]
    },
    {
     "cell_type": "markdown",
     "metadata": {},
     "source": [
      "Many descriptive and summary statistics on DataFrame and Series have a level option in which you can specify the level you want to sum by on a particular axis.  We can sum by level on either the rows or columns:"
     ]
    },
    {
     "cell_type": "code",
     "collapsed": false,
     "input": [
      "frame"
     ],
     "language": "python",
     "metadata": {},
     "outputs": [
      {
       "html": [
        "<div style=\"max-height:1000px;max-width:1500px;overflow:auto;\">\n",
        "<table border=\"1\" class=\"dataframe\">\n",
        "  <thead>\n",
        "    <tr>\n",
        "      <th></th>\n",
        "      <th>state</th>\n",
        "      <th colspan=\"2\" halign=\"left\">Ohio</th>\n",
        "      <th>Colorado</th>\n",
        "    </tr>\n",
        "    <tr>\n",
        "      <th></th>\n",
        "      <th>color</th>\n",
        "      <th>Green</th>\n",
        "      <th>Red</th>\n",
        "      <th>Green</th>\n",
        "    </tr>\n",
        "    <tr>\n",
        "      <th>key1</th>\n",
        "      <th>key2</th>\n",
        "      <th></th>\n",
        "      <th></th>\n",
        "      <th></th>\n",
        "    </tr>\n",
        "  </thead>\n",
        "  <tbody>\n",
        "    <tr>\n",
        "      <th rowspan=\"2\" valign=\"top\">a</th>\n",
        "      <th>1</th>\n",
        "      <td> 0</td>\n",
        "      <td>  1</td>\n",
        "      <td>  2</td>\n",
        "    </tr>\n",
        "    <tr>\n",
        "      <th>2</th>\n",
        "      <td> 3</td>\n",
        "      <td>  4</td>\n",
        "      <td>  5</td>\n",
        "    </tr>\n",
        "    <tr>\n",
        "      <th rowspan=\"2\" valign=\"top\">b</th>\n",
        "      <th>1</th>\n",
        "      <td> 6</td>\n",
        "      <td>  7</td>\n",
        "      <td>  8</td>\n",
        "    </tr>\n",
        "    <tr>\n",
        "      <th>2</th>\n",
        "      <td> 9</td>\n",
        "      <td> 10</td>\n",
        "      <td> 11</td>\n",
        "    </tr>\n",
        "  </tbody>\n",
        "</table>\n",
        "</div>"
       ],
       "metadata": {},
       "output_type": "pyout",
       "prompt_number": 105,
       "text": [
        "state       Ohio       Colorado\n",
        "color      Green  Red     Green\n",
        "key1 key2                      \n",
        "a    1         0    1         2\n",
        "     2         3    4         5\n",
        "b    1         6    7         8\n",
        "     2         9   10        11"
       ]
      }
     ],
     "prompt_number": 105
    },
    {
     "cell_type": "code",
     "collapsed": false,
     "input": [
      "frame.sum(level='key2')"
     ],
     "language": "python",
     "metadata": {},
     "outputs": [
      {
       "html": [
        "<div style=\"max-height:1000px;max-width:1500px;overflow:auto;\">\n",
        "<table border=\"1\" class=\"dataframe\">\n",
        "  <thead>\n",
        "    <tr>\n",
        "      <th>state</th>\n",
        "      <th colspan=\"2\" halign=\"left\">Ohio</th>\n",
        "      <th>Colorado</th>\n",
        "    </tr>\n",
        "    <tr>\n",
        "      <th>color</th>\n",
        "      <th>Green</th>\n",
        "      <th>Red</th>\n",
        "      <th>Green</th>\n",
        "    </tr>\n",
        "    <tr>\n",
        "      <th>key2</th>\n",
        "      <th></th>\n",
        "      <th></th>\n",
        "      <th></th>\n",
        "    </tr>\n",
        "  </thead>\n",
        "  <tbody>\n",
        "    <tr>\n",
        "      <th>1</th>\n",
        "      <td>  6</td>\n",
        "      <td>  8</td>\n",
        "      <td> 10</td>\n",
        "    </tr>\n",
        "    <tr>\n",
        "      <th>2</th>\n",
        "      <td> 12</td>\n",
        "      <td> 14</td>\n",
        "      <td> 16</td>\n",
        "    </tr>\n",
        "  </tbody>\n",
        "</table>\n",
        "</div>"
       ],
       "metadata": {},
       "output_type": "pyout",
       "prompt_number": 106,
       "text": [
        "state   Ohio       Colorado\n",
        "color  Green  Red     Green\n",
        "key2                       \n",
        "1          6    8        10\n",
        "2         12   14        16"
       ]
      }
     ],
     "prompt_number": 106
    },
    {
     "cell_type": "code",
     "collapsed": false,
     "input": [
      "frame.sum(level='color', axis=1)"
     ],
     "language": "python",
     "metadata": {},
     "outputs": [
      {
       "html": [
        "<div style=\"max-height:1000px;max-width:1500px;overflow:auto;\">\n",
        "<table border=\"1\" class=\"dataframe\">\n",
        "  <thead>\n",
        "    <tr style=\"text-align: right;\">\n",
        "      <th></th>\n",
        "      <th>color</th>\n",
        "      <th>Green</th>\n",
        "      <th>Red</th>\n",
        "    </tr>\n",
        "    <tr>\n",
        "      <th>key1</th>\n",
        "      <th>key2</th>\n",
        "      <th></th>\n",
        "      <th></th>\n",
        "    </tr>\n",
        "  </thead>\n",
        "  <tbody>\n",
        "    <tr>\n",
        "      <th rowspan=\"2\" valign=\"top\">a</th>\n",
        "      <th>1</th>\n",
        "      <td>  2</td>\n",
        "      <td>  1</td>\n",
        "    </tr>\n",
        "    <tr>\n",
        "      <th>2</th>\n",
        "      <td>  8</td>\n",
        "      <td>  4</td>\n",
        "    </tr>\n",
        "    <tr>\n",
        "      <th rowspan=\"2\" valign=\"top\">b</th>\n",
        "      <th>1</th>\n",
        "      <td> 14</td>\n",
        "      <td>  7</td>\n",
        "    </tr>\n",
        "    <tr>\n",
        "      <th>2</th>\n",
        "      <td> 20</td>\n",
        "      <td> 10</td>\n",
        "    </tr>\n",
        "  </tbody>\n",
        "</table>\n",
        "</div>"
       ],
       "metadata": {},
       "output_type": "pyout",
       "prompt_number": 107,
       "text": [
        "color      Green  Red\n",
        "key1 key2            \n",
        "a    1         2    1\n",
        "     2         8    4\n",
        "b    1        14    7\n",
        "     2        20   10"
       ]
      }
     ],
     "prompt_number": 107
    },
    {
     "cell_type": "markdown",
     "metadata": {},
     "source": [
      "Under the hood, this utilizes pandas's groupby machinery."
     ]
    },
    {
     "cell_type": "heading",
     "level": 3,
     "metadata": {},
     "source": [
      "Using a DataFrame's Columns"
     ]
    },
    {
     "cell_type": "markdown",
     "metadata": {},
     "source": [
      "You may use one or more columns from a DataFrame as the row index.  Alternatively, you may want to move the row index into the DataFrame's column."
     ]
    },
    {
     "cell_type": "code",
     "collapsed": false,
     "input": [
      "frame = DataFrame({'a': range(7), 'b': range(7, 0, -1),\n",
      "                   'c': ['one', 'one', 'one', 'two', 'two', 'two', 'two'],\n",
      "                   'd': [0, 1, 2, 0, 1, 2, 3]})"
     ],
     "language": "python",
     "metadata": {},
     "outputs": [],
     "prompt_number": 112
    },
    {
     "cell_type": "code",
     "collapsed": false,
     "input": [
      "frame"
     ],
     "language": "python",
     "metadata": {},
     "outputs": [
      {
       "html": [
        "<div style=\"max-height:1000px;max-width:1500px;overflow:auto;\">\n",
        "<table border=\"1\" class=\"dataframe\">\n",
        "  <thead>\n",
        "    <tr style=\"text-align: right;\">\n",
        "      <th></th>\n",
        "      <th>a</th>\n",
        "      <th>b</th>\n",
        "      <th>c</th>\n",
        "      <th>d</th>\n",
        "    </tr>\n",
        "  </thead>\n",
        "  <tbody>\n",
        "    <tr>\n",
        "      <th>0</th>\n",
        "      <td> 0</td>\n",
        "      <td> 7</td>\n",
        "      <td> one</td>\n",
        "      <td> 0</td>\n",
        "    </tr>\n",
        "    <tr>\n",
        "      <th>1</th>\n",
        "      <td> 1</td>\n",
        "      <td> 6</td>\n",
        "      <td> one</td>\n",
        "      <td> 1</td>\n",
        "    </tr>\n",
        "    <tr>\n",
        "      <th>2</th>\n",
        "      <td> 2</td>\n",
        "      <td> 5</td>\n",
        "      <td> one</td>\n",
        "      <td> 2</td>\n",
        "    </tr>\n",
        "    <tr>\n",
        "      <th>3</th>\n",
        "      <td> 3</td>\n",
        "      <td> 4</td>\n",
        "      <td> two</td>\n",
        "      <td> 0</td>\n",
        "    </tr>\n",
        "    <tr>\n",
        "      <th>4</th>\n",
        "      <td> 4</td>\n",
        "      <td> 3</td>\n",
        "      <td> two</td>\n",
        "      <td> 1</td>\n",
        "    </tr>\n",
        "    <tr>\n",
        "      <th>5</th>\n",
        "      <td> 5</td>\n",
        "      <td> 2</td>\n",
        "      <td> two</td>\n",
        "      <td> 2</td>\n",
        "    </tr>\n",
        "    <tr>\n",
        "      <th>6</th>\n",
        "      <td> 6</td>\n",
        "      <td> 1</td>\n",
        "      <td> two</td>\n",
        "      <td> 3</td>\n",
        "    </tr>\n",
        "  </tbody>\n",
        "</table>\n",
        "</div>"
       ],
       "metadata": {},
       "output_type": "pyout",
       "prompt_number": 113,
       "text": [
        "   a  b    c  d\n",
        "0  0  7  one  0\n",
        "1  1  6  one  1\n",
        "2  2  5  one  2\n",
        "3  3  4  two  0\n",
        "4  4  3  two  1\n",
        "5  5  2  two  2\n",
        "6  6  1  two  3"
       ]
      }
     ],
     "prompt_number": 113
    },
    {
     "cell_type": "markdown",
     "metadata": {},
     "source": [
      "DataFrame's set_index function will create a new DataFrame using one or more of its columns as the index."
     ]
    },
    {
     "cell_type": "code",
     "collapsed": false,
     "input": [
      "frame2 = frame.set_index(['c', 'd'])"
     ],
     "language": "python",
     "metadata": {},
     "outputs": [],
     "prompt_number": 114
    },
    {
     "cell_type": "code",
     "collapsed": false,
     "input": [
      "frame2"
     ],
     "language": "python",
     "metadata": {},
     "outputs": [
      {
       "html": [
        "<div style=\"max-height:1000px;max-width:1500px;overflow:auto;\">\n",
        "<table border=\"1\" class=\"dataframe\">\n",
        "  <thead>\n",
        "    <tr style=\"text-align: right;\">\n",
        "      <th></th>\n",
        "      <th></th>\n",
        "      <th>a</th>\n",
        "      <th>b</th>\n",
        "    </tr>\n",
        "    <tr>\n",
        "      <th>c</th>\n",
        "      <th>d</th>\n",
        "      <th></th>\n",
        "      <th></th>\n",
        "    </tr>\n",
        "  </thead>\n",
        "  <tbody>\n",
        "    <tr>\n",
        "      <th rowspan=\"3\" valign=\"top\">one</th>\n",
        "      <th>0</th>\n",
        "      <td> 0</td>\n",
        "      <td> 7</td>\n",
        "    </tr>\n",
        "    <tr>\n",
        "      <th>1</th>\n",
        "      <td> 1</td>\n",
        "      <td> 6</td>\n",
        "    </tr>\n",
        "    <tr>\n",
        "      <th>2</th>\n",
        "      <td> 2</td>\n",
        "      <td> 5</td>\n",
        "    </tr>\n",
        "    <tr>\n",
        "      <th rowspan=\"4\" valign=\"top\">two</th>\n",
        "      <th>0</th>\n",
        "      <td> 3</td>\n",
        "      <td> 4</td>\n",
        "    </tr>\n",
        "    <tr>\n",
        "      <th>1</th>\n",
        "      <td> 4</td>\n",
        "      <td> 3</td>\n",
        "    </tr>\n",
        "    <tr>\n",
        "      <th>2</th>\n",
        "      <td> 5</td>\n",
        "      <td> 2</td>\n",
        "    </tr>\n",
        "    <tr>\n",
        "      <th>3</th>\n",
        "      <td> 6</td>\n",
        "      <td> 1</td>\n",
        "    </tr>\n",
        "  </tbody>\n",
        "</table>\n",
        "</div>"
       ],
       "metadata": {},
       "output_type": "pyout",
       "prompt_number": 115,
       "text": [
        "       a  b\n",
        "c   d      \n",
        "one 0  0  7\n",
        "    1  1  6\n",
        "    2  2  5\n",
        "two 0  3  4\n",
        "    1  4  3\n",
        "    2  5  2\n",
        "    3  6  1"
       ]
      }
     ],
     "prompt_number": 115
    },
    {
     "cell_type": "markdown",
     "metadata": {},
     "source": [
      "By default, the columns are removed from the DataFrame, although you can leave them in."
     ]
    },
    {
     "cell_type": "code",
     "collapsed": false,
     "input": [
      "frame.set_index(['c', 'd'], drop=False)"
     ],
     "language": "python",
     "metadata": {},
     "outputs": [
      {
       "html": [
        "<div style=\"max-height:1000px;max-width:1500px;overflow:auto;\">\n",
        "<table border=\"1\" class=\"dataframe\">\n",
        "  <thead>\n",
        "    <tr style=\"text-align: right;\">\n",
        "      <th></th>\n",
        "      <th></th>\n",
        "      <th>a</th>\n",
        "      <th>b</th>\n",
        "      <th>c</th>\n",
        "      <th>d</th>\n",
        "    </tr>\n",
        "    <tr>\n",
        "      <th>c</th>\n",
        "      <th>d</th>\n",
        "      <th></th>\n",
        "      <th></th>\n",
        "      <th></th>\n",
        "      <th></th>\n",
        "    </tr>\n",
        "  </thead>\n",
        "  <tbody>\n",
        "    <tr>\n",
        "      <th rowspan=\"3\" valign=\"top\">one</th>\n",
        "      <th>0</th>\n",
        "      <td> 0</td>\n",
        "      <td> 7</td>\n",
        "      <td> one</td>\n",
        "      <td> 0</td>\n",
        "    </tr>\n",
        "    <tr>\n",
        "      <th>1</th>\n",
        "      <td> 1</td>\n",
        "      <td> 6</td>\n",
        "      <td> one</td>\n",
        "      <td> 1</td>\n",
        "    </tr>\n",
        "    <tr>\n",
        "      <th>2</th>\n",
        "      <td> 2</td>\n",
        "      <td> 5</td>\n",
        "      <td> one</td>\n",
        "      <td> 2</td>\n",
        "    </tr>\n",
        "    <tr>\n",
        "      <th rowspan=\"4\" valign=\"top\">two</th>\n",
        "      <th>0</th>\n",
        "      <td> 3</td>\n",
        "      <td> 4</td>\n",
        "      <td> two</td>\n",
        "      <td> 0</td>\n",
        "    </tr>\n",
        "    <tr>\n",
        "      <th>1</th>\n",
        "      <td> 4</td>\n",
        "      <td> 3</td>\n",
        "      <td> two</td>\n",
        "      <td> 1</td>\n",
        "    </tr>\n",
        "    <tr>\n",
        "      <th>2</th>\n",
        "      <td> 5</td>\n",
        "      <td> 2</td>\n",
        "      <td> two</td>\n",
        "      <td> 2</td>\n",
        "    </tr>\n",
        "    <tr>\n",
        "      <th>3</th>\n",
        "      <td> 6</td>\n",
        "      <td> 1</td>\n",
        "      <td> two</td>\n",
        "      <td> 3</td>\n",
        "    </tr>\n",
        "  </tbody>\n",
        "</table>\n",
        "</div>"
       ],
       "metadata": {},
       "output_type": "pyout",
       "prompt_number": 116,
       "text": [
        "       a  b    c  d\n",
        "c   d              \n",
        "one 0  0  7  one  0\n",
        "    1  1  6  one  1\n",
        "    2  2  5  one  2\n",
        "two 0  3  4  two  0\n",
        "    1  4  3  two  1\n",
        "    2  5  2  two  2\n",
        "    3  6  1  two  3"
       ]
      }
     ],
     "prompt_number": 116
    },
    {
     "cell_type": "markdown",
     "metadata": {},
     "source": [
      "reset_index, on the other hand, does the opposite of set_index; the hierarchical index levels are moved into the columns."
     ]
    },
    {
     "cell_type": "code",
     "collapsed": false,
     "input": [
      "frame2.reset_index()"
     ],
     "language": "python",
     "metadata": {},
     "outputs": [
      {
       "html": [
        "<div style=\"max-height:1000px;max-width:1500px;overflow:auto;\">\n",
        "<table border=\"1\" class=\"dataframe\">\n",
        "  <thead>\n",
        "    <tr style=\"text-align: right;\">\n",
        "      <th></th>\n",
        "      <th>c</th>\n",
        "      <th>d</th>\n",
        "      <th>a</th>\n",
        "      <th>b</th>\n",
        "    </tr>\n",
        "  </thead>\n",
        "  <tbody>\n",
        "    <tr>\n",
        "      <th>0</th>\n",
        "      <td> one</td>\n",
        "      <td> 0</td>\n",
        "      <td> 0</td>\n",
        "      <td> 7</td>\n",
        "    </tr>\n",
        "    <tr>\n",
        "      <th>1</th>\n",
        "      <td> one</td>\n",
        "      <td> 1</td>\n",
        "      <td> 1</td>\n",
        "      <td> 6</td>\n",
        "    </tr>\n",
        "    <tr>\n",
        "      <th>2</th>\n",
        "      <td> one</td>\n",
        "      <td> 2</td>\n",
        "      <td> 2</td>\n",
        "      <td> 5</td>\n",
        "    </tr>\n",
        "    <tr>\n",
        "      <th>3</th>\n",
        "      <td> two</td>\n",
        "      <td> 0</td>\n",
        "      <td> 3</td>\n",
        "      <td> 4</td>\n",
        "    </tr>\n",
        "    <tr>\n",
        "      <th>4</th>\n",
        "      <td> two</td>\n",
        "      <td> 1</td>\n",
        "      <td> 4</td>\n",
        "      <td> 3</td>\n",
        "    </tr>\n",
        "    <tr>\n",
        "      <th>5</th>\n",
        "      <td> two</td>\n",
        "      <td> 2</td>\n",
        "      <td> 5</td>\n",
        "      <td> 2</td>\n",
        "    </tr>\n",
        "    <tr>\n",
        "      <th>6</th>\n",
        "      <td> two</td>\n",
        "      <td> 3</td>\n",
        "      <td> 6</td>\n",
        "      <td> 1</td>\n",
        "    </tr>\n",
        "  </tbody>\n",
        "</table>\n",
        "</div>"
       ],
       "metadata": {},
       "output_type": "pyout",
       "prompt_number": 117,
       "text": [
        "     c  d  a  b\n",
        "0  one  0  0  7\n",
        "1  one  1  1  6\n",
        "2  one  2  2  5\n",
        "3  two  0  3  4\n",
        "4  two  1  4  3\n",
        "5  two  2  5  2\n",
        "6  two  3  6  1"
       ]
      }
     ],
     "prompt_number": 117
    },
    {
     "cell_type": "heading",
     "level": 1,
     "metadata": {},
     "source": [
      "Data Loading, Storage, and File Formats"
     ]
    },
    {
     "cell_type": "markdown",
     "metadata": {},
     "source": [
      "Focus: input and output with pandas objects.  "
     ]
    },
    {
     "cell_type": "heading",
     "level": 2,
     "metadata": {},
     "source": [
      "Reading and Writing Data in Text Format"
     ]
    },
    {
     "cell_type": "markdown",
     "metadata": {},
     "source": [
      "pandas features a number of functions for reading tabular data as a DataFrame object  (convert text data into a DataFrame) such as:\n",
      "\n",
      "1.  read_csv: load delimited data from a file, URL, or file-like object.  Use comma as default delimiter\n",
      "2.  read_table:  load delimited data from a file, URL, or file-like object.  Use tab('\\t') as default delimiter\n",
      "3.  read_fwf:  read data in fixed-width column format (that is, no delimiters)\n",
      "4.  read_clipboard:  version of read_table that reads data from the clipboard.  Useful for converting tables from web pages"
     ]
    },
    {
     "cell_type": "heading",
     "level": 4,
     "metadata": {},
     "source": [
      "Type Inference"
     ]
    },
    {
     "cell_type": "markdown",
     "metadata": {},
     "source": [
      "Type inference means that you don't have to specify which columns are numeric, integer, boolean, or string."
     ]
    },
    {
     "cell_type": "code",
     "collapsed": false,
     "input": [
      "!cat ex1.csv  # Check the zipped folder for this exercise"
     ],
     "language": "python",
     "metadata": {},
     "outputs": [
      {
       "output_type": "stream",
       "stream": "stdout",
       "text": [
        "a,b,c,d,message\r\n",
        "1,2,3,4,hello\r\n",
        "5,6,7,8,world\r\n",
        "9,10,11,12,foo"
       ]
      }
     ],
     "prompt_number": 4
    },
    {
     "cell_type": "markdown",
     "metadata": {},
     "source": [
      "Since this is comma-delimited, we can use read_csv to read it into a DataFrame:"
     ]
    },
    {
     "cell_type": "code",
     "collapsed": false,
     "input": [
      "df = pd.read_csv('ex1.csv')"
     ],
     "language": "python",
     "metadata": {},
     "outputs": [],
     "prompt_number": 6
    },
    {
     "cell_type": "code",
     "collapsed": false,
     "input": [
      "df"
     ],
     "language": "python",
     "metadata": {},
     "outputs": [
      {
       "html": [
        "<div style=\"max-height:1000px;max-width:1500px;overflow:auto;\">\n",
        "<table border=\"1\" class=\"dataframe\">\n",
        "  <thead>\n",
        "    <tr style=\"text-align: right;\">\n",
        "      <th></th>\n",
        "      <th>a</th>\n",
        "      <th>b</th>\n",
        "      <th>c</th>\n",
        "      <th>d</th>\n",
        "      <th>message</th>\n",
        "    </tr>\n",
        "  </thead>\n",
        "  <tbody>\n",
        "    <tr>\n",
        "      <th>0</th>\n",
        "      <td> 1</td>\n",
        "      <td>  2</td>\n",
        "      <td>  3</td>\n",
        "      <td>  4</td>\n",
        "      <td> hello</td>\n",
        "    </tr>\n",
        "    <tr>\n",
        "      <th>1</th>\n",
        "      <td> 5</td>\n",
        "      <td>  6</td>\n",
        "      <td>  7</td>\n",
        "      <td>  8</td>\n",
        "      <td> world</td>\n",
        "    </tr>\n",
        "    <tr>\n",
        "      <th>2</th>\n",
        "      <td> 9</td>\n",
        "      <td> 10</td>\n",
        "      <td> 11</td>\n",
        "      <td> 12</td>\n",
        "      <td>   foo</td>\n",
        "    </tr>\n",
        "  </tbody>\n",
        "</table>\n",
        "</div>"
       ],
       "metadata": {},
       "output_type": "pyout",
       "prompt_number": 7,
       "text": [
        "   a   b   c   d message\n",
        "0  1   2   3   4   hello\n",
        "1  5   6   7   8   world\n",
        "2  9  10  11  12     foo"
       ]
      }
     ],
     "prompt_number": 7
    },
    {
     "cell_type": "heading",
     "level": 4,
     "metadata": {},
     "source": [
      "\\40.  Use read_table and specify the delimiter by passing the sep argument and setting it to the comma delimiter.  The table below should be observed."
     ]
    },
    {
     "cell_type": "code",
     "collapsed": false,
     "input": [
      "pd.read_table(?,?)"
     ],
     "language": "python",
     "metadata": {},
     "outputs": [
      {
       "html": [
        "<div style=\"max-height:1000px;max-width:1500px;overflow:auto;\">\n",
        "<table border=\"1\" class=\"dataframe\">\n",
        "  <thead>\n",
        "    <tr style=\"text-align: right;\">\n",
        "      <th></th>\n",
        "      <th>a</th>\n",
        "      <th>b</th>\n",
        "      <th>c</th>\n",
        "      <th>d</th>\n",
        "      <th>message</th>\n",
        "    </tr>\n",
        "  </thead>\n",
        "  <tbody>\n",
        "    <tr>\n",
        "      <th>0</th>\n",
        "      <td> 1</td>\n",
        "      <td>  2</td>\n",
        "      <td>  3</td>\n",
        "      <td>  4</td>\n",
        "      <td> hello</td>\n",
        "    </tr>\n",
        "    <tr>\n",
        "      <th>1</th>\n",
        "      <td> 5</td>\n",
        "      <td>  6</td>\n",
        "      <td>  7</td>\n",
        "      <td>  8</td>\n",
        "      <td> world</td>\n",
        "    </tr>\n",
        "    <tr>\n",
        "      <th>2</th>\n",
        "      <td> 9</td>\n",
        "      <td> 10</td>\n",
        "      <td> 11</td>\n",
        "      <td> 12</td>\n",
        "      <td>   foo</td>\n",
        "    </tr>\n",
        "  </tbody>\n",
        "</table>\n",
        "</div>"
       ],
       "metadata": {},
       "output_type": "pyout",
       "prompt_number": 8,
       "text": [
        "   a   b   c   d message\n",
        "0  1   2   3   4   hello\n",
        "1  5   6   7   8   world\n",
        "2  9  10  11  12     foo"
       ]
      }
     ],
     "prompt_number": 8
    },
    {
     "cell_type": "markdown",
     "metadata": {},
     "source": [
      "A file will not always have a header row, in which case, pandas will assign default column names."
     ]
    },
    {
     "cell_type": "code",
     "collapsed": false,
     "input": [
      "pd.read_csv('ex2.csv', header=None)"
     ],
     "language": "python",
     "metadata": {},
     "outputs": [
      {
       "html": [
        "<div style=\"max-height:1000px;max-width:1500px;overflow:auto;\">\n",
        "<table border=\"1\" class=\"dataframe\">\n",
        "  <thead>\n",
        "    <tr style=\"text-align: right;\">\n",
        "      <th></th>\n",
        "      <th>0</th>\n",
        "      <th>1</th>\n",
        "      <th>2</th>\n",
        "      <th>3</th>\n",
        "      <th>4</th>\n",
        "    </tr>\n",
        "  </thead>\n",
        "  <tbody>\n",
        "    <tr>\n",
        "      <th>0</th>\n",
        "      <td> 1</td>\n",
        "      <td>  2</td>\n",
        "      <td>  3</td>\n",
        "      <td>  4</td>\n",
        "      <td> hello</td>\n",
        "    </tr>\n",
        "    <tr>\n",
        "      <th>1</th>\n",
        "      <td> 5</td>\n",
        "      <td>  6</td>\n",
        "      <td>  7</td>\n",
        "      <td>  8</td>\n",
        "      <td> world</td>\n",
        "    </tr>\n",
        "    <tr>\n",
        "      <th>2</th>\n",
        "      <td> 9</td>\n",
        "      <td> 10</td>\n",
        "      <td> 11</td>\n",
        "      <td> 12</td>\n",
        "      <td>   foo</td>\n",
        "    </tr>\n",
        "  </tbody>\n",
        "</table>\n",
        "</div>"
       ],
       "metadata": {},
       "output_type": "pyout",
       "prompt_number": 9,
       "text": [
        "   0   1   2   3      4\n",
        "0  1   2   3   4  hello\n",
        "1  5   6   7   8  world\n",
        "2  9  10  11  12    foo"
       ]
      }
     ],
     "prompt_number": 9
    },
    {
     "cell_type": "markdown",
     "metadata": {},
     "source": [
      "\\41.  Specify the names yourself by passing the names argument with the column names assigned: 'a', 'b', 'c', 'd', 'message'.  The table below should be observed."
     ]
    },
    {
     "cell_type": "code",
     "collapsed": false,
     "input": [
      "pd.read_csv('ex2.csv', names=[?])"
     ],
     "language": "python",
     "metadata": {},
     "outputs": [
      {
       "html": [
        "<div style=\"max-height:1000px;max-width:1500px;overflow:auto;\">\n",
        "<table border=\"1\" class=\"dataframe\">\n",
        "  <thead>\n",
        "    <tr style=\"text-align: right;\">\n",
        "      <th></th>\n",
        "      <th>a</th>\n",
        "      <th>b</th>\n",
        "      <th>c</th>\n",
        "      <th>d</th>\n",
        "      <th>message</th>\n",
        "    </tr>\n",
        "  </thead>\n",
        "  <tbody>\n",
        "    <tr>\n",
        "      <th>0</th>\n",
        "      <td> 1</td>\n",
        "      <td>  2</td>\n",
        "      <td>  3</td>\n",
        "      <td>  4</td>\n",
        "      <td> hello</td>\n",
        "    </tr>\n",
        "    <tr>\n",
        "      <th>1</th>\n",
        "      <td> 5</td>\n",
        "      <td>  6</td>\n",
        "      <td>  7</td>\n",
        "      <td>  8</td>\n",
        "      <td> world</td>\n",
        "    </tr>\n",
        "    <tr>\n",
        "      <th>2</th>\n",
        "      <td> 9</td>\n",
        "      <td> 10</td>\n",
        "      <td> 11</td>\n",
        "      <td> 12</td>\n",
        "      <td>   foo</td>\n",
        "    </tr>\n",
        "  </tbody>\n",
        "</table>\n",
        "</div>"
       ],
       "metadata": {},
       "output_type": "pyout",
       "prompt_number": 11,
       "text": [
        "   a   b   c   d message\n",
        "0  1   2   3   4   hello\n",
        "1  5   6   7   8   world\n",
        "2  9  10  11  12     foo"
       ]
      }
     ],
     "prompt_number": 11
    },
    {
     "cell_type": "markdown",
     "metadata": {},
     "source": [
      "\\42.  Make the mesage column the index of the returned DataFrame by indicating the column at index 4 or the column named 'mesasge' using the index_col argument.  The table below should be observed."
     ]
    },
    {
     "cell_type": "code",
     "collapsed": false,
     "input": [
      "names = ['a', 'b', 'c', 'd', 'message']"
     ],
     "language": "python",
     "metadata": {},
     "outputs": [],
     "prompt_number": 12
    },
    {
     "cell_type": "code",
     "collapsed": false,
     "input": [
      "pd.read_csv('ex2.csv', names=?, index_col=?)"
     ],
     "language": "python",
     "metadata": {},
     "outputs": [
      {
       "html": [
        "<div style=\"max-height:1000px;max-width:1500px;overflow:auto;\">\n",
        "<table border=\"1\" class=\"dataframe\">\n",
        "  <thead>\n",
        "    <tr style=\"text-align: right;\">\n",
        "      <th></th>\n",
        "      <th>a</th>\n",
        "      <th>b</th>\n",
        "      <th>c</th>\n",
        "      <th>d</th>\n",
        "    </tr>\n",
        "    <tr>\n",
        "      <th>message</th>\n",
        "      <th></th>\n",
        "      <th></th>\n",
        "      <th></th>\n",
        "      <th></th>\n",
        "    </tr>\n",
        "  </thead>\n",
        "  <tbody>\n",
        "    <tr>\n",
        "      <th>hello</th>\n",
        "      <td> 1</td>\n",
        "      <td>  2</td>\n",
        "      <td>  3</td>\n",
        "      <td>  4</td>\n",
        "    </tr>\n",
        "    <tr>\n",
        "      <th>world</th>\n",
        "      <td> 5</td>\n",
        "      <td>  6</td>\n",
        "      <td>  7</td>\n",
        "      <td>  8</td>\n",
        "    </tr>\n",
        "    <tr>\n",
        "      <th>foo</th>\n",
        "      <td> 9</td>\n",
        "      <td> 10</td>\n",
        "      <td> 11</td>\n",
        "      <td> 12</td>\n",
        "    </tr>\n",
        "  </tbody>\n",
        "</table>\n",
        "</div>"
       ],
       "metadata": {},
       "output_type": "pyout",
       "prompt_number": 13,
       "text": [
        "         a   b   c   d\n",
        "message               \n",
        "hello    1   2   3   4\n",
        "world    5   6   7   8\n",
        "foo      9  10  11  12"
       ]
      }
     ],
     "prompt_number": 13
    },
    {
     "cell_type": "markdown",
     "metadata": {},
     "source": [
      "In the event that you want to form a hierarchical index from multiple columns, just pass a list of column numbers or names.  For example, using the file csv_mindex.csv:"
     ]
    },
    {
     "cell_type": "code",
     "collapsed": false,
     "input": [
      "!cat csv_mindex.csv"
     ],
     "language": "python",
     "metadata": {},
     "outputs": [
      {
       "output_type": "stream",
       "stream": "stdout",
       "text": [
        "key1,key2,value1,value2\r\n",
        "one,a,1,2\r\n",
        "one,b,3,4\r\n",
        "one,c,5,6\r\n",
        "one,d,7,8\r\n",
        "two,a,9,10\r\n",
        "two,b,11,12\r\n",
        "two,c,13,14\r\n",
        "two,d,15,16\r\n"
       ]
      }
     ],
     "prompt_number": 14
    },
    {
     "cell_type": "markdown",
     "metadata": {},
     "source": [
      "\\43.  Parse the file csv_mindex.csv and make 'key1 and 'key2' index columns and in the process form a hierarchical index from multiple columns.  The table below should be observed."
     ]
    },
    {
     "cell_type": "code",
     "collapsed": false,
     "input": [
      "parsed = pd.read_csv('csv_mindex.csv', index_col=[?, ?])"
     ],
     "language": "python",
     "metadata": {},
     "outputs": [],
     "prompt_number": 15
    },
    {
     "cell_type": "code",
     "collapsed": false,
     "input": [
      "parsed"
     ],
     "language": "python",
     "metadata": {},
     "outputs": [
      {
       "html": [
        "<div style=\"max-height:1000px;max-width:1500px;overflow:auto;\">\n",
        "<table border=\"1\" class=\"dataframe\">\n",
        "  <thead>\n",
        "    <tr style=\"text-align: right;\">\n",
        "      <th></th>\n",
        "      <th></th>\n",
        "      <th>value1</th>\n",
        "      <th>value2</th>\n",
        "    </tr>\n",
        "    <tr>\n",
        "      <th>key1</th>\n",
        "      <th>key2</th>\n",
        "      <th></th>\n",
        "      <th></th>\n",
        "    </tr>\n",
        "  </thead>\n",
        "  <tbody>\n",
        "    <tr>\n",
        "      <th rowspan=\"4\" valign=\"top\">one</th>\n",
        "      <th>a</th>\n",
        "      <td>  1</td>\n",
        "      <td>  2</td>\n",
        "    </tr>\n",
        "    <tr>\n",
        "      <th>b</th>\n",
        "      <td>  3</td>\n",
        "      <td>  4</td>\n",
        "    </tr>\n",
        "    <tr>\n",
        "      <th>c</th>\n",
        "      <td>  5</td>\n",
        "      <td>  6</td>\n",
        "    </tr>\n",
        "    <tr>\n",
        "      <th>d</th>\n",
        "      <td>  7</td>\n",
        "      <td>  8</td>\n",
        "    </tr>\n",
        "    <tr>\n",
        "      <th rowspan=\"4\" valign=\"top\">two</th>\n",
        "      <th>a</th>\n",
        "      <td>  9</td>\n",
        "      <td> 10</td>\n",
        "    </tr>\n",
        "    <tr>\n",
        "      <th>b</th>\n",
        "      <td> 11</td>\n",
        "      <td> 12</td>\n",
        "    </tr>\n",
        "    <tr>\n",
        "      <th>c</th>\n",
        "      <td> 13</td>\n",
        "      <td> 14</td>\n",
        "    </tr>\n",
        "    <tr>\n",
        "      <th>d</th>\n",
        "      <td> 15</td>\n",
        "      <td> 16</td>\n",
        "    </tr>\n",
        "  </tbody>\n",
        "</table>\n",
        "</div>"
       ],
       "metadata": {},
       "output_type": "pyout",
       "prompt_number": 16,
       "text": [
        "           value1  value2\n",
        "key1 key2                \n",
        "one  a          1       2\n",
        "     b          3       4\n",
        "     c          5       6\n",
        "     d          7       8\n",
        "two  a          9      10\n",
        "     b         11      12\n",
        "     c         13      14\n",
        "     d         15      16"
       ]
      }
     ],
     "prompt_number": 16
    },
    {
     "cell_type": "markdown",
     "metadata": {},
     "source": [
      "In some cases, a table might not have a fixed delimiters, using variable white space or some other pattern to separate fields.  In cases like this, you can pass a regular expression as a delimiter for read_table.  In the example below, the case fields are separated by a variable amount of white space, which can be expressed by regular expression \\s+.  Assigning this to the sep argument allows DataFrame to parse the file accordingly."
     ]
    },
    {
     "cell_type": "code",
     "collapsed": false,
     "input": [
      "list(open('ex3.txt'))"
     ],
     "language": "python",
     "metadata": {},
     "outputs": [
      {
       "metadata": {},
       "output_type": "pyout",
       "prompt_number": 17,
       "text": [
        "['            A         B         C\\n',\n",
        " 'aaa -0.264438 -1.026059 -0.619500\\n',\n",
        " 'bbb  0.927272  0.302904 -0.032399\\n',\n",
        " 'ccc -0.264273 -0.386314 -0.217601\\n',\n",
        " 'ddd -0.871858 -0.348382  1.100491\\n']"
       ]
      }
     ],
     "prompt_number": 17
    },
    {
     "cell_type": "markdown",
     "metadata": {},
     "source": [
      "\\44.  Parse the text file, taking into account the variable white space separating the case field, such that the table below is created."
     ]
    },
    {
     "cell_type": "code",
     "collapsed": false,
     "input": [
      "result = pd.read_table('?', sep=?)"
     ],
     "language": "python",
     "metadata": {},
     "outputs": [],
     "prompt_number": 18
    },
    {
     "cell_type": "code",
     "collapsed": false,
     "input": [
      "result"
     ],
     "language": "python",
     "metadata": {},
     "outputs": [
      {
       "html": [
        "<div style=\"max-height:1000px;max-width:1500px;overflow:auto;\">\n",
        "<table border=\"1\" class=\"dataframe\">\n",
        "  <thead>\n",
        "    <tr style=\"text-align: right;\">\n",
        "      <th></th>\n",
        "      <th>A</th>\n",
        "      <th>B</th>\n",
        "      <th>C</th>\n",
        "    </tr>\n",
        "  </thead>\n",
        "  <tbody>\n",
        "    <tr>\n",
        "      <th>aaa</th>\n",
        "      <td>-0.264438</td>\n",
        "      <td>-1.026059</td>\n",
        "      <td>-0.619500</td>\n",
        "    </tr>\n",
        "    <tr>\n",
        "      <th>bbb</th>\n",
        "      <td> 0.927272</td>\n",
        "      <td> 0.302904</td>\n",
        "      <td>-0.032399</td>\n",
        "    </tr>\n",
        "    <tr>\n",
        "      <th>ccc</th>\n",
        "      <td>-0.264273</td>\n",
        "      <td>-0.386314</td>\n",
        "      <td>-0.217601</td>\n",
        "    </tr>\n",
        "    <tr>\n",
        "      <th>ddd</th>\n",
        "      <td>-0.871858</td>\n",
        "      <td>-0.348382</td>\n",
        "      <td> 1.100491</td>\n",
        "    </tr>\n",
        "  </tbody>\n",
        "</table>\n",
        "</div>"
       ],
       "metadata": {},
       "output_type": "pyout",
       "prompt_number": 19,
       "text": [
        "            A         B         C\n",
        "aaa -0.264438 -1.026059 -0.619500\n",
        "bbb  0.927272  0.302904 -0.032399\n",
        "ccc -0.264273 -0.386314 -0.217601\n",
        "ddd -0.871858 -0.348382  1.100491"
       ]
      }
     ],
     "prompt_number": 19
    },
    {
     "cell_type": "markdown",
     "metadata": {},
     "source": [
      "The parser functions have many additional arguments to help you handle the wide variety of exception file formats that occur.  For example, you can skip the first, third, and fourth rows fo a file with skiprows."
     ]
    },
    {
     "cell_type": "code",
     "collapsed": false,
     "input": [
      "!cat ex4.csv"
     ],
     "language": "python",
     "metadata": {},
     "outputs": [
      {
       "output_type": "stream",
       "stream": "stdout",
       "text": [
        "# hey!\r\n",
        "a,b,c,d,message\r\n",
        "# just wanted to make things more difficult for you\r\n",
        "# who reads CSV files with computers, anyway?\r\n",
        "1,2,3,4,hello\r\n",
        "5,6,7,8,world\r\n",
        "9,10,11,12,foo"
       ]
      }
     ],
     "prompt_number": 20
    },
    {
     "cell_type": "code",
     "collapsed": false,
     "input": [
      "pd.read_csv('ex4.csv', skiprows=[0, 2, 3])"
     ],
     "language": "python",
     "metadata": {},
     "outputs": [
      {
       "html": [
        "<div style=\"max-height:1000px;max-width:1500px;overflow:auto;\">\n",
        "<table border=\"1\" class=\"dataframe\">\n",
        "  <thead>\n",
        "    <tr style=\"text-align: right;\">\n",
        "      <th></th>\n",
        "      <th>a</th>\n",
        "      <th>b</th>\n",
        "      <th>c</th>\n",
        "      <th>d</th>\n",
        "      <th>message</th>\n",
        "    </tr>\n",
        "  </thead>\n",
        "  <tbody>\n",
        "    <tr>\n",
        "      <th>0</th>\n",
        "      <td> 1</td>\n",
        "      <td>  2</td>\n",
        "      <td>  3</td>\n",
        "      <td>  4</td>\n",
        "      <td> hello</td>\n",
        "    </tr>\n",
        "    <tr>\n",
        "      <th>1</th>\n",
        "      <td> 5</td>\n",
        "      <td>  6</td>\n",
        "      <td>  7</td>\n",
        "      <td>  8</td>\n",
        "      <td> world</td>\n",
        "    </tr>\n",
        "    <tr>\n",
        "      <th>2</th>\n",
        "      <td> 9</td>\n",
        "      <td> 10</td>\n",
        "      <td> 11</td>\n",
        "      <td> 12</td>\n",
        "      <td>   foo</td>\n",
        "    </tr>\n",
        "  </tbody>\n",
        "</table>\n",
        "</div>"
       ],
       "metadata": {},
       "output_type": "pyout",
       "prompt_number": 21,
       "text": [
        "   a   b   c   d message\n",
        "0  1   2   3   4   hello\n",
        "1  5   6   7   8   world\n",
        "2  9  10  11  12     foo"
       ]
      }
     ],
     "prompt_number": 21
    },
    {
     "cell_type": "heading",
     "level": 2,
     "metadata": {},
     "source": [
      "Reading Text Files in Pieces"
     ]
    },
    {
     "cell_type": "markdown",
     "metadata": {},
     "source": [
      "When processing very large files or figuring out the right set of arguments to correctly process a large file, you may want to read in a small piece of a file or iterate through smaller chunks of the file."
     ]
    },
    {
     "cell_type": "code",
     "collapsed": false,
     "input": [
      "result = pd.read_csv('ex6.csv')"
     ],
     "language": "python",
     "metadata": {},
     "outputs": [],
     "prompt_number": 22
    },
    {
     "cell_type": "code",
     "collapsed": false,
     "input": [
      "result"
     ],
     "language": "python",
     "metadata": {},
     "outputs": [
      {
       "html": [
        "<div style=\"max-height:1000px;max-width:1500px;overflow:auto;\">\n",
        "<table border=\"1\" class=\"dataframe\">\n",
        "  <thead>\n",
        "    <tr style=\"text-align: right;\">\n",
        "      <th></th>\n",
        "      <th>one</th>\n",
        "      <th>two</th>\n",
        "      <th>three</th>\n",
        "      <th>four</th>\n",
        "      <th>key</th>\n",
        "    </tr>\n",
        "  </thead>\n",
        "  <tbody>\n",
        "    <tr>\n",
        "      <th>0   </th>\n",
        "      <td> 0.467976</td>\n",
        "      <td>-0.038649</td>\n",
        "      <td>-0.295344</td>\n",
        "      <td>-1.824726</td>\n",
        "      <td> L</td>\n",
        "    </tr>\n",
        "    <tr>\n",
        "      <th>1   </th>\n",
        "      <td>-0.358893</td>\n",
        "      <td> 1.404453</td>\n",
        "      <td> 0.704965</td>\n",
        "      <td>-0.200638</td>\n",
        "      <td> B</td>\n",
        "    </tr>\n",
        "    <tr>\n",
        "      <th>2   </th>\n",
        "      <td>-0.501840</td>\n",
        "      <td> 0.659254</td>\n",
        "      <td>-0.421691</td>\n",
        "      <td>-0.057688</td>\n",
        "      <td> G</td>\n",
        "    </tr>\n",
        "    <tr>\n",
        "      <th>3   </th>\n",
        "      <td> 0.204886</td>\n",
        "      <td> 1.074134</td>\n",
        "      <td> 1.388361</td>\n",
        "      <td>-0.982404</td>\n",
        "      <td> R</td>\n",
        "    </tr>\n",
        "    <tr>\n",
        "      <th>4   </th>\n",
        "      <td> 0.354628</td>\n",
        "      <td>-0.133116</td>\n",
        "      <td> 0.283763</td>\n",
        "      <td>-0.837063</td>\n",
        "      <td> Q</td>\n",
        "    </tr>\n",
        "    <tr>\n",
        "      <th>5   </th>\n",
        "      <td> 1.817480</td>\n",
        "      <td> 0.742273</td>\n",
        "      <td> 0.419395</td>\n",
        "      <td>-2.251035</td>\n",
        "      <td> Q</td>\n",
        "    </tr>\n",
        "    <tr>\n",
        "      <th>6   </th>\n",
        "      <td>-0.776764</td>\n",
        "      <td> 0.935518</td>\n",
        "      <td>-0.332872</td>\n",
        "      <td>-1.875641</td>\n",
        "      <td> U</td>\n",
        "    </tr>\n",
        "    <tr>\n",
        "      <th>7   </th>\n",
        "      <td>-0.913135</td>\n",
        "      <td> 1.530624</td>\n",
        "      <td>-0.572657</td>\n",
        "      <td> 0.477252</td>\n",
        "      <td> K</td>\n",
        "    </tr>\n",
        "    <tr>\n",
        "      <th>8   </th>\n",
        "      <td> 0.358480</td>\n",
        "      <td>-0.497572</td>\n",
        "      <td>-0.367016</td>\n",
        "      <td> 0.507702</td>\n",
        "      <td> S</td>\n",
        "    </tr>\n",
        "    <tr>\n",
        "      <th>9   </th>\n",
        "      <td>-1.740877</td>\n",
        "      <td>-1.160417</td>\n",
        "      <td>-1.637830</td>\n",
        "      <td> 2.172201</td>\n",
        "      <td> G</td>\n",
        "    </tr>\n",
        "    <tr>\n",
        "      <th>10  </th>\n",
        "      <td> 0.240564</td>\n",
        "      <td>-0.328249</td>\n",
        "      <td> 1.252155</td>\n",
        "      <td> 1.072796</td>\n",
        "      <td> 8</td>\n",
        "    </tr>\n",
        "    <tr>\n",
        "      <th>11  </th>\n",
        "      <td> 0.764018</td>\n",
        "      <td> 1.165476</td>\n",
        "      <td>-0.639544</td>\n",
        "      <td> 1.495258</td>\n",
        "      <td> R</td>\n",
        "    </tr>\n",
        "    <tr>\n",
        "      <th>12  </th>\n",
        "      <td> 0.571035</td>\n",
        "      <td>-0.310537</td>\n",
        "      <td> 0.582437</td>\n",
        "      <td>-0.298765</td>\n",
        "      <td> 1</td>\n",
        "    </tr>\n",
        "    <tr>\n",
        "      <th>13  </th>\n",
        "      <td> 2.317658</td>\n",
        "      <td> 0.430710</td>\n",
        "      <td>-1.334216</td>\n",
        "      <td> 0.199679</td>\n",
        "      <td> P</td>\n",
        "    </tr>\n",
        "    <tr>\n",
        "      <th>14  </th>\n",
        "      <td> 1.547771</td>\n",
        "      <td>-1.119753</td>\n",
        "      <td>-2.277634</td>\n",
        "      <td> 0.329586</td>\n",
        "      <td> J</td>\n",
        "    </tr>\n",
        "    <tr>\n",
        "      <th>15  </th>\n",
        "      <td>-1.310608</td>\n",
        "      <td> 0.401719</td>\n",
        "      <td>-1.000987</td>\n",
        "      <td> 1.156708</td>\n",
        "      <td> E</td>\n",
        "    </tr>\n",
        "    <tr>\n",
        "      <th>16  </th>\n",
        "      <td>-0.088496</td>\n",
        "      <td> 0.634712</td>\n",
        "      <td> 0.153324</td>\n",
        "      <td> 0.415335</td>\n",
        "      <td> B</td>\n",
        "    </tr>\n",
        "    <tr>\n",
        "      <th>17  </th>\n",
        "      <td>-0.018663</td>\n",
        "      <td>-0.247487</td>\n",
        "      <td>-1.446522</td>\n",
        "      <td> 0.750938</td>\n",
        "      <td> A</td>\n",
        "    </tr>\n",
        "    <tr>\n",
        "      <th>18  </th>\n",
        "      <td>-0.070127</td>\n",
        "      <td>-1.579097</td>\n",
        "      <td> 0.120892</td>\n",
        "      <td> 0.671432</td>\n",
        "      <td> F</td>\n",
        "    </tr>\n",
        "    <tr>\n",
        "      <th>19  </th>\n",
        "      <td>-0.194678</td>\n",
        "      <td>-0.492039</td>\n",
        "      <td> 2.359605</td>\n",
        "      <td> 0.319810</td>\n",
        "      <td> H</td>\n",
        "    </tr>\n",
        "    <tr>\n",
        "      <th>20  </th>\n",
        "      <td>-0.248618</td>\n",
        "      <td> 0.868707</td>\n",
        "      <td>-0.492226</td>\n",
        "      <td>-0.717959</td>\n",
        "      <td> W</td>\n",
        "    </tr>\n",
        "    <tr>\n",
        "      <th>21  </th>\n",
        "      <td>-1.091549</td>\n",
        "      <td>-0.867110</td>\n",
        "      <td>-0.647760</td>\n",
        "      <td>-0.832562</td>\n",
        "      <td> C</td>\n",
        "    </tr>\n",
        "    <tr>\n",
        "      <th>22  </th>\n",
        "      <td> 0.641404</td>\n",
        "      <td>-0.138822</td>\n",
        "      <td>-0.621963</td>\n",
        "      <td>-0.284839</td>\n",
        "      <td> C</td>\n",
        "    </tr>\n",
        "    <tr>\n",
        "      <th>23  </th>\n",
        "      <td> 1.216408</td>\n",
        "      <td> 0.992687</td>\n",
        "      <td> 0.165162</td>\n",
        "      <td>-0.069619</td>\n",
        "      <td> V</td>\n",
        "    </tr>\n",
        "    <tr>\n",
        "      <th>24  </th>\n",
        "      <td>-0.564474</td>\n",
        "      <td> 0.792832</td>\n",
        "      <td> 0.747053</td>\n",
        "      <td> 0.571675</td>\n",
        "      <td> I</td>\n",
        "    </tr>\n",
        "    <tr>\n",
        "      <th>25  </th>\n",
        "      <td> 1.759879</td>\n",
        "      <td>-0.515666</td>\n",
        "      <td>-0.230481</td>\n",
        "      <td> 1.362317</td>\n",
        "      <td> S</td>\n",
        "    </tr>\n",
        "    <tr>\n",
        "      <th>26  </th>\n",
        "      <td> 0.126266</td>\n",
        "      <td> 0.309281</td>\n",
        "      <td> 0.382820</td>\n",
        "      <td>-0.239199</td>\n",
        "      <td> L</td>\n",
        "    </tr>\n",
        "    <tr>\n",
        "      <th>27  </th>\n",
        "      <td> 1.334360</td>\n",
        "      <td>-0.100152</td>\n",
        "      <td>-0.840731</td>\n",
        "      <td>-0.643967</td>\n",
        "      <td> 6</td>\n",
        "    </tr>\n",
        "    <tr>\n",
        "      <th>28  </th>\n",
        "      <td>-0.737620</td>\n",
        "      <td> 0.278087</td>\n",
        "      <td>-0.053235</td>\n",
        "      <td>-0.950972</td>\n",
        "      <td> J</td>\n",
        "    </tr>\n",
        "    <tr>\n",
        "      <th>29  </th>\n",
        "      <td>-1.148486</td>\n",
        "      <td>-0.986292</td>\n",
        "      <td>-0.144963</td>\n",
        "      <td> 0.124362</td>\n",
        "      <td> Y</td>\n",
        "    </tr>\n",
        "    <tr>\n",
        "      <th>...</th>\n",
        "      <td>...</td>\n",
        "      <td>...</td>\n",
        "      <td>...</td>\n",
        "      <td>...</td>\n",
        "      <td>...</td>\n",
        "    </tr>\n",
        "    <tr>\n",
        "      <th>9970</th>\n",
        "      <td> 0.633495</td>\n",
        "      <td>-0.186524</td>\n",
        "      <td> 0.927627</td>\n",
        "      <td> 0.143164</td>\n",
        "      <td> 4</td>\n",
        "    </tr>\n",
        "    <tr>\n",
        "      <th>9971</th>\n",
        "      <td> 0.308636</td>\n",
        "      <td>-0.112857</td>\n",
        "      <td> 0.762842</td>\n",
        "      <td>-1.072977</td>\n",
        "      <td> 1</td>\n",
        "    </tr>\n",
        "    <tr>\n",
        "      <th>9972</th>\n",
        "      <td>-1.627051</td>\n",
        "      <td>-0.978151</td>\n",
        "      <td> 0.154745</td>\n",
        "      <td>-1.229037</td>\n",
        "      <td> Z</td>\n",
        "    </tr>\n",
        "    <tr>\n",
        "      <th>9973</th>\n",
        "      <td> 0.314847</td>\n",
        "      <td> 0.097989</td>\n",
        "      <td> 0.199608</td>\n",
        "      <td> 0.955193</td>\n",
        "      <td> P</td>\n",
        "    </tr>\n",
        "    <tr>\n",
        "      <th>9974</th>\n",
        "      <td> 1.666907</td>\n",
        "      <td> 0.992005</td>\n",
        "      <td> 0.496128</td>\n",
        "      <td>-0.686391</td>\n",
        "      <td> S</td>\n",
        "    </tr>\n",
        "    <tr>\n",
        "      <th>9975</th>\n",
        "      <td> 0.010603</td>\n",
        "      <td> 0.708540</td>\n",
        "      <td>-1.258711</td>\n",
        "      <td> 0.226541</td>\n",
        "      <td> K</td>\n",
        "    </tr>\n",
        "    <tr>\n",
        "      <th>9976</th>\n",
        "      <td> 0.118693</td>\n",
        "      <td>-0.714455</td>\n",
        "      <td>-0.501342</td>\n",
        "      <td>-0.254764</td>\n",
        "      <td> K</td>\n",
        "    </tr>\n",
        "    <tr>\n",
        "      <th>9977</th>\n",
        "      <td> 0.302616</td>\n",
        "      <td>-2.011527</td>\n",
        "      <td>-0.628085</td>\n",
        "      <td> 0.768827</td>\n",
        "      <td> H</td>\n",
        "    </tr>\n",
        "    <tr>\n",
        "      <th>9978</th>\n",
        "      <td>-0.098572</td>\n",
        "      <td> 1.769086</td>\n",
        "      <td>-0.215027</td>\n",
        "      <td>-0.053076</td>\n",
        "      <td> A</td>\n",
        "    </tr>\n",
        "    <tr>\n",
        "      <th>9979</th>\n",
        "      <td>-0.019058</td>\n",
        "      <td> 1.964994</td>\n",
        "      <td> 0.738538</td>\n",
        "      <td>-0.883776</td>\n",
        "      <td> F</td>\n",
        "    </tr>\n",
        "    <tr>\n",
        "      <th>9980</th>\n",
        "      <td>-0.595349</td>\n",
        "      <td> 0.001781</td>\n",
        "      <td>-1.423355</td>\n",
        "      <td>-1.458477</td>\n",
        "      <td> M</td>\n",
        "    </tr>\n",
        "    <tr>\n",
        "      <th>9981</th>\n",
        "      <td> 1.392170</td>\n",
        "      <td>-1.396560</td>\n",
        "      <td>-1.425306</td>\n",
        "      <td>-0.847535</td>\n",
        "      <td> H</td>\n",
        "    </tr>\n",
        "    <tr>\n",
        "      <th>9982</th>\n",
        "      <td>-0.896029</td>\n",
        "      <td>-0.152287</td>\n",
        "      <td> 1.924483</td>\n",
        "      <td> 0.365184</td>\n",
        "      <td> 6</td>\n",
        "    </tr>\n",
        "    <tr>\n",
        "      <th>9983</th>\n",
        "      <td>-2.274642</td>\n",
        "      <td>-0.901874</td>\n",
        "      <td> 1.500352</td>\n",
        "      <td> 0.996541</td>\n",
        "      <td> N</td>\n",
        "    </tr>\n",
        "    <tr>\n",
        "      <th>9984</th>\n",
        "      <td>-0.301898</td>\n",
        "      <td> 1.019906</td>\n",
        "      <td> 1.102160</td>\n",
        "      <td> 2.624526</td>\n",
        "      <td> I</td>\n",
        "    </tr>\n",
        "    <tr>\n",
        "      <th>9985</th>\n",
        "      <td>-2.548389</td>\n",
        "      <td>-0.585374</td>\n",
        "      <td> 1.496201</td>\n",
        "      <td>-0.718815</td>\n",
        "      <td> D</td>\n",
        "    </tr>\n",
        "    <tr>\n",
        "      <th>9986</th>\n",
        "      <td>-0.064588</td>\n",
        "      <td> 0.759292</td>\n",
        "      <td>-1.568415</td>\n",
        "      <td>-0.420933</td>\n",
        "      <td> E</td>\n",
        "    </tr>\n",
        "    <tr>\n",
        "      <th>9987</th>\n",
        "      <td>-0.143365</td>\n",
        "      <td>-1.111760</td>\n",
        "      <td>-1.815581</td>\n",
        "      <td> 0.435274</td>\n",
        "      <td> 2</td>\n",
        "    </tr>\n",
        "    <tr>\n",
        "      <th>9988</th>\n",
        "      <td>-0.070412</td>\n",
        "      <td>-1.055921</td>\n",
        "      <td> 0.338017</td>\n",
        "      <td>-0.440763</td>\n",
        "      <td> X</td>\n",
        "    </tr>\n",
        "    <tr>\n",
        "      <th>9989</th>\n",
        "      <td> 0.649148</td>\n",
        "      <td> 0.994273</td>\n",
        "      <td>-1.384227</td>\n",
        "      <td> 0.485120</td>\n",
        "      <td> Q</td>\n",
        "    </tr>\n",
        "    <tr>\n",
        "      <th>9990</th>\n",
        "      <td>-0.370769</td>\n",
        "      <td> 0.404356</td>\n",
        "      <td>-1.051628</td>\n",
        "      <td>-1.050899</td>\n",
        "      <td> 8</td>\n",
        "    </tr>\n",
        "    <tr>\n",
        "      <th>9991</th>\n",
        "      <td>-0.409980</td>\n",
        "      <td> 0.155627</td>\n",
        "      <td>-0.818990</td>\n",
        "      <td> 1.277350</td>\n",
        "      <td> W</td>\n",
        "    </tr>\n",
        "    <tr>\n",
        "      <th>9992</th>\n",
        "      <td> 0.301214</td>\n",
        "      <td>-1.111203</td>\n",
        "      <td> 0.668258</td>\n",
        "      <td> 0.671922</td>\n",
        "      <td> A</td>\n",
        "    </tr>\n",
        "    <tr>\n",
        "      <th>9993</th>\n",
        "      <td> 1.821117</td>\n",
        "      <td> 0.416445</td>\n",
        "      <td> 0.173874</td>\n",
        "      <td> 0.505118</td>\n",
        "      <td> X</td>\n",
        "    </tr>\n",
        "    <tr>\n",
        "      <th>9994</th>\n",
        "      <td> 0.068804</td>\n",
        "      <td> 1.322759</td>\n",
        "      <td> 0.802346</td>\n",
        "      <td> 0.223618</td>\n",
        "      <td> H</td>\n",
        "    </tr>\n",
        "    <tr>\n",
        "      <th>9995</th>\n",
        "      <td> 2.311896</td>\n",
        "      <td>-0.417070</td>\n",
        "      <td>-1.409599</td>\n",
        "      <td>-0.515821</td>\n",
        "      <td> L</td>\n",
        "    </tr>\n",
        "    <tr>\n",
        "      <th>9996</th>\n",
        "      <td>-0.479893</td>\n",
        "      <td>-0.650419</td>\n",
        "      <td> 0.745152</td>\n",
        "      <td>-0.646038</td>\n",
        "      <td> E</td>\n",
        "    </tr>\n",
        "    <tr>\n",
        "      <th>9997</th>\n",
        "      <td> 0.523331</td>\n",
        "      <td> 0.787112</td>\n",
        "      <td> 0.486066</td>\n",
        "      <td> 1.093156</td>\n",
        "      <td> K</td>\n",
        "    </tr>\n",
        "    <tr>\n",
        "      <th>9998</th>\n",
        "      <td>-0.362559</td>\n",
        "      <td> 0.598894</td>\n",
        "      <td>-1.843201</td>\n",
        "      <td> 0.887292</td>\n",
        "      <td> G</td>\n",
        "    </tr>\n",
        "    <tr>\n",
        "      <th>9999</th>\n",
        "      <td>-0.096376</td>\n",
        "      <td>-1.012999</td>\n",
        "      <td>-0.657431</td>\n",
        "      <td>-0.573315</td>\n",
        "      <td> 0</td>\n",
        "    </tr>\n",
        "  </tbody>\n",
        "</table>\n",
        "<p>10000 rows \u00d7 5 columns</p>\n",
        "</div>"
       ],
       "metadata": {},
       "output_type": "pyout",
       "prompt_number": 23,
       "text": [
        "           one       two     three      four key\n",
        "0     0.467976 -0.038649 -0.295344 -1.824726   L\n",
        "1    -0.358893  1.404453  0.704965 -0.200638   B\n",
        "2    -0.501840  0.659254 -0.421691 -0.057688   G\n",
        "3     0.204886  1.074134  1.388361 -0.982404   R\n",
        "4     0.354628 -0.133116  0.283763 -0.837063   Q\n",
        "5     1.817480  0.742273  0.419395 -2.251035   Q\n",
        "6    -0.776764  0.935518 -0.332872 -1.875641   U\n",
        "7    -0.913135  1.530624 -0.572657  0.477252   K\n",
        "8     0.358480 -0.497572 -0.367016  0.507702   S\n",
        "9    -1.740877 -1.160417 -1.637830  2.172201   G\n",
        "10    0.240564 -0.328249  1.252155  1.072796   8\n",
        "11    0.764018  1.165476 -0.639544  1.495258   R\n",
        "12    0.571035 -0.310537  0.582437 -0.298765   1\n",
        "13    2.317658  0.430710 -1.334216  0.199679   P\n",
        "14    1.547771 -1.119753 -2.277634  0.329586   J\n",
        "15   -1.310608  0.401719 -1.000987  1.156708   E\n",
        "16   -0.088496  0.634712  0.153324  0.415335   B\n",
        "17   -0.018663 -0.247487 -1.446522  0.750938   A\n",
        "18   -0.070127 -1.579097  0.120892  0.671432   F\n",
        "19   -0.194678 -0.492039  2.359605  0.319810   H\n",
        "20   -0.248618  0.868707 -0.492226 -0.717959   W\n",
        "21   -1.091549 -0.867110 -0.647760 -0.832562   C\n",
        "22    0.641404 -0.138822 -0.621963 -0.284839   C\n",
        "23    1.216408  0.992687  0.165162 -0.069619   V\n",
        "24   -0.564474  0.792832  0.747053  0.571675   I\n",
        "25    1.759879 -0.515666 -0.230481  1.362317   S\n",
        "26    0.126266  0.309281  0.382820 -0.239199   L\n",
        "27    1.334360 -0.100152 -0.840731 -0.643967   6\n",
        "28   -0.737620  0.278087 -0.053235 -0.950972   J\n",
        "29   -1.148486 -0.986292 -0.144963  0.124362   Y\n",
        "...        ...       ...       ...       ...  ..\n",
        "9970  0.633495 -0.186524  0.927627  0.143164   4\n",
        "9971  0.308636 -0.112857  0.762842 -1.072977   1\n",
        "9972 -1.627051 -0.978151  0.154745 -1.229037   Z\n",
        "9973  0.314847  0.097989  0.199608  0.955193   P\n",
        "9974  1.666907  0.992005  0.496128 -0.686391   S\n",
        "9975  0.010603  0.708540 -1.258711  0.226541   K\n",
        "9976  0.118693 -0.714455 -0.501342 -0.254764   K\n",
        "9977  0.302616 -2.011527 -0.628085  0.768827   H\n",
        "9978 -0.098572  1.769086 -0.215027 -0.053076   A\n",
        "9979 -0.019058  1.964994  0.738538 -0.883776   F\n",
        "9980 -0.595349  0.001781 -1.423355 -1.458477   M\n",
        "9981  1.392170 -1.396560 -1.425306 -0.847535   H\n",
        "9982 -0.896029 -0.152287  1.924483  0.365184   6\n",
        "9983 -2.274642 -0.901874  1.500352  0.996541   N\n",
        "9984 -0.301898  1.019906  1.102160  2.624526   I\n",
        "9985 -2.548389 -0.585374  1.496201 -0.718815   D\n",
        "9986 -0.064588  0.759292 -1.568415 -0.420933   E\n",
        "9987 -0.143365 -1.111760 -1.815581  0.435274   2\n",
        "9988 -0.070412 -1.055921  0.338017 -0.440763   X\n",
        "9989  0.649148  0.994273 -1.384227  0.485120   Q\n",
        "9990 -0.370769  0.404356 -1.051628 -1.050899   8\n",
        "9991 -0.409980  0.155627 -0.818990  1.277350   W\n",
        "9992  0.301214 -1.111203  0.668258  0.671922   A\n",
        "9993  1.821117  0.416445  0.173874  0.505118   X\n",
        "9994  0.068804  1.322759  0.802346  0.223618   H\n",
        "9995  2.311896 -0.417070 -1.409599 -0.515821   L\n",
        "9996 -0.479893 -0.650419  0.745152 -0.646038   E\n",
        "9997  0.523331  0.787112  0.486066  1.093156   K\n",
        "9998 -0.362559  0.598894 -1.843201  0.887292   G\n",
        "9999 -0.096376 -1.012999 -0.657431 -0.573315   0\n",
        "\n",
        "[10000 rows x 5 columns]"
       ]
      }
     ],
     "prompt_number": 23
    },
    {
     "cell_type": "markdown",
     "metadata": {},
     "source": [
      "If you want to only read out a small number of rows (avoiding reading the entire file), specify that with nrows."
     ]
    },
    {
     "cell_type": "code",
     "collapsed": false,
     "input": [
      "pd.read_csv('ex6.csv', nrows=5)"
     ],
     "language": "python",
     "metadata": {},
     "outputs": [
      {
       "html": [
        "<div style=\"max-height:1000px;max-width:1500px;overflow:auto;\">\n",
        "<table border=\"1\" class=\"dataframe\">\n",
        "  <thead>\n",
        "    <tr style=\"text-align: right;\">\n",
        "      <th></th>\n",
        "      <th>one</th>\n",
        "      <th>two</th>\n",
        "      <th>three</th>\n",
        "      <th>four</th>\n",
        "      <th>key</th>\n",
        "    </tr>\n",
        "  </thead>\n",
        "  <tbody>\n",
        "    <tr>\n",
        "      <th>0</th>\n",
        "      <td> 0.467976</td>\n",
        "      <td>-0.038649</td>\n",
        "      <td>-0.295344</td>\n",
        "      <td>-1.824726</td>\n",
        "      <td> L</td>\n",
        "    </tr>\n",
        "    <tr>\n",
        "      <th>1</th>\n",
        "      <td>-0.358893</td>\n",
        "      <td> 1.404453</td>\n",
        "      <td> 0.704965</td>\n",
        "      <td>-0.200638</td>\n",
        "      <td> B</td>\n",
        "    </tr>\n",
        "    <tr>\n",
        "      <th>2</th>\n",
        "      <td>-0.501840</td>\n",
        "      <td> 0.659254</td>\n",
        "      <td>-0.421691</td>\n",
        "      <td>-0.057688</td>\n",
        "      <td> G</td>\n",
        "    </tr>\n",
        "    <tr>\n",
        "      <th>3</th>\n",
        "      <td> 0.204886</td>\n",
        "      <td> 1.074134</td>\n",
        "      <td> 1.388361</td>\n",
        "      <td>-0.982404</td>\n",
        "      <td> R</td>\n",
        "    </tr>\n",
        "    <tr>\n",
        "      <th>4</th>\n",
        "      <td> 0.354628</td>\n",
        "      <td>-0.133116</td>\n",
        "      <td> 0.283763</td>\n",
        "      <td>-0.837063</td>\n",
        "      <td> Q</td>\n",
        "    </tr>\n",
        "  </tbody>\n",
        "</table>\n",
        "</div>"
       ],
       "metadata": {},
       "output_type": "pyout",
       "prompt_number": 24,
       "text": [
        "        one       two     three      four key\n",
        "0  0.467976 -0.038649 -0.295344 -1.824726   L\n",
        "1 -0.358893  1.404453  0.704965 -0.200638   B\n",
        "2 -0.501840  0.659254 -0.421691 -0.057688   G\n",
        "3  0.204886  1.074134  1.388361 -0.982404   R\n",
        "4  0.354628 -0.133116  0.283763 -0.837063   Q"
       ]
      }
     ],
     "prompt_number": 24
    },
    {
     "cell_type": "markdown",
     "metadata": {},
     "source": [
      "To read out a file in pieces, specify a chunksize as a number of rows:"
     ]
    },
    {
     "cell_type": "code",
     "collapsed": false,
     "input": [
      "chunker = pd.read_csv('ex6.csv', chunksize=1000)"
     ],
     "language": "python",
     "metadata": {},
     "outputs": [],
     "prompt_number": 25
    },
    {
     "cell_type": "code",
     "collapsed": false,
     "input": [
      "chunker"
     ],
     "language": "python",
     "metadata": {},
     "outputs": [
      {
       "metadata": {},
       "output_type": "pyout",
       "prompt_number": 26,
       "text": [
        "<pandas.io.parsers.TextFileReader at 0x7fce6f574b50>"
       ]
      }
     ],
     "prompt_number": 26
    },
    {
     "cell_type": "markdown",
     "metadata": {},
     "source": [
      "The TextParser object returned by read_csv allows you to iterate over the parts of the file according to the chunksize.  We can iterate over ex6.csv, aggregating the value counts in the 'key'column this way:"
     ]
    },
    {
     "cell_type": "code",
     "collapsed": false,
     "input": [
      "chunker = pd.read_csv('ex6.csv', chunksize=1000)"
     ],
     "language": "python",
     "metadata": {},
     "outputs": [],
     "prompt_number": 27
    },
    {
     "cell_type": "code",
     "collapsed": false,
     "input": [
      "tot = Series([])\n",
      "for piece in chunker:\n",
      "    tot = tot.add(piece['key'].value_counts(), fill_value=0)\n",
      "\n",
      "tot = tot.order(ascending=False)"
     ],
     "language": "python",
     "metadata": {},
     "outputs": [],
     "prompt_number": 28
    },
    {
     "cell_type": "code",
     "collapsed": false,
     "input": [
      "tot"
     ],
     "language": "python",
     "metadata": {},
     "outputs": [
      {
       "metadata": {},
       "output_type": "pyout",
       "prompt_number": 29,
       "text": [
        "E    368\n",
        "X    364\n",
        "L    346\n",
        "O    343\n",
        "Q    340\n",
        "M    338\n",
        "J    337\n",
        "F    335\n",
        "K    334\n",
        "H    330\n",
        "V    328\n",
        "I    327\n",
        "U    326\n",
        "P    324\n",
        "D    320\n",
        "A    320\n",
        "R    318\n",
        "Y    314\n",
        "G    308\n",
        "S    308\n",
        "N    306\n",
        "W    305\n",
        "T    304\n",
        "B    302\n",
        "Z    288\n",
        "C    286\n",
        "4    171\n",
        "6    166\n",
        "7    164\n",
        "8    162\n",
        "3    162\n",
        "5    157\n",
        "2    152\n",
        "0    151\n",
        "9    150\n",
        "1    146\n",
        "dtype: float64"
       ]
      }
     ],
     "prompt_number": 29
    },
    {
     "cell_type": "heading",
     "level": 2,
     "metadata": {},
     "source": [
      "Writing Data Out to Text Format"
     ]
    },
    {
     "cell_type": "markdown",
     "metadata": {},
     "source": [
      "Data can also be exported to delimited format.  For example:"
     ]
    },
    {
     "cell_type": "code",
     "collapsed": false,
     "input": [
      "data = pd.read_csv('ex5.csv')"
     ],
     "language": "python",
     "metadata": {},
     "outputs": [],
     "prompt_number": 30
    },
    {
     "cell_type": "code",
     "collapsed": false,
     "input": [
      "data"
     ],
     "language": "python",
     "metadata": {},
     "outputs": [
      {
       "html": [
        "<div style=\"max-height:1000px;max-width:1500px;overflow:auto;\">\n",
        "<table border=\"1\" class=\"dataframe\">\n",
        "  <thead>\n",
        "    <tr style=\"text-align: right;\">\n",
        "      <th></th>\n",
        "      <th>something</th>\n",
        "      <th>a</th>\n",
        "      <th>b</th>\n",
        "      <th>c</th>\n",
        "      <th>d</th>\n",
        "      <th>message</th>\n",
        "    </tr>\n",
        "  </thead>\n",
        "  <tbody>\n",
        "    <tr>\n",
        "      <th>0</th>\n",
        "      <td>   one</td>\n",
        "      <td> 1</td>\n",
        "      <td>  2</td>\n",
        "      <td>  3</td>\n",
        "      <td>  4</td>\n",
        "      <td>   NaN</td>\n",
        "    </tr>\n",
        "    <tr>\n",
        "      <th>1</th>\n",
        "      <td>   two</td>\n",
        "      <td> 5</td>\n",
        "      <td>  6</td>\n",
        "      <td>NaN</td>\n",
        "      <td>  8</td>\n",
        "      <td> world</td>\n",
        "    </tr>\n",
        "    <tr>\n",
        "      <th>2</th>\n",
        "      <td> three</td>\n",
        "      <td> 9</td>\n",
        "      <td> 10</td>\n",
        "      <td> 11</td>\n",
        "      <td> 12</td>\n",
        "      <td>   foo</td>\n",
        "    </tr>\n",
        "  </tbody>\n",
        "</table>\n",
        "</div>"
       ],
       "metadata": {},
       "output_type": "pyout",
       "prompt_number": 31,
       "text": [
        "  something  a   b   c   d message\n",
        "0       one  1   2   3   4     NaN\n",
        "1       two  5   6 NaN   8   world\n",
        "2     three  9  10  11  12     foo"
       ]
      }
     ],
     "prompt_number": 31
    },
    {
     "cell_type": "markdown",
     "metadata": {},
     "source": [
      "Using DataFrame's to_csv method, we can write the data out to a comma-separated file:"
     ]
    },
    {
     "cell_type": "code",
     "collapsed": false,
     "input": [
      "data.to_csv('out.csv')"
     ],
     "language": "python",
     "metadata": {},
     "outputs": [],
     "prompt_number": 32
    },
    {
     "cell_type": "code",
     "collapsed": false,
     "input": [
      "!cat out.csv"
     ],
     "language": "python",
     "metadata": {},
     "outputs": [
      {
       "output_type": "stream",
       "stream": "stdout",
       "text": [
        ",something,a,b,c,d,message\r\n",
        "0,one,1,2,3.0,4,\r\n",
        "1,two,5,6,,8,world\r\n",
        "2,three,9,10,11.0,12,foo\r\n"
       ]
      }
     ],
     "prompt_number": 34
    },
    {
     "cell_type": "markdown",
     "metadata": {},
     "source": [
      "Other delimiters can be used (writing to sys.stdout so it just prints the text result):"
     ]
    },
    {
     "cell_type": "code",
     "collapsed": false,
     "input": [
      "import sys"
     ],
     "language": "python",
     "metadata": {},
     "outputs": [],
     "prompt_number": 36
    },
    {
     "cell_type": "code",
     "collapsed": false,
     "input": [
      "data.to_csv(sys.stdout, sep='|')"
     ],
     "language": "python",
     "metadata": {},
     "outputs": [
      {
       "output_type": "stream",
       "stream": "stdout",
       "text": [
        "|something|a|b|c|d|message\n",
        "0|one|1|2|3.0|4|\n",
        "1|two|5|6||8|world\n",
        "2|three|9|10|11.0|12|foo\n"
       ]
      }
     ],
     "prompt_number": 37
    },
    {
     "cell_type": "markdown",
     "metadata": {},
     "source": [
      "Missing values appear as empty strings in the output.  You might want to denote them by some other sentinel value:"
     ]
    },
    {
     "cell_type": "code",
     "collapsed": false,
     "input": [
      "data.to_csv(sys.stdout, na_rep='NULL')"
     ],
     "language": "python",
     "metadata": {},
     "outputs": [
      {
       "output_type": "stream",
       "stream": "stdout",
       "text": [
        ",something,a,b,c,d,message\n",
        "0,one,1,2,3.0,4,NULL\n",
        "1,two,5,6,NULL,8,world\n",
        "2,three,9,10,11.0,12,foo\n"
       ]
      }
     ],
     "prompt_number": 38
    },
    {
     "cell_type": "markdown",
     "metadata": {},
     "source": [
      "Both the row and column labels are written by default.  They can be disabled by specifying the appropriate option:"
     ]
    },
    {
     "cell_type": "code",
     "collapsed": false,
     "input": [
      "data.to_csv(sys.stdout, index=False, header=False)"
     ],
     "language": "python",
     "metadata": {},
     "outputs": [
      {
       "output_type": "stream",
       "stream": "stdout",
       "text": [
        "one,1,2,3.0,4,\n",
        "two,5,6,,8,world\n",
        "three,9,10,11.0,12,foo\n"
       ]
      }
     ],
     "prompt_number": 39
    },
    {
     "cell_type": "markdown",
     "metadata": {},
     "source": [
      "You can also write only a subset of the columns, and in an order of your choosing:"
     ]
    },
    {
     "cell_type": "code",
     "collapsed": false,
     "input": [
      "data.to_csv(sys.stdout, index=False, columns=['a', 'b', 'c'])"
     ],
     "language": "python",
     "metadata": {},
     "outputs": [
      {
       "output_type": "stream",
       "stream": "stdout",
       "text": [
        "a,b,c\n",
        "1,2,3.0\n",
        "5,6,\n",
        "9,10,11.0\n"
       ]
      }
     ],
     "prompt_number": 41
    },
    {
     "cell_type": "markdown",
     "metadata": {},
     "source": [
      "Series also has a to_csv method:"
     ]
    },
    {
     "cell_type": "code",
     "collapsed": false,
     "input": [
      "dates = pd.date_range('1/1/2000', periods=7)"
     ],
     "language": "python",
     "metadata": {},
     "outputs": [],
     "prompt_number": 42
    },
    {
     "cell_type": "code",
     "collapsed": false,
     "input": [
      "ts = Series(np.arange(7), index=dates)"
     ],
     "language": "python",
     "metadata": {},
     "outputs": [],
     "prompt_number": 44
    },
    {
     "cell_type": "code",
     "collapsed": false,
     "input": [
      "ts"
     ],
     "language": "python",
     "metadata": {},
     "outputs": [
      {
       "metadata": {},
       "output_type": "pyout",
       "prompt_number": 45,
       "text": [
        "2000-01-01    0\n",
        "2000-01-02    1\n",
        "2000-01-03    2\n",
        "2000-01-04    3\n",
        "2000-01-05    4\n",
        "2000-01-06    5\n",
        "2000-01-07    6\n",
        "Freq: D, dtype: int64"
       ]
      }
     ],
     "prompt_number": 45
    },
    {
     "cell_type": "code",
     "collapsed": false,
     "input": [
      "ts.to_csv('tseries.csv')"
     ],
     "language": "python",
     "metadata": {},
     "outputs": [],
     "prompt_number": 46
    },
    {
     "cell_type": "code",
     "collapsed": false,
     "input": [
      "!cat tseries.csv"
     ],
     "language": "python",
     "metadata": {},
     "outputs": [
      {
       "output_type": "stream",
       "stream": "stdout",
       "text": [
        "2000-01-01,0\r\n",
        "2000-01-02,1\r\n",
        "2000-01-03,2\r\n",
        "2000-01-04,3\r\n",
        "2000-01-05,4\r\n",
        "2000-01-06,5\r\n",
        "2000-01-07,6\r\n"
       ]
      }
     ],
     "prompt_number": 47
    },
    {
     "cell_type": "markdown",
     "metadata": {},
     "source": [
      "You can read a CSV version of a Sseries with read_csv, but there is also a from_csv convenience method that makes it a bit simpler:"
     ]
    },
    {
     "cell_type": "code",
     "collapsed": false,
     "input": [
      "Series.from_csv('tseries.csv', parse_dates=True)"
     ],
     "language": "python",
     "metadata": {},
     "outputs": [
      {
       "metadata": {},
       "output_type": "pyout",
       "prompt_number": 48,
       "text": [
        "2000-01-01    0\n",
        "2000-01-02    1\n",
        "2000-01-03    2\n",
        "2000-01-04    3\n",
        "2000-01-05    4\n",
        "2000-01-06    5\n",
        "2000-01-07    6\n",
        "dtype: int64"
       ]
      }
     ],
     "prompt_number": 48
    },
    {
     "cell_type": "heading",
     "level": 2,
     "metadata": {},
     "source": [
      "Reading Microsoft Excel Files"
     ]
    },
    {
     "cell_type": "markdown",
     "metadata": {},
     "source": [
      "pandas also supports reading tabular data stored in Excel 2003 (and higher) file using the ExcelFile class.  Internally ExcelFile using the xlrd and openpyxl packages, so you may have to install them first.  To use ExcelFile, create an instance by passing a path to an xls or xlsx file:"
     ]
    },
    {
     "cell_type": "code",
     "collapsed": false,
     "input": [
      "xls_file = pd.ExcelFile('data.xls')"
     ],
     "language": "python",
     "metadata": {},
     "outputs": [],
     "prompt_number": 49
    },
    {
     "cell_type": "code",
     "collapsed": false,
     "input": [
      "table = xls_file.parse('Sheet1')"
     ],
     "language": "python",
     "metadata": {},
     "outputs": [],
     "prompt_number": 50
    },
    {
     "cell_type": "code",
     "collapsed": false,
     "input": [
      "table"
     ],
     "language": "python",
     "metadata": {},
     "outputs": [
      {
       "html": [
        "<div style=\"max-height:1000px;max-width:1500px;overflow:auto;\">\n",
        "<table border=\"1\" class=\"dataframe\">\n",
        "  <thead>\n",
        "    <tr style=\"text-align: right;\">\n",
        "      <th></th>\n",
        "      <th>1</th>\n",
        "      <th>cat</th>\n",
        "      <th>3.5</th>\n",
        "      <th>a</th>\n",
        "    </tr>\n",
        "  </thead>\n",
        "  <tbody>\n",
        "    <tr>\n",
        "      <th>0</th>\n",
        "      <td> 2</td>\n",
        "      <td>     dog</td>\n",
        "      <td> 3.4</td>\n",
        "      <td> b</td>\n",
        "    </tr>\n",
        "    <tr>\n",
        "      <th>1</th>\n",
        "      <td> 3</td>\n",
        "      <td>   horse</td>\n",
        "      <td> 4.8</td>\n",
        "      <td> c</td>\n",
        "    </tr>\n",
        "    <tr>\n",
        "      <th>2</th>\n",
        "      <td> 4</td>\n",
        "      <td> penguin</td>\n",
        "      <td> 5.6</td>\n",
        "      <td> d</td>\n",
        "    </tr>\n",
        "    <tr>\n",
        "      <th>3</th>\n",
        "      <td> 5</td>\n",
        "      <td>    duck</td>\n",
        "      <td> 7.5</td>\n",
        "      <td> e</td>\n",
        "    </tr>\n",
        "  </tbody>\n",
        "</table>\n",
        "</div>"
       ],
       "metadata": {},
       "output_type": "pyout",
       "prompt_number": 51,
       "text": [
        "   1      cat  3.5  a\n",
        "0  2      dog  3.4  b\n",
        "1  3    horse  4.8  c\n",
        "2  4  penguin  5.6  d\n",
        "3  5     duck  7.5  e"
       ]
      }
     ],
     "prompt_number": 51
    },
    {
     "cell_type": "code",
     "collapsed": false,
     "input": [
      "table2 = xls_file.parse('Sheet2')"
     ],
     "language": "python",
     "metadata": {},
     "outputs": [],
     "prompt_number": 52
    },
    {
     "cell_type": "code",
     "collapsed": false,
     "input": [
      "table2"
     ],
     "language": "python",
     "metadata": {},
     "outputs": [
      {
       "html": [
        "<div style=\"max-height:1000px;max-width:1500px;overflow:auto;\">\n",
        "<table border=\"1\" class=\"dataframe\">\n",
        "  <thead>\n",
        "    <tr style=\"text-align: right;\">\n",
        "      <th></th>\n",
        "      <th>a</th>\n",
        "      <th>1</th>\n",
        "      <th>Tagum</th>\n",
        "      <th>1.3</th>\n",
        "    </tr>\n",
        "  </thead>\n",
        "  <tbody>\n",
        "    <tr>\n",
        "      <th>0</th>\n",
        "      <td> NaN</td>\n",
        "      <td> 2</td>\n",
        "      <td>      Davao</td>\n",
        "      <td> 2.4</td>\n",
        "    </tr>\n",
        "    <tr>\n",
        "      <th>1</th>\n",
        "      <td>   b</td>\n",
        "      <td> 1</td>\n",
        "      <td>       Mati</td>\n",
        "      <td> 3.5</td>\n",
        "    </tr>\n",
        "    <tr>\n",
        "      <th>2</th>\n",
        "      <td> NaN</td>\n",
        "      <td> 2</td>\n",
        "      <td>        CDO</td>\n",
        "      <td> 4.6</td>\n",
        "    </tr>\n",
        "    <tr>\n",
        "      <th>3</th>\n",
        "      <td>   c</td>\n",
        "      <td> 1</td>\n",
        "      <td> Balingasag</td>\n",
        "      <td> 4.5</td>\n",
        "    </tr>\n",
        "    <tr>\n",
        "      <th>4</th>\n",
        "      <td> NaN</td>\n",
        "      <td> 2</td>\n",
        "      <td>     Malita</td>\n",
        "      <td> 6.7</td>\n",
        "    </tr>\n",
        "  </tbody>\n",
        "</table>\n",
        "</div>"
       ],
       "metadata": {},
       "output_type": "pyout",
       "prompt_number": 54,
       "text": [
        "     a  1       Tagum  1.3\n",
        "0  NaN  2       Davao  2.4\n",
        "1    b  1        Mati  3.5\n",
        "2  NaN  2         CDO  4.6\n",
        "3    c  1  Balingasag  4.5\n",
        "4  NaN  2      Malita  6.7"
       ]
      }
     ],
     "prompt_number": 54
    }
   ],
   "metadata": {}
  }
 ]
}