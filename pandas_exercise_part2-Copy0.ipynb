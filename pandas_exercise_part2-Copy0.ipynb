{
 "metadata": {
  "name": "",
  "signature": "sha256:6a3514ee1ae92458d03178f9f8b71fc94d9bb11e57c715f10404a0bc26970ea9"
 },
 "nbformat": 3,
 "nbformat_minor": 0,
 "worksheets": [
  {
   "cells": [
    {
     "cell_type": "markdown",
     "metadata": {},
     "source": [
      "Making plots and static or interactive visualizations is one of the most important tasks in data analysis.  It may be part of the exploratory process (e.g., helping identify outliers, needed data transformations, or coming up with ideas for models).  For others, building an interactive visualization for the web may be the end goal."
     ]
    },
    {
     "cell_type": "markdown",
     "metadata": {},
     "source": [
      "Python has many visualization tools but for this exercise, we focus on matplotlib.  matplotlib is a (primarily 2D) desktop plotting package designed for creating publication-quality plots.  The project was started by John Hunter in 2002 to enable a MATLAB-like plotting interface in Python.  Since then, he, Fernando Perez (of IPython), and others have collaborated for many years to make IPython combined with matplotlib a very functional and productive environment for scientific computing."
     ]
    },
    {
     "cell_type": "markdown",
     "metadata": {},
     "source": [
      "When used in tandem with a GUI toolkit (e.g., within IPython), matplotlib has interactive features like zooming and panning.  It supports many different GUI backends on all operating systems and additionally can export graphics to various formats: PDF, SVG, JPG, PNG, GIV, etc.  "
     ]
    },
    {
     "cell_type": "markdown",
     "metadata": {},
     "source": [
      "matplotlib has a number of add-on toolkits, such as mplot3d for 3D plots and basemap for mapping and projections.  If you are working in ipython, make sure you have started IPython in Pylab mode (ipython --pylab) or enabled GUI event loop integration with the %gui magic.  If working on ipython notebook, make sure to type: ipython notebook --matplotlib=inline when activating the notebook viewer so that the output of the plotting commands are displayed inline within the notebook, directly below the code cell that produced it.  If you are already working within the IPython notebook environment, it can be invoked as follows: %matplotlib inline."
     ]
    },
    {
     "cell_type": "heading",
     "level": 1,
     "metadata": {},
     "source": [
      "A Brief matplotlib API Primer"
     ]
    },
    {
     "cell_type": "markdown",
     "metadata": {},
     "source": [
      "As mentioned, there are several ways to interact with matplotlib.  The most common is through pylab mode in IPython by running ipython --pylab.  Pylab mode imports a large set of modules and functions into IPython to provide a more MATLAB-like interface."
     ]
    },
    {
     "cell_type": "markdown",
     "metadata": {},
     "source": [
      "You can test that everything is working by making a simple plot."
     ]
    },
    {
     "cell_type": "code",
     "collapsed": false,
     "input": [
      "plot(np.arange(10))"
     ],
     "language": "python",
     "metadata": {},
     "outputs": [
      {
       "ename": "NameError",
       "evalue": "name 'plot' is not defined",
       "output_type": "pyerr",
       "traceback": [
        "\u001b[1;31m---------------------------------------------------------------------------\u001b[0m\n\u001b[1;31mNameError\u001b[0m                                 Traceback (most recent call last)",
        "\u001b[1;32m<ipython-input-7-8f4a8fdae607>\u001b[0m in \u001b[0;36m<module>\u001b[1;34m()\u001b[0m\n\u001b[1;32m----> 1\u001b[1;33m \u001b[0mplot\u001b[0m\u001b[1;33m(\u001b[0m\u001b[0mnp\u001b[0m\u001b[1;33m.\u001b[0m\u001b[0marange\u001b[0m\u001b[1;33m(\u001b[0m\u001b[1;36m10\u001b[0m\u001b[1;33m)\u001b[0m\u001b[1;33m)\u001b[0m\u001b[1;33m\u001b[0m\u001b[0m\n\u001b[0m",
        "\u001b[1;31mNameError\u001b[0m: name 'plot' is not defined"
       ]
      }
     ],
     "prompt_number": 7
    },
    {
     "cell_type": "markdown",
     "metadata": {},
     "source": [
      "Comment:  An error occurred! Aside from enabling matplotlib, we need to import a few modules (see cell 5, which is practically a standard practice when working with visualization tools in Python)."
     ]
    },
    {
     "cell_type": "code",
     "collapsed": false,
     "input": [
      "%matplotlib inline"
     ],
     "language": "python",
     "metadata": {},
     "outputs": [],
     "prompt_number": 1
    },
    {
     "cell_type": "code",
     "collapsed": false,
     "input": [
      "import matplotlib.pyplot as plt\n",
      "import numpy as np"
     ],
     "language": "python",
     "metadata": {},
     "outputs": [],
     "prompt_number": 2
    },
    {
     "cell_type": "markdown",
     "metadata": {},
     "source": [
      "Comment: let's try again."
     ]
    },
    {
     "cell_type": "code",
     "collapsed": false,
     "input": [
      "plt.plot(np.arange(10))"
     ],
     "language": "python",
     "metadata": {},
     "outputs": [
      {
       "metadata": {},
       "output_type": "pyout",
       "prompt_number": 3,
       "text": [
        "[<matplotlib.lines.Line2D at 0x7fefa180ee10>]"
       ]
      },
      {
       "metadata": {},
       "output_type": "display_data",
       "png": "[encoded data removed]",
       "text": [
        "<matplotlib.figure.Figure at 0x7fefa18f2950>"
       ]
      }
     ],
     "prompt_number": 3
    },
    {
     "cell_type": "markdown",
     "metadata": {},
     "source": [
      "If the plotting were not done inline within the IPython notebook environment, then a new window should pop up with a line plot.  You can close it by using the mouse or entering close().  Matplotlib API functions like plot and close are all in the matplotlib.pyplot module, which is typically imported by convention as: import matplotlib.pyplot as plt"
     ]
    },
    {
     "cell_type": "markdown",
     "metadata": {},
     "source": [
      "Note: We need to learn the fundamentals of matplotlib API if we want to work with the pandas plotting functions later. "
     ]
    },
    {
     "cell_type": "markdown",
     "metadata": {},
     "source": [
      "Note:  This exercise does not attempt to give a comprehensive treatment to the breadth and depth of functionality in matplotlib.  The matplotlib gallery and documentation (http://matplotlib.sourceforge.net) are the best resource for becoming a plotting guru and using advanced features."
     ]
    },
    {
     "cell_type": "heading",
     "level": 2,
     "metadata": {},
     "source": [
      "Figures and Subplots"
     ]
    },
    {
     "cell_type": "code",
     "collapsed": false,
     "input": [
      "fig = plt.figure()"
     ],
     "language": "python",
     "metadata": {},
     "outputs": [
      {
       "metadata": {},
       "output_type": "display_data",
       "text": [
        "<matplotlib.figure.Figure at 0x7fae82ff8350>"
       ]
      }
     ],
     "prompt_number": 4
    },
    {
     "cell_type": "code",
     "collapsed": false,
     "input": [
      "ax1 = fig.add_subplot(2, 2, 1)"
     ],
     "language": "python",
     "metadata": {},
     "outputs": [],
     "prompt_number": 9
    },
    {
     "cell_type": "code",
     "collapsed": false,
     "input": [
      "ax2 = fig.add_subplot(2, 2, 2)"
     ],
     "language": "python",
     "metadata": {},
     "outputs": [],
     "prompt_number": 10
    },
    {
     "cell_type": "code",
     "collapsed": false,
     "input": [
      "ax3 = fig.add_subplot(2, 2, 3)"
     ],
     "language": "python",
     "metadata": {},
     "outputs": [],
     "prompt_number": 11
    },
    {
     "cell_type": "code",
     "collapsed": false,
     "input": [
      "fig.show()"
     ],
     "language": "python",
     "metadata": {},
     "outputs": [
      {
       "output_type": "stream",
       "stream": "stderr",
       "text": [
        "/home/frances/anaconda/lib/python2.7/site-packages/matplotlib/figure.py:387: UserWarning: matplotlib is currently using a non-GUI backend, so cannot show the figure\n",
        "  \"matplotlib is currently using a non-GUI backend, \"\n"
       ]
      }
     ],
     "prompt_number": 5
    },
    {
     "cell_type": "markdown",
     "metadata": {},
     "source": [
      "1.  An empty matplotlib figure with 3 subplots should appear.  Troubleshoot the problem."
     ]
    },
    {
     "cell_type": "code",
     "collapsed": false,
     "input": [
      "plt.plot([1.5, 3.5, -2, 1.6])"
     ],
     "language": "python",
     "metadata": {},
     "outputs": [
      {
       "metadata": {},
       "output_type": "pyout",
       "prompt_number": 21,
       "text": [
        "[<matplotlib.lines.Line2D at 0x7f5d2afed290>]"
       ]
      },
      {
       "metadata": {},
       "output_type": "display_data",
       "png": "[encoded data removed]",
       "text": [
        "<matplotlib.figure.Figure at 0x7f5d2b11c390>"
       ]
      }
     ],
     "prompt_number": 21
    },
    {
     "cell_type": "markdown",
     "metadata": {},
     "source": [
      "When you issue a plotting command like the one above, matplotlib draws on the last figure and subplot, thus hiding the figure and subplot creation."
     ]
    },
    {
     "cell_type": "code",
     "collapsed": false,
     "input": [
      "from numpy.random import randn"
     ],
     "language": "python",
     "metadata": {},
     "outputs": [],
     "prompt_number": 5
    },
    {
     "cell_type": "code",
     "collapsed": false,
     "input": [
      "plt.plot(randn(50).cumsum(), 'k--')"
     ],
     "language": "python",
     "metadata": {},
     "outputs": [
      {
       "metadata": {},
       "output_type": "pyout",
       "prompt_number": 33,
       "text": [
        "[<matplotlib.lines.Line2D at 0x7fae820b8910>]"
       ]
      },
      {
       "metadata": {},
       "output_type": "display_data",
       "png": "[encoded data removed]",
       "text": [
        "<matplotlib.figure.Figure at 0x7fae8281a590>"
       ]
      }
     ],
     "prompt_number": 33
    },
    {
     "cell_type": "markdown",
     "metadata": {},
     "source": [
      "\\2.  What does the 'k--' style option instruct matplotlab to plot?"
     ]
    },
    {
     "cell_type": "markdown",
     "metadata": {},
     "source": [
      "\\3.  The objects returned by fig.add_subplot above are AxesSubplot objects, on which you can directly plot on the other empty subplots by calling each one's instance methods.  Convert the histogram and the scatter plot below as AcesSubplot objects by calling the instance methods (ax1, ax2, ax3).  (Hint: If you completed question number 1 (troubleshooting problem), this question/task should be doable)."
     ]
    },
    {
     "cell_type": "code",
     "collapsed": false,
     "input": [
      "_= plt.hist(randn(100), bins=20, color='k', alpha=0.3)"
     ],
     "language": "python",
     "metadata": {},
     "outputs": [
      {
       "metadata": {},
       "output_type": "display_data",
       "png": "[encoded data removed]",
       "text": [
        "<matplotlib.figure.Figure at 0x7fae82dd8a90>"
       ]
      }
     ],
     "prompt_number": 14
    },
    {
     "cell_type": "code",
     "collapsed": false,
     "input": [
      "plt.scatter(np.arange(30), np.arange(30) + 3 * randn(30))"
     ],
     "language": "python",
     "metadata": {},
     "outputs": [
      {
       "metadata": {},
       "output_type": "pyout",
       "prompt_number": 15,
       "text": [
        "<matplotlib.collections.PathCollection at 0x7fae82ad9d10>"
       ]
      },
      {
       "metadata": {},
       "output_type": "display_data",
       "png": "[encoded data removed]",
       "text": [
        "<matplotlib.figure.Figure at 0x7fae82cc38d0>"
       ]
      }
     ],
     "prompt_number": 15
    },
    {
     "cell_type": "markdown",
     "metadata": {},
     "source": [
      "Since creating a figure with multiple subplots according to a particular layout is a common task, there is a convenient method, plt.subplots, that creates a new figure and returns a NumPy array containing the created subplot objects."
     ]
    },
    {
     "cell_type": "code",
     "collapsed": false,
     "input": [
      "fig, axes = plt.subplots(2,3)"
     ],
     "language": "python",
     "metadata": {},
     "outputs": [
      {
       "metadata": {},
       "output_type": "display_data",
       "png": "[encoded data removed]",
       "text": [
        "<matplotlib.figure.Figure at 0x7fae82ea7390>"
       ]
      }
     ],
     "prompt_number": 16
    },
    {
     "cell_type": "code",
     "collapsed": false,
     "input": [
      "axes"
     ],
     "language": "python",
     "metadata": {},
     "outputs": [
      {
       "metadata": {},
       "output_type": "pyout",
       "prompt_number": 17,
       "text": [
        "array([[<matplotlib.axes._subplots.AxesSubplot object at 0x7fae82af80d0>,\n",
        "        <matplotlib.axes._subplots.AxesSubplot object at 0x7fae82bec690>,\n",
        "        <matplotlib.axes._subplots.AxesSubplot object at 0x7fae82c42b90>],\n",
        "       [<matplotlib.axes._subplots.AxesSubplot object at 0x7fae82c23c10>,\n",
        "        <matplotlib.axes._subplots.AxesSubplot object at 0x7fae82a3ba50>,\n",
        "        <matplotlib.axes._subplots.AxesSubplot object at 0x7fae829c0710>]], dtype=object)"
       ]
      }
     ],
     "prompt_number": 17
    },
    {
     "cell_type": "markdown",
     "metadata": {},
     "source": [
      "Notice that the axes array can be easily indexed like a two-dimensional array."
     ]
    },
    {
     "cell_type": "markdown",
     "metadata": {},
     "source": [
      "\\3.  You can also indicate that subplots should have the same X or Y axis using sharex and shrey, respectively.  Do this for the figure indicated above.  (This is especially useful when comparing data on the same scale: otherwise, matplotlib auto-scales plot limits independently)."
     ]
    },
    {
     "cell_type": "heading",
     "level": 2,
     "metadata": {},
     "source": [
      "Adjusting the spacing around subplots"
     ]
    },
    {
     "cell_type": "markdown",
     "metadata": {},
     "source": [
      "By default, matplotlib leaves a certain amount of padding around the outside of the subplots and spacing between subplots.  This spacing is all specified relative to the height and width of the plot, so that if you resize the plot either programmatically or manually using the GUI window, the plot will dynamically adjust itself."
     ]
    },
    {
     "cell_type": "markdown",
     "metadata": {},
     "source": [
      "The spacing can be most easily changed using the subplots_adjust Figure method (available as a top-level function):\n",
      "\n",
      "subplots_adjust(left=None, bottom=None, right=None, top=None, wspace=None, hspace=None)"
     ]
    },
    {
     "cell_type": "markdown",
     "metadata": {},
     "source": [
      "wspace and hspace controls the percent of the figure width and figure height, respectively, to use a spacing between subplots."
     ]
    },
    {
     "cell_type": "markdown",
     "metadata": {},
     "source": [
      "\\4. Run this:\n",
      "\n",
      "fig,axes = plt.subplots(2, 2, sharex=True, sharey=True)\n",
      "for i in range(2):\n",
      "    for j in range(2):\n",
      "        axes[i,j].hist(randn(500), bins=50, color='k', alpha=0.5)\n",
      "plt.subplots_adjust(wspace=0, hspace=0)"
     ]
    },
    {
     "cell_type": "heading",
     "level": 2,
     "metadata": {},
     "source": [
      "Colors, Markers, and Line Styles"
     ]
    },
    {
     "cell_type": "markdown",
     "metadata": {},
     "source": [
      "matplotlib's main plot function accepts arrays of X and Y coordinates and optionally a string abbreviation indicating color and line style."
     ]
    },
    {
     "cell_type": "markdown",
     "metadata": {},
     "source": [
      "\\5.  matplotlib's main plot function accepts arrays of X and Y coordinates and optionally a string abbreviation indicating color and line style.\n",
      "\n",
      "Plot x versus y with gree dashes.  Work on the givens below.  Do the necessary modifications and additions to make sure the plot appears:\n",
      "\n",
      "plt.figure()\n",
      "plt.plot(x, y, 'g--')\n",
      "\n"
     ]
    },
    {
     "cell_type": "markdown",
     "metadata": {},
     "source": [
      "Line plots can additionally have markers to highlight the actual data points.  The marker can be part of the style string, which must have color followed by marker type and line style."
     ]
    },
    {
     "cell_type": "code",
     "collapsed": false,
     "input": [
      "plt.plot(randn(40).cumsum(), 'ko--')"
     ],
     "language": "python",
     "metadata": {},
     "outputs": [
      {
       "metadata": {},
       "output_type": "pyout",
       "prompt_number": 36,
       "text": [
        "[<matplotlib.lines.Line2D at 0x7fae81f3ea10>]"
       ]
      },
      {
       "metadata": {},
       "output_type": "display_data",
       "png": "[encoded data removed]",
       "text": [
        "<matplotlib.figure.Figure at 0x7fae81fe4350>"
       ]
      }
     ],
     "prompt_number": 36
    },
    {
     "cell_type": "markdown",
     "metadata": {},
     "source": [
      "This could also have been wrriten more explicitly as:"
     ]
    },
    {
     "cell_type": "code",
     "collapsed": false,
     "input": [
      "plt.plot(randn(40).cumsum(), color='k', linestyle='dashed', marker='o')"
     ],
     "language": "python",
     "metadata": {},
     "outputs": [
      {
       "metadata": {},
       "output_type": "pyout",
       "prompt_number": 37,
       "text": [
        "[<matplotlib.lines.Line2D at 0x7fae81e860d0>]"
       ]
      },
      {
       "metadata": {},
       "output_type": "display_data",
       "png": "[encoded data removed]",
       "text": [
        "<matplotlib.figure.Figure at 0x7fae82095790>"
       ]
      }
     ],
     "prompt_number": 37
    },
    {
     "cell_type": "markdown",
     "metadata": {},
     "source": [
      "So far, the points are linearly interpolated by default.  This can be altered with the drawstyle option."
     ]
    },
    {
     "cell_type": "code",
     "collapsed": false,
     "input": [
      "data = randn(40).cumsum()"
     ],
     "language": "python",
     "metadata": {},
     "outputs": [],
     "prompt_number": 38
    },
    {
     "cell_type": "code",
     "collapsed": false,
     "input": [
      "plt.plot(data, 'k--', label='Default')"
     ],
     "language": "python",
     "metadata": {},
     "outputs": [
      {
       "metadata": {},
       "output_type": "pyout",
       "prompt_number": 39,
       "text": [
        "[<matplotlib.lines.Line2D at 0x7fae81dc0b90>]"
       ]
      },
      {
       "metadata": {},
       "output_type": "display_data",
       "png": "[encoded data removed]",
       "text": [
        "<matplotlib.figure.Figure at 0x7fae81efdb90>"
       ]
      }
     ],
     "prompt_number": 39
    },
    {
     "cell_type": "code",
     "collapsed": false,
     "input": [
      "plt.plot(data, 'k-', drawstyle='steps-post', label='steps-post')"
     ],
     "language": "python",
     "metadata": {},
     "outputs": [
      {
       "metadata": {},
       "output_type": "pyout",
       "prompt_number": 40,
       "text": [
        "[<matplotlib.lines.Line2D at 0x7fae81cfc950>]"
       ]
      },
      {
       "metadata": {},
       "output_type": "display_data",
       "png": "[encoded data removed]",
       "text": [
        "<matplotlib.figure.Figure at 0x7fae81d62b50>"
       ]
      }
     ],
     "prompt_number": 40
    },
    {
     "cell_type": "heading",
     "level": 2,
     "metadata": {},
     "source": [
      "Ticks, Labels, and Legends"
     ]
    },
    {
     "cell_type": "markdown",
     "metadata": {},
     "source": [
      "For most kinds of plot decorations, there are two main ways to go about it: (1) using the procedural pyplot interface, (2) more object-oriented native matplotlib API."
     ]
    },
    {
     "cell_type": "markdown",
     "metadata": {},
     "source": [
      "The pyplot interface consists of methods like xlim, xticks, and xticklabels.  Called with no arguments returns the current parameter value.  For example, plt.xlim() returns the current X axis plotting range.  Called with parameters sets the parameter value.  For example, plt.xlim([0,10]) sets the X axis range to 0 to 10.  "
     ]
    },
    {
     "cell_type": "heading",
     "level": 3,
     "metadata": {},
     "source": [
      "Setting the title, axis labels, ticks, and ticklabels"
     ]
    },
    {
     "cell_type": "markdown",
     "metadata": {},
     "source": [
      "\\6.  Run this:\n",
      "\n",
      "fig = plt.figure(); ax = fig.add_subplot(1, 1, 1)\n",
      "ax.plot(randn(1000).cumsum())\n",
      "ticks = ax.set_xticks([0, 250, 500, 750, 1000])\n",
      "labels = ax.set_xticklabels(['one', 'two', 'three', 'four', 'five'], rotation=30, fontsize='small')\n",
      "ax.set_title('My first matplotlib plot')\n",
      "ax.set_xlabel('Stages')"
     ]
    },
    {
     "cell_type": "code",
     "collapsed": false,
     "input": [
      "fig = plt.figure(); ax = fig.add_subplot(1, 1, 1)\n",
      "ax.plot(randn(1000).cumsum())\n",
      "ticks = ax.set_xticks([0, 250, 500, 750, 1000])\n",
      "labels = ax.set_xticklabels(['one', 'two', 'three', 'four', 'five'], rotation=30, fontsize='small')\n",
      "ax.set_title('My first matplotlib plot')\n",
      "ax.set_xlabel('Stages')"
     ],
     "language": "python",
     "metadata": {},
     "outputs": [
      {
       "metadata": {},
       "output_type": "pyout",
       "prompt_number": 8,
       "text": [
        "<matplotlib.text.Text at 0x7fefa1592150>"
       ]
      },
      {
       "metadata": {},
       "output_type": "display_data",
       "png": "[encoded data removed]",
       "text": [
        "<matplotlib.figure.Figure at 0x7fefa14de090>"
       ]
      }
     ],
     "prompt_number": 8
    },
    {
     "cell_type": "heading",
     "level": 3,
     "metadata": {},
     "source": [
      "Adding Legends"
     ]
    },
    {
     "cell_type": "markdown",
     "metadata": {},
     "source": [
      "\\7.  Legends are another critical element for identifying plot elements.  Just pass the label argument when adding each piece of the plot."
     ]
    },
    {
     "cell_type": "markdown",
     "metadata": {},
     "source": [
      "\\8.  Run this:\n",
      "    \n",
      "fig = plt.figure(); ax = fig.add_subplot(1, 1, 1)\n",
      "ax.plot(randn(1000).cumsum(), 'k', label='one')\n",
      "ax.plot(randn(1000).cumsum(), 'k--', label='two')\n",
      "ax.plot(randn(1000).cumsum(), 'k.', label='three')\n",
      "\n",
      "Once you've done this, you can either call ax.legend() or plt.legend() to automatically create a legend.\n",
      "\n",
      "ax.legend(loc='best')\n",
      "\n",
      "The loc tells matplotlib where to place the plot.  The 'best' option will choose a location that is most out of the way.\n",
      "\n",
      "To exclude one or more elements from the legend, pass no label or label='_nolegend_'"
     ]
    },
    {
     "cell_type": "code",
     "collapsed": false,
     "input": [
      "fig = plt.figure(); \n",
      "ax = fig.add_subplot(1, 1, 1)\n",
      "ax.plot(randn(1000).cumsum(), 'k', label='one')\n",
      "ax.plot(randn(1000).cumsum(), 'k--', label='two')\n",
      "ax.plot(randn(1000).cumsum(), 'k.', label='three')\n",
      "ax.legend(loc='best')"
     ],
     "language": "python",
     "metadata": {},
     "outputs": [
      {
       "metadata": {},
       "output_type": "pyout",
       "prompt_number": 7,
       "text": [
        "<matplotlib.legend.Legend at 0x7fefa16ddb50>"
       ]
      },
      {
       "metadata": {},
       "output_type": "display_data",
       "png": "[encoded data removed]",
       "text": [
        "<matplotlib.figure.Figure at 0x7fefa163ab90>"
       ]
      }
     ],
     "prompt_number": 7
    },
    {
     "cell_type": "heading",
     "level": 2,
     "metadata": {},
     "source": [
      "Annotations and Drawing on a Subplot"
     ]
    },
    {
     "cell_type": "markdown",
     "metadata": {},
     "source": [
      "In addition to the standard plot types, you may wish to draw your own plot annotations, which could consist of text, arrows, or other shapes.  Annotations and text can be added using the text, arrow, and annotation functions.  text draws text at given coordinates (x, y) on the plot with optional custom styling:\n",
      "\n",
      "ax.text(x, y, 'Hello World!', family='monospace', fontsize=10)"
     ]
    },
    {
     "cell_type": "markdown",
     "metadata": {},
     "source": [
      "Study the example below."
     ]
    },
    {
     "cell_type": "code",
     "collapsed": false,
     "input": [
      "from pandas import Series, DataFrame\n",
      "import pandas as pd\n",
      "from datetime import datetime\n",
      "\n",
      "fig = plt.figure()\n",
      "ax = fig.add_subplot(1, 1, 1)\n",
      "\n",
      "data = pd.read_csv('spx.csv', index_col=0, parse_dates=True)\n",
      "spx = data['SPX']\n",
      "\n",
      "spx.plot(ax=ax, style='k-')\n",
      "\n",
      "crisis_data = [\n",
      "    (datetime(2007, 10, 11), 'Peak of bull market'),\n",
      "    (datetime(2008, 3, 12), 'Bear Stearns Fails'),\n",
      "    (datetime(2008, 9, 15), 'Lehman Bankruptcy')\n",
      "]\n",
      "\n",
      "for date, label in crisis_data:\n",
      "    ax.annotate(label, xy=(date, spx.asof(date) + 50),\n",
      "                xytext=(date, spx.asof(date) + 200),\n",
      "                arrowprops=dict(facecolor='black'),\n",
      "                horizontalalignment='left', verticalalignment='top')\n",
      "\n",
      "\n",
      "# Zoom in on 2007-2010\n",
      "ax.set_xlim(['1/1/2007', '1/1/2011'])\n",
      "ax.set_ylim([600, 1800])\n",
      "\n",
      "ax.set_title('Important dates in 2008-2009 financial crisis')"
     ],
     "language": "python",
     "metadata": {},
     "outputs": [
      {
       "metadata": {},
       "output_type": "pyout",
       "prompt_number": 12,
       "text": [
        "<matplotlib.text.Text at 0x7fef999f72d0>"
       ]
      },
      {
       "metadata": {},
       "output_type": "display_data",
       "png": "[encoded data removed]",
       "text": [
        "<matplotlib.figure.Figure at 0x7fefa143b590>"
       ]
      }
     ],
     "prompt_number": 12
    },
    {
     "cell_type": "markdown",
     "metadata": {},
     "source": [
      "See the online matplotlib gallery for many more annotation examples to learn from. "
     ]
    },
    {
     "cell_type": "markdown",
     "metadata": {},
     "source": [
      "Drawing shapes requires some more care. matplotlib has objects that represent many common shapes, referred to as patches.  Some of these, like Rectangle and Circle are found in matplotlib.pyplot, but the full set is located in matplotlib.patches.\n",
      "\n",
      "To add a shape to a plot, you create the patch object shp and add it to a subplot by calling ax.add_patch(shp).\n",
      "\n",
      "Study the example below."
     ]
    },
    {
     "cell_type": "code",
     "collapsed": false,
     "input": [
      "fig = plt.figure()\n",
      "ax = fig.add_subplot(1, 1, 1)\n",
      "\n",
      "rect = plt.Rectangle((0.2, 0.75), 0.4, 0.15, color='k', alpha=0.3)\n",
      "circ = plt.Circle((0.7, 0.2), 0.15, color='b', alpha=0.3)\n",
      "pgon = plt.Polygon([[0.15, 0.15], [0.35, 0.4], [0.2, 0.6]], color='g', alpha=0.5)\n",
      "\n",
      "ax.add_patch(rect)\n",
      "ax.add_patch(circ)\n",
      "ax.add_patch(pgon)"
     ],
     "language": "python",
     "metadata": {},
     "outputs": [
      {
       "output_type": "stream",
       "stream": "stdout",
       "text": [
        "Using matplotlib backend: TkAgg\n"
       ]
      },
      {
       "metadata": {},
       "output_type": "pyout",
       "prompt_number": 24,
       "text": [
        "<matplotlib.patches.Polygon at 0x7fef9264ded0>"
       ]
      }
     ],
     "prompt_number": 24
    },
    {
     "cell_type": "heading",
     "level": 2,
     "metadata": {},
     "source": [
      "Saving Plots to File"
     ]
    },
    {
     "cell_type": "markdown",
     "metadata": {},
     "source": [
      "The active figure can be saved to file using plt.savefig.  This method is equivalent to the figure object's savefig instance method."
     ]
    },
    {
     "cell_type": "code",
     "collapsed": false,
     "input": [
      "plt.savefig('fig1.svg')"
     ],
     "language": "python",
     "metadata": {},
     "outputs": [],
     "prompt_number": 25
    },
    {
     "cell_type": "markdown",
     "metadata": {},
     "source": [
      "\\9.  Save the most recent figure created as a png file, with dots-per-inch resolution = 400 and bbox_inches set to 'tight'.  Push png file to new repository for pandas exercise, pandas_exercise."
     ]
    },
    {
     "cell_type": "code",
     "collapsed": false,
     "input": [
      "\n",
      "plt.savefig('fig1.png',dpi=400,bbox_inches='tight')"
     ],
     "language": "python",
     "metadata": {},
     "outputs": [],
     "prompt_number": 26
    },
    {
     "cell_type": "markdown",
     "metadata": {},
     "source": [
      "savefig doesn't have to write to disk; it can also write to any file-like object, such as a StringIO:\n",
      "\n",
      "from io import StringIO\n",
      "buffer = StringIO()\n",
      "plt.savefig(buffer)\n",
      "plot_data = buffer.getvalue()\n",
      "\n",
      "This is useful for serving dynamically-generated images over the web."
     ]
    },
    {
     "cell_type": "heading",
     "level": 2,
     "metadata": {},
     "source": [
      "matplotlib Configuration"
     ]
    },
    {
     "cell_type": "markdown",
     "metadata": {},
     "source": [
      "matplotlib comes configured with color schemes and defaults behaviors.  These default settings can be customized via an extensive set of global parameters governing figure size, subplot spacing, colors, font sizes, grid styles, etc.  There are two main ways to interact with the matplotlib configuration system."
     ]
    },
    {
     "cell_type": "markdown",
     "metadata": {},
     "source": [
      "The first is programmatically from Python using the rc method.  For example, to set the global default figure size to be 10 x 10:\n",
      "\n",
      "plt.rc('figure', figsize=(10,10))\n",
      "\n",
      "The first argument to rc is the component you wish to customize: 'figure', 'axes', 'xtick', 'ytick', 'grid', 'legend'.\n",
      "After that, a sequence of keyword arugments can follow indicating the new parameters.  An easy way to write down the options in your program is as a dict:\n",
      "\n",
      "font_options = {'family': 'monospace',\n",
      "                'weight': 'bold',\n",
      "                'size': 'small'}\n",
      "plt.rc('font', **font_options)"
     ]
    },
    {
     "cell_type": "markdown",
     "metadata": {},
     "source": [
      "The second way is to customize the configuration file matplotlibrc in the matploblib/mpl-data directory.  If you customize this file and place it in  your home directory titled .matplotlibrc, it will be loaded each time you use matplotlib."
     ]
    },
    {
     "cell_type": "heading",
     "level": 1,
     "metadata": {},
     "source": [
      "Plotting Functions in pandas"
     ]
    },
    {
     "cell_type": "markdown",
     "metadata": {},
     "source": [
      "matplotlib is actually a fairly low-level tool: you assemble a plot from its base components: the data display (the type of plot: line, bar, box, scatter, contour, etc.), legend, title, tick labels, and other annotations.  Part of the reason is that in many cases the data needed to make a complete plot is spread across many objects."
     ]
    },
    {
     "cell_type": "markdown",
     "metadata": {},
     "source": [
      "In pandas, we have row labels, column labels, and possibly grouping information.  This means that many kinds of fully-formed plots that would ordinarily require a lot of matplotlib code can be expressed in one or two concise statements.  pandas has an increasing number of high-level plotting methods for creating standard visualizations that take advantage of how data is organized in DataFrame objects."
     ]
    },
    {
     "cell_type": "heading",
     "level": 2,
     "metadata": {},
     "source": [
      "Line Plots"
     ]
    },
    {
     "cell_type": "markdown",
     "metadata": {},
     "source": [
      "Series and DataFrame each have a plot method for making many different plot types.  By defaultl,l they make line plots."
     ]
    },
    {
     "cell_type": "code",
     "collapsed": false,
     "input": [
      "s = Series(np.random.randn(10).cumsum(), index=np.arange(0, 100, 10))"
     ],
     "language": "python",
     "metadata": {},
     "outputs": [],
     "prompt_number": 58
    },
    {
     "cell_type": "code",
     "collapsed": false,
     "input": [
      "s.plot()"
     ],
     "language": "python",
     "metadata": {},
     "outputs": [
      {
       "metadata": {},
       "output_type": "pyout",
       "prompt_number": 59,
       "text": [
        "<matplotlib.axes._subplots.AxesSubplot at 0x7fae78489390>"
       ]
      },
      {
       "metadata": {},
       "output_type": "display_data",
       "png": "[encoded data removed]",
       "text": [
        "<matplotlib.figure.Figure at 0x7fae816708d0>"
       ]
      }
     ],
     "prompt_number": 59
    },
    {
     "cell_type": "markdown",
     "metadata": {},
     "source": [
      "Series.plot method arguments: label, ax, style, alpha, kind ('line', 'bar', 'barh', 'kde'), logy, use_index, rot, xticks, yticks, xlim, ylim, grid.  Explore on your own."
     ]
    },
    {
     "cell_type": "markdown",
     "metadata": {},
     "source": [
      "DataFrame's plot method plots each of its columns as a different line on the same subplot, creating a legend automatically.  See example below."
     ]
    },
    {
     "cell_type": "code",
     "collapsed": false,
     "input": [
      "df = DataFrame(np.random.randn(10, 4).cumsum(0),\n",
      "               columns=['A', 'B', 'C', 'D'],\n",
      "               index=np.arange(0, 100, 10))\n"
     ],
     "language": "python",
     "metadata": {},
     "outputs": [],
     "prompt_number": 60
    },
    {
     "cell_type": "code",
     "collapsed": false,
     "input": [
      "df.plot()"
     ],
     "language": "python",
     "metadata": {},
     "outputs": [
      {
       "metadata": {},
       "output_type": "pyout",
       "prompt_number": 61,
       "text": [
        "<matplotlib.axes._subplots.AxesSubplot at 0x7fae7847dc10>"
       ]
      },
      {
       "metadata": {},
       "output_type": "display_data",
       "png": "[encoded data removed]",
       "text": [
        "<matplotlib.figure.Figure at 0x7fae7835f690>"
       ]
      }
     ],
     "prompt_number": 61
    },
    {
     "cell_type": "markdown",
     "metadata": {},
     "source": [
      "DataFrame-specific plot arguments: subplots, sharex, sharey, figsize, title, legend, sort_columns.  Explore on your own."
     ]
    },
    {
     "cell_type": "heading",
     "level": 2,
     "metadata": {},
     "source": [
      "Bar Plots"
     ]
    },
    {
     "cell_type": "markdown",
     "metadata": {},
     "source": [
      "Making bar plots instead of line plots is a simple as passing kind='bar' (for vertical bars) or kind='barh' (for horizontal bars).  In this case, the Series or DataFrame index will be used as the X (bar) or Y (barh) ticks."
     ]
    },
    {
     "cell_type": "code",
     "collapsed": false,
     "input": [
      "fig, axes = plt.subplots(2,1)"
     ],
     "language": "python",
     "metadata": {},
     "outputs": [
      {
       "metadata": {},
       "output_type": "display_data",
       "png": "[encoded data removed]",
       "text": [
        "<matplotlib.figure.Figure at 0x7fae78276290>"
       ]
      }
     ],
     "prompt_number": 62
    },
    {
     "cell_type": "code",
     "collapsed": false,
     "input": [
      "fig, axes = plt.subplots(2, 1)\n",
      "data = Series(np.random.rand(16), index=list('abcdefghijklmnop'))\n",
      "data.plot(kind='bar', ax=axes[0], color='k', alpha=0.7)\n",
      "\n",
      "# With a DataFrame, bar plots group the values in each row together in a group in bars, side by side, for each value.\n",
      "\n",
      "df = DataFrame(np.random.rand(6,4),\n",
      "               index=['one', 'two', 'three', 'four', 'five', 'six'],\n",
      "               columns=pd.Index(['A', 'B', 'C', 'D'], name= 'Genus'))\n",
      "\n",
      "df.plot(kind='bar', ax=axes[1], color='k', alpha=0.7)"
     ],
     "language": "python",
     "metadata": {},
     "outputs": [
      {
       "metadata": {},
       "output_type": "pyout",
       "prompt_number": 70,
       "text": [
        "<matplotlib.axes._subplots.AxesSubplot at 0x7fae822a2ad0>"
       ]
      },
      {
       "metadata": {},
       "output_type": "display_data",
       "png": "[encoded data removed]",
       "text": [
        "<matplotlib.figure.Figure at 0x7fae827c51d0>"
       ]
      }
     ],
     "prompt_number": 70
    },
    {
     "cell_type": "code",
     "collapsed": false,
     "input": [
      "df"
     ],
     "language": "python",
     "metadata": {},
     "outputs": [
      {
       "html": [
        "<div style=\"max-height:1000px;max-width:1500px;overflow:auto;\">\n",
        "<table border=\"1\" class=\"dataframe\">\n",
        "  <thead>\n",
        "    <tr style=\"text-align: right;\">\n",
        "      <th>Genus</th>\n",
        "      <th>A</th>\n",
        "      <th>B</th>\n",
        "      <th>C</th>\n",
        "      <th>D</th>\n",
        "    </tr>\n",
        "  </thead>\n",
        "  <tbody>\n",
        "    <tr>\n",
        "      <th>one</th>\n",
        "      <td> 0.385948</td>\n",
        "      <td> 0.042210</td>\n",
        "      <td> 0.217938</td>\n",
        "      <td> 0.834648</td>\n",
        "    </tr>\n",
        "    <tr>\n",
        "      <th>two</th>\n",
        "      <td> 0.692749</td>\n",
        "      <td> 0.514176</td>\n",
        "      <td> 0.617228</td>\n",
        "      <td> 0.954224</td>\n",
        "    </tr>\n",
        "    <tr>\n",
        "      <th>three</th>\n",
        "      <td> 0.411343</td>\n",
        "      <td> 0.426940</td>\n",
        "      <td> 0.495298</td>\n",
        "      <td> 0.449173</td>\n",
        "    </tr>\n",
        "    <tr>\n",
        "      <th>four</th>\n",
        "      <td> 0.026085</td>\n",
        "      <td> 0.329683</td>\n",
        "      <td> 0.349875</td>\n",
        "      <td> 0.097666</td>\n",
        "    </tr>\n",
        "    <tr>\n",
        "      <th>five</th>\n",
        "      <td> 0.450407</td>\n",
        "      <td> 0.510067</td>\n",
        "      <td> 0.542918</td>\n",
        "      <td> 0.089374</td>\n",
        "    </tr>\n",
        "    <tr>\n",
        "      <th>six</th>\n",
        "      <td> 0.552663</td>\n",
        "      <td> 0.210910</td>\n",
        "      <td> 0.750053</td>\n",
        "      <td> 0.890313</td>\n",
        "    </tr>\n",
        "  </tbody>\n",
        "</table>\n",
        "</div>"
       ],
       "metadata": {},
       "output_type": "pyout",
       "prompt_number": 71,
       "text": [
        "Genus         A         B         C         D\n",
        "one    0.385948  0.042210  0.217938  0.834648\n",
        "two    0.692749  0.514176  0.617228  0.954224\n",
        "three  0.411343  0.426940  0.495298  0.449173\n",
        "four   0.026085  0.329683  0.349875  0.097666\n",
        "five   0.450407  0.510067  0.542918  0.089374\n",
        "six    0.552663  0.210910  0.750053  0.890313"
       ]
      }
     ],
     "prompt_number": 71
    },
    {
     "cell_type": "code",
     "collapsed": false,
     "input": [
      "df.plot(kind='bar')"
     ],
     "language": "python",
     "metadata": {},
     "outputs": [
      {
       "metadata": {},
       "output_type": "pyout",
       "prompt_number": 72,
       "text": [
        "<matplotlib.axes._subplots.AxesSubplot at 0x7fae78110050>"
       ]
      },
      {
       "metadata": {},
       "output_type": "display_data",
       "png": "[encoded data removed]",
       "text": [
        "<matplotlib.figure.Figure at 0x7fae818b00d0>"
       ]
      }
     ],
     "prompt_number": 72
    },
    {
     "cell_type": "markdown",
     "metadata": {},
     "source": [
      "\\10.  Create a stacked bar plot showing the percentage of data points for each party size on each day (upload the file tips.size). (Run the code below)."
     ]
    },
    {
     "cell_type": "code",
     "collapsed": false,
     "input": [
      "tips = pd.read_csv('tips.csv')"
     ],
     "language": "python",
     "metadata": {},
     "outputs": [],
     "prompt_number": 38
    },
    {
     "cell_type": "code",
     "collapsed": false,
     "input": [
      "party_counts = pd.crosstab(tips.day, tips.size)"
     ],
     "language": "python",
     "metadata": {},
     "outputs": [],
     "prompt_number": 39
    },
    {
     "cell_type": "code",
     "collapsed": false,
     "input": [
      "party_counts"
     ],
     "language": "python",
     "metadata": {},
     "outputs": [
      {
       "html": [
        "<div style=\"max-height:1000px;max-width:1500px;overflow:auto;\">\n",
        "<table border=\"1\" class=\"dataframe\">\n",
        "  <thead>\n",
        "    <tr style=\"text-align: right;\">\n",
        "      <th>size</th>\n",
        "      <th>1</th>\n",
        "      <th>2</th>\n",
        "      <th>3</th>\n",
        "      <th>4</th>\n",
        "      <th>5</th>\n",
        "      <th>6</th>\n",
        "    </tr>\n",
        "    <tr>\n",
        "      <th>day</th>\n",
        "      <th></th>\n",
        "      <th></th>\n",
        "      <th></th>\n",
        "      <th></th>\n",
        "      <th></th>\n",
        "      <th></th>\n",
        "    </tr>\n",
        "  </thead>\n",
        "  <tbody>\n",
        "    <tr>\n",
        "      <th>Fri</th>\n",
        "      <td> 1</td>\n",
        "      <td> 16</td>\n",
        "      <td>  1</td>\n",
        "      <td>  1</td>\n",
        "      <td> 0</td>\n",
        "      <td> 0</td>\n",
        "    </tr>\n",
        "    <tr>\n",
        "      <th>Sat</th>\n",
        "      <td> 2</td>\n",
        "      <td> 53</td>\n",
        "      <td> 18</td>\n",
        "      <td> 13</td>\n",
        "      <td> 1</td>\n",
        "      <td> 0</td>\n",
        "    </tr>\n",
        "    <tr>\n",
        "      <th>Sun</th>\n",
        "      <td> 0</td>\n",
        "      <td> 39</td>\n",
        "      <td> 15</td>\n",
        "      <td> 18</td>\n",
        "      <td> 3</td>\n",
        "      <td> 1</td>\n",
        "    </tr>\n",
        "    <tr>\n",
        "      <th>Thur</th>\n",
        "      <td> 1</td>\n",
        "      <td> 48</td>\n",
        "      <td>  4</td>\n",
        "      <td>  5</td>\n",
        "      <td> 1</td>\n",
        "      <td> 3</td>\n",
        "    </tr>\n",
        "  </tbody>\n",
        "</table>\n",
        "<p>4 rows \u00d7 6 columns</p>\n",
        "</div>"
       ],
       "metadata": {},
       "output_type": "pyout",
       "prompt_number": 40,
       "text": [
        "size  1   2   3   4  5  6\n",
        "day                      \n",
        "Fri   1  16   1   1  0  0\n",
        "Sat   2  53  18  13  1  0\n",
        "Sun   0  39  15  18  3  1\n",
        "Thur  1  48   4   5  1  3\n",
        "\n",
        "[4 rows x 6 columns]"
       ]
      }
     ],
     "prompt_number": 40
    },
    {
     "cell_type": "code",
     "collapsed": false,
     "input": [
      "# Since not many 1- and 6-person parties\n",
      "party_counts = party_counts.ix[:, 2:5]"
     ],
     "language": "python",
     "metadata": {},
     "outputs": [],
     "prompt_number": 41
    },
    {
     "cell_type": "code",
     "collapsed": false,
     "input": [
      "# Normalize so that each row sums to 1 (to avoid integer division issues cast to float)\n",
      "party_pcts = party_counts.div(party_counts.sum(1).astype(float), axis=0)"
     ],
     "language": "python",
     "metadata": {},
     "outputs": [],
     "prompt_number": 42
    },
    {
     "cell_type": "code",
     "collapsed": false,
     "input": [
      "party_pcts\n"
     ],
     "language": "python",
     "metadata": {},
     "outputs": [],
     "prompt_number": 45
    },
    {
     "cell_type": "code",
     "collapsed": false,
     "input": [
      "party_pcts.plot(kind='bar', stacked=True)"
     ],
     "language": "python",
     "metadata": {},
     "outputs": [
      {
       "metadata": {},
       "output_type": "pyout",
       "prompt_number": 48,
       "text": [
        "<matplotlib.axes.AxesSubplot at 0x7fef8f32b9d0>"
       ]
      },
      {
       "metadata": {},
       "output_type": "display_data",
       "png": "[encoded data removed]",
       "text": [
        "<matplotlib.figure.Figure at 0x7fef92650950>"
       ]
      }
     ],
     "prompt_number": 48
    },
    {
     "cell_type": "markdown",
     "metadata": {},
     "source": [
      "Continuation of number 10 question: party_pcts.plot(kind='?', stacked=?). Plot it to create a stacked bar plot in order to see the party sizes increase on the weekend given the data set."
     ]
    },
    {
     "cell_type": "heading",
     "level": 2,
     "metadata": {},
     "source": [
      "Histograms and Density Plots"
     ]
    },
    {
     "cell_type": "markdown",
     "metadata": {},
     "source": [
      "A histogram is a kind of bar plot that gives a discretized display of value frequency.  The data points are split into discrete, evently spaced bins, and the number of data points in each bin is plotted.  Using the tipping data from before, we can make a histogram of tip percentages of the total bill using the hist method on the Series."
     ]
    },
    {
     "cell_type": "code",
     "collapsed": false,
     "input": [
      "tips['tip_pct'] = tips['tip']/tips['total_bill']"
     ],
     "language": "python",
     "metadata": {},
     "outputs": [],
     "prompt_number": 9
    },
    {
     "cell_type": "code",
     "collapsed": false,
     "input": [
      "tips['tip_pct'].hist(bins=40)"
     ],
     "language": "python",
     "metadata": {},
     "outputs": [
      {
       "metadata": {},
       "output_type": "pyout",
       "prompt_number": 11,
       "text": [
        "<matplotlib.axes._subplots.AxesSubplot at 0x7feb96cff750>"
       ]
      },
      {
       "metadata": {},
       "output_type": "display_data",
       "png": "[encoded data removed]",
       "text": [
        "<matplotlib.figure.Figure at 0x7feb96d095d0>"
       ]
      }
     ],
     "prompt_number": 11
    },
    {
     "cell_type": "markdown",
     "metadata": {},
     "source": [
      "A related plot type is a density plot, which is formed by computing an estimate of a continuous probability distribution that might have generated the observed data.  A usual procedure is to approximate this distribution as a mixture of kernel (simpler distributions like the normal (Gaussian) distribution.  Thus, density plots are also known as KDE (kernel density estimate) plots.  Using plot with kind='kde' makes a density plot using the standard mixture-of-normals KDE."
     ]
    },
    {
     "cell_type": "code",
     "collapsed": false,
     "input": [
      "tips['tip_pct'].plot(kind='kde')"
     ],
     "language": "python",
     "metadata": {},
     "outputs": [
      {
       "metadata": {},
       "output_type": "pyout",
       "prompt_number": 12,
       "text": [
        "<matplotlib.axes._subplots.AxesSubplot at 0x7feb96b33b10>"
       ]
      },
      {
       "metadata": {},
       "output_type": "display_data",
       "png": "[encoded data removed]",
       "text": [
        "<matplotlib.figure.Figure at 0x7feb96b452d0>"
       ]
      }
     ],
     "prompt_number": 12
    },
    {
     "cell_type": "markdown",
     "metadata": {},
     "source": [
      "\\11.  Plot the two plot types together: the histsogram in normalized form (to give a binned density) with a kernel density estimate plotted on top.  To do this, consider a bimodal distribution consisting of draws from two different standard normal distributions.\n",
      "\n",
      "Run the code below:"
     ]
    },
    {
     "cell_type": "code",
     "collapsed": false,
     "input": [
      "comp1 = np.random.normal(0,1, size=200) #N(0,1)"
     ],
     "language": "python",
     "metadata": {},
     "outputs": [],
     "prompt_number": 27
    },
    {
     "cell_type": "code",
     "collapsed": false,
     "input": [
      "comp2 = np.random.normal(10,2, size=200) #N(10,4)"
     ],
     "language": "python",
     "metadata": {},
     "outputs": [],
     "prompt_number": 28
    },
    {
     "cell_type": "code",
     "collapsed": false,
     "input": [
      "values = Series(np.concatenate([comp1, comp2]))"
     ],
     "language": "python",
     "metadata": {},
     "outputs": [],
     "prompt_number": 30
    },
    {
     "cell_type": "markdown",
     "metadata": {},
     "source": [
      "Run this:\n",
      "\n",
      "values.hist(bins=100, alpha=0.3, color='k', normed=True)\n",
      "values.plot(kind='kde', style='k--')"
     ]
    },
    {
     "cell_type": "code",
     "collapsed": false,
     "input": [
      "values.hist(bins=100, alpha=0.3, color='k', normed=True)\n",
      "values.plot(kind='kde', style='k--')"
     ],
     "language": "python",
     "metadata": {},
     "outputs": [
      {
       "metadata": {},
       "output_type": "pyout",
       "prompt_number": 31,
       "text": [
        "<matplotlib.axes.AxesSubplot at 0x7fef997a3310>"
       ]
      }
     ],
     "prompt_number": 31
    },
    {
     "cell_type": "markdown",
     "metadata": {},
     "source": [
      "Run this:\n",
      "\n",
      "values.plot(kind='kde', style='k--')"
     ]
    },
    {
     "cell_type": "code",
     "collapsed": false,
     "input": [
      "values.plot(kind='kde', style='k--')"
     ],
     "language": "python",
     "metadata": {},
     "outputs": [
      {
       "metadata": {},
       "output_type": "pyout",
       "prompt_number": 32,
       "text": [
        "<matplotlib.axes.AxesSubplot at 0x7fef997a3310>"
       ]
      }
     ],
     "prompt_number": 32
    },
    {
     "cell_type": "heading",
     "level": 2,
     "metadata": {},
     "source": [
      "Scatter Plots"
     ]
    },
    {
     "cell_type": "markdown",
     "metadata": {},
     "source": [
      "Scatter plots are a useful way of examining the relationship between two one-dimensional data series. matplotlib has a scatter plotting method that is the workhorse of making these kinds of plots.  In the example below, we load the macrodata dataset, select a few variables, then compute log differences."
     ]
    },
    {
     "cell_type": "code",
     "collapsed": false,
     "input": [
      "macro = pd.read_csv('macrodata.csv')"
     ],
     "language": "python",
     "metadata": {},
     "outputs": [],
     "prompt_number": 33
    },
    {
     "cell_type": "code",
     "collapsed": false,
     "input": [
      "data = macro[['cpi', 'm1', 'tbilrate', 'unemp']]"
     ],
     "language": "python",
     "metadata": {},
     "outputs": [],
     "prompt_number": 34
    },
    {
     "cell_type": "code",
     "collapsed": false,
     "input": [
      "trans_data = np.log(data).diff().dropna()"
     ],
     "language": "python",
     "metadata": {},
     "outputs": [],
     "prompt_number": 35
    },
    {
     "cell_type": "code",
     "collapsed": false,
     "input": [
      "trans_data"
     ],
     "language": "python",
     "metadata": {},
     "outputs": [
      {
       "html": [
        "<div style=\"max-height:1000px;max-width:1500px;overflow:auto;\">\n",
        "<table border=\"1\" class=\"dataframe\">\n",
        "  <thead>\n",
        "    <tr style=\"text-align: right;\">\n",
        "      <th></th>\n",
        "      <th>cpi</th>\n",
        "      <th>m1</th>\n",
        "      <th>tbilrate</th>\n",
        "      <th>unemp</th>\n",
        "    </tr>\n",
        "  </thead>\n",
        "  <tbody>\n",
        "    <tr>\n",
        "      <th>1 </th>\n",
        "      <td> 0.005849</td>\n",
        "      <td> 0.014215</td>\n",
        "      <td> 0.088193</td>\n",
        "      <td>-0.128617</td>\n",
        "    </tr>\n",
        "    <tr>\n",
        "      <th>2 </th>\n",
        "      <td> 0.006838</td>\n",
        "      <td>-0.008505</td>\n",
        "      <td> 0.215321</td>\n",
        "      <td> 0.038466</td>\n",
        "    </tr>\n",
        "    <tr>\n",
        "      <th>3 </th>\n",
        "      <td> 0.000681</td>\n",
        "      <td>-0.003565</td>\n",
        "      <td> 0.125317</td>\n",
        "      <td> 0.055060</td>\n",
        "    </tr>\n",
        "    <tr>\n",
        "      <th>4 </th>\n",
        "      <td> 0.005772</td>\n",
        "      <td>-0.002861</td>\n",
        "      <td>-0.212805</td>\n",
        "      <td>-0.074108</td>\n",
        "    </tr>\n",
        "    <tr>\n",
        "      <th>5 </th>\n",
        "      <td> 0.000338</td>\n",
        "      <td> 0.004289</td>\n",
        "      <td>-0.266946</td>\n",
        "      <td> 0.000000</td>\n",
        "    </tr>\n",
        "    <tr>\n",
        "      <th>6 </th>\n",
        "      <td> 0.006745</td>\n",
        "      <td> 0.004980</td>\n",
        "      <td>-0.127155</td>\n",
        "      <td> 0.074108</td>\n",
        "    </tr>\n",
        "    <tr>\n",
        "      <th>7 </th>\n",
        "      <td> 0.003021</td>\n",
        "      <td> 0.001418</td>\n",
        "      <td>-0.030110</td>\n",
        "      <td> 0.117783</td>\n",
        "    </tr>\n",
        "    <tr>\n",
        "      <th>8 </th>\n",
        "      <td>-0.001006</td>\n",
        "      <td> 0.007062</td>\n",
        "      <td> 0.034338</td>\n",
        "      <td> 0.076373</td>\n",
        "    </tr>\n",
        "    <tr>\n",
        "      <th>9 </th>\n",
        "      <td> 0.003683</td>\n",
        "      <td> 0.005614</td>\n",
        "      <td>-0.034338</td>\n",
        "      <td> 0.028988</td>\n",
        "    </tr>\n",
        "    <tr>\n",
        "      <th>10</th>\n",
        "      <td> 0.002003</td>\n",
        "      <td> 0.008362</td>\n",
        "      <td> 0.013015</td>\n",
        "      <td>-0.028988</td>\n",
        "    </tr>\n",
        "    <tr>\n",
        "      <th>11</th>\n",
        "      <td> 0.001999</td>\n",
        "      <td> 0.007605</td>\n",
        "      <td> 0.113944</td>\n",
        "      <td>-0.092373</td>\n",
        "    </tr>\n",
        "    <tr>\n",
        "      <th>12</th>\n",
        "      <td> 0.005643</td>\n",
        "      <td> 0.008230</td>\n",
        "      <td> 0.048790</td>\n",
        "      <td>-0.101783</td>\n",
        "    </tr>\n",
        "    <tr>\n",
        "      <th>13</th>\n",
        "      <td> 0.000331</td>\n",
        "      <td> 0.000683</td>\n",
        "      <td> 0.018149</td>\n",
        "      <td>-0.018019</td>\n",
        "    </tr>\n",
        "    <tr>\n",
        "      <th>14</th>\n",
        "      <td> 0.005281</td>\n",
        "      <td> 0.001364</td>\n",
        "      <td> 0.000000</td>\n",
        "      <td> 0.018019</td>\n",
        "    </tr>\n",
        "    <tr>\n",
        "      <th>15</th>\n",
        "      <td> 0.001973</td>\n",
        "      <td> 0.010848</td>\n",
        "      <td> 0.031861</td>\n",
        "      <td>-0.018019</td>\n",
        "    </tr>\n",
        "    <tr>\n",
        "      <th>16</th>\n",
        "      <td> 0.001313</td>\n",
        "      <td> 0.009396</td>\n",
        "      <td> 0.010399</td>\n",
        "      <td> 0.053110</td>\n",
        "    </tr>\n",
        "    <tr>\n",
        "      <th>17</th>\n",
        "      <td> 0.006866</td>\n",
        "      <td> 0.010631</td>\n",
        "      <td> 0.043852</td>\n",
        "      <td>-0.017392</td>\n",
        "    </tr>\n",
        "    <tr>\n",
        "      <th>18</th>\n",
        "      <td> 0.001953</td>\n",
        "      <td> 0.008555</td>\n",
        "      <td> 0.109313</td>\n",
        "      <td>-0.035718</td>\n",
        "    </tr>\n",
        "    <tr>\n",
        "      <th>19</th>\n",
        "      <td> 0.006160</td>\n",
        "      <td> 0.007183</td>\n",
        "      <td> 0.040585</td>\n",
        "      <td> 0.018019</td>\n",
        "    </tr>\n",
        "    <tr>\n",
        "      <th>20</th>\n",
        "      <td> 0.000323</td>\n",
        "      <td> 0.007131</td>\n",
        "      <td>-0.002845</td>\n",
        "      <td>-0.018019</td>\n",
        "    </tr>\n",
        "    <tr>\n",
        "      <th>21</th>\n",
        "      <td> 0.002259</td>\n",
        "      <td> 0.012837</td>\n",
        "      <td>-0.011461</td>\n",
        "      <td>-0.056089</td>\n",
        "    </tr>\n",
        "    <tr>\n",
        "      <th>22</th>\n",
        "      <td> 0.003219</td>\n",
        "      <td> 0.015190</td>\n",
        "      <td> 0.017143</td>\n",
        "      <td>-0.039221</td>\n",
        "    </tr>\n",
        "    <tr>\n",
        "      <th>23</th>\n",
        "      <td> 0.005128</td>\n",
        "      <td> 0.009378</td>\n",
        "      <td> 0.063121</td>\n",
        "      <td> 0.000000</td>\n",
        "    </tr>\n",
        "    <tr>\n",
        "      <th>24</th>\n",
        "      <td> 0.003192</td>\n",
        "      <td> 0.008057</td>\n",
        "      <td> 0.044220</td>\n",
        "      <td>-0.020203</td>\n",
        "    </tr>\n",
        "    <tr>\n",
        "      <th>25</th>\n",
        "      <td> 0.006353</td>\n",
        "      <td> 0.006767</td>\n",
        "      <td>-0.023167</td>\n",
        "      <td>-0.041673</td>\n",
        "    </tr>\n",
        "    <tr>\n",
        "      <th>26</th>\n",
        "      <td> 0.002214</td>\n",
        "      <td> 0.017624</td>\n",
        "      <td> 0.023167</td>\n",
        "      <td>-0.065958</td>\n",
        "    </tr>\n",
        "    <tr>\n",
        "      <th>27</th>\n",
        "      <td> 0.007241</td>\n",
        "      <td> 0.018502</td>\n",
        "      <td> 0.101536</td>\n",
        "      <td>-0.070618</td>\n",
        "    </tr>\n",
        "    <tr>\n",
        "      <th>28</th>\n",
        "      <td> 0.012469</td>\n",
        "      <td> 0.015841</td>\n",
        "      <td> 0.060219</td>\n",
        "      <td>-0.050010</td>\n",
        "    </tr>\n",
        "    <tr>\n",
        "      <th>29</th>\n",
        "      <td> 0.005253</td>\n",
        "      <td>-0.008769</td>\n",
        "      <td> 0.006473</td>\n",
        "      <td>-0.025975</td>\n",
        "    </tr>\n",
        "    <tr>\n",
        "      <th>30</th>\n",
        "      <td> 0.012251</td>\n",
        "      <td> 0.005271</td>\n",
        "      <td> 0.117544</td>\n",
        "      <td> 0.000000</td>\n",
        "    </tr>\n",
        "    <tr>\n",
        "      <th>31</th>\n",
        "      <td> 0.001521</td>\n",
        "      <td> 0.004080</td>\n",
        "      <td>-0.044973</td>\n",
        "      <td>-0.026668</td>\n",
        "    </tr>\n",
        "    <tr>\n",
        "      <th>32</th>\n",
        "      <td> 0.006061</td>\n",
        "      <td> 0.013291</td>\n",
        "      <td>-0.169603</td>\n",
        "      <td> 0.026668</td>\n",
        "    </tr>\n",
        "    <tr>\n",
        "      <th>33</th>\n",
        "      <td> 0.009023</td>\n",
        "      <td> 0.022141</td>\n",
        "      <td>-0.110111</td>\n",
        "      <td> 0.000000</td>\n",
        "    </tr>\n",
        "    <tr>\n",
        "      <th>34</th>\n",
        "      <td> 0.008942</td>\n",
        "      <td> 0.019461</td>\n",
        "      <td> 0.156416</td>\n",
        "      <td> 0.000000</td>\n",
        "    </tr>\n",
        "    <tr>\n",
        "      <th>35</th>\n",
        "      <td> 0.011800</td>\n",
        "      <td> 0.014758</td>\n",
        "      <td> 0.103096</td>\n",
        "      <td> 0.025975</td>\n",
        "    </tr>\n",
        "    <tr>\n",
        "      <th>36</th>\n",
        "      <td> 0.008759</td>\n",
        "      <td> 0.012402</td>\n",
        "      <td> 0.055570</td>\n",
        "      <td>-0.052644</td>\n",
        "    </tr>\n",
        "    <tr>\n",
        "      <th>37</th>\n",
        "      <td> 0.014430</td>\n",
        "      <td> 0.020685</td>\n",
        "      <td> 0.059943</td>\n",
        "      <td>-0.055570</td>\n",
        "    </tr>\n",
        "    <tr>\n",
        "      <th>38</th>\n",
        "      <td> 0.011396</td>\n",
        "      <td> 0.018206</td>\n",
        "      <td>-0.054168</td>\n",
        "      <td> 0.000000</td>\n",
        "    </tr>\n",
        "    <tr>\n",
        "      <th>39</th>\n",
        "      <td> 0.011268</td>\n",
        "      <td> 0.023938</td>\n",
        "      <td> 0.115862</td>\n",
        "      <td>-0.028988</td>\n",
        "    </tr>\n",
        "    <tr>\n",
        "      <th>40</th>\n",
        "      <td> 0.016667</td>\n",
        "      <td> 0.010015</td>\n",
        "      <td> 0.038563</td>\n",
        "      <td> 0.000000</td>\n",
        "    </tr>\n",
        "    <tr>\n",
        "      <th>41</th>\n",
        "      <td> 0.013680</td>\n",
        "      <td> 0.004970</td>\n",
        "      <td> 0.065258</td>\n",
        "      <td> 0.000000</td>\n",
        "    </tr>\n",
        "    <tr>\n",
        "      <th>42</th>\n",
        "      <td> 0.013495</td>\n",
        "      <td> 0.005932</td>\n",
        "      <td> 0.078501</td>\n",
        "      <td> 0.057158</td>\n",
        "    </tr>\n",
        "    <tr>\n",
        "      <th>43</th>\n",
        "      <td> 0.015958</td>\n",
        "      <td> 0.016133</td>\n",
        "      <td> 0.084634</td>\n",
        "      <td> 0.000000</td>\n",
        "    </tr>\n",
        "    <tr>\n",
        "      <th>44</th>\n",
        "      <td> 0.015707</td>\n",
        "      <td> 0.002422</td>\n",
        "      <td>-0.122375</td>\n",
        "      <td> 0.154151</td>\n",
        "    </tr>\n",
        "    <tr>\n",
        "      <th>45</th>\n",
        "      <td> 0.010336</td>\n",
        "      <td> 0.006270</td>\n",
        "      <td>-0.014903</td>\n",
        "      <td> 0.133531</td>\n",
        "    </tr>\n",
        "    <tr>\n",
        "      <th>46</th>\n",
        "      <td> 0.012772</td>\n",
        "      <td> 0.023284</td>\n",
        "      <td>-0.079667</td>\n",
        "      <td> 0.080043</td>\n",
        "    </tr>\n",
        "    <tr>\n",
        "      <th>47</th>\n",
        "      <td> 0.012611</td>\n",
        "      <td> 0.012138</td>\n",
        "      <td>-0.235414</td>\n",
        "      <td> 0.109199</td>\n",
        "    </tr>\n",
        "    <tr>\n",
        "      <th>48</th>\n",
        "      <td> 0.005000</td>\n",
        "      <td> 0.020667</td>\n",
        "      <td>-0.286311</td>\n",
        "      <td> 0.017094</td>\n",
        "    </tr>\n",
        "    <tr>\n",
        "      <th>49</th>\n",
        "      <td> 0.012392</td>\n",
        "      <td> 0.022028</td>\n",
        "      <td> 0.265521</td>\n",
        "      <td> 0.000000</td>\n",
        "    </tr>\n",
        "    <tr>\n",
        "      <th>50</th>\n",
        "      <td> 0.007362</td>\n",
        "      <td> 0.010175</td>\n",
        "      <td>-0.012685</td>\n",
        "      <td> 0.016807</td>\n",
        "    </tr>\n",
        "    <tr>\n",
        "      <th>51</th>\n",
        "      <td> 0.007308</td>\n",
        "      <td> 0.012683</td>\n",
        "      <td>-0.194308</td>\n",
        "      <td> 0.000000</td>\n",
        "    </tr>\n",
        "    <tr>\n",
        "      <th>52</th>\n",
        "      <td> 0.007255</td>\n",
        "      <td> 0.023621</td>\n",
        "      <td>-0.086307</td>\n",
        "      <td>-0.033902</td>\n",
        "    </tr>\n",
        "    <tr>\n",
        "      <th>53</th>\n",
        "      <td> 0.007203</td>\n",
        "      <td> 0.013491</td>\n",
        "      <td> 0.083720</td>\n",
        "      <td>-0.017392</td>\n",
        "    </tr>\n",
        "    <tr>\n",
        "      <th>54</th>\n",
        "      <td> 0.009524</td>\n",
        "      <td> 0.025632</td>\n",
        "      <td> 0.146721</td>\n",
        "      <td>-0.017700</td>\n",
        "    </tr>\n",
        "    <tr>\n",
        "      <th>55</th>\n",
        "      <td> 0.011779</td>\n",
        "      <td> 0.026185</td>\n",
        "      <td> 0.129889</td>\n",
        "      <td>-0.055060</td>\n",
        "    </tr>\n",
        "    <tr>\n",
        "      <th>56</th>\n",
        "      <td> 0.023149</td>\n",
        "      <td> 0.004760</td>\n",
        "      <td> 0.161143</td>\n",
        "      <td>-0.058269</td>\n",
        "    </tr>\n",
        "    <tr>\n",
        "      <th>57</th>\n",
        "      <td> 0.011377</td>\n",
        "      <td> 0.018817</td>\n",
        "      <td> 0.184271</td>\n",
        "      <td>-0.020203</td>\n",
        "    </tr>\n",
        "    <tr>\n",
        "      <th>58</th>\n",
        "      <td> 0.031183</td>\n",
        "      <td> 0.005808</td>\n",
        "      <td> 0.114222</td>\n",
        "      <td>-0.020619</td>\n",
        "    </tr>\n",
        "    <tr>\n",
        "      <th>59</th>\n",
        "      <td> 0.025975</td>\n",
        "      <td> 0.018363</td>\n",
        "      <td>-0.048294</td>\n",
        "      <td> 0.000000</td>\n",
        "    </tr>\n",
        "    <tr>\n",
        "      <th>60</th>\n",
        "      <td> 0.027399</td>\n",
        "      <td> 0.012806</td>\n",
        "      <td> 0.015504</td>\n",
        "      <td> 0.060625</td>\n",
        "    </tr>\n",
        "    <tr>\n",
        "      <th></th>\n",
        "      <td>...</td>\n",
        "      <td>...</td>\n",
        "      <td>...</td>\n",
        "      <td>...</td>\n",
        "    </tr>\n",
        "  </tbody>\n",
        "</table>\n",
        "<p>202 rows \u00d7 4 columns</p>\n",
        "</div>"
       ],
       "metadata": {},
       "output_type": "pyout",
       "prompt_number": 36,
       "text": [
        "         cpi        m1  tbilrate     unemp\n",
        "1   0.005849  0.014215  0.088193 -0.128617\n",
        "2   0.006838 -0.008505  0.215321  0.038466\n",
        "3   0.000681 -0.003565  0.125317  0.055060\n",
        "4   0.005772 -0.002861 -0.212805 -0.074108\n",
        "5   0.000338  0.004289 -0.266946  0.000000\n",
        "6   0.006745  0.004980 -0.127155  0.074108\n",
        "7   0.003021  0.001418 -0.030110  0.117783\n",
        "8  -0.001006  0.007062  0.034338  0.076373\n",
        "9   0.003683  0.005614 -0.034338  0.028988\n",
        "10  0.002003  0.008362  0.013015 -0.028988\n",
        "11  0.001999  0.007605  0.113944 -0.092373\n",
        "12  0.005643  0.008230  0.048790 -0.101783\n",
        "13  0.000331  0.000683  0.018149 -0.018019\n",
        "14  0.005281  0.001364  0.000000  0.018019\n",
        "15  0.001973  0.010848  0.031861 -0.018019\n",
        "16  0.001313  0.009396  0.010399  0.053110\n",
        "17  0.006866  0.010631  0.043852 -0.017392\n",
        "18  0.001953  0.008555  0.109313 -0.035718\n",
        "19  0.006160  0.007183  0.040585  0.018019\n",
        "20  0.000323  0.007131 -0.002845 -0.018019\n",
        "21  0.002259  0.012837 -0.011461 -0.056089\n",
        "22  0.003219  0.015190  0.017143 -0.039221\n",
        "23  0.005128  0.009378  0.063121  0.000000\n",
        "24  0.003192  0.008057  0.044220 -0.020203\n",
        "25  0.006353  0.006767 -0.023167 -0.041673\n",
        "26  0.002214  0.017624  0.023167 -0.065958\n",
        "27  0.007241  0.018502  0.101536 -0.070618\n",
        "28  0.012469  0.015841  0.060219 -0.050010\n",
        "29  0.005253 -0.008769  0.006473 -0.025975\n",
        "30  0.012251  0.005271  0.117544  0.000000\n",
        "31  0.001521  0.004080 -0.044973 -0.026668\n",
        "32  0.006061  0.013291 -0.169603  0.026668\n",
        "33  0.009023  0.022141 -0.110111  0.000000\n",
        "34  0.008942  0.019461  0.156416  0.000000\n",
        "35  0.011800  0.014758  0.103096  0.025975\n",
        "36  0.008759  0.012402  0.055570 -0.052644\n",
        "37  0.014430  0.020685  0.059943 -0.055570\n",
        "38  0.011396  0.018206 -0.054168  0.000000\n",
        "39  0.011268  0.023938  0.115862 -0.028988\n",
        "40  0.016667  0.010015  0.038563  0.000000\n",
        "41  0.013680  0.004970  0.065258  0.000000\n",
        "42  0.013495  0.005932  0.078501  0.057158\n",
        "43  0.015958  0.016133  0.084634  0.000000\n",
        "44  0.015707  0.002422 -0.122375  0.154151\n",
        "45  0.010336  0.006270 -0.014903  0.133531\n",
        "46  0.012772  0.023284 -0.079667  0.080043\n",
        "47  0.012611  0.012138 -0.235414  0.109199\n",
        "48  0.005000  0.020667 -0.286311  0.017094\n",
        "49  0.012392  0.022028  0.265521  0.000000\n",
        "50  0.007362  0.010175 -0.012685  0.016807\n",
        "51  0.007308  0.012683 -0.194308  0.000000\n",
        "52  0.007255  0.023621 -0.086307 -0.033902\n",
        "53  0.007203  0.013491  0.083720 -0.017392\n",
        "54  0.009524  0.025632  0.146721 -0.017700\n",
        "55  0.011779  0.026185  0.129889 -0.055060\n",
        "56  0.023149  0.004760  0.161143 -0.058269\n",
        "57  0.011377  0.018817  0.184271 -0.020203\n",
        "58  0.031183  0.005808  0.114222 -0.020619\n",
        "59  0.025975  0.018363 -0.048294  0.000000\n",
        "60  0.027399  0.012806  0.015504  0.060625\n",
        "         ...       ...       ...       ...\n",
        "\n",
        "[202 rows x 4 columns]"
       ]
      }
     ],
     "prompt_number": 36
    },
    {
     "cell_type": "code",
     "collapsed": false,
     "input": [
      "plt.scatter(trans_data['m1'], trans_data['unemp'])\n",
      "plt.title('Changes in log %s vs. log %s' %('m1', 'unemp'))"
     ],
     "language": "python",
     "metadata": {},
     "outputs": [
      {
       "metadata": {},
       "output_type": "pyout",
       "prompt_number": 37,
       "text": [
        "<matplotlib.text.Text at 0x7fef9263f750>"
       ]
      }
     ],
     "prompt_number": 37
    },
    {
     "cell_type": "markdown",
     "metadata": {},
     "source": [
      "In exploratory data analysis, it's helpful to be able to look at all the scatter plots among a group of variables; this is known as a pairs plot or scatter plot matrix."
     ]
    },
    {
     "cell_type": "markdown",
     "metadata": {},
     "source": [
      "pandas has a scatter_matrix function for creating one from a DataFrame.  This also supports placing histograms or density plots of each variable along the diagonal."
     ]
    },
    {
     "cell_type": "markdown",
     "metadata": {},
     "source": [
      "\\12.  Use pandas' scatter_matrix function to plot trans_data above.  Set the diagonal to plot the kde (kernel density estimate) plot.  Set your value choice for the color and alpha arguments."
     ]
    },
    {
     "cell_type": "code",
     "collapsed": false,
     "input": [],
     "language": "python",
     "metadata": {},
     "outputs": []
    }
   ],
   "metadata": {}
  }
 ]
}